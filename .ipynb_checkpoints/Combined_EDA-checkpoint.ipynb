{
 "cells": [
  {
   "cell_type": "code",
   "execution_count": 49,
   "id": "8c44143c-834f-49b2-a126-acffa14efa06",
   "metadata": {},
   "outputs": [
    {
     "name": "stdout",
     "output_type": "stream",
     "text": [
      "The autoreload extension is already loaded. To reload it, use:\n",
      "  %reload_ext autoreload\n"
     ]
    }
   ],
   "source": [
    "from utils.utils import *\n",
    "import pandas as pd\n",
    "%load_ext autoreload\n",
    "%autoreload 2\n",
    "from IPython.display import display, HTML\n",
    "from utils.lta_omv_scraper import *\n",
    "from sklearn.preprocessing import OneHotEncoder\n",
    "from sklearn.preprocessing import MultiLabelBinarizer\n",
    "import numpy as np\n",
    "import time\n",
    "from datetime import datetime"
   ]
  },
  {
   "cell_type": "markdown",
   "id": "1cae1db6-f244-4a47-a53f-51a6be4511e4",
   "metadata": {},
   "source": [
    "### Read and clean dataset"
   ]
  },
  {
   "cell_type": "code",
   "execution_count": 58,
   "id": "0ce295a1-88ee-4ee4-8762-ef883ff4c13e",
   "metadata": {},
   "outputs": [],
   "source": [
    "train_df = pd.read_csv(r\"./dataset/train.csv\")\n",
    "\n",
    "# clean model\n",
    "train_df['model'] = train_df['model'].apply(lambda x:x.replace('(', ''))\n",
    "train_df['reg_date_dt'] = train_df['reg_date'].apply(lambda x: datetime.strptime(x, \"%d-%b-%Y\"))\n",
    "train_df['reg_date_year'] = train_df['reg_date_dt'].apply(lambda x:x.year)\n",
    "train_df['reg_date_month'] = train_df['reg_date_dt'].apply(lambda x:x.month)"
   ]
  },
  {
   "cell_type": "code",
   "execution_count": null,
   "id": "ec585739-6d7e-42e4-82c0-cdc6ffaf7941",
   "metadata": {},
   "outputs": [],
   "source": []
  },
  {
   "cell_type": "markdown",
   "id": "92f207df-84d2-49d2-b640-fce0891bbd05",
   "metadata": {},
   "source": [
    "### Fill missing 'make' info from title"
   ]
  },
  {
   "cell_type": "code",
   "execution_count": 59,
   "id": "03009600-322c-4c15-b098-cd0aec0a8c16",
   "metadata": {},
   "outputs": [],
   "source": [
    "make_ls = train_df['make'].dropna().unique()\n",
    "compiled_regex = compile_make_pattern(make_ls)\n",
    "\n",
    "train_df = apply_make_extraction(train_df, compiled_regex)"
   ]
  },
  {
   "cell_type": "code",
   "execution_count": 60,
   "id": "67e866a0-2550-4cd7-9c15-765524c80c6a",
   "metadata": {},
   "outputs": [],
   "source": [
    "train_df['make'] = train_df['make'].fillna(train_df['extracted_make'])\n"
   ]
  },
  {
   "cell_type": "code",
   "execution_count": 61,
   "id": "5cc1173e-3396-4f6e-8e85-9b6dea45733a",
   "metadata": {},
   "outputs": [],
   "source": [
    "train_df[\"model_make\"] = train_df.model + \"_\" + train_df.make"
   ]
  },
  {
   "cell_type": "markdown",
   "id": "3d0dd578-8072-49ca-8c9e-6e68e0dc560a",
   "metadata": {},
   "source": [
    "### type_of_vehicle"
   ]
  },
  {
   "cell_type": "code",
   "execution_count": 62,
   "id": "8b18e03d-bc8e-43fa-bf6b-2999590ee3c1",
   "metadata": {},
   "outputs": [],
   "source": [
    "# train_df.groupby(ref_col)[feature].agg([\"mean\"]).rename(columns={\"mean\": feature})[feature]"
   ]
  },
  {
   "cell_type": "markdown",
   "id": "409ec462-17f7-442a-8129-9736e0879a2c",
   "metadata": {},
   "source": [
    "### curb_weight"
   ]
  },
  {
   "cell_type": "code",
   "execution_count": 63,
   "id": "6ca0c33b-9974-42f5-bdf6-00a47b750b68",
   "metadata": {},
   "outputs": [],
   "source": [
    "# display(HTML(train_df.head(50).to_html()))"
   ]
  },
  {
   "cell_type": "code",
   "execution_count": 66,
   "id": "352fa160-ec59-4685-b69e-fec68fa94473",
   "metadata": {},
   "outputs": [],
   "source": [
    "def fill_column_b_with_mean(df, column_a, column_b):\n",
    "    # Calculate the mean of column B grouped by column A\n",
    "    values = df.groupby(column_a)[column_b].agg([\"mean\"]).rename(columns={\"mean\": column_b})[column_b]\n",
    "    \n",
    "    # Iterate over each row in the DataFrame\n",
    "    for index, row in df.iterrows():\n",
    "        # If column B is NaN, fill it with the mean value of column B for the corresponding value in column A\n",
    "        if pd.isna(row[column_b]):\n",
    "            df.at[index, column_b] = values[row[column_a]]\n",
    "    return df"
   ]
  },
  {
   "cell_type": "code",
   "execution_count": 67,
   "id": "e543141f-6b13-4eff-a1c6-b72879a09da9",
   "metadata": {},
   "outputs": [],
   "source": [
    "feature = \"curb_weight\"\n",
    "ref_col = \"model_make\"\n",
    "new_df = fill_column_b_with_mean(train_df,ref_col,feature)\n",
    "train_df['curb_weight_impute'] = new_df[feature]"
   ]
  },
  {
   "cell_type": "markdown",
   "id": "a980b57d-49d0-450d-a1c7-19746693cd1e",
   "metadata": {},
   "source": [
    "### power "
   ]
  },
  {
   "cell_type": "code",
   "execution_count": 68,
   "id": "e7712399-9cf4-4e15-bf0a-0b7f76dbaaf1",
   "metadata": {},
   "outputs": [],
   "source": [
    "feature = \"power\"\n",
    "ref_col = \"model_make\"\n",
    "new_df = fill_column_b_with_mean(train_df,ref_col,feature)\n",
    "train_df['power_impute'] = new_df[feature]"
   ]
  },
  {
   "cell_type": "markdown",
   "id": "48c18e85-8d3e-4faa-89bb-c753f1e1bbb8",
   "metadata": {},
   "source": [
    "### engine_cap "
   ]
  },
  {
   "cell_type": "code",
   "execution_count": 69,
   "id": "8d506c51-2468-41a3-a1fe-57932e3445a7",
   "metadata": {},
   "outputs": [],
   "source": [
    "feature = \"engine_cap\"\n",
    "ref_col = \"model_make\"\n",
    "new_df = fill_column_b_with_mean(train_df,ref_col,feature)\n",
    "train_df['engine_cap_impute'] = new_df[feature]"
   ]
  },
  {
   "cell_type": "markdown",
   "id": "38810de4-7064-4737-8000-1f5f29379587",
   "metadata": {},
   "source": [
    "### no_of_owners"
   ]
  },
  {
   "cell_type": "code",
   "execution_count": null,
   "id": "187b5a0c-402b-4423-8299-b9299e697053",
   "metadata": {},
   "outputs": [],
   "source": []
  },
  {
   "cell_type": "markdown",
   "id": "41f7547f-25b1-4122-bdc5-92606380738e",
   "metadata": {},
   "source": [
    "### depreciation "
   ]
  },
  {
   "cell_type": "code",
   "execution_count": null,
   "id": "309447a7-8818-4242-9756-0e9d6360d022",
   "metadata": {},
   "outputs": [],
   "source": []
  },
  {
   "cell_type": "markdown",
   "id": "193ef2ca-2e22-47a2-94b0-50cff583f8c3",
   "metadata": {},
   "source": [
    "### dereg_value"
   ]
  },
  {
   "cell_type": "code",
   "execution_count": null,
   "id": "2648db4a-22b8-431c-9392-cff5b274cd70",
   "metadata": {},
   "outputs": [],
   "source": []
  },
  {
   "cell_type": "markdown",
   "id": "ad910b8a-c00d-4e9b-950a-fe8a741f2185",
   "metadata": {},
   "source": [
    "### mileage   "
   ]
  },
  {
   "cell_type": "code",
   "execution_count": null,
   "id": "888ae3c3-e49c-4d55-ae99-ddf14edbea1a",
   "metadata": {},
   "outputs": [],
   "source": []
  },
  {
   "cell_type": "markdown",
   "id": "7ffe3971-8ace-4178-b070-37cad3e59022",
   "metadata": {},
   "source": [
    "### omv "
   ]
  },
  {
   "cell_type": "code",
   "execution_count": 70,
   "id": "027ac5fb-c31a-43aa-9832-f4f642c7231e",
   "metadata": {},
   "outputs": [],
   "source": [
    "result_ls = get_lta_omv_data(2002, 2025)\n",
    "df_lta_car_data = preprocess_lta_omv_data(result_ls)"
   ]
  },
  {
   "cell_type": "code",
   "execution_count": 71,
   "id": "8725dcb4-ef66-460f-b54e-83016f25c473",
   "metadata": {},
   "outputs": [],
   "source": [
    "def impute_using_lta_data(row):\n",
    "    # print(row)\n",
    "    if not np.isnan(row['omv']):\n",
    "        return row['omv']\n",
    "    else:\n",
    "        make = row['make']\n",
    "        model = row['model']\n",
    "        year = row['reg_date_year']\n",
    "        lookup_by_make_model_year = df_lta_car_data[(df_lta_car_data['make_clean'] == make) & (df_lta_car_data['model_split'].str.contains(model)) & (df_lta_car_data['year'] == year)]\n",
    "        \n",
    "        lookup_by_make_model = df_lta_car_data[(df_lta_car_data['make_clean'] == make) & (df_lta_car_data['model_split'].str.contains(model))]\n",
    "\n",
    "        lookup_by_make = df_lta_car_data[(df_lta_car_data['make_clean'] == make)]\n",
    "        \n",
    "        if not lookup_by_make_model_year.empty:\n",
    "            # print('lookup_by_make_model_year')\n",
    "            return lookup_by_make_model_year['omv_clean'].mean()\n",
    "        elif not lookup_by_make_model.empty:\n",
    "            # print('lookup_by_make_model')\n",
    "            return lookup_by_make_model['omv_clean'].mean()\n",
    "        elif not lookup_by_make.empty:\n",
    "            # print('lookup_by_make')\n",
    "            return lookup_by_make['omv_clean'].mean()\n",
    "        else: \n",
    "            return None"
   ]
  },
  {
   "cell_type": "code",
   "execution_count": 72,
   "id": "371ec6de-1da9-4b9d-af8e-37ba1c52bc20",
   "metadata": {},
   "outputs": [
    {
     "name": "stdout",
     "output_type": "stream",
     "text": [
      "<class 'pandas.core.frame.DataFrame'>\n",
      "RangeIndex: 25000 entries, 0 to 24999\n",
      "Data columns (total 39 columns):\n",
      " #   Column              Non-Null Count  Dtype         \n",
      "---  ------              --------------  -----         \n",
      " 0   listing_id          25000 non-null  int64         \n",
      " 1   title               25000 non-null  object        \n",
      " 2   make                25000 non-null  object        \n",
      " 3   model               25000 non-null  object        \n",
      " 4   description         24320 non-null  object        \n",
      " 5   manufactured        24993 non-null  float64       \n",
      " 6   original_reg_date   255 non-null    object        \n",
      " 7   reg_date            25000 non-null  object        \n",
      " 8   type_of_vehicle     25000 non-null  object        \n",
      " 9   category            25000 non-null  object        \n",
      " 10  transmission        25000 non-null  object        \n",
      " 11  curb_weight         24906 non-null  float64       \n",
      " 12  power               23113 non-null  float64       \n",
      " 13  fuel_type           5879 non-null   object        \n",
      " 14  engine_cap          24519 non-null  float64       \n",
      " 15  no_of_owners        24982 non-null  float64       \n",
      " 16  depreciation        24493 non-null  float64       \n",
      " 17  coe                 25000 non-null  int64         \n",
      " 18  road_tax            22368 non-null  float64       \n",
      " 19  dereg_value         24780 non-null  float64       \n",
      " 20  mileage             19696 non-null  float64       \n",
      " 21  omv                 24936 non-null  float64       \n",
      " 22  arf                 24826 non-null  float64       \n",
      " 23  opc_scheme          162 non-null    object        \n",
      " 24  lifespan            2329 non-null   object        \n",
      " 25  eco_category        25000 non-null  object        \n",
      " 26  features            24157 non-null  object        \n",
      " 27  accessories         21187 non-null  object        \n",
      " 28  indicative_price    0 non-null      float64       \n",
      " 29  price               25000 non-null  float64       \n",
      " 30  reg_date_dt         25000 non-null  datetime64[ns]\n",
      " 31  reg_date_year       25000 non-null  int64         \n",
      " 32  reg_date_month      25000 non-null  int64         \n",
      " 33  extracted_make      25000 non-null  object        \n",
      " 34  model_make          25000 non-null  object        \n",
      " 35  curb_weight_impute  24906 non-null  float64       \n",
      " 36  power_impute        23113 non-null  float64       \n",
      " 37  engine_cap_impute   24519 non-null  float64       \n",
      " 38  omv_new             25000 non-null  float64       \n",
      "dtypes: datetime64[ns](1), float64(17), int64(4), object(17)\n",
      "memory usage: 7.4+ MB\n"
     ]
    }
   ],
   "source": [
    "train_df['omv_new'] = train_df['omv']\n",
    "train_df['omv_new'] = train_df.apply(impute_using_lta_data, axis=1)\n",
    "train_df['omv_new'] = train_df['omv_new'].fillna(train_df['omv_new'].mean())\n",
    "\n",
    "train_df.info()"
   ]
  },
  {
   "cell_type": "markdown",
   "id": "48694da0-c052-4e01-9b9b-86132f62898c",
   "metadata": {},
   "source": [
    "### features "
   ]
  },
  {
   "cell_type": "code",
   "execution_count": 73,
   "id": "1cefc3b6-fef7-42c3-8826-f78b710f4029",
   "metadata": {},
   "outputs": [],
   "source": [
    "train_df['cylinder_cnt'] = train_df['features'].apply(lambda x: extract_cylinder_from_features(x) if pd.notnull(x) else None)\n",
    "cylinder_count_dict = extract_cylinder_by_model_make(train_df)\n",
    "train_df['cylinder_cnt'] = train_df.apply(lambda x:impute_row_by_make_model(x, cylinder_count_dict, 'cylinder_cnt'), axis=1)\n",
    "# fill remaining values with median of 4 cylinder (most common engine)\n",
    "median_cylinder_cnt = train_df['cylinder_cnt'].median(axis=0)\n",
    "train_df['cylinder_cnt'] = train_df['cylinder_cnt'].fillna(median_cylinder_cnt)"
   ]
  },
  {
   "cell_type": "code",
   "execution_count": 74,
   "id": "354d510c-7bec-431e-9909-360abb7ef272",
   "metadata": {},
   "outputs": [
    {
     "data": {
      "text/plain": [
       "Index(['listing_id', 'title', 'make', 'model', 'description', 'manufactured',\n",
       "       'original_reg_date', 'reg_date', 'type_of_vehicle', 'category',\n",
       "       'transmission', 'curb_weight', 'power', 'fuel_type', 'engine_cap',\n",
       "       'no_of_owners', 'depreciation', 'coe', 'road_tax', 'dereg_value',\n",
       "       'mileage', 'omv', 'arf', 'opc_scheme', 'lifespan', 'eco_category',\n",
       "       'features', 'accessories', 'indicative_price', 'price', 'reg_date_dt',\n",
       "       'reg_date_year', 'reg_date_month', 'extracted_make', 'model_make',\n",
       "       'curb_weight_impute', 'power_impute', 'engine_cap_impute', 'omv_new',\n",
       "       'cylinder_cnt'],\n",
       "      dtype='object')"
      ]
     },
     "execution_count": 74,
     "metadata": {},
     "output_type": "execute_result"
    }
   ],
   "source": [
    "train_df.columns"
   ]
  },
  {
   "cell_type": "markdown",
   "id": "6650db78-6564-492a-884b-c92dd8cba461",
   "metadata": {},
   "source": [
    "## Training models"
   ]
  },
  {
   "cell_type": "code",
   "execution_count": 75,
   "id": "51f3b689-2d2b-43b4-98e4-f6c2ea8670f6",
   "metadata": {},
   "outputs": [],
   "source": [
    "# display(HTML(train_df.head(50).to_html()))"
   ]
  },
  {
   "cell_type": "code",
   "execution_count": 80,
   "id": "934fce46-011d-468f-a05c-f0357ab19fb1",
   "metadata": {},
   "outputs": [
    {
     "name": "stdout",
     "output_type": "stream",
     "text": [
      "Model Tuning Starttime :: 2024-10-06 23:21:50.479017\n",
      "Model Tuning Completed :: 2024-10-06 23:22:06.749140\n",
      "Best Parameters: {'max_depth': None, 'min_samples_split': 2, 'n_estimators': 10}\n",
      "Test Set MSE: 3222797125.3751683\n",
      "Test Set R2 Score: 0.8590261288206882\n"
     ]
    },
    {
     "name": "stderr",
     "output_type": "stream",
     "text": [
      "C:\\Users\\kan_h\\.conda\\envs\\cs5228\\lib\\site-packages\\sklearn\\model_selection\\_search.py:1102: UserWarning: One or more of the test scores are non-finite: [nan nan nan nan nan nan nan nan nan nan nan nan nan nan nan nan nan nan\n",
      " nan nan nan nan nan nan nan nan nan]\n",
      "  warnings.warn(\n",
      "C:\\Users\\kan_h\\.conda\\envs\\cs5228\\lib\\site-packages\\xgboost\\core.py:158: UserWarning: [23:22:06] WARNING: C:\\buildkite-agent\\builds\\buildkite-windows-cpu-autoscaling-group-i-0015a694724fa8361-1\\xgboost\\xgboost-ci-windows\\src\\learner.cc:740: \n",
      "Parameters: { \"min_samples_split\" } are not used.\n",
      "\n",
      "  warnings.warn(smsg, UserWarning)\n"
     ]
    }
   ],
   "source": [
    "from sklearn.model_selection import train_test_split\n",
    "from sklearn.metrics import mean_squared_error, r2_score\n",
    "from utils.models import Classification\n",
    "\n",
    "# Assuming the Classification class is already imported as described\n",
    "features = ['curb_weight_impute', 'power_impute', 'cylinder_cnt', 'omv_new',\n",
    "       'engine_cap_impute']\n",
    "\n",
    "# Split data into training and test sets\n",
    "X_train, X_test, y_train, y_test = train_test_split(train_df[features], train_df['price'], test_size=0.3, random_state=42)\n",
    "\n",
    "# 2. Initialize the Classification class\n",
    "classifier = Classification()\n",
    "\n",
    "# 3. Define parameters for hyperparameter tuning\n",
    "params = {\n",
    "    'n_estimators': [10, 50, 100],\n",
    "    'max_depth': [None, 10, 20],\n",
    "    'min_samples_split': [2, 5, 10]\n",
    "}\n",
    "\n",
    "# Example for Random Forest with accuracy scoring and KFold validation\n",
    "tuner, best_params, tuner_results = classifier.hyperparameter_tuning(\n",
    "    df_tuple=(X_train, y_train),   # The training data (X, y)\n",
    "    score_metric='accuracy',       # Scoring metric\n",
    "    kfold_type='kfold',            # Type of fold (KFold used here)\n",
    "    n_splits=5,                    # Number of splits for KFold\n",
    "    params=params,                 # Hyperparameter grid to search\n",
    "    model_name='xgb'      # Model to use (Random Forest in this case)\n",
    ")\n",
    "\n",
    "# 4. View the best hyperparameters and fit the model\n",
    "print(f\"Best Parameters: {best_params}\")\n",
    "\n",
    "# 5. Use the best model to predict on the test set\n",
    "best_model = tuner.best_estimator_\n",
    "y_pred = best_model.predict(X_test)\n",
    "\n",
    "# 6. Evaluate the model\n",
    "mse = mean_squared_error(y_test, y_pred)\n",
    "r2 = r2_score(y_test, y_pred)\n",
    "print(f\"Test Set MSE: {mse}\")\n",
    "print(f\"Test Set R2 Score: {r2}\")"
   ]
  },
  {
   "cell_type": "code",
   "execution_count": null,
   "id": "0f1772d5-88b5-4360-9587-ab18dc3fed6e",
   "metadata": {},
   "outputs": [],
   "source": []
  }
 ],
 "metadata": {
  "kernelspec": {
   "display_name": "cs5228",
   "language": "python",
   "name": "cs5228"
  },
  "language_info": {
   "codemirror_mode": {
    "name": "ipython",
    "version": 3
   },
   "file_extension": ".py",
   "mimetype": "text/x-python",
   "name": "python",
   "nbconvert_exporter": "python",
   "pygments_lexer": "ipython3",
   "version": "3.10.14"
  }
 },
 "nbformat": 4,
 "nbformat_minor": 5
}
