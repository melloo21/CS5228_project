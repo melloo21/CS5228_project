{
 "cells": [
  {
   "cell_type": "code",
   "execution_count": 1,
   "id": "8c44143c-834f-49b2-a126-acffa14efa06",
   "metadata": {},
   "outputs": [],
   "source": [
    "import os\n",
    "import time\n",
    "import joblib\n",
    "import numpy as np\n",
    "import pandas as pd\n",
    "import seaborn as sns\n",
    "import plotly.express as px\n",
    "import plotly.graph_objects as go\n",
    "from datetime import datetime\n",
    "from scipy.stats import boxcox, skew\n",
    "import matplotlib.pyplot as plt\n",
    "\n",
    "from IPython.display import display, HTML\n",
    "from sklearn.impute import KNNImputer, SimpleImputer\n",
    "from sklearn.preprocessing import OneHotEncoder , PowerTransformer, MultiLabelBinarizer , MinMaxScaler\n",
    "from sklearn.model_selection import train_test_split\n",
    "from sklearn.metrics import mean_squared_error, r2_score\n",
    "\n",
    "%load_ext autoreload\n",
    "%autoreload 2\n",
    "\n",
    "import plotly.io as pio\n",
    "pio.renderers.default = 'iframe'"
   ]
  },
  {
   "cell_type": "code",
   "execution_count": 2,
   "id": "0b31d26f",
   "metadata": {},
   "outputs": [],
   "source": [
    "## Local Utils File\n",
    "from utils.eda import *\n",
    "from utils.road_tax import *\n",
    "from utils.kanhon_utils import *\n",
    "from utils.melissa_imputers import *\n",
    "from utils.melissa_utils import *\n",
    "from utils.Bhushan_utils import *\n",
    "from utils.lta_omv_scraper import *\n",
    "from utils.models import Regression\n",
    "from utils.regression_evaluation import *"
   ]
  },
  {
   "cell_type": "markdown",
   "id": "f30d49c1",
   "metadata": {},
   "source": [
    "## Load Dataset"
   ]
  },
  {
   "cell_type": "code",
   "execution_count": 3,
   "id": "88904d2e",
   "metadata": {},
   "outputs": [],
   "source": [
    "test_df = pd.read_csv(r\"./dataset/test.csv\")\n",
    "test_df['model'] = test_df['model'].apply(lambda x:x.replace('(', ''))\n",
    "test_df['reg_date_dt'] = test_df['reg_date'].apply(lambda x: datetime.strptime(x, \"%d-%b-%Y\"))\n",
    "test_df['reg_date_year'] = test_df['reg_date_dt'].apply(lambda x:x.year)\n",
    "test_df['reg_date_month'] = test_df['reg_date_dt'].apply(lambda x:x.month)\n",
    "\n",
    "orig_df = pd.read_csv(r\"./dataset/train.csv\")\n",
    "\n",
    "# clean model\n",
    "orig_df['model'] = orig_df['model'].apply(lambda x:x.replace('(', ''))\n",
    "orig_df['reg_date_dt'] = orig_df['reg_date'].apply(lambda x: datetime.strptime(x, \"%d-%b-%Y\"))\n",
    "orig_df['reg_date_year'] = orig_df['reg_date_dt'].apply(lambda x:x.year)\n",
    "orig_df['reg_date_month'] = orig_df['reg_date_dt'].apply(lambda x:x.month)\n"
   ]
  },
  {
   "cell_type": "markdown",
   "id": "85407a41",
   "metadata": {},
   "source": [
    "## Outlier Removal"
   ]
  },
  {
   "cell_type": "code",
   "execution_count": 4,
   "id": "185b4cf5",
   "metadata": {},
   "outputs": [],
   "source": [
    "# ## Sanity Check\n",
    "# train_pkl_dir_path = \"./dataset/proc_scraped_new_car_info.pkl\"\n",
    "# train_scraped = pd.read_pickle(train_pkl_dir_path)\n",
    "\n",
    "# mapping = {\n",
    "#     \"suv\": 'SUV',\n",
    "#      'mpv': 'MPV',\n",
    "#     \"luxury sedan\" : 'Luxury Sedan',\n",
    "#     \"mid-sized sedan\": \"Sedan\",\n",
    "#      'sports car' : 'Sports',\n",
    "#      'truck' : 'Commercial',\n",
    "#      'hatchback': 'Hatchback',\n",
    "#      'stationwagon' : 'Stationwagon',\n",
    "#      'bus/mini bus':'Commercial',\n",
    "#      'van':'Commercial',\n",
    "#      'others':'Commercial'\n",
    "# }\n",
    "# # feature = \"Engine Capacity\"\n",
    "# # feature = \"Power\"\n",
    "# feature= \"Kerb Weight\"\n",
    "\n",
    "# ref = train_scraped.groupby([\"Vehicle Type\"])[feature].agg([\"min\",\"max\"]).reset_index()\n",
    "# train_ref = orig_df.groupby([\"type_of_vehicle\"])[\"curb_weight\"].agg([\"min\",\"max\"]).reset_index()\n",
    "# i=0\n",
    "# for elem in orig_df[\"type_of_vehicle\"].unique():\n",
    "#     _, min_val, max_val = ref[ref[\"Vehicle Type\"] == mapping[elem]].iloc[0]\n",
    "#     _, min_train_val, max_train_val = train_ref[train_ref[\"type_of_vehicle\"] ==elem].iloc[0]\n",
    "#     if (min_train_val < min_val) & (max_train_val > max_val):\n",
    "#         print(\"min | max :: \" ,elem)\n",
    "#         i+=1\n",
    "#     elif (min_train_val < min_val):\n",
    "#         print(\"min :: \" ,elem)     \n",
    "#         i+=1  \n",
    "#     elif max_train_val > max_val:\n",
    "#         print(\"max :: \" ,elem)\n",
    "#         i+=1\n",
    "# i"
   ]
  },
  {
   "cell_type": "code",
   "execution_count": 5,
   "id": "ecf32950",
   "metadata": {},
   "outputs": [
    {
     "name": "stdout",
     "output_type": "stream",
     "text": [
      " Initial Nan curb_weight     307\n",
      "power          2640\n",
      "engine_cap      596\n",
      "dtype: int64\n",
      " For curb_weight column :: Found 1 outliers\n",
      " For power column :: Found 13 outliers\n",
      " For engine_cap column :: Found 2 outliers\n",
      " Initial Nan curb_weight     308\n",
      "power          2653\n",
      "engine_cap      598\n",
      "dtype: int64\n"
     ]
    }
   ],
   "source": [
    "print(f' Initial Nan {orig_df[[\"curb_weight\",\"power\",\"engine_cap\"]].isna().sum()}')\n",
    "orig_df= generic_outlier(df=orig_df,column_name='curb_weight',min_val=440, max_val=46000)\n",
    "orig_df= generic_outlier(df=orig_df,column_name='power',min_val=1, max_val=None)\n",
    "orig_df=generic_outlier(df=orig_df,column_name='engine_cap',min_val=1, max_val=None)\n",
    "print(f' Initial Nan {orig_df[[\"curb_weight\",\"power\",\"engine_cap\"]].isna().sum()}')"
   ]
  },
  {
   "cell_type": "markdown",
   "id": "5e770275",
   "metadata": {},
   "source": [
    "## Dataset Split"
   ]
  },
  {
   "cell_type": "code",
   "execution_count": 6,
   "id": "d0cec08b",
   "metadata": {},
   "outputs": [],
   "source": [
    "## Split into train val split\n",
    "train_df, val_df = train_test_split(orig_df, test_size=0.2, random_state=42, shuffle=True)"
   ]
  },
  {
   "cell_type": "markdown",
   "id": "f054fec4",
   "metadata": {},
   "source": [
    "## Feature Processing"
   ]
  },
  {
   "cell_type": "markdown",
   "id": "92f207df-84d2-49d2-b640-fce0891bbd05",
   "metadata": {},
   "source": [
    "### Fill missing 'make' info from title"
   ]
  },
  {
   "cell_type": "code",
   "execution_count": 7,
   "id": "03009600-322c-4c15-b098-cd0aec0a8c16",
   "metadata": {},
   "outputs": [],
   "source": [
    "make_df = pd.read_csv(r\"./dataset/make.csv\")\n",
    "make_ls = [make.lower() for make in make_df['Make List'].unique()]"
   ]
  },
  {
   "cell_type": "code",
   "execution_count": 8,
   "id": "67e866a0-2550-4cd7-9c15-765524c80c6a",
   "metadata": {},
   "outputs": [],
   "source": [
    "make_model_imputer = MakeModelImputer(make_ls)\n",
    "\n",
    "train_df = make_model_imputer.transform(train_df)\n",
    "val_df = make_model_imputer.transform(val_df) \n",
    "test_df = make_model_imputer.transform(test_df) "
   ]
  },
  {
   "cell_type": "code",
   "execution_count": 9,
   "id": "5cc1173e-3396-4f6e-8e85-9b6dea45733a",
   "metadata": {},
   "outputs": [],
   "source": [
    "# Generating model make imputer\n",
    "train_df[\"model_make\"] = train_df.model + \"_\" + train_df.make\n",
    "val_df[\"model_make\"] = val_df.model + \"_\" + val_df.make\n",
    "test_df[\"model_make\"] = test_df.model + \"_\" + test_df.make"
   ]
  },
  {
   "cell_type": "markdown",
   "id": "21d42510",
   "metadata": {},
   "source": [
    "### COE Age Imputer\n",
    "Adding new col"
   ]
  },
  {
   "cell_type": "code",
   "execution_count": 10,
   "id": "f40830fd",
   "metadata": {},
   "outputs": [
    {
     "data": {
      "text/plain": [
       "' After imputation : 0'"
      ]
     },
     "metadata": {},
     "output_type": "display_data"
    }
   ],
   "source": [
    "## New method\n",
    "coeAge_impute = CoeAgeImputer()\n",
    "\n",
    "train_df = coeAge_impute.fit_transform(df=train_df)\n",
    "val_df = coeAge_impute.fit_transform(val_df)\n",
    "test_df = coeAge_impute.fit_transform(test_df)\n",
    "display(f' After imputation : {train_df[\"coe_age_left\"].isna().sum()}')"
   ]
  },
  {
   "cell_type": "markdown",
   "id": "f9d98fe1",
   "metadata": {},
   "source": [
    "### Age Range Proc \n",
    "Adding new col"
   ]
  },
  {
   "cell_type": "code",
   "execution_count": 11,
   "id": "6d2283ae",
   "metadata": {},
   "outputs": [
    {
     "data": {
      "text/plain": [
       "' After imputation train_df : 0'"
      ]
     },
     "metadata": {},
     "output_type": "display_data"
    },
    {
     "data": {
      "text/plain": [
       "' After imputation val_df : 0'"
      ]
     },
     "metadata": {},
     "output_type": "display_data"
    },
    {
     "data": {
      "text/plain": [
       "' After imputation test_df : 0'"
      ]
     },
     "metadata": {},
     "output_type": "display_data"
    }
   ],
   "source": [
    "## New method\n",
    "ageRangeProc_impute = AgeRangeproc_dfer()\n",
    "\n",
    "train_df = ageRangeProc_impute.fit_transform(df=train_df)\n",
    "val_df = ageRangeProc_impute.fit_transform(val_df)\n",
    "test_df = ageRangeProc_impute.fit_transform(test_df)\n",
    "display(f' After imputation train_df : {train_df[\"age_range\"].isna().sum()}')\n",
    "display(f' After imputation val_df : {val_df[\"age_range\"].isna().sum()}')\n",
    "display(f' After imputation test_df : {test_df[\"age_range\"].isna().sum()}')"
   ]
  },
  {
   "cell_type": "markdown",
   "id": "f1f4f67e",
   "metadata": {},
   "source": [
    "### Car Age"
   ]
  },
  {
   "cell_type": "code",
   "execution_count": 12,
   "id": "4924e05e",
   "metadata": {},
   "outputs": [
    {
     "data": {
      "text/plain": [
       "' After imputation train_df : 0'"
      ]
     },
     "metadata": {},
     "output_type": "display_data"
    },
    {
     "data": {
      "text/plain": [
       "' After imputation val_df : 0'"
      ]
     },
     "metadata": {},
     "output_type": "display_data"
    },
    {
     "data": {
      "text/plain": [
       "' After imputation test_df : 0'"
      ]
     },
     "metadata": {},
     "output_type": "display_data"
    }
   ],
   "source": [
    "depreciation_imputer = DepreciationImputer()\n",
    "train_df = depreciation_imputer.calc_vehicle_age(train_df) # 0 empty records - due to 'manufactured' having 7 empty records\n",
    "val_df = depreciation_imputer.calc_vehicle_age(val_df) # 0 empty records\n",
    "test_df = depreciation_imputer.calc_vehicle_age(test_df) # 0 empty records\n",
    "\n",
    "display(f' After imputation train_df : {train_df[\"car_age\"].isna().sum()}')\n",
    "display(f' After imputation val_df : {val_df[\"car_age\"].isna().sum()}')\n",
    "display(f' After imputation test_df : {test_df[\"car_age\"].isna().sum()}')"
   ]
  },
  {
   "cell_type": "markdown",
   "id": "15da5a1c",
   "metadata": {},
   "source": [
    "### Manufactured"
   ]
  },
  {
   "cell_type": "code",
   "execution_count": 13,
   "id": "1bdc5c03",
   "metadata": {},
   "outputs": [],
   "source": [
    "# Impute manufactured date\n",
    "train_df = impute_manufactured_date(train_df) \n",
    "val_df = impute_manufactured_date(val_df) \n",
    "test_df = impute_manufactured_date(test_df)"
   ]
  },
  {
   "cell_type": "markdown",
   "id": "3d0dd578-8072-49ca-8c9e-6e68e0dc560a",
   "metadata": {},
   "source": [
    "### type_of_vehicle"
   ]
  },
  {
   "cell_type": "code",
   "execution_count": 14,
   "id": "7539948d",
   "metadata": {},
   "outputs": [],
   "source": [
    "# vehicle_encoder = VehicleCondensedEncoder()\n",
    "# train_df = vehicle_encoder.fit_transform(train_df) # 1537 rows missing\n",
    "# val_df = vehicle_encoder.transform(val_df) # 379 rows missing\n",
    "# test_df = vehicle_encoder.transform(test_df) # 789 rows missing\n",
    "\n",
    "## Processing \n",
    "train_df , vehicle_type_encoder = onehot_fit_transform(train_df, \"type_of_vehicle\")\n",
    "val_df = onehot_type_fit(val_df, vehicle_type_encoder)\n",
    "test_df = onehot_type_fit(test_df, vehicle_type_encoder)"
   ]
  },
  {
   "cell_type": "code",
   "execution_count": 15,
   "id": "03a24bed",
   "metadata": {},
   "outputs": [],
   "source": [
    "# ## Processing \n",
    "# train_df , vehicle_type_encoder = onehot_fit_transform(train_df, \"type_of_vehicle\")\n",
    "# val_df = onehot_type_fit(val_df, vehicle_type_encoder)\n",
    "# test_df = onehot_type_fit(test_df, vehicle_type_encoder)"
   ]
  },
  {
   "cell_type": "markdown",
   "id": "409ec462-17f7-442a-8129-9736e0879a2c",
   "metadata": {},
   "source": [
    "### curb_weight"
   ]
  },
  {
   "cell_type": "code",
   "execution_count": 16,
   "id": "0677061b",
   "metadata": {},
   "outputs": [
    {
     "data": {
      "text/plain": [
       "' train_df Before imputation curb_weight : 242'"
      ]
     },
     "metadata": {},
     "output_type": "display_data"
    },
    {
     "data": {
      "text/plain": [
       "' val_df Before imputation : 66'"
      ]
     },
     "metadata": {},
     "output_type": "display_data"
    },
    {
     "data": {
      "text/plain": [
       "' test_df Before imputation : 110'"
      ]
     },
     "metadata": {},
     "output_type": "display_data"
    },
    {
     "data": {
      "text/plain": [
       "' train_df After imputation : 229'"
      ]
     },
     "metadata": {},
     "output_type": "display_data"
    },
    {
     "data": {
      "text/plain": [
       "' val_df After imputation : 64'"
      ]
     },
     "metadata": {},
     "output_type": "display_data"
    },
    {
     "data": {
      "text/plain": [
       "' test_df After imputation : 106'"
      ]
     },
     "metadata": {},
     "output_type": "display_data"
    }
   ],
   "source": [
    "train_pkl_dir_path = \"./dataset/proc_scraped_new_car_info.pkl\"\n",
    "test_pkl_dir_path = \"./dataset/test_proc_scraped_new_car_info.pkl\"\n",
    "variable = \"curb_weight\"\n",
    "\n",
    "sgcarmart_imputer = GenericSGCarMartImputer(\n",
    "    train_pickle_dir=train_pkl_dir_path, test_pickle_dir=test_pkl_dir_path)\n",
    "\n",
    "display(f' train_df Before imputation {variable} : {train_df[variable].isna().sum()}')\n",
    "display(f' val_df Before imputation : {val_df[variable].isna().sum()}')\n",
    "display(f' test_df Before imputation : {test_df[variable].isna().sum()}')\n",
    "\n",
    "train_df.loc[:,variable] = sgcarmart_imputer.impute_val(df=train_df,variable=variable,df_type=\"train\")\n",
    "val_df.loc[:,variable]  = sgcarmart_imputer.impute_val(df=val_df,variable=variable,df_type=\"train\")\n",
    "test_df.loc[:,variable]  = sgcarmart_imputer.impute_val(df=test_df,variable=variable,df_type=\"test\")\n",
    "\n",
    "display(f' train_df After imputation : {train_df[variable].isna().sum()}')\n",
    "display(f' val_df After imputation : {val_df[variable].isna().sum()}')\n",
    "display(f' test_df After imputation : {test_df[variable].isna().sum()}')"
   ]
  },
  {
   "cell_type": "code",
   "execution_count": 17,
   "id": "e543141f-6b13-4eff-a1c6-b72879a09da9",
   "metadata": {},
   "outputs": [
    {
     "data": {
      "text/plain": [
       "' train_df Before imputation curb_weight : 229'"
      ]
     },
     "metadata": {},
     "output_type": "display_data"
    },
    {
     "data": {
      "text/plain": [
       "' val_df Before imputation : 64'"
      ]
     },
     "metadata": {},
     "output_type": "display_data"
    },
    {
     "data": {
      "text/plain": [
       "' test_df Before imputation : 106'"
      ]
     },
     "metadata": {},
     "output_type": "display_data"
    },
    {
     "data": {
      "text/plain": [
       "' train_df After imputation : 78'"
      ]
     },
     "metadata": {},
     "output_type": "display_data"
    },
    {
     "data": {
      "text/plain": [
       "' val_df After imputation : 19'"
      ]
     },
     "metadata": {},
     "output_type": "display_data"
    },
    {
     "data": {
      "text/plain": [
       "' test_df After imputation : 39'"
      ]
     },
     "metadata": {},
     "output_type": "display_data"
    }
   ],
   "source": [
    "curb_weight_impute = ModelMakeImputer(column_a=\"model_make\", column_b=\"curb_weight\")\n",
    "display(f' train_df Before imputation {variable} : {train_df[variable].isna().sum()}')\n",
    "display(f' val_df Before imputation : {val_df[variable].isna().sum()}')\n",
    "display(f' test_df Before imputation : {test_df[variable].isna().sum()}')\n",
    "\n",
    "train_df = curb_weight_impute.fit_transform(train_df) # 82 rows missing\n",
    "val_df = curb_weight_impute.transform(val_df) # 20 rows missing\n",
    "test_df = curb_weight_impute.transform(test_df) # 40 rows missing\n",
    "\n",
    "display(f' train_df After imputation : {train_df[variable].isna().sum()}')\n",
    "display(f' val_df After imputation : {val_df[variable].isna().sum()}')\n",
    "display(f' test_df After imputation : {test_df[variable].isna().sum()}')"
   ]
  },
  {
   "cell_type": "code",
   "execution_count": 19,
   "id": "acda1b24",
   "metadata": {},
   "outputs": [],
   "source": [
    "# Many rows are missing, impute using median values\n",
    "imputer = SimpleImputer(strategy='median')\n",
    "train_df['curb_weight'] = imputer.fit_transform(train_df[['curb_weight']])\n",
    "val_df['curb_weight'] = imputer.transform(val_df[['curb_weight']])\n",
    "test_df['curb_weight'] = imputer.transform(test_df[['curb_weight']])"
   ]
  },
  {
   "cell_type": "markdown",
   "id": "a980b57d-49d0-450d-a1c7-19746693cd1e",
   "metadata": {},
   "source": [
    "### power "
   ]
  },
  {
   "cell_type": "code",
   "execution_count": 20,
   "id": "4d23565e",
   "metadata": {},
   "outputs": [
    {
     "data": {
      "text/plain": [
       "' train_df Before imputation power: 2116'"
      ]
     },
     "metadata": {},
     "output_type": "display_data"
    },
    {
     "data": {
      "text/plain": [
       "' val_df Before imputation : 537'"
      ]
     },
     "metadata": {},
     "output_type": "display_data"
    },
    {
     "data": {
      "text/plain": [
       "' test_df Before imputation : 1086'"
      ]
     },
     "metadata": {},
     "output_type": "display_data"
    },
    {
     "data": {
      "text/plain": [
       "' train_df After imputation : 1458'"
      ]
     },
     "metadata": {},
     "output_type": "display_data"
    },
    {
     "data": {
      "text/plain": [
       "' val_df After imputation : 374'"
      ]
     },
     "metadata": {},
     "output_type": "display_data"
    },
    {
     "data": {
      "text/plain": [
       "' test_df After imputation : 714'"
      ]
     },
     "metadata": {},
     "output_type": "display_data"
    }
   ],
   "source": [
    "train_pkl_dir_path = \"./dataset/proc_scraped_new_car_info.pkl\"\n",
    "test_pkl_dir_path = \"./dataset/test_proc_scraped_new_car_info.pkl\"\n",
    "variable = \"power\"\n",
    "\n",
    "display(f' train_df Before imputation {variable}: {train_df[variable].isna().sum()}')\n",
    "display(f' val_df Before imputation : {val_df[variable].isna().sum()}')\n",
    "display(f' test_df Before imputation : {test_df[variable].isna().sum()}')\n",
    "\n",
    "train_df.loc[:,variable] = sgcarmart_imputer.impute_val(df=train_df,variable=variable,df_type=\"train\")\n",
    "val_df.loc[:,variable]  = sgcarmart_imputer.impute_val(df=val_df,variable=variable,df_type=\"train\")\n",
    "test_df.loc[:,variable]  = sgcarmart_imputer.impute_val(df=test_df,variable=variable,df_type=\"test\")\n",
    "\n",
    "display(f' train_df After imputation : {train_df[variable].isna().sum()}')\n",
    "display(f' val_df After imputation : {val_df[variable].isna().sum()}')\n",
    "display(f' test_df After imputation : {test_df[variable].isna().sum()}')"
   ]
  },
  {
   "cell_type": "code",
   "execution_count": 21,
   "id": "e7712399-9cf4-4e15-bf0a-0b7f76dbaaf1",
   "metadata": {},
   "outputs": [
    {
     "data": {
      "text/plain": [
       "' train_df Before imputation power: 1458'"
      ]
     },
     "metadata": {},
     "output_type": "display_data"
    },
    {
     "data": {
      "text/plain": [
       "' val_df Before imputation : 374'"
      ]
     },
     "metadata": {},
     "output_type": "display_data"
    },
    {
     "data": {
      "text/plain": [
       "' test_df Before imputation : 714'"
      ]
     },
     "metadata": {},
     "output_type": "display_data"
    },
    {
     "data": {
      "text/plain": [
       "' train_df After imputation : 456'"
      ]
     },
     "metadata": {},
     "output_type": "display_data"
    },
    {
     "data": {
      "text/plain": [
       "' val_df After imputation : 123'"
      ]
     },
     "metadata": {},
     "output_type": "display_data"
    },
    {
     "data": {
      "text/plain": [
       "' test_df After imputation : 243'"
      ]
     },
     "metadata": {},
     "output_type": "display_data"
    }
   ],
   "source": [
    "power_impute = ModelMakeImputer(column_a=\"model_make\", column_b=\"power\")\n",
    "\n",
    "display(f' train_df Before imputation {variable}: {train_df[variable].isna().sum()}')\n",
    "display(f' val_df Before imputation : {val_df[variable].isna().sum()}')\n",
    "display(f' test_df Before imputation : {test_df[variable].isna().sum()}')\n",
    "train_df = power_impute.fit_transform(train_df) # 1537 rows missing\n",
    "val_df = power_impute.transform(val_df) # 379 rows missing\n",
    "test_df = power_impute.transform(test_df) # 789 rows missing\n",
    "display(f' train_df After imputation : {train_df[variable].isna().sum()}')\n",
    "display(f' val_df After imputation : {val_df[variable].isna().sum()}')\n",
    "display(f' test_df After imputation : {test_df[variable].isna().sum()}')"
   ]
  },
  {
   "cell_type": "code",
   "execution_count": 24,
   "id": "26f6a77c",
   "metadata": {},
   "outputs": [],
   "source": [
    "# Many rows are missing, impute using median values\n",
    "imputer = SimpleImputer(strategy='median')\n",
    "train_df['power'] = imputer.fit_transform(train_df[['power']])\n",
    "val_df['power'] = imputer.transform(val_df[['power']])\n",
    "test_df['power'] = imputer.transform(test_df[['power']])"
   ]
  },
  {
   "cell_type": "markdown",
   "id": "48c18e85-8d3e-4faa-89bb-c753f1e1bbb8",
   "metadata": {},
   "source": [
    "### engine_cap "
   ]
  },
  {
   "cell_type": "code",
   "execution_count": 25,
   "id": "44ae4bfd",
   "metadata": {},
   "outputs": [
    {
     "data": {
      "text/plain": [
       "' train_df Before imputation engine_cap : 477'"
      ]
     },
     "metadata": {},
     "output_type": "display_data"
    },
    {
     "data": {
      "text/plain": [
       "' val_df Before imputation : 121'"
      ]
     },
     "metadata": {},
     "output_type": "display_data"
    },
    {
     "data": {
      "text/plain": [
       "' test_df Before imputation : 235'"
      ]
     },
     "metadata": {},
     "output_type": "display_data"
    },
    {
     "data": {
      "text/plain": [
       "' train_df After imputation : 477'"
      ]
     },
     "metadata": {},
     "output_type": "display_data"
    },
    {
     "data": {
      "text/plain": [
       "' val_df After imputation : 121'"
      ]
     },
     "metadata": {},
     "output_type": "display_data"
    },
    {
     "data": {
      "text/plain": [
       "' test_df After imputation : 235'"
      ]
     },
     "metadata": {},
     "output_type": "display_data"
    }
   ],
   "source": [
    "train_pkl_dir_path = \"./dataset/proc_scraped_new_car_info.pkl\"\n",
    "test_pkl_dir_path = \"./dataset/test_proc_scraped_new_car_info.pkl\"\n",
    "variable = \"engine_cap\"\n",
    "\n",
    "display(f' train_df Before imputation {variable} : {train_df[variable].isna().sum()}')\n",
    "display(f' val_df Before imputation : {val_df[variable].isna().sum()}')\n",
    "display(f' test_df Before imputation : {test_df[variable].isna().sum()}')\n",
    "\n",
    "train_df.loc[:,variable] = sgcarmart_imputer.impute_val(df=train_df,variable=variable,df_type=\"train\")\n",
    "val_df.loc[:,variable]  = sgcarmart_imputer.impute_val(df=val_df,variable=variable,df_type=\"train\")\n",
    "test_df.loc[:,variable]  = sgcarmart_imputer.impute_val(df=test_df,variable=variable,df_type=\"test\")\n",
    "\n",
    "display(f' train_df After imputation : {train_df[variable].isna().sum()}')\n",
    "display(f' val_df After imputation : {val_df[variable].isna().sum()}')\n",
    "display(f' test_df After imputation : {test_df[variable].isna().sum()}')"
   ]
  },
  {
   "cell_type": "code",
   "execution_count": 26,
   "id": "8d506c51-2468-41a3-a1fe-57932e3445a7",
   "metadata": {},
   "outputs": [
    {
     "data": {
      "text/plain": [
       "' train_df Before imputation engine_cap : 477'"
      ]
     },
     "metadata": {},
     "output_type": "display_data"
    },
    {
     "data": {
      "text/plain": [
       "' val_df Before imputation : 121'"
      ]
     },
     "metadata": {},
     "output_type": "display_data"
    },
    {
     "data": {
      "text/plain": [
       "' test_df Before imputation : 235'"
      ]
     },
     "metadata": {},
     "output_type": "display_data"
    },
    {
     "data": {
      "text/plain": [
       "' train_df After imputation : 387'"
      ]
     },
     "metadata": {},
     "output_type": "display_data"
    },
    {
     "data": {
      "text/plain": [
       "' val_df After imputation : 100'"
      ]
     },
     "metadata": {},
     "output_type": "display_data"
    },
    {
     "data": {
      "text/plain": [
       "' test_df After imputation : 188'"
      ]
     },
     "metadata": {},
     "output_type": "display_data"
    }
   ],
   "source": [
    "engine_impute = ModelMakeImputer(column_a=\"model_make\", column_b=\"engine_cap\")\n",
    "\n",
    "display(f' train_df Before imputation {variable} : {train_df[variable].isna().sum()}')\n",
    "display(f' val_df Before imputation : {val_df[variable].isna().sum()}')\n",
    "display(f' test_df Before imputation : {test_df[variable].isna().sum()}')\n",
    "\n",
    "train_df = engine_impute.fit_transform(train_df) # 384 rows missing\n",
    "val_df = engine_impute.transform(val_df) # 97 rows missing\n",
    "test_df = engine_impute.transform(test_df) # 186 rows missing\n",
    "\n",
    "display(f' train_df After imputation : {train_df[variable].isna().sum()}')\n",
    "display(f' val_df After imputation : {val_df[variable].isna().sum()}')\n",
    "display(f' test_df After imputation : {test_df[variable].isna().sum()}')"
   ]
  },
  {
   "cell_type": "code",
   "execution_count": 27,
   "id": "f22d553c",
   "metadata": {},
   "outputs": [],
   "source": [
    "# Many rows are missing, impute using median values\n",
    "imputer = SimpleImputer(strategy='median')\n",
    "train_df['engine_cap'] = imputer.fit_transform(train_df[['engine_cap']])\n",
    "val_df['engine_cap'] = imputer.transform(val_df[['engine_cap']])\n",
    "test_df['engine_cap'] = imputer.transform(test_df[['engine_cap']])"
   ]
  },
  {
   "cell_type": "markdown",
   "id": "38810de4-7064-4737-8000-1f5f29379587",
   "metadata": {},
   "source": [
    "### no_of_owners"
   ]
  },
  {
   "cell_type": "code",
   "execution_count": 28,
   "id": "0ebc8bf6",
   "metadata": {},
   "outputs": [
    {
     "data": {
      "text/plain": [
       "' Before imputation : 11'"
      ]
     },
     "metadata": {},
     "output_type": "display_data"
    },
    {
     "name": "stdout",
     "output_type": "stream",
     "text": [
      "19989\n",
      "[Number of months per owner]  ->  [mean = 49.10992045625093, median = 41.666666666666664, mode = 29.0]\n"
     ]
    },
    {
     "data": {
      "text/plain": [
       "' After imputation : 0'"
      ]
     },
     "metadata": {},
     "output_type": "display_data"
    }
   ],
   "source": [
    "## New method\n",
    "display(f' Before imputation : {train_df[\"no_of_owners\"].isna().sum()}')\n",
    "\n",
    "owner_impute = OwnerImputer()\n",
    "\n",
    "train_df = owner_impute.fit_transform(df=train_df)\n",
    "val_df = owner_impute.transform(val_df)\n",
    "test_df = owner_impute.transform(test_df)\n",
    "display(f' After imputation : {train_df[\"no_of_owners\"].isna().sum()}')"
   ]
  },
  {
   "cell_type": "markdown",
   "id": "41f7547f-25b1-4122-bdc5-92606380738e",
   "metadata": {},
   "source": [
    "### depreciation "
   ]
  },
  {
   "cell_type": "code",
   "execution_count": 29,
   "id": "309447a7-8818-4242-9756-0e9d6360d022",
   "metadata": {},
   "outputs": [
    {
     "data": {
      "text/plain": [
       "' Before imputation : 400'"
      ]
     },
     "metadata": {},
     "output_type": "display_data"
    },
    {
     "data": {
      "text/plain": [
       "' After imputation : 0'"
      ]
     },
     "metadata": {},
     "output_type": "display_data"
    }
   ],
   "source": [
    "# Imputation using make, model and car age - Dependency on 'car_age'\n",
    "display(f' Before imputation : {train_df[\"depreciation\"].isna().sum()}')\n",
    "\n",
    "depreciation_imputer = DepreciationImputer()\n",
    "train_df = depreciation_imputer.fit_transform(train_df) # 96 empty records\n",
    "val_df = depreciation_imputer.transform(val_df) # 9 empty records\n",
    "test_df = depreciation_imputer.transform(test_df) # 9 empty records\n",
    "\n",
    "# Median imputation for remaining records\n",
    "imputer = SimpleImputer(strategy='median')\n",
    "train_df['depreciation'] = imputer.fit_transform(train_df[['depreciation']])\n",
    "val_df['depreciation'] = imputer.transform(val_df[['depreciation']])\n",
    "test_df['depreciation'] = imputer.transform(test_df[['depreciation']])\n",
    "display(f' After imputation : {train_df[\"depreciation\"].isna().sum()}')"
   ]
  },
  {
   "cell_type": "markdown",
   "id": "e26a98a9",
   "metadata": {},
   "source": [
    "### Transmission"
   ]
  },
  {
   "cell_type": "code",
   "execution_count": 30,
   "id": "e043c72a",
   "metadata": {},
   "outputs": [],
   "source": [
    "# Transmission\n",
    "\n",
    "# One-hot (Binary) encoding\n",
    "encoder = OneHotEncoder(sparse_output=False, drop='first')\n",
    "train_df['transmission'] = encoder.fit_transform(train_df[['transmission']])\n",
    "val_df['transmission'] = encoder.transform(val_df[['transmission']])\n",
    "test_df['transmission'] = encoder.transform(test_df[['transmission']])"
   ]
  },
  {
   "cell_type": "markdown",
   "id": "ad910b8a-c00d-4e9b-950a-fe8a741f2185",
   "metadata": {},
   "source": [
    "### mileage   \n",
    "\n",
    "display(f' Before imputation : {train_df[\"mileage\"].isna().sum()}')\n",
    "\n",
    "**New method**\n",
    "\n",
    "mileage_impute = mileageImputer()\n",
    "\n",
    "train_df = mileage_impute.fit_transform(df=train_df)\n",
    "val_df = mileage_impute.transform(val_df)\n",
    "test_df = mileage_impute.transform(test_df)\n",
    "\n",
    "display(f' After imputation : {train_df[\"mileage\"].isna().sum()}')"
   ]
  },
  {
   "cell_type": "code",
   "execution_count": 31,
   "id": "ca9a5b1e",
   "metadata": {},
   "outputs": [
    {
     "data": {
      "text/plain": [
       "' Before imputation : 4248'"
      ]
     },
     "metadata": {},
     "output_type": "display_data"
    },
    {
     "name": "stdout",
     "output_type": "stream",
     "text": [
      "[truck] Miles per month -> Mean: 1242.742344383137, Median: 1203.2085561497327, Mode: 1333.3333333333333\n",
      "[hatchback] Miles per month -> Mean: 1006.5215831417896, Median: 975.3488372093024, Mode: 1000.0\n",
      "[mpv] Miles per month -> Mean: 1073.4920093529756, Median: 1043.0571004820172, Mode: 1000.0\n",
      "[mid-sized sedan] Miles per month -> Mean: 1026.9308040735339, Median: 986.0157967032967, Mode: 1000.0\n",
      "[sports car] Miles per month -> Mean: 670.7384825609863, Median: 678.6335403726708, Mode: 1000.0\n",
      "[luxury sedan] Miles per month -> Mean: 1012.465942419823, Median: 983.3930222782682, Mode: 1000.0\n",
      "[suv] Miles per month -> Mean: 1038.3494371542276, Median: 1011.9047619047619, Mode: 1000.0\n",
      "[stationwagon] Miles per month -> Mean: 1054.6408446444134, Median: 1033.3333333333333, Mode: 615.3846153846154\n",
      "[van] Miles per month -> Mean: 1140.9854559521784, Median: 1157.0269832703725, Mode: 0.07692307692307693\n",
      "[bus/mini bus] Miles per month -> Mean: 1307.551701516869, Median: 1223.888888888889, Mode: 2.6666666666666665\n",
      "[others] Miles per month -> Mean: 2082.3393084125582, Median: 150.49862195682132, Mode: 50.10942760942761\n"
     ]
    },
    {
     "data": {
      "text/plain": [
       "' After imputation : 0'"
      ]
     },
     "metadata": {},
     "output_type": "display_data"
    }
   ],
   "source": [
    "display(f' Before imputation : {train_df[\"mileage\"].isna().sum()}')\n",
    "## New method\n",
    "\n",
    "mileage_impute = mileageImputerByType()\n",
    "\n",
    "train_df = mileage_impute.fit_transform(df=train_df)\n",
    "val_df = mileage_impute.transform(val_df)\n",
    "test_df = mileage_impute.transform(test_df)\n",
    "\n",
    "display(f' After imputation : {train_df[\"mileage\"].isna().sum()}')"
   ]
  },
  {
   "cell_type": "markdown",
   "id": "7ffe3971-8ace-4178-b070-37cad3e59022",
   "metadata": {},
   "source": [
    "### omv "
   ]
  },
  {
   "cell_type": "code",
   "execution_count": 32,
   "id": "027ac5fb-c31a-43aa-9832-f4f642c7231e",
   "metadata": {},
   "outputs": [],
   "source": [
    "csv_filename = r'./dataset/lta_omv_data.csv'\n",
    "\n",
    "if os.path.exists(csv_filename):\n",
    "    df_lta_car_data = pd.read_csv(csv_filename)\n",
    "else:\n",
    "    result_ls = get_lta_omv_data(2002, 2025)\n",
    "    df_lta_car_data = preprocess_lta_omv_data(result_ls)\n",
    "    df_lta_car_data.to_csv(csv_filename)\n",
    "\n",
    "lta_data_imputer = LTADataImputer(df_lta_car_data)\n",
    "\n",
    "train_df = lta_data_imputer.transform(train_df) # before transform: 49 rows missing, after transform: 24 rows missing\n",
    "val_df = lta_data_imputer.transform(val_df) # before transform: 15 rows missing, after transform: 9 rows missing\n",
    "test_df = lta_data_imputer.transform(test_df) \n",
    "\n",
    "imputer = SimpleImputer(strategy='median')\n",
    "train_df['omv'] = imputer.fit_transform(train_df[['omv']])\n",
    "val_df['omv'] = imputer.transform(val_df[['omv']])\n",
    "test_df['omv'] = imputer.transform(test_df[['omv']])"
   ]
  },
  {
   "cell_type": "markdown",
   "id": "be7fa708",
   "metadata": {},
   "source": [
    "### COE (Outlier Removal)"
   ]
  },
  {
   "cell_type": "code",
   "execution_count": 33,
   "id": "1d2f450a",
   "metadata": {},
   "outputs": [],
   "source": [
    "# COE\n",
    "\n",
    "# Cap Outliers - Dependency on 'engine_cap' and 'type_of_vehicle'\n",
    "train_df = cap_coe_outliers(train_df)\n",
    "val_df = cap_coe_outliers(val_df)\n",
    "test_df = cap_coe_outliers(test_df)"
   ]
  },
  {
   "cell_type": "markdown",
   "id": "8e47c7e0",
   "metadata": {},
   "source": [
    "### Fuel Type (To be edited)"
   ]
  },
  {
   "cell_type": "code",
   "execution_count": 34,
   "id": "163a63b4",
   "metadata": {},
   "outputs": [
    {
     "name": "stdout",
     "output_type": "stream",
     "text": [
      "Original Imputation Nan 15339\n",
      "After Imputation Nan 14397\n",
      "Original Imputation Nan 3782\n",
      "After Imputation Nan 3559\n",
      "Original Imputation Nan 7650\n",
      "After Imputation Nan 7192\n"
     ]
    }
   ],
   "source": [
    "train_df = get_fuel_type(train_df)\n",
    "val_df = get_fuel_type(val_df)\n",
    "test_df = get_fuel_type(test_df)"
   ]
  },
  {
   "cell_type": "code",
   "execution_count": 35,
   "id": "3898a8b9",
   "metadata": {},
   "outputs": [
    {
     "data": {
      "text/plain": [
       "' train_df Before imputation fuel_type : 14397'"
      ]
     },
     "metadata": {},
     "output_type": "display_data"
    },
    {
     "data": {
      "text/plain": [
       "' val_df Before imputation : 3559'"
      ]
     },
     "metadata": {},
     "output_type": "display_data"
    },
    {
     "data": {
      "text/plain": [
       "' test_df Before imputation : 7192'"
      ]
     },
     "metadata": {},
     "output_type": "display_data"
    },
    {
     "data": {
      "text/plain": [
       "' train_df After imputation : 5450'"
      ]
     },
     "metadata": {},
     "output_type": "display_data"
    },
    {
     "data": {
      "text/plain": [
       "' val_df After imputation : 1335'"
      ]
     },
     "metadata": {},
     "output_type": "display_data"
    },
    {
     "data": {
      "text/plain": [
       "' test_df After imputation : 2616'"
      ]
     },
     "metadata": {},
     "output_type": "display_data"
    }
   ],
   "source": [
    "train_pkl_dir_path = \"./dataset/proc_scraped_new_car_info.pkl\"\n",
    "test_pkl_dir_path = \"./dataset/test_proc_scraped_new_car_info.pkl\"\n",
    "variable = \"fuel_type\"\n",
    "\n",
    "display(f' train_df Before imputation {variable} : {train_df[variable].isna().sum()}')\n",
    "display(f' val_df Before imputation : {val_df[variable].isna().sum()}')\n",
    "display(f' test_df Before imputation : {test_df[variable].isna().sum()}')\n",
    "\n",
    "train_df.loc[:,variable] = sgcarmart_imputer.impute_val(df=train_df,variable=variable,df_type=\"train\")\n",
    "val_df.loc[:,variable]  = sgcarmart_imputer.impute_val(df=val_df,variable=variable,df_type=\"train\")\n",
    "test_df.loc[:,variable]  = sgcarmart_imputer.impute_val(df=test_df,variable=variable,df_type=\"test\")\n",
    "\n",
    "display(f' train_df After imputation : {train_df[variable].isna().sum()}')\n",
    "display(f' val_df After imputation : {val_df[variable].isna().sum()}')\n",
    "display(f' test_df After imputation : {test_df[variable].isna().sum()}')"
   ]
  },
  {
   "cell_type": "code",
   "execution_count": 36,
   "id": "6aa43846-d6b3-4166-b37f-596de3ea7b1a",
   "metadata": {},
   "outputs": [],
   "source": [
    "# train_df.columns"
   ]
  },
  {
   "cell_type": "code",
   "execution_count": 37,
   "id": "d31fe1bb",
   "metadata": {},
   "outputs": [],
   "source": [
    "## Label Encoder\n",
    "features = ['type_of_vehicle_bus/mini bus',\n",
    "       'type_of_vehicle_hatchback', 'type_of_vehicle_luxury sedan',\n",
    "       'type_of_vehicle_mid-sized sedan', 'type_of_vehicle_mpv',\n",
    "       'type_of_vehicle_others', 'type_of_vehicle_sports car',\n",
    "       'type_of_vehicle_stationwagon', 'type_of_vehicle_suv',\n",
    "       'type_of_vehicle_truck', 'type_of_vehicle_van', 'power','engine_cap','fuel_type_diesel',\n",
    "       'fuel_type_diesel-electric', 'fuel_type_electric', 'fuel_type_petrol',\n",
    "       'fuel_type_petrol-electric', 'fuel_type_nan']\n",
    "\n",
    "variable = \"fuel_type\"\n",
    "train_df , fuel_type_encoder = onehot_fit_transform(train_df, column_name=variable)\n",
    "val_df = onehot_type_fit(val_df, fuel_type_encoder, column_name=variable)\n",
    "test_df = onehot_type_fit(test_df, fuel_type_encoder, column_name=variable)\n",
    "\n",
    "# # Step 2: Use KNNImputer on the One-Hot Encoded Data\n",
    "# imputer = KNNImputer(n_neighbors=3)\n",
    "# imputed_data = imputer.fit_transform(train_df[features])\n",
    "# imputed_data_val = imputer.fit(val_df[features])\n",
    "# imputed_data_test = imputer.fit(test_df[features])\n",
    "\n",
    "# train_imputed_df = pd.DataFrame(imputed_data, columns=features)\n",
    "# val_imputed_df = pd.DataFrame(imputed_data_val, columns=features)\n",
    "# test_imputed_df = pd.DataFrame(imputed_data_test, columns=features)\n",
    "\n",
    "# # Reverse the one-hot encoding\n",
    "# reversed_data_train = encoder.inverse_transform(train_imputed_df)\n",
    "# reversed_data_val  = encoder.inverse_transform(val_imputed_df)\n",
    "# reversed_data_test = encoder.inverse_transform(test_imputed_df)\n",
    "\n",
    "# # Convert back to original DataFrame format\n",
    "# train_df = pd.DataFrame(reversed_data_train, columns=data.columns)\n",
    "# val_df = pd.DataFrame(reversed_data_val, columns=data.columns)\n",
    "# test_df = pd.DataFrame(reversed_data_test, columns=data.columns)"
   ]
  },
  {
   "cell_type": "code",
   "execution_count": 38,
   "id": "c84481df",
   "metadata": {},
   "outputs": [],
   "source": [
    "imputer = KNNImputer(n_neighbors=3)\n",
    "imputed_data = imputer.fit_transform(train_df[features])\n",
    "imputed_data_val = imputer.fit(val_df[features])\n",
    "imputed_data_test = imputer.fit(test_df[features])"
   ]
  },
  {
   "cell_type": "code",
   "execution_count": 39,
   "id": "0e7f3a11",
   "metadata": {},
   "outputs": [
    {
     "data": {
      "text/plain": [
       "type_of_vehicle_bus/mini bus          0.0\n",
       "type_of_vehicle_hatchback             0.0\n",
       "type_of_vehicle_luxury sedan          0.0\n",
       "type_of_vehicle_mid-sized sedan       0.0\n",
       "type_of_vehicle_mpv                   0.0\n",
       "type_of_vehicle_others                0.0\n",
       "type_of_vehicle_sports car            0.0\n",
       "type_of_vehicle_stationwagon          0.0\n",
       "type_of_vehicle_suv                   0.0\n",
       "type_of_vehicle_truck                 1.0\n",
       "type_of_vehicle_van                   0.0\n",
       "power                               110.0\n",
       "engine_cap                         2999.0\n",
       "fuel_type_diesel                      1.0\n",
       "fuel_type_diesel-electric             0.0\n",
       "fuel_type_electric                    0.0\n",
       "fuel_type_petrol                      0.0\n",
       "fuel_type_petrol-electric             0.0\n",
       "fuel_type_nan                         0.0\n",
       "Name: 0, dtype: float64"
      ]
     },
     "execution_count": 39,
     "metadata": {},
     "output_type": "execute_result"
    }
   ],
   "source": [
    "train_df[features].iloc[0]\n"
   ]
  },
  {
   "cell_type": "code",
   "execution_count": 40,
   "id": "df0eb713",
   "metadata": {},
   "outputs": [
    {
     "data": {
      "text/plain": [
       "(20000, 19)"
      ]
     },
     "execution_count": 40,
     "metadata": {},
     "output_type": "execute_result"
    }
   ],
   "source": [
    "imputed_data.shape"
   ]
  },
  {
   "cell_type": "code",
   "execution_count": 41,
   "id": "342c2d55",
   "metadata": {},
   "outputs": [],
   "source": [
    "# train_imputed_df = pd.DataFrame(imputed_data, columns=features)\n",
    "# val_imputed_df = pd.DataFrame(imputed_data_val, columns=features)\n",
    "# test_imputed_df = pd.DataFrame(imputed_data_test, columns=features)"
   ]
  },
  {
   "cell_type": "markdown",
   "id": "5ce61c40",
   "metadata": {},
   "source": [
    "### Cylinder Count"
   ]
  },
  {
   "cell_type": "code",
   "execution_count": 42,
   "id": "25c7636a",
   "metadata": {},
   "outputs": [],
   "source": [
    "cylinder_count_extractor = CylinderExtractor()\n",
    "\n",
    "train_df = cylinder_count_extractor.transform(train_df)\n",
    "val_df = cylinder_count_extractor.transform(val_df) \n",
    "test_df = cylinder_count_extractor.transform(test_df) "
   ]
  },
  {
   "cell_type": "code",
   "execution_count": 43,
   "id": "5de7c21b",
   "metadata": {},
   "outputs": [],
   "source": [
    "cylinder_imputer = CylinderImputer()\n",
    "train_df = cylinder_imputer.fit_transform(train_df) # 1479 rows missing\n",
    "val_df = cylinder_imputer.transform(val_df) # 334 rows missing\n",
    "test_df = cylinder_imputer.transform(test_df)\n",
    "\n",
    "# Many rows are missing, impute using median values\n",
    "imputer = SimpleImputer(strategy='median')\n",
    "train_df['cylinder_cnt'] = imputer.fit_transform(train_df[['cylinder_cnt']])\n",
    "val_df['cylinder_cnt'] = imputer.transform(val_df[['cylinder_cnt']])\n",
    "test_df['cylinder_cnt'] = imputer.transform(test_df[['cylinder_cnt']])"
   ]
  },
  {
   "cell_type": "markdown",
   "id": "b4fa35a4",
   "metadata": {},
   "source": [
    "### Category Parser"
   ]
  },
  {
   "cell_type": "code",
   "execution_count": 44,
   "id": "3a5bcb64",
   "metadata": {},
   "outputs": [],
   "source": [
    "category_parser = CategoryParser()\n",
    "train_df = category_parser.fit_transform(train_df) \n",
    "val_df = category_parser.transform(val_df) \n",
    "test_df = category_parser.transform(test_df) "
   ]
  },
  {
   "cell_type": "markdown",
   "id": "d9b5cdda",
   "metadata": {},
   "source": [
    "### CO2 Emission Data"
   ]
  },
  {
   "cell_type": "code",
   "execution_count": 45,
   "id": "8db7fb34",
   "metadata": {},
   "outputs": [],
   "source": [
    "train_csv_dir_path = \"./dataset/train_data_scrapped_co2_emission.csv\"\n",
    "test_csv_dir_path = \"./dataset/test_data_scrapped_co2_emission.csv\"\n",
    "emission_imputer = EmissionImputer(train_csv_dir=train_csv_dir_path, test_csv_dir=test_csv_dir_path)\n",
    "\n",
    "train_df = emission_imputer.impute_values(df=train_df,df_type=\"train\")\n",
    "val_df = emission_imputer.impute_values(df=val_df,df_type=\"train\")\n",
    "test_df = emission_imputer.impute_values(df=test_df,df_type=\"test\")"
   ]
  },
  {
   "cell_type": "code",
   "execution_count": 46,
   "id": "81d4d87b",
   "metadata": {},
   "outputs": [],
   "source": [
    "# Many rows are missing, impute using median values\n",
    "imputer = SimpleImputer(strategy='median')\n",
    "train_df['emission_data'] = imputer.fit_transform(train_df[['emission_data']])\n",
    "val_df['emission_data'] = imputer.transform(val_df[['emission_data']])\n",
    "test_df['emission_data'] = imputer.transform(test_df[['emission_data']])"
   ]
  },
  {
   "cell_type": "markdown",
   "id": "92814324",
   "metadata": {},
   "source": [
    "### Optional Save Checkpoint 1"
   ]
  },
  {
   "cell_type": "code",
   "execution_count": 47,
   "id": "70c7498e",
   "metadata": {},
   "outputs": [],
   "source": [
    "name=\"wo_simple_imputer_with_outlier_removed\"\n",
    "## Saving dataset\n",
    "train_df.to_csv(f\"./processed_dataset/train_{name}.csv\", index=False)\n",
    "val_df.to_csv(f\"./processed_dataset/val_{name}.csv\", index=False)\n",
    "test_df.to_csv(f\"./processed_dataset/test_{name}.csv\", index=False)"
   ]
  },
  {
   "cell_type": "markdown",
   "id": "e2a0f1e6",
   "metadata": {},
   "source": [
    "## KNN ALL"
   ]
  },
  {
   "cell_type": "markdown",
   "id": "dbb1c94b-9185-4e3b-8104-89f9a3d5aad8",
   "metadata": {},
   "source": [
    "### ARF"
   ]
  },
  {
   "cell_type": "code",
   "execution_count": 48,
   "id": "3152e583-eae9-4594-9135-3ee2abbd85c0",
   "metadata": {},
   "outputs": [
    {
     "data": {
      "text/plain": [
       "' Before imputation : 141'"
      ]
     },
     "metadata": {},
     "output_type": "display_data"
    },
    {
     "data": {
      "text/plain": [
       "' After imputation : 0'"
      ]
     },
     "metadata": {},
     "output_type": "display_data"
    }
   ],
   "source": [
    "# Select features relevant for imputation\n",
    "features = ['manufactured', 'reg_date_year', 'omv', 'arf', 'type_of_vehicle_bus/mini bus',\n",
    "       'type_of_vehicle_hatchback', 'type_of_vehicle_luxury sedan',\n",
    "       'type_of_vehicle_mid-sized sedan', 'type_of_vehicle_mpv',\n",
    "       'type_of_vehicle_others', 'type_of_vehicle_sports car',\n",
    "       'type_of_vehicle_stationwagon', 'type_of_vehicle_suv',\n",
    "       'type_of_vehicle_truck', 'type_of_vehicle_van',]\n",
    "\n",
    "display(f' Before imputation : {train_df[\"arf\"].isna().sum()}')\n",
    "arf_knn_imputer = GenericKNNImputer(feature=features, neighbours=5, imputed_feature=\"arf\")\n",
    "\n",
    "train_df['arf'] = arf_knn_imputer.fit_transform(train_df)\n",
    "val_df['arf'] = arf_knn_imputer.transform(val_df)\n",
    "test_df['arf'] = arf_knn_imputer.transform(test_df)\n",
    "\n",
    "display(f' After imputation : {train_df[\"arf\"].isna().sum()}')"
   ]
  },
  {
   "cell_type": "markdown",
   "id": "08444420-f0ac-48f2-9c32-e7a4fea62c0d",
   "metadata": {},
   "source": [
    "### Dereg Value"
   ]
  },
  {
   "cell_type": "code",
   "execution_count": 49,
   "id": "a180cd01-4528-467e-8f0a-d98f2fb746a4",
   "metadata": {
    "scrolled": true
   },
   "outputs": [
    {
     "data": {
      "text/plain": [
       "Index(['listing_id', 'title', 'make', 'model', 'description', 'manufactured',\n",
       "       'original_reg_date', 'reg_date', 'type_of_vehicle', 'category',\n",
       "       'transmission', 'curb_weight', 'power', 'fuel_type', 'engine_cap',\n",
       "       'no_of_owners', 'depreciation', 'coe', 'road_tax', 'dereg_value',\n",
       "       'mileage', 'omv', 'arf', 'opc_scheme', 'lifespan', 'eco_category',\n",
       "       'features', 'accessories', 'indicative_price', 'price', 'reg_date_dt',\n",
       "       'reg_date_year', 'reg_date_month', 'model_make', 'coe_age_left',\n",
       "       'age_range', 'car_age', 'type_of_vehicle_bus/mini bus',\n",
       "       'type_of_vehicle_hatchback', 'type_of_vehicle_luxury sedan',\n",
       "       'type_of_vehicle_mid-sized sedan', 'type_of_vehicle_mpv',\n",
       "       'type_of_vehicle_others', 'type_of_vehicle_sports car',\n",
       "       'type_of_vehicle_stationwagon', 'type_of_vehicle_suv',\n",
       "       'type_of_vehicle_truck', 'type_of_vehicle_van', 'fuel_type_diesel',\n",
       "       'fuel_type_diesel-electric', 'fuel_type_electric', 'fuel_type_petrol',\n",
       "       'fuel_type_petrol-electric', 'fuel_type_nan', 'cylinder_cnt', '-',\n",
       "       'almost new car', 'coe car', 'consignment car', 'direct owner sale',\n",
       "       'electric cars', 'hybrid cars', 'imported used vehicle',\n",
       "       'low mileage car', 'opc car', 'parf car', 'premium ad car',\n",
       "       'rare & exotic', 'sgcarmart warranty cars', 'sta evaluated car',\n",
       "       'vintage cars', 'emission_data'],\n",
       "      dtype='object')"
      ]
     },
     "execution_count": 49,
     "metadata": {},
     "output_type": "execute_result"
    }
   ],
   "source": [
    "train_df.columns"
   ]
  },
  {
   "cell_type": "code",
   "execution_count": 50,
   "id": "c9ca2e9f-cfb7-45d0-ae9d-f332b64edee6",
   "metadata": {},
   "outputs": [
    {
     "data": {
      "text/plain": [
       "' Before imputation : 185'"
      ]
     },
     "metadata": {},
     "output_type": "display_data"
    },
    {
     "data": {
      "text/plain": [
       "' After imputation : 0'"
      ]
     },
     "metadata": {},
     "output_type": "display_data"
    }
   ],
   "source": [
    "# Select features relevant for imputation\n",
    "# features = ['coe_age_left', 'coe', 'dereg_value']\n",
    "features = ['coe_age_left', 'coe', 'dereg_value', 'car_age', 'arf']\n",
    "\n",
    "\n",
    "display(f' Before imputation : {train_df[\"dereg_value\"].isna().sum()}')\n",
    "dereg_value_knn_imputer = GenericKNNImputer(feature=features, neighbours=5, imputed_feature=\"dereg_value\")\n",
    "\n",
    "train_df['dereg_value'] = dereg_value_knn_imputer.fit_transform(train_df)\n",
    "val_df['dereg_value'] = dereg_value_knn_imputer.transform(val_df)\n",
    "test_df['dereg_value'] = dereg_value_knn_imputer.transform(test_df)\n",
    "\n",
    "display(f' After imputation : {train_df[\"dereg_value\"].isna().sum()}')"
   ]
  },
  {
   "cell_type": "markdown",
   "id": "ab75036e-25ba-4cc5-846c-cd19c3fccdc5",
   "metadata": {},
   "source": [
    "### Road Tax"
   ]
  },
  {
   "cell_type": "code",
   "execution_count": 51,
   "id": "56cc069c-7fbc-4f1b-b147-d657426c42ba",
   "metadata": {},
   "outputs": [
    {
     "data": {
      "text/plain": [
       "' Before imputation : 2098'"
      ]
     },
     "metadata": {},
     "output_type": "display_data"
    },
    {
     "data": {
      "text/plain": [
       "' After imputation : 0'"
      ]
     },
     "metadata": {},
     "output_type": "display_data"
    }
   ],
   "source": [
    "features = ['manufactured',\"power\", \"car_age\",\"engine_cap\",'reg_date_year', 'omv', 'arf', \"road_tax\",\n",
    "        'type_of_vehicle_bus/mini bus',\n",
    "       'type_of_vehicle_hatchback', 'type_of_vehicle_luxury sedan',\n",
    "       'type_of_vehicle_mid-sized sedan', 'type_of_vehicle_mpv',\n",
    "       'type_of_vehicle_others', 'type_of_vehicle_sports car',\n",
    "       'type_of_vehicle_stationwagon', 'type_of_vehicle_suv',\n",
    "       'type_of_vehicle_truck', 'type_of_vehicle_van',]\n",
    "\n",
    "display(f' Before imputation : {train_df[\"road_tax\"].isna().sum()}')\n",
    "road_tax_knn_imputer = GenericKNNImputer(feature=features, neighbours=5, imputed_feature=\"road_tax\")\n",
    "\n",
    "train_df['road_tax'] = road_tax_knn_imputer.fit_transform(train_df)\n",
    "val_df['road_tax'] = road_tax_knn_imputer.transform(val_df)\n",
    "test_df['road_tax'] = road_tax_knn_imputer.transform(test_df)\n",
    "\n",
    "display(f' After imputation : {train_df[\"road_tax\"].isna().sum()}')"
   ]
  },
  {
   "cell_type": "code",
   "execution_count": 52,
   "id": "8e38cc5d-1ffb-4fcb-9132-5e8eb7963765",
   "metadata": {},
   "outputs": [],
   "source": [
    "# train_df = train_df.dropna(subset=['mileage'])\n",
    "# val_df = val_df.dropna(subset=['mileage'])"
   ]
  },
  {
   "cell_type": "code",
   "execution_count": 53,
   "id": "ce778a22",
   "metadata": {},
   "outputs": [],
   "source": [
    "impute_type = \"KNN\"\n",
    "impute_strategy = \"median\" # mean, median, most_frequent, constant, Callable \n",
    "impute_neighbours = 5\n",
    "random_state = 0\n",
    "impute_max_iter= 10\n",
    "\n",
    "\n",
    "impute_choice = {\n",
    "    \"simple\" : SimpleImputer(strategy=impute_strategy),\n",
    "    \"KNN\" : KNNImputer(n_neighbors=impute_neighbours)\n",
    "}\n",
    "\n",
    "imputer = impute_choice[impute_type]\n",
    "cols = retun_numeric_cols(train_df.drop(columns=[\"indicative_price\",\"price\"]))\n",
    "\n",
    "train_df[cols] = imputer.fit_transform(train_df[cols])\n",
    "val_df[cols] = imputer.transform(val_df[cols])\n",
    "test_df[cols] = imputer.transform(test_df[cols])"
   ]
  },
  {
   "cell_type": "markdown",
   "id": "92b05fd9",
   "metadata": {},
   "source": [
    "### Feature Transform"
   ]
  },
  {
   "cell_type": "code",
   "execution_count": 54,
   "id": "8ca2804d",
   "metadata": {},
   "outputs": [],
   "source": [
    "# features = ['curb_weight', 'power', 'cylinder_cnt', 'omv', 'emission_data' ,\\\n",
    "# 'engine_cap', 'depreciation', 'mileage', 'coe', 'car_age', 'manufactured']\n",
    "# for feature in features:\n",
    "#     ft = FeatureTransformer()\n",
    "#     ft.fit_transform(train_df[feature])\n",
    "#     train_df[feature] = ft.apply_best_transform(train_df[feature])\n",
    "#     val_df[feature] = ft.apply_best_transform(val_df[feature])\n",
    "#     test_df[feature] =ft.apply_best_transform(test_df[feature])\n"
   ]
  },
  {
   "cell_type": "code",
   "execution_count": 55,
   "id": "80e08096",
   "metadata": {},
   "outputs": [
    {
     "data": {
      "image/png": "[encoded data removed]",
      "text/plain": [
       "<Figure size 1500x1500 with 16 Axes>"
      ]
     },
     "metadata": {},
     "output_type": "display_data"
    }
   ],
   "source": [
    "# Sanity Check\n",
    "features = ['curb_weight', 'power', 'cylinder_cnt', 'omv', 'emission_data' ,\\\n",
    "'engine_cap', 'depreciation', 'mileage', 'coe', 'car_age', 'manufactured']\n",
    "\n",
    "# Create a 4x4 grid of subplots\n",
    "fig, axs = plt.subplots(4, 4, figsize=(15, 15))\n",
    "\n",
    "# Flatten the axes array for easier indexing\n",
    "axs = axs.flatten()\n",
    "\n",
    "# Iterate over the numeric columns and create distribution plots\n",
    "for i, column in enumerate(features):\n",
    "    sns.histplot(data=train_df, x=column, kde=True, ax=axs[i])\n",
    "    axs[i].set_title(f'Distribution of {column}', fontsize=12)\n",
    "    axs[i].set_xlabel(column)\n",
    "    axs[i].set_ylabel('Frequency')\n",
    "\n",
    "# Hide any unused subplots\n",
    "for j in range(len(features), len(axs)):\n",
    "    axs[j].axis('off')\n",
    "\n",
    "# Adjust layout\n",
    "plt.tight_layout()\n",
    "\n",
    "# Show the plot\n",
    "plt.show()"
   ]
  },
  {
   "cell_type": "markdown",
   "id": "0c28acc8",
   "metadata": {},
   "source": [
    "### Optional Save Checkpoint 2"
   ]
  },
  {
   "cell_type": "code",
   "execution_count": 56,
   "id": "2029da78",
   "metadata": {},
   "outputs": [],
   "source": [
    "name=\"w_outlier_simple_impute_no_FT_no_cond\"\n",
    "## Saving dataset\n",
    "train_df.to_csv(f\"./processed_dataset/train_{name}.csv\", index=False)\n",
    "val_df.to_csv(f\"./processed_dataset/val_{name}.csv\", index=False)\n",
    "test_df.to_csv(f\"./processed_dataset/test_{name}.csv\", index=False)"
   ]
  },
  {
   "cell_type": "code",
   "execution_count": null,
   "id": "00671c66",
   "metadata": {},
   "outputs": [],
   "source": [
    "num_cols = 5  # Number of columns for subplots\n",
    "features = ['curb_weight', 'power', 'cylinder_cnt', 'omv', 'engine_cap', 'depreciation', 'mileage', 'no_of_owners', 'coe', 'car_age', 'manufactured']\n",
    "\n",
    "for feature in features:\n",
    "    transformations = {}\n",
    "    transformations.update(apply_transformations(train_df[feature]))\n",
    "    \n",
    "    # Prepare plots\n",
    "    fig, axes = plt.subplots(1, num_cols, figsize=(20, 5), constrained_layout=True)\n",
    "    fig.suptitle(f'Transformation Comparison for Feature: {feature}', fontsize=16)\n",
    "\n",
    "    for idx, (transform_name, transformed_values) in enumerate(transformations.items()):\n",
    "        ax = axes[idx]\n",
    "        if transformed_values is not None:\n",
    "            plot_data = pd.DataFrame({\n",
    "                feature: transformed_values\n",
    "            })\n",
    "            \n",
    "            ax = axes[idx]\n",
    "            sns.histplot(data=plot_data, x=feature, bins=30, kde=True,\n",
    "                         element='step', ax=ax, alpha=0.7)\n",
    "            # Calculate skewness\n",
    "            skew_val = skew(transformed_values)\n",
    "            ax.set_title(f'{transform_name}\\nSkew: {skew_val:.2f}', fontsize=12)\n",
    "            ax.set_xlabel('Value')\n",
    "            ax.set_ylabel('Frequency')\n",
    "        else:\n",
    "            ax.set_visible(False)\n",
    "            ax.set_title(f'{transform_name} (Not Applicable)', fontsize=12)\n",
    "\n",
    "    plt.show()"
   ]
  },
  {
   "cell_type": "code",
   "execution_count": null,
   "id": "7e55f214",
   "metadata": {},
   "outputs": [],
   "source": []
  },
  {
   "cell_type": "markdown",
   "id": "ca8c0237",
   "metadata": {},
   "source": [
    "# Superceeded"
   ]
  },
  {
   "cell_type": "markdown",
   "id": "bdc668ec",
   "metadata": {},
   "source": [
    "## All KNN imputers are put at the back"
   ]
  },
  {
   "cell_type": "markdown",
   "id": "9bd9de7c",
   "metadata": {},
   "source": [
    "### ARF"
   ]
  },
  {
   "cell_type": "code",
   "execution_count": null,
   "id": "18d3bbe1",
   "metadata": {},
   "outputs": [],
   "source": [
    "# Select features relevant for imputation\n",
    "features = ['manufactured', 'reg_date_year', 'omv', 'arf', 'type_of_vehicle_bus/mini bus', 'type_of_vehicle_hatchback',\n",
    "       'type_of_vehicle_luxury sedan', 'type_of_vehicle_mid-sized sedan',\n",
    "       'type_of_vehicle_mpv', 'type_of_vehicle_others',\n",
    "       'type_of_vehicle_sports car', 'type_of_vehicle_stationwagon',\n",
    "       'type_of_vehicle_suv', 'type_of_vehicle_truck', 'type_of_vehicle_van']\n",
    "\n",
    "display(f' Before imputation : {train_df[\"arf\"].isna().sum()}')\n",
    "arf_knn_imputer = GenericKNNImputer(feature=features, neighbours=5, imputed_feature=\"arf\")\n",
    "\n",
    "train_df['arf'] = arf_knn_imputer.fit_transform(train_df)\n",
    "val_df['arf'] = arf_knn_imputer.transform(val_df)\n",
    "test_df['arf'] = arf_knn_imputer.transform(test_df)\n",
    "\n",
    "display(f' After imputation : {train_df[\"arf\"].isna().sum()}')"
   ]
  },
  {
   "cell_type": "markdown",
   "id": "6e8a845e",
   "metadata": {},
   "source": [
    "### Dereg Value"
   ]
  },
  {
   "cell_type": "code",
   "execution_count": null,
   "id": "133cb712",
   "metadata": {},
   "outputs": [],
   "source": [
    "# Select features relevant for imputation\n",
    "features = ['coe_age_left', 'coe', 'dereg_value']\n",
    "\n",
    "display(f' Before imputation : {train_df[\"dereg_value\"].isna().sum()}')\n",
    "dereg_value_knn_imputer = GenericKNNImputer(feature=features, neighbours=5, imputed_feature=\"dereg_value\")\n",
    "\n",
    "train_df['dereg_value'] = dereg_value_knn_imputer.fit_transform(train_df)\n",
    "val_df['dereg_value'] = dereg_value_knn_imputer.transform(val_df)\n",
    "test_df['dereg_value'] = dereg_value_knn_imputer.transform(test_df)\n",
    "\n",
    "display(f' After imputation : {train_df[\"dereg_value\"].isna().sum()}')"
   ]
  },
  {
   "cell_type": "markdown",
   "id": "38992a56",
   "metadata": {},
   "source": [
    "### Road Tax"
   ]
  },
  {
   "cell_type": "code",
   "execution_count": null,
   "id": "763bf784",
   "metadata": {},
   "outputs": [],
   "source": [
    "features = ['manufactured',\"power\", \"car_age\",\"engine_cap\",'reg_date_year', 'omv', 'arf', \"road_tax\",\n",
    "'type_of_vehicle_bus/mini bus', 'type_of_vehicle_hatchback', 'type_of_vehicle_luxury sedan',\n",
    " 'type_of_vehicle_mid-sized sedan','type_of_vehicle_mpv', \n",
    "       'type_of_vehicle_sports car', 'type_of_vehicle_stationwagon',\n",
    "       'type_of_vehicle_suv', 'type_of_vehicle_truck', 'type_of_vehicle_van']\n",
    "\n",
    "display(f' Before imputation : {train_df[\"road_tax\"].isna().sum()}')\n",
    "road_tax_knn_imputer = GenericKNNImputer(feature=features, neighbours=5, imputed_feature=\"road_tax\")\n",
    "\n",
    "train_df['road_tax'] = road_tax_knn_imputer.fit_transform(train_df)\n",
    "val_df['road_tax'] = road_tax_knn_imputer.transform(val_df)\n",
    "test_df['road_tax'] = road_tax_knn_imputer.transform(test_df)\n",
    "\n",
    "display(f' After imputation : {train_df[\"road_tax\"].isna().sum()}')"
   ]
  },
  {
   "cell_type": "code",
   "execution_count": null,
   "id": "5162269e",
   "metadata": {},
   "outputs": [],
   "source": [
    "## Saving dataset\n",
    "train_df.to_csv(\"./dataset/train_data_cleaned.csv\", index=False)\n",
    "val_df.to_csv(\"./dataset/val_data_cleaned.csv\", index=False)\n",
    "test_df.to_csv(\"./dataset/test_data_cleaned.csv\", index=False)"
   ]
  },
  {
   "cell_type": "markdown",
   "id": "48694da0-c052-4e01-9b9b-86132f62898c",
   "metadata": {},
   "source": [
    "### features "
   ]
  },
  {
   "cell_type": "markdown",
   "id": "6650db78-6564-492a-884b-c92dd8cba461",
   "metadata": {},
   "source": [
    "## Training models"
   ]
  },
  {
   "cell_type": "code",
   "execution_count": null,
   "id": "3b33a4c2",
   "metadata": {},
   "outputs": [],
   "source": [
    "train_df.columns"
   ]
  },
  {
   "cell_type": "code",
   "execution_count": null,
   "id": "51f3b689-2d2b-43b4-98e4-f6c2ea8670f6",
   "metadata": {},
   "outputs": [],
   "source": [
    "# display(HTML(train_df.head(50).to_html()))\n",
    "# 'dereg_value', 'car_age', 'depreciation', 'arf','coe', 'road_tax',\n",
    "features = ['transmission', 'curb_weight', 'power', 'engine_cap','no_of_owners', 'depreciation',\n",
    " 'coe', 'road_tax', 'dereg_value','mileage', 'omv', 'arf','car_age', 'type_of_vehicle_bus/mini bus',\n",
    "       'type_of_vehicle_hatchback', 'type_of_vehicle_luxury sedan',\n",
    "       'type_of_vehicle_mid-sized sedan', 'type_of_vehicle_mpv',\n",
    "       'type_of_vehicle_others', 'type_of_vehicle_sports car',\n",
    "       'type_of_vehicle_stationwagon', 'type_of_vehicle_suv',\n",
    "       'type_of_vehicle_truck', 'type_of_vehicle_van','coe car', 'parf car', 'rare & exotic', 'emission_data']\n",
    "\n",
    "train_df[features].isna().sum()"
   ]
  },
  {
   "cell_type": "code",
   "execution_count": null,
   "id": "a773043d",
   "metadata": {},
   "outputs": [],
   "source": [
    "# Scale dataset\n",
    "scaler = MinMaxScaler()\n",
    "imputer = SimpleImputer(strategy='median')\n",
    "\n",
    "imputer.fit(train_df[features])\n",
    "\n",
    "# Split data into training and test sets\n",
    "train_df[features] = imputer.transform(train_df[features])\n",
    "val_df[features] = imputer.transform(val_df[features])\n",
    "test_df[features] = imputer.transform(test_df[features])\n",
    "\n",
    "# Fit and transform the numerical columns\n",
    "train_df[features] = scaler.fit_transform(train_df[features])\n",
    "val_df[features] = scaler.transform(val_df[features])\n",
    "test_df[features] = scaler.transform(test_df[features])"
   ]
  },
  {
   "cell_type": "code",
   "execution_count": null,
   "id": "4e41c3d5",
   "metadata": {},
   "outputs": [],
   "source": [
    "X_train = train_df[features]\n",
    "y_train = train_df['price']\n",
    "\n",
    "X_val = val_df[features]\n",
    "y_val = val_df['price']"
   ]
  },
  {
   "cell_type": "code",
   "execution_count": null,
   "id": "934fce46-011d-468f-a05c-f0357ab19fb1",
   "metadata": {},
   "outputs": [],
   "source": [
    "# 2. Initialize the Regression class\n",
    "regressor = Regression()\n",
    "\n",
    "# 3. Define parameters for hyperparameter tuning\n",
    "params = {\n",
    "    'n_estimators': np.arange(200,500,50),\n",
    "    'max_depth': np.arange(2,10,2),\n",
    "    'min_samples_split': np.arange(10 ,60,10),\n",
    "}\n",
    "\n",
    "\n",
    "# Example for Random Forest with accuracy scoring and KFold validation\n",
    "tuner, best_params, tuner_results = regressor.hyperparameter_tuning(\n",
    "    df_tuple=(X_train, y_train),   # The training data (X, y)\n",
    "    score_metric='neg_root_mean_squared_error',       # Scoring metric\n",
    "    kfold_type='kfold',            # Type of fold (KFold used here)\n",
    "    n_splits=5,                    # Number of splits for KFold\n",
    "    params=params,                 # Hyperparameter grid to search\n",
    "    model_name='random_forest'      # Model to use (Random Forest in this case)\n",
    ")\n",
    "\n",
    "# 4. View the best hyperparameters and fit the model\n",
    "print(f\"Best Parameters: {best_params}\")\n",
    "\n",
    "# 5. Use the best model to predict on the test set\n",
    "best_model = tuner.best_estimator_\n"
   ]
  },
  {
   "cell_type": "code",
   "execution_count": null,
   "id": "3dce5935-39d5-401c-8c6c-e555f4dab5b1",
   "metadata": {},
   "outputs": [],
   "source": [
    "# Save model \n",
    "model_name = \"random_forest_with_all_imputes\"\n",
    "save_path = f\"./model_assets\"\n",
    "\n",
    "# Save the trained model\n",
    "joblib.dump(best_model, f\"{save_path}/{model_name}.joblib\")"
   ]
  },
  {
   "cell_type": "code",
   "execution_count": null,
   "id": "e91b19f1",
   "metadata": {},
   "outputs": [],
   "source": [
    "model_name = \"random_forest_with_all_imputes\"\n",
    "save_path = f\"./model_assets\"\n",
    "\n",
    "model = joblib.load(f\"{save_path}/{model_name}.joblib\")\n",
    "reg_evaluate = RegressionEvaluate(model_weight_path= save_path)\n",
    "reg_evaluate.mini_reg_evaluate(df_train_tuple=(X_train, y_train),\n",
    "                            df_valid_tuple=( X_val,y_val),model_name=model_name, save_path=save_path)"
   ]
  },
  {
   "cell_type": "code",
   "execution_count": null,
   "id": "75acb0f3",
   "metadata": {},
   "outputs": [],
   "source": [
    "model_name = \"random_forest_v4\"\n",
    "save_path = f\"./model_assets\"\n",
    "\n",
    "reg_evaluate = RegressionEvaluate(model_weight_path= save_path)\n",
    "reg_evaluate._plot_feature_immportance(model_name, features)"
   ]
  },
  {
   "cell_type": "code",
   "execution_count": null,
   "id": "57221656",
   "metadata": {},
   "outputs": [],
   "source": [
    "model_name = \"random_forest_v3\"\n",
    "save_path = f\"./model_assets\"\n",
    "\n",
    "reg_evaluate.mini_reg_evaluate(df_train_tuple=(X_train, y_train),\n",
    "df_valid_tuple=( X_val,y_val),model_name=model_name, save_path=save_path)"
   ]
  },
  {
   "cell_type": "code",
   "execution_count": null,
   "id": "4ca7c209",
   "metadata": {},
   "outputs": [],
   "source": [
    "## Retrain the model\n",
    "# Train + Valid (Retrain on the whole model)\n",
    "# best params\n",
    "# all data\n",
    "\n",
    "all_x = pd.concat([train_df[features],val_df[features]])\n",
    "all_y = pd.concat([train_df[\"price\"],val_df[\"price\"]])\n",
    "final_model = tuner.fit(X_train, y_train)\n"
   ]
  },
  {
   "cell_type": "code",
   "execution_count": null,
   "id": "2687a69e",
   "metadata": {},
   "outputs": [],
   "source": [
    "final_model.best_estimator_"
   ]
  },
  {
   "cell_type": "code",
   "execution_count": null,
   "id": "fa307c19-923d-4e97-9d12-4d5079fa8ff3",
   "metadata": {},
   "outputs": [],
   "source": [
    "model = joblib.load(f\"{save_path}/{model_name}.joblib\")\n",
    "X_test = _infer_type(test_df[features])\n",
    "y_test_pred = final_model.predict(X_test)\n",
    "submission = pd.DataFrame(y_test_pred).reset_index().rename(columns={\"index\":\"Id\", 0:\"Predicted\"})\n",
    "submission.to_csv(f\"submission/submission_{model_name}_.csv\")"
   ]
  },
  {
   "cell_type": "code",
   "execution_count": null,
   "id": "bb9ed458",
   "metadata": {},
   "outputs": [],
   "source": []
  }
 ],
 "metadata": {
  "kernelspec": {
   "display_name": "cs5228",
   "language": "python",
   "name": "cs5228"
  },
  "language_info": {
   "codemirror_mode": {
    "name": "ipython",
    "version": 3
   },
   "file_extension": ".py",
   "mimetype": "text/x-python",
   "name": "python",
   "nbconvert_exporter": "python",
   "pygments_lexer": "ipython3",
   "version": "3.10.14"
  }
 },
 "nbformat": 4,
 "nbformat_minor": 5
}
