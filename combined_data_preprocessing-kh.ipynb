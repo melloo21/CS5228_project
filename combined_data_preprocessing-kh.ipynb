{
 "cells": [
  {
   "cell_type": "code",
   "execution_count": 200,
   "id": "8c44143c-834f-49b2-a126-acffa14efa06",
   "metadata": {},
   "outputs": [
    {
     "name": "stdout",
     "output_type": "stream",
     "text": [
      "The autoreload extension is already loaded. To reload it, use:\n",
      "  %reload_ext autoreload\n"
     ]
    }
   ],
   "source": [
    "import os\n",
    "import time\n",
    "import joblib\n",
    "import numpy as np\n",
    "import pandas as pd\n",
    "import seaborn as sns\n",
    "import plotly.express as px\n",
    "import plotly.graph_objects as go\n",
    "from datetime import datetime\n",
    "\n",
    "from IPython.display import display, HTML\n",
    "from sklearn.impute import KNNImputer, SimpleImputer\n",
    "from sklearn.preprocessing import OneHotEncoder\n",
    "from sklearn.preprocessing import MultiLabelBinarizer\n",
    "from sklearn.model_selection import train_test_split\n",
    "\n",
    "from sklearn.preprocessing import MinMaxScaler\n",
    "from sklearn.metrics import mean_squared_error, r2_score\n",
    "\n",
    "%load_ext autoreload\n",
    "%autoreload 2\n",
    "\n",
    "import plotly.io as pio\n",
    "pio.renderers.default = 'iframe'"
   ]
  },
  {
   "cell_type": "code",
   "execution_count": 201,
   "id": "0b31d26f",
   "metadata": {},
   "outputs": [],
   "source": [
    "## Local Utils File\n",
    "from utils.eda import *\n",
    "from utils.road_tax import *\n",
    "from utils.kanhon_utils import *\n",
    "from utils.melissa_imputers import *\n",
    "from utils.melissa_utils import *\n",
    "from utils.Bhushan_utils import *\n",
    "from utils.lta_omv_scraper import *\n",
    "from utils.models import Regression\n",
    "from utils.regression_evaluation import *"
   ]
  },
  {
   "cell_type": "markdown",
   "id": "f054fec4",
   "metadata": {},
   "source": [
    "## Feature Processing"
   ]
  },
  {
   "cell_type": "code",
   "execution_count": 202,
   "id": "f9dd642e",
   "metadata": {},
   "outputs": [],
   "source": [
    "test_df = pd.read_csv(r\"./dataset/test.csv\")\n",
    "test_df['model'] = test_df['model'].apply(lambda x:x.replace('(', ''))\n",
    "test_df['reg_date_dt'] = test_df['reg_date'].apply(lambda x: datetime.strptime(x, \"%d-%b-%Y\"))\n",
    "test_df['reg_date_year'] = test_df['reg_date_dt'].apply(lambda x:x.year)\n",
    "test_df['reg_date_month'] = test_df['reg_date_dt'].apply(lambda x:x.month)"
   ]
  },
  {
   "cell_type": "code",
   "execution_count": 203,
   "id": "0ce295a1-88ee-4ee4-8762-ef883ff4c13e",
   "metadata": {},
   "outputs": [],
   "source": [
    "orig_df = pd.read_csv(r\"./dataset/train.csv\")\n",
    "\n",
    "# clean model\n",
    "orig_df['model'] = orig_df['model'].apply(lambda x:x.replace('(', ''))\n",
    "orig_df['reg_date_dt'] = orig_df['reg_date'].apply(lambda x: datetime.strptime(x, \"%d-%b-%Y\"))\n",
    "orig_df['reg_date_year'] = orig_df['reg_date_dt'].apply(lambda x:x.year)\n",
    "orig_df['reg_date_month'] = orig_df['reg_date_dt'].apply(lambda x:x.month)"
   ]
  },
  {
   "cell_type": "code",
   "execution_count": 204,
   "id": "50f6ac9d",
   "metadata": {},
   "outputs": [],
   "source": [
    "## Split into train val split\n",
    "train_df, val_df = train_test_split(orig_df, test_size=0.2, random_state=42, shuffle=True)"
   ]
  },
  {
   "cell_type": "code",
   "execution_count": 205,
   "id": "48f87d80-6827-4891-baf3-21f513411051",
   "metadata": {},
   "outputs": [
    {
     "data": {
      "text/html": [
       "<div>\n",
       "<style scoped>\n",
       "    .dataframe tbody tr th:only-of-type {\n",
       "        vertical-align: middle;\n",
       "    }\n",
       "\n",
       "    .dataframe tbody tr th {\n",
       "        vertical-align: top;\n",
       "    }\n",
       "\n",
       "    .dataframe thead th {\n",
       "        text-align: right;\n",
       "    }\n",
       "</style>\n",
       "<table border=\"1\" class=\"dataframe\">\n",
       "  <thead>\n",
       "    <tr style=\"text-align: right;\">\n",
       "      <th></th>\n",
       "      <th>listing_id</th>\n",
       "      <th>title</th>\n",
       "      <th>make</th>\n",
       "      <th>model</th>\n",
       "      <th>description</th>\n",
       "      <th>manufactured</th>\n",
       "      <th>original_reg_date</th>\n",
       "      <th>reg_date</th>\n",
       "      <th>type_of_vehicle</th>\n",
       "      <th>category</th>\n",
       "      <th>...</th>\n",
       "      <th>opc_scheme</th>\n",
       "      <th>lifespan</th>\n",
       "      <th>eco_category</th>\n",
       "      <th>features</th>\n",
       "      <th>accessories</th>\n",
       "      <th>indicative_price</th>\n",
       "      <th>price</th>\n",
       "      <th>reg_date_dt</th>\n",
       "      <th>reg_date_year</th>\n",
       "      <th>reg_date_month</th>\n",
       "    </tr>\n",
       "  </thead>\n",
       "  <tbody>\n",
       "    <tr>\n",
       "      <th>23311</th>\n",
       "      <td>1260733</td>\n",
       "      <td>Isuzu NPR85</td>\n",
       "      <td>isuzu</td>\n",
       "      <td>npr85</td>\n",
       "      <td>cheapest in the market! 14 feet full canopy wi...</td>\n",
       "      <td>2019.0</td>\n",
       "      <td>NaN</td>\n",
       "      <td>01-jul-2020</td>\n",
       "      <td>truck</td>\n",
       "      <td>premium ad car</td>\n",
       "      <td>...</td>\n",
       "      <td>NaN</td>\n",
       "      <td>30-jun-2040</td>\n",
       "      <td>uncategorized</td>\n",
       "      <td>view specs of the isuzu n series diesel</td>\n",
       "      <td>NaN</td>\n",
       "      <td>NaN</td>\n",
       "      <td>89800.0</td>\n",
       "      <td>2020-07-01</td>\n",
       "      <td>2020</td>\n",
       "      <td>7</td>\n",
       "    </tr>\n",
       "    <tr>\n",
       "      <th>23623</th>\n",
       "      <td>1289505</td>\n",
       "      <td>Honda Fit 1.3A G (COE till 06/2024)</td>\n",
       "      <td>NaN</td>\n",
       "      <td>fit</td>\n",
       "      <td>200</td>\n",
       "      <td>2009.0</td>\n",
       "      <td>NaN</td>\n",
       "      <td>12-aug-2009</td>\n",
       "      <td>hatchback</td>\n",
       "      <td>coe car</td>\n",
       "      <td>...</td>\n",
       "      <td>NaN</td>\n",
       "      <td>NaN</td>\n",
       "      <td>uncategorized</td>\n",
       "      <td>view specs of the honda fit</td>\n",
       "      <td>NaN</td>\n",
       "      <td>NaN</td>\n",
       "      <td>700.0</td>\n",
       "      <td>2009-08-12</td>\n",
       "      <td>2009</td>\n",
       "      <td>8</td>\n",
       "    </tr>\n",
       "    <tr>\n",
       "      <th>1020</th>\n",
       "      <td>1316182</td>\n",
       "      <td>Toyota Sienta 1.5A</td>\n",
       "      <td>toyota</td>\n",
       "      <td>sienta</td>\n",
       "      <td>non phv. excellent condition. 100% accident fr...</td>\n",
       "      <td>2018.0</td>\n",
       "      <td>NaN</td>\n",
       "      <td>28-may-2018</td>\n",
       "      <td>mpv</td>\n",
       "      <td>parf car, premium ad car</td>\n",
       "      <td>...</td>\n",
       "      <td>NaN</td>\n",
       "      <td>NaN</td>\n",
       "      <td>uncategorized</td>\n",
       "      <td>1.5l dohc 16v vvt-i engine, 7 speed cvt-i auto...</td>\n",
       "      <td>factory touchscreen audio system with reverse ...</td>\n",
       "      <td>NaN</td>\n",
       "      <td>64800.0</td>\n",
       "      <td>2018-05-28</td>\n",
       "      <td>2018</td>\n",
       "      <td>5</td>\n",
       "    </tr>\n",
       "    <tr>\n",
       "      <th>12645</th>\n",
       "      <td>1310514</td>\n",
       "      <td>Volvo V40 T4 Momentum</td>\n",
       "      <td>volvo</td>\n",
       "      <td>v40</td>\n",
       "      <td>well maintained! the safety, reliable and dura...</td>\n",
       "      <td>2018.0</td>\n",
       "      <td>NaN</td>\n",
       "      <td>30-aug-2019</td>\n",
       "      <td>hatchback</td>\n",
       "      <td>parf car</td>\n",
       "      <td>...</td>\n",
       "      <td>NaN</td>\n",
       "      <td>NaN</td>\n",
       "      <td>uncategorized</td>\n",
       "      <td>powerful 2.0l 4 cylinder inline 16 valve turbo...</td>\n",
       "      <td>keyless entry/start, cruise control, auto head...</td>\n",
       "      <td>NaN</td>\n",
       "      <td>92800.0</td>\n",
       "      <td>2019-08-30</td>\n",
       "      <td>2019</td>\n",
       "      <td>8</td>\n",
       "    </tr>\n",
       "    <tr>\n",
       "      <th>1533</th>\n",
       "      <td>1247893</td>\n",
       "      <td>Kia Carens 2.0A GDI</td>\n",
       "      <td>kia</td>\n",
       "      <td>carens</td>\n",
       "      <td>rare 1 owner unit! low km done! fully maintain...</td>\n",
       "      <td>2015.0</td>\n",
       "      <td>NaN</td>\n",
       "      <td>18-nov-2015</td>\n",
       "      <td>mpv</td>\n",
       "      <td>parf car</td>\n",
       "      <td>...</td>\n",
       "      <td>NaN</td>\n",
       "      <td>NaN</td>\n",
       "      <td>uncategorized</td>\n",
       "      <td>view specs of the kia carens</td>\n",
       "      <td>upgraded headunit with reverse camera! factory...</td>\n",
       "      <td>NaN</td>\n",
       "      <td>32888.0</td>\n",
       "      <td>2015-11-18</td>\n",
       "      <td>2015</td>\n",
       "      <td>11</td>\n",
       "    </tr>\n",
       "  </tbody>\n",
       "</table>\n",
       "<p>5 rows × 33 columns</p>\n",
       "</div>"
      ],
      "text/plain": [
       "       listing_id                                title    make   model  \\\n",
       "23311     1260733                          Isuzu NPR85   isuzu   npr85   \n",
       "23623     1289505  Honda Fit 1.3A G (COE till 06/2024)     NaN     fit   \n",
       "1020      1316182                   Toyota Sienta 1.5A  toyota  sienta   \n",
       "12645     1310514                Volvo V40 T4 Momentum   volvo     v40   \n",
       "1533      1247893                  Kia Carens 2.0A GDI     kia  carens   \n",
       "\n",
       "                                             description  manufactured  \\\n",
       "23311  cheapest in the market! 14 feet full canopy wi...        2019.0   \n",
       "23623                                                200        2009.0   \n",
       "1020   non phv. excellent condition. 100% accident fr...        2018.0   \n",
       "12645  well maintained! the safety, reliable and dura...        2018.0   \n",
       "1533   rare 1 owner unit! low km done! fully maintain...        2015.0   \n",
       "\n",
       "      original_reg_date     reg_date type_of_vehicle  \\\n",
       "23311               NaN  01-jul-2020           truck   \n",
       "23623               NaN  12-aug-2009       hatchback   \n",
       "1020                NaN  28-may-2018             mpv   \n",
       "12645               NaN  30-aug-2019       hatchback   \n",
       "1533                NaN  18-nov-2015             mpv   \n",
       "\n",
       "                       category  ... opc_scheme     lifespan   eco_category  \\\n",
       "23311            premium ad car  ...        NaN  30-jun-2040  uncategorized   \n",
       "23623                   coe car  ...        NaN          NaN  uncategorized   \n",
       "1020   parf car, premium ad car  ...        NaN          NaN  uncategorized   \n",
       "12645                  parf car  ...        NaN          NaN  uncategorized   \n",
       "1533                   parf car  ...        NaN          NaN  uncategorized   \n",
       "\n",
       "                                                features  \\\n",
       "23311            view specs of the isuzu n series diesel   \n",
       "23623                        view specs of the honda fit   \n",
       "1020   1.5l dohc 16v vvt-i engine, 7 speed cvt-i auto...   \n",
       "12645  powerful 2.0l 4 cylinder inline 16 valve turbo...   \n",
       "1533                        view specs of the kia carens   \n",
       "\n",
       "                                             accessories  indicative_price  \\\n",
       "23311                                                NaN               NaN   \n",
       "23623                                                NaN               NaN   \n",
       "1020   factory touchscreen audio system with reverse ...               NaN   \n",
       "12645  keyless entry/start, cruise control, auto head...               NaN   \n",
       "1533   upgraded headunit with reverse camera! factory...               NaN   \n",
       "\n",
       "         price  reg_date_dt  reg_date_year  reg_date_month  \n",
       "23311  89800.0   2020-07-01           2020               7  \n",
       "23623    700.0   2009-08-12           2009               8  \n",
       "1020   64800.0   2018-05-28           2018               5  \n",
       "12645  92800.0   2019-08-30           2019               8  \n",
       "1533   32888.0   2015-11-18           2015              11  \n",
       "\n",
       "[5 rows x 33 columns]"
      ]
     },
     "execution_count": 205,
     "metadata": {},
     "output_type": "execute_result"
    }
   ],
   "source": [
    "train_df.head()"
   ]
  },
  {
   "cell_type": "markdown",
   "id": "92f207df-84d2-49d2-b640-fce0891bbd05",
   "metadata": {},
   "source": [
    "### Fill missing 'make' info from title"
   ]
  },
  {
   "cell_type": "code",
   "execution_count": 206,
   "id": "03009600-322c-4c15-b098-cd0aec0a8c16",
   "metadata": {},
   "outputs": [],
   "source": [
    "make_df = pd.read_csv(r\"./dataset/make.csv\")\n",
    "make_ls = [make.lower() for make in make_df['Make List'].unique()]"
   ]
  },
  {
   "cell_type": "code",
   "execution_count": 207,
   "id": "67e866a0-2550-4cd7-9c15-765524c80c6a",
   "metadata": {},
   "outputs": [],
   "source": [
    "make_model_imputer = MakeModelImputer(make_ls)\n",
    "\n",
    "train_df = make_model_imputer.transform(train_df)\n",
    "val_df = make_model_imputer.transform(val_df) \n",
    "test_df = make_model_imputer.transform(test_df) "
   ]
  },
  {
   "cell_type": "code",
   "execution_count": 208,
   "id": "5cc1173e-3396-4f6e-8e85-9b6dea45733a",
   "metadata": {},
   "outputs": [],
   "source": [
    "# Generating model make imputer\n",
    "train_df[\"model_make\"] = train_df.model + \"_\" + train_df.make\n",
    "val_df[\"model_make\"] = val_df.model + \"_\" + val_df.make\n",
    "test_df[\"model_make\"] = test_df.model + \"_\" + test_df.make"
   ]
  },
  {
   "cell_type": "markdown",
   "id": "21d42510",
   "metadata": {},
   "source": [
    "### COE Age Imputer\n",
    "Adding new col"
   ]
  },
  {
   "cell_type": "code",
   "execution_count": 209,
   "id": "f40830fd",
   "metadata": {},
   "outputs": [
    {
     "data": {
      "text/plain": [
       "' After imputation : 0'"
      ]
     },
     "metadata": {},
     "output_type": "display_data"
    }
   ],
   "source": [
    "## New method\n",
    "coeAge_impute = CoeAgeImputer()\n",
    "\n",
    "train_df = coeAge_impute.fit_transform(df=train_df)\n",
    "val_df = coeAge_impute.fit_transform(val_df)\n",
    "test_df = coeAge_impute.fit_transform(test_df)\n",
    "display(f' After imputation : {train_df[\"coe_age_left\"].isna().sum()}')"
   ]
  },
  {
   "cell_type": "markdown",
   "id": "f9d98fe1",
   "metadata": {},
   "source": [
    "### Age Range Proc \n",
    "Adding new col"
   ]
  },
  {
   "cell_type": "code",
   "execution_count": 210,
   "id": "6d2283ae",
   "metadata": {},
   "outputs": [
    {
     "data": {
      "text/plain": [
       "' After imputation train_df : 0'"
      ]
     },
     "metadata": {},
     "output_type": "display_data"
    },
    {
     "data": {
      "text/plain": [
       "' After imputation val_df : 0'"
      ]
     },
     "metadata": {},
     "output_type": "display_data"
    },
    {
     "data": {
      "text/plain": [
       "' After imputation test_df : 0'"
      ]
     },
     "metadata": {},
     "output_type": "display_data"
    }
   ],
   "source": [
    "## New method\n",
    "ageRangeProc_impute = AgeRangeproc_dfer()\n",
    "\n",
    "train_df = ageRangeProc_impute.fit_transform(df=train_df)\n",
    "val_df = ageRangeProc_impute.fit_transform(val_df)\n",
    "test_df = ageRangeProc_impute.fit_transform(test_df)\n",
    "display(f' After imputation train_df : {train_df[\"age_range\"].isna().sum()}')\n",
    "display(f' After imputation val_df : {val_df[\"age_range\"].isna().sum()}')\n",
    "display(f' After imputation test_df : {test_df[\"age_range\"].isna().sum()}')"
   ]
  },
  {
   "cell_type": "markdown",
   "id": "f1f4f67e",
   "metadata": {},
   "source": [
    "### Car Age"
   ]
  },
  {
   "cell_type": "code",
   "execution_count": 211,
   "id": "4924e05e",
   "metadata": {},
   "outputs": [
    {
     "data": {
      "text/plain": [
       "' After imputation train_df : 0'"
      ]
     },
     "metadata": {},
     "output_type": "display_data"
    },
    {
     "data": {
      "text/plain": [
       "' After imputation val_df : 0'"
      ]
     },
     "metadata": {},
     "output_type": "display_data"
    },
    {
     "data": {
      "text/plain": [
       "' After imputation test_df : 0'"
      ]
     },
     "metadata": {},
     "output_type": "display_data"
    }
   ],
   "source": [
    "depreciation_imputer = DepreciationImputer()\n",
    "train_df = depreciation_imputer.calc_vehicle_age(train_df) # 0 empty records - due to 'manufactured' having 7 empty records\n",
    "val_df = depreciation_imputer.calc_vehicle_age(val_df) # 0 empty records\n",
    "test_df = depreciation_imputer.calc_vehicle_age(test_df) # 0 empty records\n",
    "\n",
    "display(f' After imputation train_df : {train_df[\"car_age\"].isna().sum()}')\n",
    "display(f' After imputation val_df : {val_df[\"car_age\"].isna().sum()}')\n",
    "display(f' After imputation test_df : {test_df[\"car_age\"].isna().sum()}')"
   ]
  },
  {
   "cell_type": "markdown",
   "id": "15da5a1c",
   "metadata": {},
   "source": [
    "### Manufactured"
   ]
  },
  {
   "cell_type": "code",
   "execution_count": 212,
   "id": "1bdc5c03",
   "metadata": {},
   "outputs": [],
   "source": [
    "# Impute manufactured date\n",
    "train_df = impute_manufactured_date(train_df) \n",
    "val_df = impute_manufactured_date(val_df) \n",
    "test_df = impute_manufactured_date(test_df)"
   ]
  },
  {
   "cell_type": "markdown",
   "id": "3d0dd578-8072-49ca-8c9e-6e68e0dc560a",
   "metadata": {},
   "source": [
    "### type_of_vehicle"
   ]
  },
  {
   "cell_type": "code",
   "execution_count": 213,
   "id": "03a24bed",
   "metadata": {},
   "outputs": [],
   "source": [
    "## Processing \n",
    "train_df , vehicle_type_encoder = onehot_fit_transform(train_df, \"type_of_vehicle\")\n",
    "val_df = onehot_type_fit(val_df, vehicle_type_encoder)\n",
    "test_df = onehot_type_fit(test_df, vehicle_type_encoder)"
   ]
  },
  {
   "cell_type": "markdown",
   "id": "409ec462-17f7-442a-8129-9736e0879a2c",
   "metadata": {},
   "source": [
    "### curb_weight"
   ]
  },
  {
   "cell_type": "code",
   "execution_count": 214,
   "id": "0677061b",
   "metadata": {},
   "outputs": [
    {
     "data": {
      "text/plain": [
       "' train_df Before imputation curb_weight : 241'"
      ]
     },
     "metadata": {},
     "output_type": "display_data"
    },
    {
     "data": {
      "text/plain": [
       "' val_df Before imputation : 66'"
      ]
     },
     "metadata": {},
     "output_type": "display_data"
    },
    {
     "data": {
      "text/plain": [
       "' test_df Before imputation : 110'"
      ]
     },
     "metadata": {},
     "output_type": "display_data"
    },
    {
     "data": {
      "text/plain": [
       "' train_df After imputation : 228'"
      ]
     },
     "metadata": {},
     "output_type": "display_data"
    },
    {
     "data": {
      "text/plain": [
       "' val_df After imputation : 64'"
      ]
     },
     "metadata": {},
     "output_type": "display_data"
    },
    {
     "data": {
      "text/plain": [
       "' test_df After imputation : 106'"
      ]
     },
     "metadata": {},
     "output_type": "display_data"
    }
   ],
   "source": [
    "train_pkl_dir_path = \"./dataset/proc_scraped_new_car_info.pkl\"\n",
    "test_pkl_dir_path = \"./dataset/test_proc_scraped_new_car_info.pkl\"\n",
    "variable = \"curb_weight\"\n",
    "\n",
    "sgcarmart_imputer = GenericSGCarMartImputer(\n",
    "    train_pickle_dir=train_pkl_dir_path, test_pickle_dir=test_pkl_dir_path)\n",
    "\n",
    "display(f' train_df Before imputation {variable} : {train_df[variable].isna().sum()}')\n",
    "display(f' val_df Before imputation : {val_df[variable].isna().sum()}')\n",
    "display(f' test_df Before imputation : {test_df[variable].isna().sum()}')\n",
    "\n",
    "train_df.loc[:,variable] = sgcarmart_imputer.impute_val(df=train_df,variable=variable,df_type=\"train\")\n",
    "val_df.loc[:,variable]  = sgcarmart_imputer.impute_val(df=val_df,variable=variable,df_type=\"train\")\n",
    "test_df.loc[:,variable]  = sgcarmart_imputer.impute_val(df=test_df,variable=variable,df_type=\"test\")\n",
    "\n",
    "display(f' train_df After imputation : {train_df[variable].isna().sum()}')\n",
    "display(f' val_df After imputation : {val_df[variable].isna().sum()}')\n",
    "display(f' test_df After imputation : {test_df[variable].isna().sum()}')"
   ]
  },
  {
   "cell_type": "code",
   "execution_count": 215,
   "id": "e543141f-6b13-4eff-a1c6-b72879a09da9",
   "metadata": {},
   "outputs": [
    {
     "data": {
      "text/plain": [
       "' train_df Before imputation curb_weight : 228'"
      ]
     },
     "metadata": {},
     "output_type": "display_data"
    },
    {
     "data": {
      "text/plain": [
       "' val_df Before imputation : 64'"
      ]
     },
     "metadata": {},
     "output_type": "display_data"
    },
    {
     "data": {
      "text/plain": [
       "' test_df Before imputation : 106'"
      ]
     },
     "metadata": {},
     "output_type": "display_data"
    },
    {
     "data": {
      "text/plain": [
       "' train_df After imputation : 78'"
      ]
     },
     "metadata": {},
     "output_type": "display_data"
    },
    {
     "data": {
      "text/plain": [
       "' val_df After imputation : 19'"
      ]
     },
     "metadata": {},
     "output_type": "display_data"
    },
    {
     "data": {
      "text/plain": [
       "' test_df After imputation : 39'"
      ]
     },
     "metadata": {},
     "output_type": "display_data"
    }
   ],
   "source": [
    "curb_weight_impute = ModelMakeImputer(column_a=\"model_make\", column_b=\"curb_weight\")\n",
    "display(f' train_df Before imputation {variable} : {train_df[variable].isna().sum()}')\n",
    "display(f' val_df Before imputation : {val_df[variable].isna().sum()}')\n",
    "display(f' test_df Before imputation : {test_df[variable].isna().sum()}')\n",
    "\n",
    "train_df = curb_weight_impute.fit_transform(train_df) # 82 rows missing\n",
    "val_df = curb_weight_impute.transform(val_df) # 20 rows missing\n",
    "test_df = curb_weight_impute.transform(test_df) # 40 rows missing\n",
    "\n",
    "display(f' train_df After imputation : {train_df[variable].isna().sum()}')\n",
    "display(f' val_df After imputation : {val_df[variable].isna().sum()}')\n",
    "display(f' test_df After imputation : {test_df[variable].isna().sum()}')"
   ]
  },
  {
   "cell_type": "code",
   "execution_count": 216,
   "id": "acda1b24",
   "metadata": {},
   "outputs": [],
   "source": [
    "# Many rows are missing, impute using median values\n",
    "imputer = SimpleImputer(strategy='median')\n",
    "train_df['curb_weight'] = imputer.fit_transform(train_df[['curb_weight']])\n",
    "val_df['curb_weight'] = imputer.transform(val_df[['curb_weight']])\n",
    "test_df['curb_weight'] = imputer.transform(test_df[['curb_weight']])"
   ]
  },
  {
   "cell_type": "markdown",
   "id": "a980b57d-49d0-450d-a1c7-19746693cd1e",
   "metadata": {},
   "source": [
    "### power "
   ]
  },
  {
   "cell_type": "code",
   "execution_count": 217,
   "id": "4d23565e",
   "metadata": {},
   "outputs": [
    {
     "data": {
      "text/plain": [
       "' train_df Before imputation power: 2109'"
      ]
     },
     "metadata": {},
     "output_type": "display_data"
    },
    {
     "data": {
      "text/plain": [
       "' val_df Before imputation : 531'"
      ]
     },
     "metadata": {},
     "output_type": "display_data"
    },
    {
     "data": {
      "text/plain": [
       "' test_df Before imputation : 1086'"
      ]
     },
     "metadata": {},
     "output_type": "display_data"
    },
    {
     "data": {
      "text/plain": [
       "' train_df After imputation : 1451'"
      ]
     },
     "metadata": {},
     "output_type": "display_data"
    },
    {
     "data": {
      "text/plain": [
       "' val_df After imputation : 368'"
      ]
     },
     "metadata": {},
     "output_type": "display_data"
    },
    {
     "data": {
      "text/plain": [
       "' test_df After imputation : 714'"
      ]
     },
     "metadata": {},
     "output_type": "display_data"
    }
   ],
   "source": [
    "train_pkl_dir_path = \"./dataset/proc_scraped_new_car_info.pkl\"\n",
    "test_pkl_dir_path = \"./dataset/test_proc_scraped_new_car_info.pkl\"\n",
    "variable = \"power\"\n",
    "\n",
    "display(f' train_df Before imputation {variable}: {train_df[variable].isna().sum()}')\n",
    "display(f' val_df Before imputation : {val_df[variable].isna().sum()}')\n",
    "display(f' test_df Before imputation : {test_df[variable].isna().sum()}')\n",
    "\n",
    "train_df.loc[:,variable] = sgcarmart_imputer.impute_val(df=train_df,variable=variable,df_type=\"train\")\n",
    "val_df.loc[:,variable]  = sgcarmart_imputer.impute_val(df=val_df,variable=variable,df_type=\"train\")\n",
    "test_df.loc[:,variable]  = sgcarmart_imputer.impute_val(df=test_df,variable=variable,df_type=\"test\")\n",
    "\n",
    "display(f' train_df After imputation : {train_df[variable].isna().sum()}')\n",
    "display(f' val_df After imputation : {val_df[variable].isna().sum()}')\n",
    "display(f' test_df After imputation : {test_df[variable].isna().sum()}')"
   ]
  },
  {
   "cell_type": "code",
   "execution_count": 218,
   "id": "e7712399-9cf4-4e15-bf0a-0b7f76dbaaf1",
   "metadata": {},
   "outputs": [
    {
     "data": {
      "text/plain": [
       "' train_df Before imputation power: 1451'"
      ]
     },
     "metadata": {},
     "output_type": "display_data"
    },
    {
     "data": {
      "text/plain": [
       "' val_df Before imputation : 368'"
      ]
     },
     "metadata": {},
     "output_type": "display_data"
    },
    {
     "data": {
      "text/plain": [
       "' test_df Before imputation : 714'"
      ]
     },
     "metadata": {},
     "output_type": "display_data"
    },
    {
     "data": {
      "text/plain": [
       "' train_df After imputation : 433'"
      ]
     },
     "metadata": {},
     "output_type": "display_data"
    },
    {
     "data": {
      "text/plain": [
       "' val_df After imputation : 114'"
      ]
     },
     "metadata": {},
     "output_type": "display_data"
    },
    {
     "data": {
      "text/plain": [
       "' test_df After imputation : 231'"
      ]
     },
     "metadata": {},
     "output_type": "display_data"
    }
   ],
   "source": [
    "power_impute = ModelMakeImputer(column_a=\"model_make\", column_b=\"power\")\n",
    "\n",
    "display(f' train_df Before imputation {variable}: {train_df[variable].isna().sum()}')\n",
    "display(f' val_df Before imputation : {val_df[variable].isna().sum()}')\n",
    "display(f' test_df Before imputation : {test_df[variable].isna().sum()}')\n",
    "train_df = power_impute.fit_transform(train_df) # 1537 rows missing\n",
    "val_df = power_impute.transform(val_df) # 379 rows missing\n",
    "test_df = power_impute.transform(test_df) # 789 rows missing\n",
    "display(f' train_df After imputation : {train_df[variable].isna().sum()}')\n",
    "display(f' val_df After imputation : {val_df[variable].isna().sum()}')\n",
    "display(f' test_df After imputation : {test_df[variable].isna().sum()}')"
   ]
  },
  {
   "cell_type": "code",
   "execution_count": 219,
   "id": "26f6a77c",
   "metadata": {},
   "outputs": [],
   "source": [
    "# Many rows are missing, impute using median values\n",
    "imputer = SimpleImputer(strategy='median')\n",
    "train_df['power'] = imputer.fit_transform(train_df[['power']])\n",
    "val_df['power'] = imputer.transform(val_df[['power']])\n",
    "test_df['power'] = imputer.transform(test_df[['power']])"
   ]
  },
  {
   "cell_type": "markdown",
   "id": "48c18e85-8d3e-4faa-89bb-c753f1e1bbb8",
   "metadata": {},
   "source": [
    "### engine_cap "
   ]
  },
  {
   "cell_type": "code",
   "execution_count": 220,
   "id": "44ae4bfd",
   "metadata": {},
   "outputs": [
    {
     "data": {
      "text/plain": [
       "' train_df Before imputation engine_cap : 475'"
      ]
     },
     "metadata": {},
     "output_type": "display_data"
    },
    {
     "data": {
      "text/plain": [
       "' val_df Before imputation : 121'"
      ]
     },
     "metadata": {},
     "output_type": "display_data"
    },
    {
     "data": {
      "text/plain": [
       "' test_df Before imputation : 235'"
      ]
     },
     "metadata": {},
     "output_type": "display_data"
    },
    {
     "data": {
      "text/plain": [
       "' train_df After imputation : 475'"
      ]
     },
     "metadata": {},
     "output_type": "display_data"
    },
    {
     "data": {
      "text/plain": [
       "' val_df After imputation : 121'"
      ]
     },
     "metadata": {},
     "output_type": "display_data"
    },
    {
     "data": {
      "text/plain": [
       "' test_df After imputation : 235'"
      ]
     },
     "metadata": {},
     "output_type": "display_data"
    }
   ],
   "source": [
    "train_pkl_dir_path = \"./dataset/proc_scraped_new_car_info.pkl\"\n",
    "test_pkl_dir_path = \"./dataset/test_proc_scraped_new_car_info.pkl\"\n",
    "variable = \"engine_cap\"\n",
    "\n",
    "display(f' train_df Before imputation {variable} : {train_df[variable].isna().sum()}')\n",
    "display(f' val_df Before imputation : {val_df[variable].isna().sum()}')\n",
    "display(f' test_df Before imputation : {test_df[variable].isna().sum()}')\n",
    "\n",
    "train_df.loc[:,variable] = sgcarmart_imputer.impute_val(df=train_df,variable=variable,df_type=\"train\")\n",
    "val_df.loc[:,variable]  = sgcarmart_imputer.impute_val(df=val_df,variable=variable,df_type=\"train\")\n",
    "test_df.loc[:,variable]  = sgcarmart_imputer.impute_val(df=test_df,variable=variable,df_type=\"test\")\n",
    "\n",
    "display(f' train_df After imputation : {train_df[variable].isna().sum()}')\n",
    "display(f' val_df After imputation : {val_df[variable].isna().sum()}')\n",
    "display(f' test_df After imputation : {test_df[variable].isna().sum()}')"
   ]
  },
  {
   "cell_type": "code",
   "execution_count": 221,
   "id": "8d506c51-2468-41a3-a1fe-57932e3445a7",
   "metadata": {},
   "outputs": [
    {
     "data": {
      "text/plain": [
       "' train_df Before imputation engine_cap : 475'"
      ]
     },
     "metadata": {},
     "output_type": "display_data"
    },
    {
     "data": {
      "text/plain": [
       "' val_df Before imputation : 121'"
      ]
     },
     "metadata": {},
     "output_type": "display_data"
    },
    {
     "data": {
      "text/plain": [
       "' test_df Before imputation : 235'"
      ]
     },
     "metadata": {},
     "output_type": "display_data"
    },
    {
     "data": {
      "text/plain": [
       "' train_df After imputation : 384'"
      ]
     },
     "metadata": {},
     "output_type": "display_data"
    },
    {
     "data": {
      "text/plain": [
       "' val_df After imputation : 97'"
      ]
     },
     "metadata": {},
     "output_type": "display_data"
    },
    {
     "data": {
      "text/plain": [
       "' test_df After imputation : 186'"
      ]
     },
     "metadata": {},
     "output_type": "display_data"
    }
   ],
   "source": [
    "engine_impute = ModelMakeImputer(column_a=\"model_make\", column_b=\"engine_cap\")\n",
    "\n",
    "display(f' train_df Before imputation {variable} : {train_df[variable].isna().sum()}')\n",
    "display(f' val_df Before imputation : {val_df[variable].isna().sum()}')\n",
    "display(f' test_df Before imputation : {test_df[variable].isna().sum()}')\n",
    "\n",
    "train_df = engine_impute.fit_transform(train_df) # 384 rows missing\n",
    "val_df = engine_impute.transform(val_df) # 97 rows missing\n",
    "test_df = engine_impute.transform(test_df) # 186 rows missing\n",
    "\n",
    "display(f' train_df After imputation : {train_df[variable].isna().sum()}')\n",
    "display(f' val_df After imputation : {val_df[variable].isna().sum()}')\n",
    "display(f' test_df After imputation : {test_df[variable].isna().sum()}')"
   ]
  },
  {
   "cell_type": "code",
   "execution_count": 222,
   "id": "f22d553c",
   "metadata": {},
   "outputs": [],
   "source": [
    "# Many rows are missing, impute using median values\n",
    "imputer = SimpleImputer(strategy='median')\n",
    "train_df['engine_cap'] = imputer.fit_transform(train_df[['engine_cap']])\n",
    "val_df['engine_cap'] = imputer.transform(val_df[['engine_cap']])\n",
    "test_df['engine_cap'] = imputer.transform(test_df[['engine_cap']])"
   ]
  },
  {
   "cell_type": "markdown",
   "id": "38810de4-7064-4737-8000-1f5f29379587",
   "metadata": {},
   "source": [
    "### no_of_owners"
   ]
  },
  {
   "cell_type": "code",
   "execution_count": 223,
   "id": "0ebc8bf6",
   "metadata": {},
   "outputs": [
    {
     "data": {
      "text/plain": [
       "' Before imputation : 11'"
      ]
     },
     "metadata": {},
     "output_type": "display_data"
    },
    {
     "name": "stdout",
     "output_type": "stream",
     "text": [
      "19989\n",
      "[Number of months per owner]  ->  [mean = 49.10992045625093, median = 41.666666666666664, mode = 29.0]\n"
     ]
    },
    {
     "data": {
      "text/plain": [
       "' After imputation : 0'"
      ]
     },
     "metadata": {},
     "output_type": "display_data"
    }
   ],
   "source": [
    "## New method\n",
    "display(f' Before imputation : {train_df[\"no_of_owners\"].isna().sum()}')\n",
    "\n",
    "owner_impute = OwnerImputer()\n",
    "\n",
    "train_df = owner_impute.fit_transform(df=train_df)\n",
    "val_df = owner_impute.transform(val_df)\n",
    "test_df = owner_impute.transform(test_df)\n",
    "display(f' After imputation : {train_df[\"no_of_owners\"].isna().sum()}')"
   ]
  },
  {
   "cell_type": "markdown",
   "id": "41f7547f-25b1-4122-bdc5-92606380738e",
   "metadata": {},
   "source": [
    "### depreciation "
   ]
  },
  {
   "cell_type": "code",
   "execution_count": 224,
   "id": "309447a7-8818-4242-9756-0e9d6360d022",
   "metadata": {},
   "outputs": [
    {
     "data": {
      "text/plain": [
       "' Before imputation : 400'"
      ]
     },
     "metadata": {},
     "output_type": "display_data"
    },
    {
     "data": {
      "text/plain": [
       "' After imputation : 0'"
      ]
     },
     "metadata": {},
     "output_type": "display_data"
    }
   ],
   "source": [
    "# Imputation using make, model and car age - Dependency on 'car_age'\n",
    "display(f' Before imputation : {train_df[\"depreciation\"].isna().sum()}')\n",
    "\n",
    "depreciation_imputer = DepreciationImputer()\n",
    "train_df = depreciation_imputer.fit_transform(train_df) # 96 empty records\n",
    "val_df = depreciation_imputer.transform(val_df) # 9 empty records\n",
    "test_df = depreciation_imputer.transform(test_df) # 9 empty records\n",
    "\n",
    "# Median imputation for remaining records\n",
    "imputer = SimpleImputer(strategy='median')\n",
    "train_df['depreciation'] = imputer.fit_transform(train_df[['depreciation']])\n",
    "val_df['depreciation'] = imputer.transform(val_df[['depreciation']])\n",
    "test_df['depreciation'] = imputer.transform(test_df[['depreciation']])\n",
    "display(f' After imputation : {train_df[\"depreciation\"].isna().sum()}')"
   ]
  },
  {
   "cell_type": "markdown",
   "id": "e26a98a9",
   "metadata": {},
   "source": [
    "### Transmission"
   ]
  },
  {
   "cell_type": "code",
   "execution_count": 225,
   "id": "e043c72a",
   "metadata": {},
   "outputs": [],
   "source": [
    "# Transmission\n",
    "\n",
    "# One-hot (Binary) encoding\n",
    "encoder = OneHotEncoder(sparse_output=False, drop='first')\n",
    "train_df['transmission'] = encoder.fit_transform(train_df[['transmission']])\n",
    "val_df['transmission'] = encoder.transform(val_df[['transmission']])\n",
    "test_df['transmission'] = encoder.transform(test_df[['transmission']])"
   ]
  },
  {
   "cell_type": "markdown",
   "id": "ad910b8a-c00d-4e9b-950a-fe8a741f2185",
   "metadata": {},
   "source": [
    "### mileage   "
   ]
  },
  {
   "cell_type": "code",
   "execution_count": 226,
   "id": "6e16b8e8",
   "metadata": {},
   "outputs": [
    {
     "data": {
      "text/plain": [
       "' Before imputation : 4248'"
      ]
     },
     "metadata": {},
     "output_type": "display_data"
    },
    {
     "name": "stdout",
     "output_type": "stream",
     "text": [
      "[truck] Miles per month -> Mean: 1242.742344383137, Median: 1203.2085561497327, Mode: 1333.3333333333333\n",
      "[hatchback] Miles per month -> Mean: 1006.5215831417896, Median: 975.3488372093024, Mode: 1000.0\n",
      "[mpv] Miles per month -> Mean: 1073.4920093529756, Median: 1043.0571004820172, Mode: 1000.0\n",
      "[mid-sized sedan] Miles per month -> Mean: 1026.9308040735339, Median: 986.0157967032967, Mode: 1000.0\n",
      "[sports car] Miles per month -> Mean: 670.7384825609863, Median: 678.6335403726708, Mode: 1000.0\n",
      "[luxury sedan] Miles per month -> Mean: 1012.465942419823, Median: 983.3930222782682, Mode: 1000.0\n",
      "[suv] Miles per month -> Mean: 1038.3494371542276, Median: 1011.9047619047619, Mode: 1000.0\n",
      "[stationwagon] Miles per month -> Mean: 1054.6408446444134, Median: 1033.3333333333333, Mode: 615.3846153846154\n",
      "[van] Miles per month -> Mean: 1140.9854559521784, Median: 1157.0269832703725, Mode: 0.07692307692307693\n",
      "[bus/mini bus] Miles per month -> Mean: 1307.551701516869, Median: 1223.888888888889, Mode: 2.6666666666666665\n",
      "[others] Miles per month -> Mean: 2082.3393084125582, Median: 150.49862195682132, Mode: 50.10942760942761\n"
     ]
    },
    {
     "data": {
      "text/plain": [
       "' After imputation : 0'"
      ]
     },
     "metadata": {},
     "output_type": "display_data"
    }
   ],
   "source": [
    "display(f' Before imputation : {train_df[\"mileage\"].isna().sum()}')\n",
    "## New method\n",
    "\n",
    "mileage_impute = mileageImputerByType()\n",
    "\n",
    "train_df = mileage_impute.fit_transform(df=train_df)\n",
    "val_df = mileage_impute.transform(val_df)\n",
    "test_df = mileage_impute.transform(test_df)\n",
    "\n",
    "display(f' After imputation : {train_df[\"mileage\"].isna().sum()}')"
   ]
  },
  {
   "cell_type": "markdown",
   "id": "7ffe3971-8ace-4178-b070-37cad3e59022",
   "metadata": {},
   "source": [
    "### omv "
   ]
  },
  {
   "cell_type": "code",
   "execution_count": 227,
   "id": "027ac5fb-c31a-43aa-9832-f4f642c7231e",
   "metadata": {},
   "outputs": [],
   "source": [
    "csv_filename = r'./dataset/lta_omv_data.csv'\n",
    "\n",
    "if os.path.exists(csv_filename):\n",
    "    df_lta_car_data = pd.read_csv(csv_filename)\n",
    "else:\n",
    "    result_ls = get_lta_omv_data(2002, 2025)\n",
    "    df_lta_car_data = preprocess_lta_omv_data(result_ls)\n",
    "    df_lta_car_data.to_csv(csv_filename)\n",
    "\n",
    "lta_data_imputer = LTADataImputer(df_lta_car_data)\n",
    "\n",
    "train_df = lta_data_imputer.transform(train_df) # before transform: 49 rows missing, after transform: 24 rows missing\n",
    "val_df = lta_data_imputer.transform(val_df) # before transform: 15 rows missing, after transform: 9 rows missing\n",
    "test_df = lta_data_imputer.transform(test_df) \n",
    "\n",
    "imputer = SimpleImputer(strategy='median')\n",
    "train_df['omv'] = imputer.fit_transform(train_df[['omv']])\n",
    "val_df['omv'] = imputer.transform(val_df[['omv']])\n",
    "test_df['omv'] = imputer.transform(test_df[['omv']])"
   ]
  },
  {
   "cell_type": "markdown",
   "id": "be7fa708",
   "metadata": {},
   "source": [
    "### COE (Outlier Removal)"
   ]
  },
  {
   "cell_type": "code",
   "execution_count": 228,
   "id": "1d2f450a",
   "metadata": {},
   "outputs": [],
   "source": [
    "# COE\n",
    "\n",
    "# Cap Outliers - Dependency on 'engine_cap' and 'type_of_vehicle'\n",
    "train_df = cap_coe_outliers(train_df)\n",
    "val_df = cap_coe_outliers(val_df)\n",
    "test_df = cap_coe_outliers(test_df)"
   ]
  },
  {
   "cell_type": "markdown",
   "id": "8e47c7e0",
   "metadata": {},
   "source": [
    "### Fuel Type (To be edited)"
   ]
  },
  {
   "cell_type": "code",
   "execution_count": 229,
   "id": "163a63b4",
   "metadata": {},
   "outputs": [
    {
     "name": "stdout",
     "output_type": "stream",
     "text": [
      "Original Imputation Nan 15339\n",
      "After Imputation Nan 14397\n",
      "Original Imputation Nan 3782\n",
      "After Imputation Nan 3559\n",
      "Original Imputation Nan 7650\n",
      "After Imputation Nan 7192\n"
     ]
    }
   ],
   "source": [
    "train_df = get_fuel_type(train_df)\n",
    "val_df = get_fuel_type(val_df)\n",
    "test_df = get_fuel_type(test_df)"
   ]
  },
  {
   "cell_type": "code",
   "execution_count": 230,
   "id": "1157303c",
   "metadata": {},
   "outputs": [
    {
     "data": {
      "text/plain": [
       "' train_df Before imputation fuel_type : 14397'"
      ]
     },
     "metadata": {},
     "output_type": "display_data"
    },
    {
     "data": {
      "text/plain": [
       "' val_df Before imputation : 3559'"
      ]
     },
     "metadata": {},
     "output_type": "display_data"
    },
    {
     "data": {
      "text/plain": [
       "' test_df Before imputation : 7192'"
      ]
     },
     "metadata": {},
     "output_type": "display_data"
    },
    {
     "data": {
      "text/plain": [
       "' train_df After imputation : 5450'"
      ]
     },
     "metadata": {},
     "output_type": "display_data"
    },
    {
     "data": {
      "text/plain": [
       "' val_df After imputation : 1335'"
      ]
     },
     "metadata": {},
     "output_type": "display_data"
    },
    {
     "data": {
      "text/plain": [
       "' test_df After imputation : 2616'"
      ]
     },
     "metadata": {},
     "output_type": "display_data"
    }
   ],
   "source": [
    "train_pkl_dir_path = \"./dataset/proc_scraped_new_car_info.pkl\"\n",
    "test_pkl_dir_path = \"./dataset/test_proc_scraped_new_car_info.pkl\"\n",
    "variable = \"fuel_type\"\n",
    "\n",
    "display(f' train_df Before imputation {variable} : {train_df[variable].isna().sum()}')\n",
    "display(f' val_df Before imputation : {val_df[variable].isna().sum()}')\n",
    "display(f' test_df Before imputation : {test_df[variable].isna().sum()}')\n",
    "\n",
    "train_df.loc[:,variable] = sgcarmart_imputer.impute_val(df=train_df,variable=variable,df_type=\"train\")\n",
    "val_df.loc[:,variable]  = sgcarmart_imputer.impute_val(df=val_df,variable=variable,df_type=\"train\")\n",
    "test_df.loc[:,variable]  = sgcarmart_imputer.impute_val(df=test_df,variable=variable,df_type=\"test\")\n",
    "\n",
    "display(f' train_df After imputation : {train_df[variable].isna().sum()}')\n",
    "display(f' val_df After imputation : {val_df[variable].isna().sum()}')\n",
    "display(f' test_df After imputation : {test_df[variable].isna().sum()}')"
   ]
  },
  {
   "cell_type": "code",
   "execution_count": 231,
   "id": "d31fe1bb",
   "metadata": {},
   "outputs": [],
   "source": [
    "## Label Encoder\n",
    "features = ['type_of_vehicle_bus/mini bus',\n",
    "       'type_of_vehicle_hatchback', 'type_of_vehicle_luxury sedan',\n",
    "       'type_of_vehicle_mid-sized sedan', 'type_of_vehicle_mpv',\n",
    "       'type_of_vehicle_others', 'type_of_vehicle_sports car',\n",
    "       'type_of_vehicle_stationwagon', 'type_of_vehicle_suv',\n",
    "       'type_of_vehicle_truck', 'type_of_vehicle_van', 'power','engine_cap','fuel_type_diesel',\n",
    "       'fuel_type_diesel-electric', 'fuel_type_electric', 'fuel_type_petrol',\n",
    "       'fuel_type_petrol-electric', 'fuel_type_nan']\n",
    "\n",
    "variable = \"fuel_type\"\n",
    "train_df , fuel_type_encoder = onehot_fit_transform(train_df, column_name=variable)\n",
    "val_df = onehot_type_fit(val_df, fuel_type_encoder, column_name=variable)\n",
    "test_df = onehot_type_fit(test_df, fuel_type_encoder, column_name=variable)\n",
    "\n",
    "# # Step 2: Use KNNImputer on the One-Hot Encoded Data\n",
    "# imputer = KNNImputer(n_neighbors=3)\n",
    "# imputed_data = imputer.fit_transform(train_df[features])\n",
    "# imputed_data_val = imputer.fit(val_df[features])\n",
    "# imputed_data_test = imputer.fit(test_df[features])\n",
    "\n",
    "# train_imputed_df = pd.DataFrame(imputed_data, columns=features)\n",
    "# val_imputed_df = pd.DataFrame(imputed_data_val, columns=features)\n",
    "# test_imputed_df = pd.DataFrame(imputed_data_test, columns=features)\n",
    "\n",
    "# # Reverse the one-hot encoding\n",
    "# reversed_data_train = encoder.inverse_transform(train_imputed_df)\n",
    "# reversed_data_val  = encoder.inverse_transform(val_imputed_df)\n",
    "# reversed_data_test = encoder.inverse_transform(test_imputed_df)\n",
    "\n",
    "# # Convert back to original DataFrame format\n",
    "# train_df = pd.DataFrame(reversed_data_train, columns=data.columns)\n",
    "# val_df = pd.DataFrame(reversed_data_val, columns=data.columns)\n",
    "# test_df = pd.DataFrame(reversed_data_test, columns=data.columns)"
   ]
  },
  {
   "cell_type": "code",
   "execution_count": 232,
   "id": "c84481df",
   "metadata": {},
   "outputs": [],
   "source": [
    "timputer = KNNImputer(n_neighbors=3)\n",
    "imputed_data = imputer.fit_transform(train_df[features])\n",
    "imputed_data_val = imputer.fit(val_df[features])\n",
    "imputed_data_test = imputer.fit(test_df[features])"
   ]
  },
  {
   "cell_type": "code",
   "execution_count": 233,
   "id": "0e7f3a11",
   "metadata": {},
   "outputs": [
    {
     "data": {
      "text/plain": [
       "type_of_vehicle_bus/mini bus          0.0\n",
       "type_of_vehicle_hatchback             0.0\n",
       "type_of_vehicle_luxury sedan          0.0\n",
       "type_of_vehicle_mid-sized sedan       0.0\n",
       "type_of_vehicle_mpv                   0.0\n",
       "type_of_vehicle_others                0.0\n",
       "type_of_vehicle_sports car            0.0\n",
       "type_of_vehicle_stationwagon          0.0\n",
       "type_of_vehicle_suv                   0.0\n",
       "type_of_vehicle_truck                 1.0\n",
       "type_of_vehicle_van                   0.0\n",
       "power                               110.0\n",
       "engine_cap                         2999.0\n",
       "fuel_type_diesel                      1.0\n",
       "fuel_type_diesel-electric             0.0\n",
       "fuel_type_electric                    0.0\n",
       "fuel_type_petrol                      0.0\n",
       "fuel_type_petrol-electric             0.0\n",
       "fuel_type_nan                         0.0\n",
       "Name: 0, dtype: float64"
      ]
     },
     "execution_count": 233,
     "metadata": {},
     "output_type": "execute_result"
    }
   ],
   "source": [
    "train_df[features].iloc[0]\n"
   ]
  },
  {
   "cell_type": "code",
   "execution_count": 234,
   "id": "df0eb713",
   "metadata": {},
   "outputs": [
    {
     "data": {
      "text/plain": [
       "(20000, 19)"
      ]
     },
     "execution_count": 234,
     "metadata": {},
     "output_type": "execute_result"
    }
   ],
   "source": [
    "imputed_data.shape"
   ]
  },
  {
   "cell_type": "code",
   "execution_count": 235,
   "id": "342c2d55",
   "metadata": {},
   "outputs": [],
   "source": [
    "# train_imputed_df = pd.DataFrame(imputed_data, columns=features)\n",
    "# val_imputed_df = pd.DataFrame(imputed_data_val, columns=features)\n",
    "# test_imputed_df = pd.DataFrame(imputed_data_test, columns=features)"
   ]
  },
  {
   "cell_type": "code",
   "execution_count": 236,
   "id": "364339df",
   "metadata": {},
   "outputs": [
    {
     "data": {
      "text/plain": [
       "array(['transmission_manual'], dtype=object)"
      ]
     },
     "execution_count": 236,
     "metadata": {},
     "output_type": "execute_result"
    }
   ],
   "source": [
    "encoder.get_feature_names_out()"
   ]
  },
  {
   "cell_type": "markdown",
   "id": "5ce61c40",
   "metadata": {},
   "source": [
    "### Cylinder Count"
   ]
  },
  {
   "cell_type": "code",
   "execution_count": 237,
   "id": "25c7636a",
   "metadata": {},
   "outputs": [],
   "source": [
    "cylinder_count_extractor = CylinderExtractor()\n",
    "\n",
    "train_df = cylinder_count_extractor.transform(train_df)\n",
    "val_df = cylinder_count_extractor.transform(val_df) \n",
    "test_df = cylinder_count_extractor.transform(test_df) "
   ]
  },
  {
   "cell_type": "code",
   "execution_count": 238,
   "id": "5de7c21b",
   "metadata": {},
   "outputs": [],
   "source": [
    "cylinder_imputer = CylinderImputer()\n",
    "train_df = cylinder_imputer.fit_transform(train_df) # 1479 rows missing\n",
    "val_df = cylinder_imputer.transform(val_df) # 334 rows missing\n",
    "test_df = cylinder_imputer.transform(test_df)\n",
    "\n",
    "# Many rows are missing, impute using median values\n",
    "imputer = SimpleImputer(strategy='median')\n",
    "train_df['cylinder_cnt'] = imputer.fit_transform(train_df[['cylinder_cnt']])\n",
    "val_df['cylinder_cnt'] = imputer.transform(val_df[['cylinder_cnt']])\n",
    "test_df['cylinder_cnt'] = imputer.transform(test_df[['cylinder_cnt']])"
   ]
  },
  {
   "cell_type": "markdown",
   "id": "b4fa35a4",
   "metadata": {},
   "source": [
    "### Category Parser"
   ]
  },
  {
   "cell_type": "code",
   "execution_count": 239,
   "id": "3a5bcb64",
   "metadata": {},
   "outputs": [],
   "source": [
    "category_parser = CategoryParser()\n",
    "train_df = category_parser.fit_transform(train_df) \n",
    "val_df = category_parser.transform(val_df) \n",
    "test_df = category_parser.transform(test_df) "
   ]
  },
  {
   "cell_type": "markdown",
   "id": "d9b5cdda",
   "metadata": {},
   "source": [
    "### CO2 Emission Data"
   ]
  },
  {
   "cell_type": "code",
   "execution_count": 240,
   "id": "8db7fb34",
   "metadata": {},
   "outputs": [],
   "source": [
    "train_csv_dir_path = \"./dataset/train_data_scrapped_co2_emission.csv\"\n",
    "test_csv_dir_path = \"./dataset/test_data_scrapped_co2_emission.csv\"\n",
    "emission_imputer = EmissionImputer(train_csv_dir=train_csv_dir_path, test_csv_dir=test_csv_dir_path)\n",
    "\n",
    "train_df = emission_imputer.impute_values(df=train_df,df_type=\"train\")\n",
    "val_df = emission_imputer.impute_values(df=val_df,df_type=\"train\")\n",
    "test_df = emission_imputer.impute_values(df=test_df,df_type=\"test\")"
   ]
  },
  {
   "cell_type": "code",
   "execution_count": 241,
   "id": "81d4d87b",
   "metadata": {},
   "outputs": [],
   "source": [
    "# Many rows are missing, impute using median values\n",
    "imputer = SimpleImputer(strategy='median')\n",
    "train_df['emission_data'] = imputer.fit_transform(train_df[['emission_data']])\n",
    "val_df['emission_data'] = imputer.transform(val_df[['emission_data']])\n",
    "test_df['emission_data'] = imputer.transform(test_df[['emission_data']])"
   ]
  },
  {
   "cell_type": "markdown",
   "id": "bdc668ec",
   "metadata": {},
   "source": [
    "## All KNN imputers are put at the back"
   ]
  },
  {
   "cell_type": "markdown",
   "id": "9bd9de7c",
   "metadata": {},
   "source": [
    "### ARF"
   ]
  },
  {
   "cell_type": "code",
   "execution_count": 242,
   "id": "18d3bbe1",
   "metadata": {},
   "outputs": [
    {
     "data": {
      "text/plain": [
       "' Before imputation : 141'"
      ]
     },
     "metadata": {},
     "output_type": "display_data"
    },
    {
     "data": {
      "text/plain": [
       "' After imputation : 0'"
      ]
     },
     "metadata": {},
     "output_type": "display_data"
    }
   ],
   "source": [
    "# Select features relevant for imputation\n",
    "features = ['manufactured', 'reg_date_year', 'omv', 'arf', 'type_of_vehicle_bus/mini bus', 'type_of_vehicle_hatchback',\n",
    "       'type_of_vehicle_luxury sedan', 'type_of_vehicle_mid-sized sedan',\n",
    "       'type_of_vehicle_mpv', 'type_of_vehicle_others',\n",
    "       'type_of_vehicle_sports car', 'type_of_vehicle_stationwagon',\n",
    "       'type_of_vehicle_suv', 'type_of_vehicle_truck', 'type_of_vehicle_van']\n",
    "\n",
    "display(f' Before imputation : {train_df[\"arf\"].isna().sum()}')\n",
    "arf_knn_imputer = GenericKNNImputer(feature=features, neighbours=5, imputed_feature=\"arf\")\n",
    "\n",
    "train_df['arf'] = arf_knn_imputer.fit_transform(train_df)\n",
    "val_df['arf'] = arf_knn_imputer.transform(val_df)\n",
    "test_df['arf'] = arf_knn_imputer.transform(test_df)\n",
    "\n",
    "display(f' After imputation : {train_df[\"arf\"].isna().sum()}')"
   ]
  },
  {
   "cell_type": "markdown",
   "id": "6e8a845e",
   "metadata": {},
   "source": [
    "### Dereg Value"
   ]
  },
  {
   "cell_type": "code",
   "execution_count": 243,
   "id": "ae601571-40ba-43b9-b4a3-dca8ab283603",
   "metadata": {},
   "outputs": [
    {
     "data": {
      "text/plain": [
       "Index(['listing_id', 'title', 'make', 'model', 'description', 'manufactured',\n",
       "       'original_reg_date', 'reg_date', 'type_of_vehicle', 'category',\n",
       "       'transmission', 'curb_weight', 'power', 'fuel_type', 'engine_cap',\n",
       "       'no_of_owners', 'depreciation', 'coe', 'road_tax', 'dereg_value',\n",
       "       'mileage', 'omv', 'arf', 'opc_scheme', 'lifespan', 'eco_category',\n",
       "       'features', 'accessories', 'indicative_price', 'price', 'reg_date_dt',\n",
       "       'reg_date_year', 'reg_date_month', 'model_make', 'coe_age_left',\n",
       "       'age_range', 'car_age', 'type_of_vehicle_bus/mini bus',\n",
       "       'type_of_vehicle_hatchback', 'type_of_vehicle_luxury sedan',\n",
       "       'type_of_vehicle_mid-sized sedan', 'type_of_vehicle_mpv',\n",
       "       'type_of_vehicle_others', 'type_of_vehicle_sports car',\n",
       "       'type_of_vehicle_stationwagon', 'type_of_vehicle_suv',\n",
       "       'type_of_vehicle_truck', 'type_of_vehicle_van', 'fuel_type_diesel',\n",
       "       'fuel_type_diesel-electric', 'fuel_type_electric', 'fuel_type_petrol',\n",
       "       'fuel_type_petrol-electric', 'fuel_type_nan', 'cylinder_cnt', '-',\n",
       "       'almost new car', 'coe car', 'consignment car', 'direct owner sale',\n",
       "       'electric cars', 'hybrid cars', 'imported used vehicle',\n",
       "       'low mileage car', 'opc car', 'parf car', 'premium ad car',\n",
       "       'rare & exotic', 'sgcarmart warranty cars', 'sta evaluated car',\n",
       "       'vintage cars', 'emission_data'],\n",
       "      dtype='object')"
      ]
     },
     "execution_count": 243,
     "metadata": {},
     "output_type": "execute_result"
    }
   ],
   "source": [
    "train_df.columns"
   ]
  },
  {
   "cell_type": "code",
   "execution_count": 244,
   "id": "133cb712",
   "metadata": {},
   "outputs": [
    {
     "data": {
      "text/plain": [
       "' Before imputation : 185'"
      ]
     },
     "metadata": {},
     "output_type": "display_data"
    },
    {
     "data": {
      "text/plain": [
       "' After imputation : 0'"
      ]
     },
     "metadata": {},
     "output_type": "display_data"
    }
   ],
   "source": [
    "# Select features relevant for imputation\n",
    "# features = ['coe_age_left', 'coe', 'dereg_value']\n",
    "features = ['coe_age_left', 'coe', 'dereg_value', 'car_age', 'arf']\n",
    "\n",
    "\n",
    "display(f' Before imputation : {train_df[\"dereg_value\"].isna().sum()}')\n",
    "dereg_value_knn_imputer = GenericKNNImputer(feature=features, neighbours=5, imputed_feature=\"dereg_value\")\n",
    "\n",
    "train_df['dereg_value'] = dereg_value_knn_imputer.fit_transform(train_df)\n",
    "val_df['dereg_value'] = dereg_value_knn_imputer.transform(val_df)\n",
    "test_df['dereg_value'] = dereg_value_knn_imputer.transform(test_df)\n",
    "\n",
    "display(f' After imputation : {train_df[\"dereg_value\"].isna().sum()}')"
   ]
  },
  {
   "cell_type": "markdown",
   "id": "38992a56",
   "metadata": {},
   "source": [
    "### Road Tax"
   ]
  },
  {
   "cell_type": "code",
   "execution_count": 245,
   "id": "763bf784",
   "metadata": {},
   "outputs": [
    {
     "data": {
      "text/plain": [
       "' Before imputation : 2098'"
      ]
     },
     "metadata": {},
     "output_type": "display_data"
    },
    {
     "data": {
      "text/plain": [
       "' After imputation : 0'"
      ]
     },
     "metadata": {},
     "output_type": "display_data"
    }
   ],
   "source": [
    "features = ['manufactured',\"power\", \"car_age\",\"engine_cap\",'reg_date_year', 'omv', 'arf', \"road_tax\",\n",
    "'type_of_vehicle_bus/mini bus', 'type_of_vehicle_hatchback', 'type_of_vehicle_luxury sedan',\n",
    " 'type_of_vehicle_mid-sized sedan','type_of_vehicle_mpv', \n",
    "       'type_of_vehicle_sports car', 'type_of_vehicle_stationwagon',\n",
    "       'type_of_vehicle_suv', 'type_of_vehicle_truck', 'type_of_vehicle_van']\n",
    "\n",
    "display(f' Before imputation : {train_df[\"road_tax\"].isna().sum()}')\n",
    "road_tax_knn_imputer = GenericKNNImputer(feature=features, neighbours=5, imputed_feature=\"road_tax\")\n",
    "\n",
    "train_df['road_tax'] = road_tax_knn_imputer.fit_transform(train_df)\n",
    "val_df['road_tax'] = road_tax_knn_imputer.transform(val_df)\n",
    "test_df['road_tax'] = road_tax_knn_imputer.transform(test_df)\n",
    "\n",
    "display(f' After imputation : {train_df[\"road_tax\"].isna().sum()}')"
   ]
  },
  {
   "cell_type": "code",
   "execution_count": 246,
   "id": "ebf19f05-cc49-4d7c-b20a-53942beed116",
   "metadata": {},
   "outputs": [],
   "source": [
    "# train_df = train_df.dropna(subset=['mileage'])\n",
    "# val_df = val_df.dropna(subset=['mileage'])"
   ]
  },
  {
   "cell_type": "code",
   "execution_count": 247,
   "id": "5162269e",
   "metadata": {},
   "outputs": [],
   "source": [
    "## Saving dataset\n",
    "train_df.to_csv(\"./dataset/train_data_cleaned.csv\", index=False)\n",
    "val_df.to_csv(\"./dataset/val_data_cleaned.csv\", index=False)\n",
    "test_df.to_csv(\"./dataset/test_data_cleaned.csv\", index=False)"
   ]
  },
  {
   "cell_type": "markdown",
   "id": "48694da0-c052-4e01-9b9b-86132f62898c",
   "metadata": {},
   "source": [
    "### features "
   ]
  },
  {
   "cell_type": "markdown",
   "id": "6650db78-6564-492a-884b-c92dd8cba461",
   "metadata": {},
   "source": [
    "## Training models"
   ]
  },
  {
   "cell_type": "code",
   "execution_count": 48,
   "id": "51f3b689-2d2b-43b4-98e4-f6c2ea8670f6",
   "metadata": {},
   "outputs": [
    {
     "data": {
      "text/plain": [
       "curb_weight                        0\n",
       "power                              0\n",
       "cylinder_cnt                       0\n",
       "omv                                0\n",
       "dereg_value                        0\n",
       "car_age                            0\n",
       "depreciation                       0\n",
       "arf                                0\n",
       "coe                                0\n",
       "road_tax                           0\n",
       "engine_cap                         0\n",
       "depreciation                       0\n",
       "mileage                            0\n",
       "no_of_owners                       0\n",
       "type_of_vehicle_bus/mini bus       0\n",
       "type_of_vehicle_hatchback          0\n",
       "type_of_vehicle_luxury sedan       0\n",
       "type_of_vehicle_mid-sized sedan    0\n",
       "type_of_vehicle_mpv                0\n",
       "type_of_vehicle_others             0\n",
       "type_of_vehicle_sports car         0\n",
       "type_of_vehicle_stationwagon       0\n",
       "type_of_vehicle_suv                0\n",
       "type_of_vehicle_truck              0\n",
       "type_of_vehicle_van                0\n",
       "dtype: int64"
      ]
     },
     "execution_count": 48,
     "metadata": {},
     "output_type": "execute_result"
    }
   ],
   "source": [
    "# display(HTML(train_df.head(50).to_html()))\n",
    "# 'dereg_value', 'car_age', 'depreciation', 'arf','coe', 'road_tax',\n",
    "features = ['curb_weight', 'power', 'cylinder_cnt', 'omv', 'dereg_value', 'car_age', 'depreciation', 'arf','coe', 'road_tax',\n",
    "       'engine_cap', 'depreciation', 'mileage', 'no_of_owners','type_of_vehicle_bus/mini bus', 'type_of_vehicle_hatchback',\n",
    "       'type_of_vehicle_luxury sedan', 'type_of_vehicle_mid-sized sedan',\n",
    "       'type_of_vehicle_mpv', 'type_of_vehicle_others',\n",
    "       'type_of_vehicle_sports car', 'type_of_vehicle_stationwagon',\n",
    "       'type_of_vehicle_suv', 'type_of_vehicle_truck', 'type_of_vehicle_van']\n",
    "\n",
    "train_df[features].isna().sum()"
   ]
  },
  {
   "cell_type": "code",
   "execution_count": 49,
   "id": "a773043d",
   "metadata": {},
   "outputs": [],
   "source": [
    "# Scale dataset\n",
    "scaler = MinMaxScaler()\n",
    "imputer = SimpleImputer(strategy='median')\n",
    "\n",
    "imputer.fit(train_df[features])\n",
    "\n",
    "# Split data into training and test sets\n",
    "train_df[features] = imputer.transform(train_df[features])\n",
    "val_df[features] = imputer.transform(val_df[features])\n",
    "test_df[features] = imputer.transform(test_df[features])\n",
    "\n",
    "# Fit and transform the numerical columns\n",
    "train_df[features] = scaler.fit_transform(train_df[features])\n",
    "val_df[features] = scaler.transform(val_df[features])\n",
    "test_df[features] = scaler.transform(test_df[features])"
   ]
  },
  {
   "cell_type": "code",
   "execution_count": 50,
   "id": "4e41c3d5",
   "metadata": {},
   "outputs": [],
   "source": [
    "X_train = train_df[features]\n",
    "y_train = train_df['price']\n",
    "\n",
    "X_val = val_df[features]\n",
    "y_val = val_df['price']"
   ]
  },
  {
   "cell_type": "code",
   "execution_count": 51,
   "id": "934fce46-011d-468f-a05c-f0357ab19fb1",
   "metadata": {},
   "outputs": [
    {
     "name": "stdout",
     "output_type": "stream",
     "text": [
      "Model Tuning Starttime :: 2024-11-09 15:35:59.927718\n"
     ]
    },
    {
     "ename": "KeyboardInterrupt",
     "evalue": "",
     "output_type": "error",
     "traceback": [
      "\u001b[1;31m---------------------------------------------------------------------------\u001b[0m",
      "\u001b[1;31mKeyboardInterrupt\u001b[0m                         Traceback (most recent call last)",
      "Cell \u001b[1;32mIn[51], line 13\u001b[0m\n\u001b[0;32m      5\u001b[0m params \u001b[38;5;241m=\u001b[39m {\n\u001b[0;32m      6\u001b[0m     \u001b[38;5;124m'\u001b[39m\u001b[38;5;124mn_estimators\u001b[39m\u001b[38;5;124m'\u001b[39m: np\u001b[38;5;241m.\u001b[39marange(\u001b[38;5;241m50\u001b[39m,\u001b[38;5;241m350\u001b[39m,\u001b[38;5;241m50\u001b[39m),\n\u001b[0;32m      7\u001b[0m     \u001b[38;5;124m'\u001b[39m\u001b[38;5;124mmax_depth\u001b[39m\u001b[38;5;124m'\u001b[39m: np\u001b[38;5;241m.\u001b[39marange(\u001b[38;5;241m2\u001b[39m,\u001b[38;5;241m10\u001b[39m,\u001b[38;5;241m2\u001b[39m),\n\u001b[0;32m      8\u001b[0m     \u001b[38;5;124m'\u001b[39m\u001b[38;5;124mmin_samples_split\u001b[39m\u001b[38;5;124m'\u001b[39m: np\u001b[38;5;241m.\u001b[39marange(\u001b[38;5;241m10\u001b[39m ,\u001b[38;5;241m60\u001b[39m,\u001b[38;5;241m10\u001b[39m),\n\u001b[0;32m      9\u001b[0m }\n\u001b[0;32m     12\u001b[0m \u001b[38;5;66;03m# Example for Random Forest with accuracy scoring and KFold validation\u001b[39;00m\n\u001b[1;32m---> 13\u001b[0m tuner, best_params, tuner_results \u001b[38;5;241m=\u001b[39m \u001b[43mregressor\u001b[49m\u001b[38;5;241;43m.\u001b[39;49m\u001b[43mhyperparameter_tuning\u001b[49m\u001b[43m(\u001b[49m\n\u001b[0;32m     14\u001b[0m \u001b[43m    \u001b[49m\u001b[43mdf_tuple\u001b[49m\u001b[38;5;241;43m=\u001b[39;49m\u001b[43m(\u001b[49m\u001b[43mX_train\u001b[49m\u001b[43m,\u001b[49m\u001b[43m \u001b[49m\u001b[43my_train\u001b[49m\u001b[43m)\u001b[49m\u001b[43m,\u001b[49m\u001b[43m   \u001b[49m\u001b[38;5;66;43;03m# The training data (X, y)\u001b[39;49;00m\n\u001b[0;32m     15\u001b[0m \u001b[43m    \u001b[49m\u001b[43mscore_metric\u001b[49m\u001b[38;5;241;43m=\u001b[39;49m\u001b[38;5;124;43m'\u001b[39;49m\u001b[38;5;124;43mneg_root_mean_squared_error\u001b[39;49m\u001b[38;5;124;43m'\u001b[39;49m\u001b[43m,\u001b[49m\u001b[43m       \u001b[49m\u001b[38;5;66;43;03m# Scoring metric\u001b[39;49;00m\n\u001b[0;32m     16\u001b[0m \u001b[43m    \u001b[49m\u001b[43mkfold_type\u001b[49m\u001b[38;5;241;43m=\u001b[39;49m\u001b[38;5;124;43m'\u001b[39;49m\u001b[38;5;124;43mkfold\u001b[39;49m\u001b[38;5;124;43m'\u001b[39;49m\u001b[43m,\u001b[49m\u001b[43m            \u001b[49m\u001b[38;5;66;43;03m# Type of fold (KFold used here)\u001b[39;49;00m\n\u001b[0;32m     17\u001b[0m \u001b[43m    \u001b[49m\u001b[43mn_splits\u001b[49m\u001b[38;5;241;43m=\u001b[39;49m\u001b[38;5;241;43m5\u001b[39;49m\u001b[43m,\u001b[49m\u001b[43m                    \u001b[49m\u001b[38;5;66;43;03m# Number of splits for KFold\u001b[39;49;00m\n\u001b[0;32m     18\u001b[0m \u001b[43m    \u001b[49m\u001b[43mparams\u001b[49m\u001b[38;5;241;43m=\u001b[39;49m\u001b[43mparams\u001b[49m\u001b[43m,\u001b[49m\u001b[43m                 \u001b[49m\u001b[38;5;66;43;03m# Hyperparameter grid to search\u001b[39;49;00m\n\u001b[0;32m     19\u001b[0m \u001b[43m    \u001b[49m\u001b[43mmodel_name\u001b[49m\u001b[38;5;241;43m=\u001b[39;49m\u001b[38;5;124;43m'\u001b[39;49m\u001b[38;5;124;43mrandom_forest\u001b[39;49m\u001b[38;5;124;43m'\u001b[39;49m\u001b[43m      \u001b[49m\u001b[38;5;66;43;03m# Model to use (Random Forest in this case)\u001b[39;49;00m\n\u001b[0;32m     20\u001b[0m \u001b[43m)\u001b[49m\n\u001b[0;32m     22\u001b[0m \u001b[38;5;66;03m# 4. View the best hyperparameters and fit the model\u001b[39;00m\n\u001b[0;32m     23\u001b[0m \u001b[38;5;28mprint\u001b[39m(\u001b[38;5;124mf\u001b[39m\u001b[38;5;124m\"\u001b[39m\u001b[38;5;124mBest Parameters: \u001b[39m\u001b[38;5;132;01m{\u001b[39;00mbest_params\u001b[38;5;132;01m}\u001b[39;00m\u001b[38;5;124m\"\u001b[39m)\n",
      "File \u001b[1;32m~\\Desktop\\Kan Hon\\Admin\\NUS MComp\\AY2425_Sem1\\CS5228\\cs5228-project\\CS5228_project\\utils\\models.py:98\u001b[0m, in \u001b[0;36mRegression.hyperparameter_tuning\u001b[1;34m(self, df_tuple, score_metric, kfold_type, n_splits, params, model_name)\u001b[0m\n\u001b[0;32m     85\u001b[0m \u001b[38;5;28mprint\u001b[39m(\u001b[38;5;124mf\u001b[39m\u001b[38;5;124m\"\u001b[39m\u001b[38;5;124mModel Tuning Starttime :: \u001b[39m\u001b[38;5;132;01m{\u001b[39;00mdt\u001b[38;5;241m.\u001b[39mdatetime\u001b[38;5;241m.\u001b[39mnow()\u001b[38;5;132;01m}\u001b[39;00m\u001b[38;5;124m\"\u001b[39m)\n\u001b[0;32m     87\u001b[0m \u001b[38;5;66;03m# Grid search to do hyperparameter tuning\u001b[39;00m\n\u001b[0;32m     88\u001b[0m tuner \u001b[38;5;241m=\u001b[39m \u001b[43mGridSearchCV\u001b[49m\u001b[43m(\u001b[49m\n\u001b[0;32m     89\u001b[0m \u001b[43m    \u001b[49m\u001b[38;5;28;43mself\u001b[39;49m\u001b[38;5;241;43m.\u001b[39;49m\u001b[43m_model_manager\u001b[49m\u001b[43m(\u001b[49m\u001b[43mmodel_name\u001b[49m\u001b[43m)\u001b[49m\u001b[43m,\u001b[49m\n\u001b[0;32m     90\u001b[0m \u001b[43m    \u001b[49m\u001b[43mparam_grid\u001b[49m\u001b[38;5;241;43m=\u001b[39;49m\u001b[43mparams\u001b[49m\u001b[43m,\u001b[49m\n\u001b[0;32m     91\u001b[0m \u001b[43m    \u001b[49m\u001b[43mscoring\u001b[49m\u001b[38;5;241;43m=\u001b[39;49m\u001b[43mscore_metric\u001b[49m\u001b[43m,\u001b[49m\n\u001b[0;32m     92\u001b[0m \u001b[43m    \u001b[49m\u001b[43mcv\u001b[49m\u001b[38;5;241;43m=\u001b[39;49m\u001b[38;5;28;43mself\u001b[39;49m\u001b[38;5;241;43m.\u001b[39;49m\u001b[43m_fold_generator\u001b[49m\u001b[43m(\u001b[49m\n\u001b[0;32m     93\u001b[0m \u001b[43m        \u001b[49m\u001b[43mkfold_type\u001b[49m\u001b[38;5;241;43m=\u001b[39;49m\u001b[43mkfold_type\u001b[49m\u001b[43m,\u001b[49m\n\u001b[0;32m     94\u001b[0m \u001b[43m        \u001b[49m\u001b[43mn_splits\u001b[49m\u001b[38;5;241;43m=\u001b[39;49m\u001b[43mn_splits\u001b[49m\n\u001b[0;32m     95\u001b[0m \u001b[43m    \u001b[49m\u001b[43m)\u001b[49m\u001b[43m,\u001b[49m\n\u001b[0;32m     96\u001b[0m \u001b[43m    \u001b[49m\u001b[43mn_jobs\u001b[49m\u001b[38;5;241;43m=\u001b[39;49m\u001b[38;5;241;43m5\u001b[39;49m\u001b[43m,\u001b[49m\n\u001b[0;32m     97\u001b[0m \u001b[43m    \u001b[49m\u001b[43mrefit\u001b[49m\u001b[38;5;241;43m=\u001b[39;49m\u001b[38;5;28;43;01mTrue\u001b[39;49;00m\n\u001b[1;32m---> 98\u001b[0m \u001b[43m\u001b[49m\u001b[43m)\u001b[49m\u001b[38;5;241;43m.\u001b[39;49m\u001b[43mfit\u001b[49m\u001b[43m(\u001b[49m\u001b[43mx_train\u001b[49m\u001b[43m \u001b[49m\u001b[43m,\u001b[49m\u001b[43m \u001b[49m\u001b[43my_train\u001b[49m\u001b[43m \u001b[49m\u001b[43m)\u001b[49m\n\u001b[0;32m    100\u001b[0m \u001b[38;5;28mprint\u001b[39m(\u001b[38;5;124mf\u001b[39m\u001b[38;5;124m\"\u001b[39m\u001b[38;5;124mModel Tuning Completed :: \u001b[39m\u001b[38;5;132;01m{\u001b[39;00mdt\u001b[38;5;241m.\u001b[39mdatetime\u001b[38;5;241m.\u001b[39mnow()\u001b[38;5;132;01m}\u001b[39;00m\u001b[38;5;124m\"\u001b[39m)\n\u001b[0;32m    102\u001b[0m best_params \u001b[38;5;241m=\u001b[39m tuner\u001b[38;5;241m.\u001b[39mbest_params_\n",
      "File \u001b[1;32m~\\.conda\\envs\\cs5228\\lib\\site-packages\\sklearn\\base.py:1473\u001b[0m, in \u001b[0;36m_fit_context.<locals>.decorator.<locals>.wrapper\u001b[1;34m(estimator, *args, **kwargs)\u001b[0m\n\u001b[0;32m   1466\u001b[0m     estimator\u001b[38;5;241m.\u001b[39m_validate_params()\n\u001b[0;32m   1468\u001b[0m \u001b[38;5;28;01mwith\u001b[39;00m config_context(\n\u001b[0;32m   1469\u001b[0m     skip_parameter_validation\u001b[38;5;241m=\u001b[39m(\n\u001b[0;32m   1470\u001b[0m         prefer_skip_nested_validation \u001b[38;5;129;01mor\u001b[39;00m global_skip_validation\n\u001b[0;32m   1471\u001b[0m     )\n\u001b[0;32m   1472\u001b[0m ):\n\u001b[1;32m-> 1473\u001b[0m     \u001b[38;5;28;01mreturn\u001b[39;00m fit_method(estimator, \u001b[38;5;241m*\u001b[39margs, \u001b[38;5;241m*\u001b[39m\u001b[38;5;241m*\u001b[39mkwargs)\n",
      "File \u001b[1;32m~\\.conda\\envs\\cs5228\\lib\\site-packages\\sklearn\\model_selection\\_search.py:1018\u001b[0m, in \u001b[0;36mBaseSearchCV.fit\u001b[1;34m(self, X, y, **params)\u001b[0m\n\u001b[0;32m   1012\u001b[0m     results \u001b[38;5;241m=\u001b[39m \u001b[38;5;28mself\u001b[39m\u001b[38;5;241m.\u001b[39m_format_results(\n\u001b[0;32m   1013\u001b[0m         all_candidate_params, n_splits, all_out, all_more_results\n\u001b[0;32m   1014\u001b[0m     )\n\u001b[0;32m   1016\u001b[0m     \u001b[38;5;28;01mreturn\u001b[39;00m results\n\u001b[1;32m-> 1018\u001b[0m \u001b[38;5;28;43mself\u001b[39;49m\u001b[38;5;241;43m.\u001b[39;49m\u001b[43m_run_search\u001b[49m\u001b[43m(\u001b[49m\u001b[43mevaluate_candidates\u001b[49m\u001b[43m)\u001b[49m\n\u001b[0;32m   1020\u001b[0m \u001b[38;5;66;03m# multimetric is determined here because in the case of a callable\u001b[39;00m\n\u001b[0;32m   1021\u001b[0m \u001b[38;5;66;03m# self.scoring the return type is only known after calling\u001b[39;00m\n\u001b[0;32m   1022\u001b[0m first_test_score \u001b[38;5;241m=\u001b[39m all_out[\u001b[38;5;241m0\u001b[39m][\u001b[38;5;124m\"\u001b[39m\u001b[38;5;124mtest_scores\u001b[39m\u001b[38;5;124m\"\u001b[39m]\n",
      "File \u001b[1;32m~\\.conda\\envs\\cs5228\\lib\\site-packages\\sklearn\\model_selection\\_search.py:1572\u001b[0m, in \u001b[0;36mGridSearchCV._run_search\u001b[1;34m(self, evaluate_candidates)\u001b[0m\n\u001b[0;32m   1570\u001b[0m \u001b[38;5;28;01mdef\u001b[39;00m \u001b[38;5;21m_run_search\u001b[39m(\u001b[38;5;28mself\u001b[39m, evaluate_candidates):\n\u001b[0;32m   1571\u001b[0m \u001b[38;5;250m    \u001b[39m\u001b[38;5;124;03m\"\"\"Search all candidates in param_grid\"\"\"\u001b[39;00m\n\u001b[1;32m-> 1572\u001b[0m     \u001b[43mevaluate_candidates\u001b[49m\u001b[43m(\u001b[49m\u001b[43mParameterGrid\u001b[49m\u001b[43m(\u001b[49m\u001b[38;5;28;43mself\u001b[39;49m\u001b[38;5;241;43m.\u001b[39;49m\u001b[43mparam_grid\u001b[49m\u001b[43m)\u001b[49m\u001b[43m)\u001b[49m\n",
      "File \u001b[1;32m~\\.conda\\envs\\cs5228\\lib\\site-packages\\sklearn\\model_selection\\_search.py:964\u001b[0m, in \u001b[0;36mBaseSearchCV.fit.<locals>.evaluate_candidates\u001b[1;34m(candidate_params, cv, more_results)\u001b[0m\n\u001b[0;32m    956\u001b[0m \u001b[38;5;28;01mif\u001b[39;00m \u001b[38;5;28mself\u001b[39m\u001b[38;5;241m.\u001b[39mverbose \u001b[38;5;241m>\u001b[39m \u001b[38;5;241m0\u001b[39m:\n\u001b[0;32m    957\u001b[0m     \u001b[38;5;28mprint\u001b[39m(\n\u001b[0;32m    958\u001b[0m         \u001b[38;5;124m\"\u001b[39m\u001b[38;5;124mFitting \u001b[39m\u001b[38;5;132;01m{0}\u001b[39;00m\u001b[38;5;124m folds for each of \u001b[39m\u001b[38;5;132;01m{1}\u001b[39;00m\u001b[38;5;124m candidates,\u001b[39m\u001b[38;5;124m\"\u001b[39m\n\u001b[0;32m    959\u001b[0m         \u001b[38;5;124m\"\u001b[39m\u001b[38;5;124m totalling \u001b[39m\u001b[38;5;132;01m{2}\u001b[39;00m\u001b[38;5;124m fits\u001b[39m\u001b[38;5;124m\"\u001b[39m\u001b[38;5;241m.\u001b[39mformat(\n\u001b[0;32m    960\u001b[0m             n_splits, n_candidates, n_candidates \u001b[38;5;241m*\u001b[39m n_splits\n\u001b[0;32m    961\u001b[0m         )\n\u001b[0;32m    962\u001b[0m     )\n\u001b[1;32m--> 964\u001b[0m out \u001b[38;5;241m=\u001b[39m \u001b[43mparallel\u001b[49m\u001b[43m(\u001b[49m\n\u001b[0;32m    965\u001b[0m \u001b[43m    \u001b[49m\u001b[43mdelayed\u001b[49m\u001b[43m(\u001b[49m\u001b[43m_fit_and_score\u001b[49m\u001b[43m)\u001b[49m\u001b[43m(\u001b[49m\n\u001b[0;32m    966\u001b[0m \u001b[43m        \u001b[49m\u001b[43mclone\u001b[49m\u001b[43m(\u001b[49m\u001b[43mbase_estimator\u001b[49m\u001b[43m)\u001b[49m\u001b[43m,\u001b[49m\n\u001b[0;32m    967\u001b[0m \u001b[43m        \u001b[49m\u001b[43mX\u001b[49m\u001b[43m,\u001b[49m\n\u001b[0;32m    968\u001b[0m \u001b[43m        \u001b[49m\u001b[43my\u001b[49m\u001b[43m,\u001b[49m\n\u001b[0;32m    969\u001b[0m \u001b[43m        \u001b[49m\u001b[43mtrain\u001b[49m\u001b[38;5;241;43m=\u001b[39;49m\u001b[43mtrain\u001b[49m\u001b[43m,\u001b[49m\n\u001b[0;32m    970\u001b[0m \u001b[43m        \u001b[49m\u001b[43mtest\u001b[49m\u001b[38;5;241;43m=\u001b[39;49m\u001b[43mtest\u001b[49m\u001b[43m,\u001b[49m\n\u001b[0;32m    971\u001b[0m \u001b[43m        \u001b[49m\u001b[43mparameters\u001b[49m\u001b[38;5;241;43m=\u001b[39;49m\u001b[43mparameters\u001b[49m\u001b[43m,\u001b[49m\n\u001b[0;32m    972\u001b[0m \u001b[43m        \u001b[49m\u001b[43msplit_progress\u001b[49m\u001b[38;5;241;43m=\u001b[39;49m\u001b[43m(\u001b[49m\u001b[43msplit_idx\u001b[49m\u001b[43m,\u001b[49m\u001b[43m \u001b[49m\u001b[43mn_splits\u001b[49m\u001b[43m)\u001b[49m\u001b[43m,\u001b[49m\n\u001b[0;32m    973\u001b[0m \u001b[43m        \u001b[49m\u001b[43mcandidate_progress\u001b[49m\u001b[38;5;241;43m=\u001b[39;49m\u001b[43m(\u001b[49m\u001b[43mcand_idx\u001b[49m\u001b[43m,\u001b[49m\u001b[43m \u001b[49m\u001b[43mn_candidates\u001b[49m\u001b[43m)\u001b[49m\u001b[43m,\u001b[49m\n\u001b[0;32m    974\u001b[0m \u001b[43m        \u001b[49m\u001b[38;5;241;43m*\u001b[39;49m\u001b[38;5;241;43m*\u001b[39;49m\u001b[43mfit_and_score_kwargs\u001b[49m\u001b[43m,\u001b[49m\n\u001b[0;32m    975\u001b[0m \u001b[43m    \u001b[49m\u001b[43m)\u001b[49m\n\u001b[0;32m    976\u001b[0m \u001b[43m    \u001b[49m\u001b[38;5;28;43;01mfor\u001b[39;49;00m\u001b[43m \u001b[49m\u001b[43m(\u001b[49m\u001b[43mcand_idx\u001b[49m\u001b[43m,\u001b[49m\u001b[43m \u001b[49m\u001b[43mparameters\u001b[49m\u001b[43m)\u001b[49m\u001b[43m,\u001b[49m\u001b[43m \u001b[49m\u001b[43m(\u001b[49m\u001b[43msplit_idx\u001b[49m\u001b[43m,\u001b[49m\u001b[43m \u001b[49m\u001b[43m(\u001b[49m\u001b[43mtrain\u001b[49m\u001b[43m,\u001b[49m\u001b[43m \u001b[49m\u001b[43mtest\u001b[49m\u001b[43m)\u001b[49m\u001b[43m)\u001b[49m\u001b[43m \u001b[49m\u001b[38;5;129;43;01min\u001b[39;49;00m\u001b[43m \u001b[49m\u001b[43mproduct\u001b[49m\u001b[43m(\u001b[49m\n\u001b[0;32m    977\u001b[0m \u001b[43m        \u001b[49m\u001b[38;5;28;43menumerate\u001b[39;49m\u001b[43m(\u001b[49m\u001b[43mcandidate_params\u001b[49m\u001b[43m)\u001b[49m\u001b[43m,\u001b[49m\n\u001b[0;32m    978\u001b[0m \u001b[43m        \u001b[49m\u001b[38;5;28;43menumerate\u001b[39;49m\u001b[43m(\u001b[49m\u001b[43mcv\u001b[49m\u001b[38;5;241;43m.\u001b[39;49m\u001b[43msplit\u001b[49m\u001b[43m(\u001b[49m\u001b[43mX\u001b[49m\u001b[43m,\u001b[49m\u001b[43m \u001b[49m\u001b[43my\u001b[49m\u001b[43m,\u001b[49m\u001b[43m \u001b[49m\u001b[38;5;241;43m*\u001b[39;49m\u001b[38;5;241;43m*\u001b[39;49m\u001b[43mrouted_params\u001b[49m\u001b[38;5;241;43m.\u001b[39;49m\u001b[43msplitter\u001b[49m\u001b[38;5;241;43m.\u001b[39;49m\u001b[43msplit\u001b[49m\u001b[43m)\u001b[49m\u001b[43m)\u001b[49m\u001b[43m,\u001b[49m\n\u001b[0;32m    979\u001b[0m \u001b[43m    \u001b[49m\u001b[43m)\u001b[49m\n\u001b[0;32m    980\u001b[0m \u001b[43m\u001b[49m\u001b[43m)\u001b[49m\n\u001b[0;32m    982\u001b[0m \u001b[38;5;28;01mif\u001b[39;00m \u001b[38;5;28mlen\u001b[39m(out) \u001b[38;5;241m<\u001b[39m \u001b[38;5;241m1\u001b[39m:\n\u001b[0;32m    983\u001b[0m     \u001b[38;5;28;01mraise\u001b[39;00m \u001b[38;5;167;01mValueError\u001b[39;00m(\n\u001b[0;32m    984\u001b[0m         \u001b[38;5;124m\"\u001b[39m\u001b[38;5;124mNo fits were performed. \u001b[39m\u001b[38;5;124m\"\u001b[39m\n\u001b[0;32m    985\u001b[0m         \u001b[38;5;124m\"\u001b[39m\u001b[38;5;124mWas the CV iterator empty? \u001b[39m\u001b[38;5;124m\"\u001b[39m\n\u001b[0;32m    986\u001b[0m         \u001b[38;5;124m\"\u001b[39m\u001b[38;5;124mWere there no candidates?\u001b[39m\u001b[38;5;124m\"\u001b[39m\n\u001b[0;32m    987\u001b[0m     )\n",
      "File \u001b[1;32m~\\.conda\\envs\\cs5228\\lib\\site-packages\\sklearn\\utils\\parallel.py:74\u001b[0m, in \u001b[0;36mParallel.__call__\u001b[1;34m(self, iterable)\u001b[0m\n\u001b[0;32m     69\u001b[0m config \u001b[38;5;241m=\u001b[39m get_config()\n\u001b[0;32m     70\u001b[0m iterable_with_config \u001b[38;5;241m=\u001b[39m (\n\u001b[0;32m     71\u001b[0m     (_with_config(delayed_func, config), args, kwargs)\n\u001b[0;32m     72\u001b[0m     \u001b[38;5;28;01mfor\u001b[39;00m delayed_func, args, kwargs \u001b[38;5;129;01min\u001b[39;00m iterable\n\u001b[0;32m     73\u001b[0m )\n\u001b[1;32m---> 74\u001b[0m \u001b[38;5;28;01mreturn\u001b[39;00m \u001b[38;5;28;43msuper\u001b[39;49m\u001b[43m(\u001b[49m\u001b[43m)\u001b[49m\u001b[38;5;241;43m.\u001b[39;49m\u001b[38;5;21;43m__call__\u001b[39;49m\u001b[43m(\u001b[49m\u001b[43miterable_with_config\u001b[49m\u001b[43m)\u001b[49m\n",
      "File \u001b[1;32m~\\.conda\\envs\\cs5228\\lib\\site-packages\\joblib\\parallel.py:2007\u001b[0m, in \u001b[0;36mParallel.__call__\u001b[1;34m(self, iterable)\u001b[0m\n\u001b[0;32m   2001\u001b[0m \u001b[38;5;66;03m# The first item from the output is blank, but it makes the interpreter\u001b[39;00m\n\u001b[0;32m   2002\u001b[0m \u001b[38;5;66;03m# progress until it enters the Try/Except block of the generator and\u001b[39;00m\n\u001b[0;32m   2003\u001b[0m \u001b[38;5;66;03m# reaches the first `yield` statement. This starts the asynchronous\u001b[39;00m\n\u001b[0;32m   2004\u001b[0m \u001b[38;5;66;03m# dispatch of the tasks to the workers.\u001b[39;00m\n\u001b[0;32m   2005\u001b[0m \u001b[38;5;28mnext\u001b[39m(output)\n\u001b[1;32m-> 2007\u001b[0m \u001b[38;5;28;01mreturn\u001b[39;00m output \u001b[38;5;28;01mif\u001b[39;00m \u001b[38;5;28mself\u001b[39m\u001b[38;5;241m.\u001b[39mreturn_generator \u001b[38;5;28;01melse\u001b[39;00m \u001b[38;5;28;43mlist\u001b[39;49m\u001b[43m(\u001b[49m\u001b[43moutput\u001b[49m\u001b[43m)\u001b[49m\n",
      "File \u001b[1;32m~\\.conda\\envs\\cs5228\\lib\\site-packages\\joblib\\parallel.py:1650\u001b[0m, in \u001b[0;36mParallel._get_outputs\u001b[1;34m(self, iterator, pre_dispatch)\u001b[0m\n\u001b[0;32m   1647\u001b[0m     \u001b[38;5;28;01myield\u001b[39;00m\n\u001b[0;32m   1649\u001b[0m     \u001b[38;5;28;01mwith\u001b[39;00m \u001b[38;5;28mself\u001b[39m\u001b[38;5;241m.\u001b[39m_backend\u001b[38;5;241m.\u001b[39mretrieval_context():\n\u001b[1;32m-> 1650\u001b[0m         \u001b[38;5;28;01myield from\u001b[39;00m \u001b[38;5;28mself\u001b[39m\u001b[38;5;241m.\u001b[39m_retrieve()\n\u001b[0;32m   1652\u001b[0m \u001b[38;5;28;01mexcept\u001b[39;00m \u001b[38;5;167;01mGeneratorExit\u001b[39;00m:\n\u001b[0;32m   1653\u001b[0m     \u001b[38;5;66;03m# The generator has been garbage collected before being fully\u001b[39;00m\n\u001b[0;32m   1654\u001b[0m     \u001b[38;5;66;03m# consumed. This aborts the remaining tasks if possible and warn\u001b[39;00m\n\u001b[0;32m   1655\u001b[0m     \u001b[38;5;66;03m# the user if necessary.\u001b[39;00m\n\u001b[0;32m   1656\u001b[0m     \u001b[38;5;28mself\u001b[39m\u001b[38;5;241m.\u001b[39m_exception \u001b[38;5;241m=\u001b[39m \u001b[38;5;28;01mTrue\u001b[39;00m\n",
      "File \u001b[1;32m~\\.conda\\envs\\cs5228\\lib\\site-packages\\joblib\\parallel.py:1762\u001b[0m, in \u001b[0;36mParallel._retrieve\u001b[1;34m(self)\u001b[0m\n\u001b[0;32m   1757\u001b[0m \u001b[38;5;66;03m# If the next job is not ready for retrieval yet, we just wait for\u001b[39;00m\n\u001b[0;32m   1758\u001b[0m \u001b[38;5;66;03m# async callbacks to progress.\u001b[39;00m\n\u001b[0;32m   1759\u001b[0m \u001b[38;5;28;01mif\u001b[39;00m ((\u001b[38;5;28mlen\u001b[39m(\u001b[38;5;28mself\u001b[39m\u001b[38;5;241m.\u001b[39m_jobs) \u001b[38;5;241m==\u001b[39m \u001b[38;5;241m0\u001b[39m) \u001b[38;5;129;01mor\u001b[39;00m\n\u001b[0;32m   1760\u001b[0m     (\u001b[38;5;28mself\u001b[39m\u001b[38;5;241m.\u001b[39m_jobs[\u001b[38;5;241m0\u001b[39m]\u001b[38;5;241m.\u001b[39mget_status(\n\u001b[0;32m   1761\u001b[0m         timeout\u001b[38;5;241m=\u001b[39m\u001b[38;5;28mself\u001b[39m\u001b[38;5;241m.\u001b[39mtimeout) \u001b[38;5;241m==\u001b[39m TASK_PENDING)):\n\u001b[1;32m-> 1762\u001b[0m     \u001b[43mtime\u001b[49m\u001b[38;5;241;43m.\u001b[39;49m\u001b[43msleep\u001b[49m\u001b[43m(\u001b[49m\u001b[38;5;241;43m0.01\u001b[39;49m\u001b[43m)\u001b[49m\n\u001b[0;32m   1763\u001b[0m     \u001b[38;5;28;01mcontinue\u001b[39;00m\n\u001b[0;32m   1765\u001b[0m \u001b[38;5;66;03m# We need to be careful: the job list can be filling up as\u001b[39;00m\n\u001b[0;32m   1766\u001b[0m \u001b[38;5;66;03m# we empty it and Python list are not thread-safe by\u001b[39;00m\n\u001b[0;32m   1767\u001b[0m \u001b[38;5;66;03m# default hence the use of the lock\u001b[39;00m\n",
      "\u001b[1;31mKeyboardInterrupt\u001b[0m: "
     ]
    }
   ],
   "source": [
    "# 2. Initialize the Regression class\n",
    "regressor = Regression()\n",
    "\n",
    "# 3. Define parameters for hyperparameter tuning\n",
    "params = {\n",
    "    'n_estimators': np.arange(50,350,50),\n",
    "    'max_depth': np.arange(2,10,2),\n",
    "    'min_samples_split': np.arange(10 ,60,10),\n",
    "}\n",
    "\n",
    "\n",
    "# Example for Random Forest with accuracy scoring and KFold validation\n",
    "tuner, best_params, tuner_results = regressor.hyperparameter_tuning(\n",
    "    df_tuple=(X_train, y_train),   # The training data (X, y)\n",
    "    score_metric='neg_root_mean_squared_error',       # Scoring metric\n",
    "    kfold_type='kfold',            # Type of fold (KFold used here)\n",
    "    n_splits=5,                    # Number of splits for KFold\n",
    "    params=params,                 # Hyperparameter grid to search\n",
    "    model_name='random_forest'      # Model to use (Random Forest in this case)\n",
    ")\n",
    "\n",
    "# 4. View the best hyperparameters and fit the model\n",
    "print(f\"Best Parameters: {best_params}\")\n",
    "\n",
    "# 5. Use the best model to predict on the test set\n",
    "best_model = tuner.best_estimator_\n"
   ]
  },
  {
   "cell_type": "code",
   "execution_count": null,
   "id": "3dce5935-39d5-401c-8c6c-e555f4dab5b1",
   "metadata": {},
   "outputs": [],
   "source": [
    "# Save model \n",
    "model_name = \"random_forest_v4\"\n",
    "save_path = f\"./model_assets\"\n",
    "\n",
    "# Save the trained model\n",
    "joblib.dump(best_model, f\"{save_path}/{model_name}.joblib\")"
   ]
  },
  {
   "cell_type": "code",
   "execution_count": null,
   "id": "e91b19f1",
   "metadata": {},
   "outputs": [],
   "source": [
    "model_name = \"random_forest_v4\"\n",
    "save_path = f\"./model_assets\"\n",
    "\n",
    "model = joblib.load(f\"{save_path}/{model_name}.joblib\")\n",
    "reg_evaluate = RegressionEvaluate(model_weight_path= save_path)\n",
    "reg_evaluate.mini_reg_evaluate(df_train_tuple=(X_train, y_train),\n",
    "                            df_valid_tuple=( X_val,y_val),model_name=model_name, save_path=save_path)"
   ]
  },
  {
   "cell_type": "code",
   "execution_count": null,
   "id": "75acb0f3",
   "metadata": {},
   "outputs": [],
   "source": [
    "model_name = \"random_forest_v4\"\n",
    "save_path = f\"./model_assets\"\n",
    "\n",
    "reg_evaluate = RegressionEvaluate(model_weight_path= save_path)\n",
    "reg_evaluate._plot_feature_immportance(model_name, features)"
   ]
  },
  {
   "cell_type": "code",
   "execution_count": null,
   "id": "57221656",
   "metadata": {},
   "outputs": [],
   "source": [
    "model_name = \"random_forest_v3\"\n",
    "save_path = f\"./model_assets\"\n",
    "\n",
    "reg_evaluate.mini_reg_evaluate(df_train_tuple=(X_train, y_train),\n",
    "df_valid_tuple=( X_val,y_val),model_name=model_name, save_path=save_path)"
   ]
  },
  {
   "cell_type": "code",
   "execution_count": null,
   "id": "4ca7c209",
   "metadata": {},
   "outputs": [],
   "source": [
    "## Retrain the model\n",
    "# Train + Valid (Retrain on the whole model)\n",
    "# best params\n",
    "# all data\n",
    "\n",
    "all_x = pd.concat([train_df[features],val_df[features]])\n",
    "all_y = pd.concat([train_df[\"price\"],val_df[\"price\"]])\n",
    "final_model = tuner.fit(X_train, y_train)\n"
   ]
  },
  {
   "cell_type": "code",
   "execution_count": null,
   "id": "2687a69e",
   "metadata": {},
   "outputs": [],
   "source": [
    "final_model.best_estimator_"
   ]
  },
  {
   "cell_type": "code",
   "execution_count": null,
   "id": "fa307c19-923d-4e97-9d12-4d5079fa8ff3",
   "metadata": {},
   "outputs": [],
   "source": [
    "model = joblib.load(f\"{save_path}/{model_name}.joblib\")\n",
    "X_test = _infer_type(test_df[features])\n",
    "y_test_pred = final_model.predict(X_test)\n",
    "submission = pd.DataFrame(y_test_pred).reset_index().rename(columns={\"index\":\"Id\", 0:\"Predicted\"})\n",
    "submission.to_csv(f\"submission/submission_{model_name}_.csv\")"
   ]
  },
  {
   "cell_type": "code",
   "execution_count": null,
   "id": "bb9ed458",
   "metadata": {},
   "outputs": [],
   "source": []
  }
 ],
 "metadata": {
  "kernelspec": {
   "display_name": "cs5228",
   "language": "python",
   "name": "cs5228"
  },
  "language_info": {
   "codemirror_mode": {
    "name": "ipython",
    "version": 3
   },
   "file_extension": ".py",
   "mimetype": "text/x-python",
   "name": "python",
   "nbconvert_exporter": "python",
   "pygments_lexer": "ipython3",
   "version": "3.10.14"
  }
 },
 "nbformat": 4,
 "nbformat_minor": 5
}
