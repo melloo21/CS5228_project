{
 "cells": [
  {
   "cell_type": "code",
   "execution_count": 1,
   "id": "8c44143c-834f-49b2-a126-acffa14efa06",
   "metadata": {},
   "outputs": [],
   "source": [
    "import os\n",
    "import time\n",
    "import numpy as np\n",
    "import pandas as pd\n",
    "import seaborn as sns\n",
    "import plotly.express as px\n",
    "from datetime import datetime\n",
    "\n",
    "from IPython.display import display, HTML\n",
    "from sklearn.impute import SimpleImputer\n",
    "from sklearn.preprocessing import OneHotEncoder\n",
    "from sklearn.preprocessing import MultiLabelBinarizer\n",
    "from sklearn.model_selection import train_test_split\n",
    "\n",
    "%load_ext autoreload\n",
    "%autoreload 2\n",
    "\n",
    "import plotly.io as pio\n",
    "pio.renderers.default = 'iframe'"
   ]
  },
  {
   "cell_type": "code",
   "execution_count": 2,
   "id": "0b31d26f",
   "metadata": {},
   "outputs": [],
   "source": [
    "## Local Utils File\n",
    "from utils.eda import *\n",
    "from utils.kanhon_utils import *\n",
    "from utils.melissa_imputers import *\n",
    "from utils.melissa_utils import *\n",
    "from utils.Bhushan_utils import *\n",
    "from utils.lta_omv_scraper import *\n",
    "from utils.models import Regression"
   ]
  },
  {
   "cell_type": "markdown",
   "id": "f054fec4",
   "metadata": {},
   "source": [
    "## Feature Processing"
   ]
  },
  {
   "cell_type": "markdown",
   "id": "efa7f906",
   "metadata": {},
   "source": [
    "### Test Data preview"
   ]
  },
  {
   "cell_type": "code",
   "execution_count": 3,
   "id": "f9dd642e",
   "metadata": {},
   "outputs": [
    {
     "data": {
      "image/png": "[encoded data removed]",
      "text/plain": [
       "<Figure size 1200x300 with 1 Axes>"
      ]
     },
     "metadata": {},
     "output_type": "display_data"
    }
   ],
   "source": [
    "test_df = pd.read_csv(r\"./dataset/test.csv\")\n",
    "test_df['model'] = test_df['model'].apply(lambda x:x.replace('(', ''))\n",
    "test_df['reg_date_dt'] = test_df['reg_date'].apply(lambda x: datetime.strptime(x, \"%d-%b-%Y\"))\n",
    "test_df['reg_date_year'] = test_df['reg_date_dt'].apply(lambda x:x.year)\n",
    "test_df['reg_date_month'] = test_df['reg_date_dt'].apply(lambda x:x.month)\n",
    "\n",
    "plt.rcParams['figure.figsize'] = (12, 3)\n",
    "sns.set()\n",
    "\n",
    "number_nans = test_df.apply(lambda row: sum(map(isnan, row)), axis=1)\n",
    "sns.histplot(number_nans, discrete=True)\n",
    "plt.xlabel('[Test Dataset] Number of NaN columns')\n",
    "plt.show()"
   ]
  },
  {
   "cell_type": "markdown",
   "id": "1cae1db6-f244-4a47-a53f-51a6be4511e4",
   "metadata": {},
   "source": [
    "### Read and clean dataset"
   ]
  },
  {
   "cell_type": "code",
   "execution_count": 4,
   "id": "0ce295a1-88ee-4ee4-8762-ef883ff4c13e",
   "metadata": {},
   "outputs": [],
   "source": [
    "orig_df = pd.read_csv(r\"./dataset/train.csv\")\n",
    "\n",
    "# clean model\n",
    "orig_df['model'] = orig_df['model'].apply(lambda x:x.replace('(', ''))\n",
    "orig_df['reg_date_dt'] = orig_df['reg_date'].apply(lambda x: datetime.strptime(x, \"%d-%b-%Y\"))\n",
    "orig_df['reg_date_year'] = orig_df['reg_date_dt'].apply(lambda x:x.year)\n",
    "orig_df['reg_date_month'] = orig_df['reg_date_dt'].apply(lambda x:x.month)\n",
    "\n",
    "# Adding additional feature for imputation later\n",
    "# train_df[\"model_make\"] = train_df.model + \"_\" + train_df.make"
   ]
  },
  {
   "cell_type": "markdown",
   "id": "ef5ca8ff",
   "metadata": {},
   "source": [
    "General overview of Nan Columns"
   ]
  },
  {
   "cell_type": "code",
   "execution_count": 5,
   "id": "50f6ac9d",
   "metadata": {},
   "outputs": [],
   "source": [
    "## Split into train val split\n",
    "train_df, val_df = train_test_split(orig_df, test_size=0.2, random_state=42, shuffle=True)"
   ]
  },
  {
   "cell_type": "markdown",
   "id": "92f207df-84d2-49d2-b640-fce0891bbd05",
   "metadata": {},
   "source": [
    "### Fill missing 'make' info from title"
   ]
  },
  {
   "cell_type": "code",
   "execution_count": 6,
   "id": "03009600-322c-4c15-b098-cd0aec0a8c16",
   "metadata": {},
   "outputs": [],
   "source": [
    "make_df = pd.read_csv(r\"./dataset/make.csv\")\n",
    "make_ls = [make.lower() for make in make_df['Make List'].unique()]"
   ]
  },
  {
   "cell_type": "code",
   "execution_count": 7,
   "id": "67e866a0-2550-4cd7-9c15-765524c80c6a",
   "metadata": {},
   "outputs": [],
   "source": [
    "make_model_imputer = MakeModelImputer(make_ls)\n",
    "\n",
    "train_df = make_model_imputer.transform(train_df)\n",
    "val_df = make_model_imputer.transform(val_df) \n",
    "test_df = make_model_imputer.transform(test_df) "
   ]
  },
  {
   "cell_type": "code",
   "execution_count": 8,
   "id": "5cc1173e-3396-4f6e-8e85-9b6dea45733a",
   "metadata": {},
   "outputs": [],
   "source": [
    "# Generating model make imputer\n",
    "train_df[\"model_make\"] = train_df.model + \"_\" + train_df.make\n",
    "val_df[\"model_make\"] = val_df.model + \"_\" + val_df.make\n",
    "test_df[\"model_make\"] = test_df.model + \"_\" + test_df.make"
   ]
  },
  {
   "cell_type": "markdown",
   "id": "3d0dd578-8072-49ca-8c9e-6e68e0dc560a",
   "metadata": {},
   "source": [
    "### type_of_vehicle"
   ]
  },
  {
   "cell_type": "code",
   "execution_count": 9,
   "id": "68ebf9ef",
   "metadata": {},
   "outputs": [
    {
     "name": "stdout",
     "output_type": "stream",
     "text": [
      "Number of model_make unable to be inputted 0\n"
     ]
    }
   ],
   "source": [
    "# For each model and make check the type of vehicles count\n",
    "unique_list = display_feature_dist_by_ref_col(df=train_df,feature=\"type_of_vehicle\",ref=\"model_make\")\n",
    "make_models_with_diff_bodies = list()\n",
    "for key, value in unique_list.items():\n",
    "    if len(value) >= 2:\n",
    "        make_models_with_diff_bodies.append(key)"
   ]
  },
  {
   "cell_type": "code",
   "execution_count": 10,
   "id": "ba224015",
   "metadata": {},
   "outputs": [
    {
     "data": {
      "text/html": [
       "<iframe\n",
       "    scrolling=\"no\"\n",
       "    width=\"100%\"\n",
       "    height=\"545px\"\n",
       "    src=\"iframe_figures/figure_10.html\"\n",
       "    frameborder=\"0\"\n",
       "    allowfullscreen\n",
       "></iframe>\n"
      ]
     },
     "metadata": {},
     "output_type": "display_data"
    }
   ],
   "source": [
    "# Assuming you have a DataFrame 'train_df' with columns 'type_of_vehicle' and 'price'\n",
    "fig = px.box(train_df, x=\"type_of_vehicle\", y='price', points=\"all\")\n",
    "\n",
    "# Update the layout to make the x-axis labels horizontal\n",
    "fig.update_layout(xaxis_tickangle=0)\n",
    "\n",
    "# Show the figure\n",
    "fig.show()"
   ]
  },
  {
   "cell_type": "code",
   "execution_count": 11,
   "id": "4f0c4cc9",
   "metadata": {},
   "outputs": [
    {
     "data": {
      "text/html": [
       "<iframe\n",
       "    scrolling=\"no\"\n",
       "    width=\"100%\"\n",
       "    height=\"545px\"\n",
       "    src=\"iframe_figures/figure_11.html\"\n",
       "    frameborder=\"0\"\n",
       "    allowfullscreen\n",
       "></iframe>\n"
      ]
     },
     "metadata": {},
     "output_type": "display_data"
    }
   ],
   "source": [
    "# Assuming you have a DataFrame 'train_df' with columns 'type_of_vehicle' and 'price'\n",
    "fig = px.scatter(train_df, x=\"omv\", y='price', color=\"type_of_vehicle\",trendline=\"ols\")\n",
    "\n",
    "# Show the figure\n",
    "fig.show()"
   ]
  },
  {
   "cell_type": "code",
   "execution_count": 12,
   "id": "03a24bed",
   "metadata": {},
   "outputs": [],
   "source": [
    "## Processing \n",
    "train_df , vehicle_type_encoder = vehicle_type_fit_transform(train_df, \"type_of_vehicle\")\n",
    "val_df = vehicle_type_fit(val_df, vehicle_type_encoder)\n",
    "test_df = vehicle_type_fit(test_df, vehicle_type_encoder)"
   ]
  },
  {
   "cell_type": "markdown",
   "id": "409ec462-17f7-442a-8129-9736e0879a2c",
   "metadata": {},
   "source": [
    "### curb_weight"
   ]
  },
  {
   "cell_type": "code",
   "execution_count": 13,
   "id": "352fa160-ec59-4685-b69e-fec68fa94473",
   "metadata": {},
   "outputs": [],
   "source": [
    "# Superceeded # display(HTML(train_df.head(50).to_html()))\n",
    "def fill_column_b_with_mean(df, column_a, column_b):\n",
    "    # Calculate the mean of column B grouped by column A\n",
    "    values = df.groupby(column_a)[column_b].agg([\"mean\"]).rename(columns={\"mean\": column_b})[column_b]\n",
    "    \n",
    "    # Iterate over each row in the DataFrame\n",
    "    for index, row in df.iterrows():\n",
    "        # If column B is NaN, fill it with the mean value of column B for the corresponding value in column A\n",
    "        if pd.isna(row[column_b]):\n",
    "            df.at[index, column_b] = values[row[column_a]]\n",
    "    return df"
   ]
  },
  {
   "cell_type": "code",
   "execution_count": 14,
   "id": "e543141f-6b13-4eff-a1c6-b72879a09da9",
   "metadata": {},
   "outputs": [],
   "source": [
    "curb_weight_impute = ModelMakeImputer(column_a=\"model_make\", column_b=\"curb_weight\")\n",
    "\n",
    "train_df = curb_weight_impute.fit_transform(train_df) # 82 rows missing\n",
    "val_df = curb_weight_impute.transform(val_df) # 20 rows missing\n",
    "test_df = curb_weight_impute.transform(test_df) # 40 rows missing\n",
    "\n",
    "# Many rows are missing, impute using median values\n",
    "imputer = SimpleImputer(strategy='median')\n",
    "train_df['curb_weight'] = imputer.fit_transform(train_df[['curb_weight']])\n",
    "val_df['curb_weight'] = imputer.transform(val_df[['curb_weight']])\n",
    "test_df['curb_weight'] = imputer.transform(test_df[['curb_weight']])"
   ]
  },
  {
   "cell_type": "markdown",
   "id": "a980b57d-49d0-450d-a1c7-19746693cd1e",
   "metadata": {},
   "source": [
    "### power "
   ]
  },
  {
   "cell_type": "code",
   "execution_count": 15,
   "id": "e7712399-9cf4-4e15-bf0a-0b7f76dbaaf1",
   "metadata": {},
   "outputs": [],
   "source": [
    "power_impute = ModelMakeImputer(column_a=\"model_make\", column_b=\"power\")\n",
    "\n",
    "train_df = power_impute.fit_transform(train_df) # 1537 rows missing\n",
    "val_df = power_impute.transform(val_df) # 379 rows missing\n",
    "test_df = power_impute.transform(test_df) # 789 rows missing\n",
    "\n",
    "# Many rows are missing, impute using median values\n",
    "imputer = SimpleImputer(strategy='median')\n",
    "train_df['power'] = imputer.fit_transform(train_df[['power']])\n",
    "val_df['power'] = imputer.transform(val_df[['power']])\n",
    "test_df['power'] = imputer.transform(test_df[['power']])"
   ]
  },
  {
   "cell_type": "markdown",
   "id": "48c18e85-8d3e-4faa-89bb-c753f1e1bbb8",
   "metadata": {},
   "source": [
    "### engine_cap "
   ]
  },
  {
   "cell_type": "code",
   "execution_count": 16,
   "id": "8d506c51-2468-41a3-a1fe-57932e3445a7",
   "metadata": {},
   "outputs": [],
   "source": [
    "engine_impute = ModelMakeImputer(column_a=\"model_make\", column_b=\"engine_cap\")\n",
    "\n",
    "train_df = engine_impute.fit_transform(train_df) # 384 rows missing\n",
    "val_df = engine_impute.transform(val_df) # 97 rows missing\n",
    "test_df = engine_impute.transform(test_df) # 186 rows missing\n",
    "\n",
    "# Many rows are missing, impute using median values\n",
    "imputer = SimpleImputer(strategy='median')\n",
    "train_df['engine_cap'] = imputer.fit_transform(train_df[['engine_cap']])\n",
    "val_df['engine_cap'] = imputer.transform(val_df[['engine_cap']])\n",
    "test_df['engine_cap'] = imputer.transform(test_df[['engine_cap']])"
   ]
  },
  {
   "cell_type": "markdown",
   "id": "38810de4-7064-4737-8000-1f5f29379587",
   "metadata": {},
   "source": [
    "### no_of_owners"
   ]
  },
  {
   "cell_type": "code",
   "execution_count": 17,
   "id": "0ebc8bf6",
   "metadata": {},
   "outputs": [
    {
     "data": {
      "text/plain": [
       "' Before imputation : 11'"
      ]
     },
     "metadata": {},
     "output_type": "display_data"
    },
    {
     "name": "stdout",
     "output_type": "stream",
     "text": [
      "19989\n",
      "[Number of months per owner]  ->  [mean = 49.10992045625093, median = 41.666666666666664, mode = 29.0]\n"
     ]
    },
    {
     "data": {
      "text/plain": [
       "' After imputation : 0'"
      ]
     },
     "metadata": {},
     "output_type": "display_data"
    }
   ],
   "source": [
    "## New method\n",
    "display(f' Before imputation : {train_df[\"no_of_owners\"].isna().sum()}')\n",
    "\n",
    "owner_impute = OwnerImputer()\n",
    "\n",
    "train_df = owner_impute.fit_transform(df=train_df)\n",
    "val_df = owner_impute.transform(val_df)\n",
    "test_df = owner_impute.transform(test_df)\n",
    "display(f' After imputation : {train_df[\"no_of_owners\"].isna().sum()}')"
   ]
  },
  {
   "cell_type": "markdown",
   "id": "786732be",
   "metadata": {},
   "source": [
    "### Manufactured"
   ]
  },
  {
   "cell_type": "code",
   "execution_count": 18,
   "id": "49fd98d9",
   "metadata": {},
   "outputs": [],
   "source": [
    "# Manufactured\n",
    "\n",
    "train_df['effective_reg_date'] = train_df['original_reg_date'].fillna(train_df['reg_date'])\n",
    "train_df = train_df.drop(columns=['original_reg_date'])\n",
    "\n",
    "train_df['effective_reg_date'] = pd.to_datetime(train_df['effective_reg_date'], errors='coerce', format='%d-%b-%Y')\n",
    "train_df['manufactured'] = train_df['manufactured'].fillna(train_df['effective_reg_date'].dt.year)\n",
    "\n",
    "val_df['effective_reg_date'] = val_df['original_reg_date'].fillna(val_df['reg_date'])\n",
    "val_df = val_df.drop(columns=['original_reg_date'])\n",
    "\n",
    "val_df['effective_reg_date'] = pd.to_datetime(val_df['effective_reg_date'], errors='coerce', format='%d-%b-%Y')\n",
    "val_df['manufactured'] = val_df['manufactured'].fillna(val_df['effective_reg_date'].dt.year)\n",
    "\n",
    "test_df['effective_reg_date'] = test_df['original_reg_date'].fillna(test_df['reg_date'])\n",
    "test_df = test_df.drop(columns=['original_reg_date'])\n",
    "\n",
    "test_df['effective_reg_date'] = pd.to_datetime(test_df['effective_reg_date'], errors='coerce', format='%d-%b-%Y')\n",
    "test_df['manufactured'] = test_df['manufactured'].fillna(test_df['effective_reg_date'].dt.year)"
   ]
  },
  {
   "cell_type": "code",
   "execution_count": 19,
   "id": "07844cd4",
   "metadata": {},
   "outputs": [],
   "source": [
    "# Car age\n",
    "\n",
    "train_df = calc_vehicle_age(train_df)\n",
    "val_df = calc_vehicle_age(val_df)\n",
    "test_df = calc_vehicle_age(test_df)"
   ]
  },
  {
   "cell_type": "markdown",
   "id": "41f7547f-25b1-4122-bdc5-92606380738e",
   "metadata": {},
   "source": [
    "### depreciation "
   ]
  },
  {
   "cell_type": "code",
   "execution_count": 20,
   "id": "309447a7-8818-4242-9756-0e9d6360d022",
   "metadata": {},
   "outputs": [],
   "source": [
    "# Imputation using make, model and car age - Dependency on 'car_age'\n",
    "depreciation_imputer = DepreciationImputer()\n",
    "train_df = depreciation_imputer.fit_transform(train_df) # 96 empty records\n",
    "val_df = depreciation_imputer.transform(val_df) # 9 empty records\n",
    "\n",
    "# Median imputation for remaining records\n",
    "imputer = SimpleImputer(strategy='median')\n",
    "train_df['depreciation'] = imputer.fit_transform(train_df[['depreciation']])\n",
    "val_df['depreciation'] = imputer.transform(val_df[['depreciation']])\n",
    "test_df['depreciation'] = imputer.transform(test_df[['depreciation']])"
   ]
  },
  {
   "cell_type": "markdown",
   "id": "e26a98a9",
   "metadata": {},
   "source": [
    "### Transmission"
   ]
  },
  {
   "cell_type": "code",
   "execution_count": 21,
   "id": "e043c72a",
   "metadata": {},
   "outputs": [
    {
     "name": "stdout",
     "output_type": "stream",
     "text": [
      "[ True False] transmission_auto\n",
      "True     18660\n",
      "False     1340\n",
      "Name: count, dtype: int64\n"
     ]
    }
   ],
   "source": [
    "# Transmission\n",
    "\n",
    "# One-hot encoding\n",
    "train_df = pd.get_dummies(train_df, columns=['transmission'], prefix='transmission')\n",
    "train_df.drop('transmission_manual', axis=1, inplace=True)\n",
    "\n",
    "unique_transmissions = train_df['transmission_auto'].unique()\n",
    "transmission_counts = train_df['transmission_auto'].value_counts()\n",
    "print(unique_transmissions, transmission_counts)"
   ]
  },
  {
   "cell_type": "markdown",
   "id": "193ef2ca-2e22-47a2-94b0-50cff583f8c3",
   "metadata": {},
   "source": [
    "### dereg_value"
   ]
  },
  {
   "cell_type": "code",
   "execution_count": null,
   "id": "2648db4a-22b8-431c-9392-cff5b274cd70",
   "metadata": {},
   "outputs": [],
   "source": []
  },
  {
   "cell_type": "markdown",
   "id": "ad910b8a-c00d-4e9b-950a-fe8a741f2185",
   "metadata": {},
   "source": [
    "### mileage   "
   ]
  },
  {
   "cell_type": "code",
   "execution_count": 22,
   "id": "6e16b8e8",
   "metadata": {},
   "outputs": [
    {
     "data": {
      "text/plain": [
       "' Before imputation : 4248'"
      ]
     },
     "metadata": {},
     "output_type": "display_data"
    },
    {
     "name": "stdout",
     "output_type": "stream",
     "text": [
      "[Miles per month]  ->  [mean = 991.4079634320296, median = 965.602776533811, mode = 1000.0]\n"
     ]
    },
    {
     "data": {
      "text/plain": [
       "' After imputation : 0'"
      ]
     },
     "metadata": {},
     "output_type": "display_data"
    }
   ],
   "source": [
    "display(f' Before imputation : {train_df[\"mileage\"].isna().sum()}')\n",
    "## New method\n",
    "\n",
    "mileage_impute = mileageImputer()\n",
    "\n",
    "train_df = mileage_impute.fit_transform(df=train_df)\n",
    "val_df = mileage_impute.transform(val_df)\n",
    "test_df = mileage_impute.transform(test_df)\n",
    "\n",
    "display(f' After imputation : {train_df[\"mileage\"].isna().sum()}')"
   ]
  },
  {
   "cell_type": "markdown",
   "id": "7ffe3971-8ace-4178-b070-37cad3e59022",
   "metadata": {},
   "source": [
    "### omv "
   ]
  },
  {
   "cell_type": "code",
   "execution_count": 23,
   "id": "027ac5fb-c31a-43aa-9832-f4f642c7231e",
   "metadata": {},
   "outputs": [],
   "source": [
    "csv_filename = r'./dataset/lta_omv_data.csv'\n",
    "\n",
    "if os.path.exists(csv_filename):\n",
    "    df_lta_car_data = pd.read_csv(csv_filename)\n",
    "else:\n",
    "    result_ls = get_lta_omv_data(2002, 2025)\n",
    "    df_lta_car_data = preprocess_lta_omv_data(result_ls)\n",
    "    df_lta_car_data.to_csv(csv_filename)\n",
    "\n",
    "lta_data_imputer = LTADataImputer(df_lta_car_data)\n",
    "\n",
    "train_df = lta_data_imputer.transform(train_df) # before transform: 49 rows missing, after transform: 24 rows missing\n",
    "val_df = lta_data_imputer.transform(val_df) # before transform: 15 rows missing, after transform: 9 rows missing\n",
    "test_df = lta_data_imputer.transform(test_df) \n",
    "\n",
    "imputer = SimpleImputer(strategy='median')\n",
    "train_df['omv'] = imputer.fit_transform(train_df[['omv']])\n",
    "val_df['omv'] = imputer.transform(val_df[['omv']])\n",
    "test_df['omv'] = imputer.transform(test_df[['omv']])"
   ]
  },
  {
   "cell_type": "code",
   "execution_count": 24,
   "id": "8725dcb4-ef66-460f-b54e-83016f25c473",
   "metadata": {},
   "outputs": [],
   "source": [
    "# Superceeded code\n",
    "def impute_using_lta_data(row):\n",
    "    # print(row)\n",
    "    if not np.isnan(row['omv']):\n",
    "        return row['omv']\n",
    "    else:\n",
    "        make = row['make']\n",
    "        model = row['model']\n",
    "        year = row['reg_date_year']\n",
    "        lookup_by_make_model_year = df_lta_car_data[(df_lta_car_data['make_clean'] == make) & (df_lta_car_data['model_split'].str.contains(model)) & (df_lta_car_data['year'] == year)]\n",
    "        \n",
    "        lookup_by_make_model = df_lta_car_data[(df_lta_car_data['make_clean'] == make) & (df_lta_car_data['model_split'].str.contains(model))]\n",
    "\n",
    "        lookup_by_make = df_lta_car_data[(df_lta_car_data['make_clean'] == make)]\n",
    "        \n",
    "        if not lookup_by_make_model_year.empty:\n",
    "            # print('lookup_by_make_model_year')\n",
    "            return lookup_by_make_model_year['omv_clean'].mean()\n",
    "        elif not lookup_by_make_model.empty:\n",
    "            # print('lookup_by_make_model')\n",
    "            return lookup_by_make_model['omv_clean'].mean()\n",
    "        elif not lookup_by_make.empty:\n",
    "            # print('lookup_by_make')\n",
    "            return lookup_by_make['omv_clean'].mean()\n",
    "        else: \n",
    "            return None\n",
    "\n",
    "# train_df['omv_new'] = train_df['omv']\n",
    "# train_df['omv_new'] = train_df.apply(impute_using_lta_data, axis=1)\n",
    "# train_df['omv_new'] = train_df['omv_new'].fillna(train_df['omv_new'].mean())\n",
    "\n",
    "# train_df.info()"
   ]
  },
  {
   "cell_type": "markdown",
   "id": "f17b72de",
   "metadata": {},
   "source": [
    "### Lifespan"
   ]
  },
  {
   "cell_type": "code",
   "execution_count": null,
   "id": "ed26deac",
   "metadata": {},
   "outputs": [],
   "source": [
    "display(f' Before imputation : {train_df[\"lifespan\"].isna().sum()}')\n",
    "\n",
    "# Functional Form\n",
    "impute_lifespan(train_df)\n",
    "\n",
    "display(f' After imputation : {train_df[\"lifespan\"].isna().sum()}')"
   ]
  },
  {
   "cell_type": "markdown",
   "id": "8e47c7e0",
   "metadata": {},
   "source": [
    "### Fuel Type"
   ]
  },
  {
   "cell_type": "code",
   "execution_count": 25,
   "id": "af86f061",
   "metadata": {},
   "outputs": [
    {
     "data": {
      "text/html": [
       "<iframe\n",
       "    scrolling=\"no\"\n",
       "    width=\"100%\"\n",
       "    height=\"545px\"\n",
       "    src=\"iframe_figures/figure_25.html\"\n",
       "    frameborder=\"0\"\n",
       "    allowfullscreen\n",
       "></iframe>\n"
      ]
     },
     "metadata": {},
     "output_type": "display_data"
    }
   ],
   "source": [
    "# Assuming you have a DataFrame 'train_df' with columns 'type_of_vehicle' and 'price'\n",
    "fig = px.box(train_df, x=\"fuel_type\", y='price', points=\"all\")\n",
    "\n",
    "# Update the layout to make the x-axis labels horizontal\n",
    "fig.update_layout(xaxis_tickangle=0)\n",
    "\n",
    "# Show the figure\n",
    "fig.show()"
   ]
  },
  {
   "cell_type": "code",
   "execution_count": 26,
   "id": "2e761e66",
   "metadata": {},
   "outputs": [
    {
     "name": "stdout",
     "output_type": "stream",
     "text": [
      "Original Imputation Nan 15339\n",
      "After Imputation Nan 14397\n"
     ]
    },
    {
     "data": {
      "text/html": [
       "<div>\n",
       "<style scoped>\n",
       "    .dataframe tbody tr th:only-of-type {\n",
       "        vertical-align: middle;\n",
       "    }\n",
       "\n",
       "    .dataframe tbody tr th {\n",
       "        vertical-align: top;\n",
       "    }\n",
       "\n",
       "    .dataframe thead th {\n",
       "        text-align: right;\n",
       "    }\n",
       "</style>\n",
       "<table border=\"1\" class=\"dataframe\">\n",
       "  <thead>\n",
       "    <tr style=\"text-align: right;\">\n",
       "      <th></th>\n",
       "      <th>listing_id</th>\n",
       "      <th>title</th>\n",
       "      <th>make</th>\n",
       "      <th>model</th>\n",
       "      <th>description</th>\n",
       "      <th>manufactured</th>\n",
       "      <th>reg_date</th>\n",
       "      <th>type_of_vehicle</th>\n",
       "      <th>category</th>\n",
       "      <th>curb_weight</th>\n",
       "      <th>...</th>\n",
       "      <th>type_of_vehicle_mpv</th>\n",
       "      <th>type_of_vehicle_others</th>\n",
       "      <th>type_of_vehicle_sports car</th>\n",
       "      <th>type_of_vehicle_stationwagon</th>\n",
       "      <th>type_of_vehicle_suv</th>\n",
       "      <th>type_of_vehicle_truck</th>\n",
       "      <th>type_of_vehicle_van</th>\n",
       "      <th>effective_reg_date</th>\n",
       "      <th>car_age</th>\n",
       "      <th>transmission_auto</th>\n",
       "    </tr>\n",
       "  </thead>\n",
       "  <tbody>\n",
       "    <tr>\n",
       "      <th>0</th>\n",
       "      <td>1260733</td>\n",
       "      <td>Isuzu NPR85</td>\n",
       "      <td>isuzu</td>\n",
       "      <td>npr85</td>\n",
       "      <td>cheapest in the market! 14 feet full canopy wi...</td>\n",
       "      <td>2019.0</td>\n",
       "      <td>01-jul-2020</td>\n",
       "      <td>truck</td>\n",
       "      <td>premium ad car</td>\n",
       "      <td>2500.0</td>\n",
       "      <td>...</td>\n",
       "      <td>0.0</td>\n",
       "      <td>0.0</td>\n",
       "      <td>0.0</td>\n",
       "      <td>0.0</td>\n",
       "      <td>0.0</td>\n",
       "      <td>1.0</td>\n",
       "      <td>0.0</td>\n",
       "      <td>2020-07-01</td>\n",
       "      <td>5.0</td>\n",
       "      <td>True</td>\n",
       "    </tr>\n",
       "    <tr>\n",
       "      <th>1</th>\n",
       "      <td>1289505</td>\n",
       "      <td>Honda Fit 1.3A G (COE till 06/2024)</td>\n",
       "      <td>honda</td>\n",
       "      <td>fit</td>\n",
       "      <td>200</td>\n",
       "      <td>2009.0</td>\n",
       "      <td>12-aug-2009</td>\n",
       "      <td>hatchback</td>\n",
       "      <td>coe car</td>\n",
       "      <td>1010.0</td>\n",
       "      <td>...</td>\n",
       "      <td>0.0</td>\n",
       "      <td>0.0</td>\n",
       "      <td>0.0</td>\n",
       "      <td>0.0</td>\n",
       "      <td>0.0</td>\n",
       "      <td>0.0</td>\n",
       "      <td>0.0</td>\n",
       "      <td>2009-08-12</td>\n",
       "      <td>15.0</td>\n",
       "      <td>True</td>\n",
       "    </tr>\n",
       "    <tr>\n",
       "      <th>2</th>\n",
       "      <td>1316182</td>\n",
       "      <td>Toyota Sienta 1.5A</td>\n",
       "      <td>toyota</td>\n",
       "      <td>sienta</td>\n",
       "      <td>non phv. excellent condition. 100% accident fr...</td>\n",
       "      <td>2018.0</td>\n",
       "      <td>28-may-2018</td>\n",
       "      <td>mpv</td>\n",
       "      <td>parf car, premium ad car</td>\n",
       "      <td>1325.0</td>\n",
       "      <td>...</td>\n",
       "      <td>1.0</td>\n",
       "      <td>0.0</td>\n",
       "      <td>0.0</td>\n",
       "      <td>0.0</td>\n",
       "      <td>0.0</td>\n",
       "      <td>0.0</td>\n",
       "      <td>0.0</td>\n",
       "      <td>2018-05-28</td>\n",
       "      <td>6.0</td>\n",
       "      <td>True</td>\n",
       "    </tr>\n",
       "    <tr>\n",
       "      <th>3</th>\n",
       "      <td>1310514</td>\n",
       "      <td>Volvo V40 T4 Momentum</td>\n",
       "      <td>volvo</td>\n",
       "      <td>v40</td>\n",
       "      <td>well maintained! the safety, reliable and dura...</td>\n",
       "      <td>2018.0</td>\n",
       "      <td>30-aug-2019</td>\n",
       "      <td>hatchback</td>\n",
       "      <td>parf car</td>\n",
       "      <td>1441.0</td>\n",
       "      <td>...</td>\n",
       "      <td>0.0</td>\n",
       "      <td>0.0</td>\n",
       "      <td>0.0</td>\n",
       "      <td>0.0</td>\n",
       "      <td>0.0</td>\n",
       "      <td>0.0</td>\n",
       "      <td>0.0</td>\n",
       "      <td>2019-08-30</td>\n",
       "      <td>6.0</td>\n",
       "      <td>True</td>\n",
       "    </tr>\n",
       "    <tr>\n",
       "      <th>4</th>\n",
       "      <td>1247893</td>\n",
       "      <td>Kia Carens 2.0A GDI</td>\n",
       "      <td>kia</td>\n",
       "      <td>carens</td>\n",
       "      <td>rare 1 owner unit! low km done! fully maintain...</td>\n",
       "      <td>2015.0</td>\n",
       "      <td>18-nov-2015</td>\n",
       "      <td>mpv</td>\n",
       "      <td>parf car</td>\n",
       "      <td>1544.0</td>\n",
       "      <td>...</td>\n",
       "      <td>1.0</td>\n",
       "      <td>0.0</td>\n",
       "      <td>0.0</td>\n",
       "      <td>0.0</td>\n",
       "      <td>0.0</td>\n",
       "      <td>0.0</td>\n",
       "      <td>0.0</td>\n",
       "      <td>2015-11-18</td>\n",
       "      <td>9.0</td>\n",
       "      <td>True</td>\n",
       "    </tr>\n",
       "    <tr>\n",
       "      <th>...</th>\n",
       "      <td>...</td>\n",
       "      <td>...</td>\n",
       "      <td>...</td>\n",
       "      <td>...</td>\n",
       "      <td>...</td>\n",
       "      <td>...</td>\n",
       "      <td>...</td>\n",
       "      <td>...</td>\n",
       "      <td>...</td>\n",
       "      <td>...</td>\n",
       "      <td>...</td>\n",
       "      <td>...</td>\n",
       "      <td>...</td>\n",
       "      <td>...</td>\n",
       "      <td>...</td>\n",
       "      <td>...</td>\n",
       "      <td>...</td>\n",
       "      <td>...</td>\n",
       "      <td>...</td>\n",
       "      <td>...</td>\n",
       "      <td>...</td>\n",
       "    </tr>\n",
       "    <tr>\n",
       "      <th>19995</th>\n",
       "      <td>1330095</td>\n",
       "      <td>BMW 3 Series 318i</td>\n",
       "      <td>bmw</td>\n",
       "      <td>318i</td>\n",
       "      <td>0</td>\n",
       "      <td>2015.0</td>\n",
       "      <td>26-feb-2016</td>\n",
       "      <td>luxury sedan</td>\n",
       "      <td>parf car, consignment car, sgcarmart warranty ...</td>\n",
       "      <td>1425.0</td>\n",
       "      <td>...</td>\n",
       "      <td>0.0</td>\n",
       "      <td>0.0</td>\n",
       "      <td>0.0</td>\n",
       "      <td>0.0</td>\n",
       "      <td>0.0</td>\n",
       "      <td>0.0</td>\n",
       "      <td>0.0</td>\n",
       "      <td>2016-02-26</td>\n",
       "      <td>9.0</td>\n",
       "      <td>True</td>\n",
       "    </tr>\n",
       "    <tr>\n",
       "      <th>19996</th>\n",
       "      <td>1300273</td>\n",
       "      <td>Nissan Qashqai 1.2A DIG-T</td>\n",
       "      <td>nissan</td>\n",
       "      <td>qashqai</td>\n",
       "      <td>no repairs needed, buy and drive as it is! one...</td>\n",
       "      <td>2016.0</td>\n",
       "      <td>17-jun-2016</td>\n",
       "      <td>suv</td>\n",
       "      <td>parf car, premium ad car</td>\n",
       "      <td>1285.0</td>\n",
       "      <td>...</td>\n",
       "      <td>0.0</td>\n",
       "      <td>0.0</td>\n",
       "      <td>0.0</td>\n",
       "      <td>0.0</td>\n",
       "      <td>1.0</td>\n",
       "      <td>0.0</td>\n",
       "      <td>0.0</td>\n",
       "      <td>2016-06-17</td>\n",
       "      <td>8.0</td>\n",
       "      <td>True</td>\n",
       "    </tr>\n",
       "    <tr>\n",
       "      <th>19997</th>\n",
       "      <td>1316903</td>\n",
       "      <td>Honda Jazz 1.3A</td>\n",
       "      <td>honda</td>\n",
       "      <td>jazz</td>\n",
       "      <td>1 owner, maintain by honda kah motor, at dicks...</td>\n",
       "      <td>2019.0</td>\n",
       "      <td>10-jul-2019</td>\n",
       "      <td>hatchback</td>\n",
       "      <td>parf car</td>\n",
       "      <td>1052.0</td>\n",
       "      <td>...</td>\n",
       "      <td>0.0</td>\n",
       "      <td>0.0</td>\n",
       "      <td>0.0</td>\n",
       "      <td>0.0</td>\n",
       "      <td>0.0</td>\n",
       "      <td>0.0</td>\n",
       "      <td>0.0</td>\n",
       "      <td>2019-07-10</td>\n",
       "      <td>5.0</td>\n",
       "      <td>True</td>\n",
       "    </tr>\n",
       "    <tr>\n",
       "      <th>19998</th>\n",
       "      <td>1329593</td>\n",
       "      <td>Ferrari 488 GTB</td>\n",
       "      <td>ferrari</td>\n",
       "      <td>488</td>\n",
       "      <td>ital unit with warranty till dec 2024. fully s...</td>\n",
       "      <td>2016.0</td>\n",
       "      <td>03-nov-2016</td>\n",
       "      <td>sports car</td>\n",
       "      <td>parf car, direct owner sale, rare &amp; exotic, lo...</td>\n",
       "      <td>1515.0</td>\n",
       "      <td>...</td>\n",
       "      <td>0.0</td>\n",
       "      <td>0.0</td>\n",
       "      <td>1.0</td>\n",
       "      <td>0.0</td>\n",
       "      <td>0.0</td>\n",
       "      <td>0.0</td>\n",
       "      <td>0.0</td>\n",
       "      <td>2016-11-03</td>\n",
       "      <td>8.0</td>\n",
       "      <td>True</td>\n",
       "    </tr>\n",
       "    <tr>\n",
       "      <th>19999</th>\n",
       "      <td>1321619</td>\n",
       "      <td>BMW 6 Series 630i Cabriolet (COE till 08/2028)</td>\n",
       "      <td>bmw</td>\n",
       "      <td>630i</td>\n",
       "      <td>0</td>\n",
       "      <td>2008.0</td>\n",
       "      <td>29-aug-2008</td>\n",
       "      <td>sports car</td>\n",
       "      <td>coe car, premium ad car</td>\n",
       "      <td>1750.0</td>\n",
       "      <td>...</td>\n",
       "      <td>0.0</td>\n",
       "      <td>0.0</td>\n",
       "      <td>1.0</td>\n",
       "      <td>0.0</td>\n",
       "      <td>0.0</td>\n",
       "      <td>0.0</td>\n",
       "      <td>0.0</td>\n",
       "      <td>2008-08-29</td>\n",
       "      <td>16.0</td>\n",
       "      <td>True</td>\n",
       "    </tr>\n",
       "  </tbody>\n",
       "</table>\n",
       "<p>20000 rows × 46 columns</p>\n",
       "</div>"
      ],
      "text/plain": [
       "       listing_id                                           title     make  \\\n",
       "0         1260733                                     Isuzu NPR85    isuzu   \n",
       "1         1289505             Honda Fit 1.3A G (COE till 06/2024)    honda   \n",
       "2         1316182                              Toyota Sienta 1.5A   toyota   \n",
       "3         1310514                           Volvo V40 T4 Momentum    volvo   \n",
       "4         1247893                             Kia Carens 2.0A GDI      kia   \n",
       "...           ...                                             ...      ...   \n",
       "19995     1330095                               BMW 3 Series 318i      bmw   \n",
       "19996     1300273                       Nissan Qashqai 1.2A DIG-T   nissan   \n",
       "19997     1316903                                 Honda Jazz 1.3A    honda   \n",
       "19998     1329593                                 Ferrari 488 GTB  ferrari   \n",
       "19999     1321619  BMW 6 Series 630i Cabriolet (COE till 08/2028)      bmw   \n",
       "\n",
       "         model                                        description  \\\n",
       "0        npr85  cheapest in the market! 14 feet full canopy wi...   \n",
       "1          fit                                                200   \n",
       "2       sienta  non phv. excellent condition. 100% accident fr...   \n",
       "3          v40  well maintained! the safety, reliable and dura...   \n",
       "4       carens  rare 1 owner unit! low km done! fully maintain...   \n",
       "...        ...                                                ...   \n",
       "19995     318i                                                  0   \n",
       "19996  qashqai  no repairs needed, buy and drive as it is! one...   \n",
       "19997     jazz  1 owner, maintain by honda kah motor, at dicks...   \n",
       "19998      488  ital unit with warranty till dec 2024. fully s...   \n",
       "19999     630i                                                  0   \n",
       "\n",
       "       manufactured     reg_date type_of_vehicle  \\\n",
       "0            2019.0  01-jul-2020           truck   \n",
       "1            2009.0  12-aug-2009       hatchback   \n",
       "2            2018.0  28-may-2018             mpv   \n",
       "3            2018.0  30-aug-2019       hatchback   \n",
       "4            2015.0  18-nov-2015             mpv   \n",
       "...             ...          ...             ...   \n",
       "19995        2015.0  26-feb-2016    luxury sedan   \n",
       "19996        2016.0  17-jun-2016             suv   \n",
       "19997        2019.0  10-jul-2019       hatchback   \n",
       "19998        2016.0  03-nov-2016      sports car   \n",
       "19999        2008.0  29-aug-2008      sports car   \n",
       "\n",
       "                                                category  curb_weight  ...  \\\n",
       "0                                         premium ad car       2500.0  ...   \n",
       "1                                                coe car       1010.0  ...   \n",
       "2                               parf car, premium ad car       1325.0  ...   \n",
       "3                                               parf car       1441.0  ...   \n",
       "4                                               parf car       1544.0  ...   \n",
       "...                                                  ...          ...  ...   \n",
       "19995  parf car, consignment car, sgcarmart warranty ...       1425.0  ...   \n",
       "19996                           parf car, premium ad car       1285.0  ...   \n",
       "19997                                           parf car       1052.0  ...   \n",
       "19998  parf car, direct owner sale, rare & exotic, lo...       1515.0  ...   \n",
       "19999                            coe car, premium ad car       1750.0  ...   \n",
       "\n",
       "       type_of_vehicle_mpv type_of_vehicle_others  type_of_vehicle_sports car  \\\n",
       "0                      0.0                    0.0                         0.0   \n",
       "1                      0.0                    0.0                         0.0   \n",
       "2                      1.0                    0.0                         0.0   \n",
       "3                      0.0                    0.0                         0.0   \n",
       "4                      1.0                    0.0                         0.0   \n",
       "...                    ...                    ...                         ...   \n",
       "19995                  0.0                    0.0                         0.0   \n",
       "19996                  0.0                    0.0                         0.0   \n",
       "19997                  0.0                    0.0                         0.0   \n",
       "19998                  0.0                    0.0                         1.0   \n",
       "19999                  0.0                    0.0                         1.0   \n",
       "\n",
       "       type_of_vehicle_stationwagon  type_of_vehicle_suv  \\\n",
       "0                               0.0                  0.0   \n",
       "1                               0.0                  0.0   \n",
       "2                               0.0                  0.0   \n",
       "3                               0.0                  0.0   \n",
       "4                               0.0                  0.0   \n",
       "...                             ...                  ...   \n",
       "19995                           0.0                  0.0   \n",
       "19996                           0.0                  1.0   \n",
       "19997                           0.0                  0.0   \n",
       "19998                           0.0                  0.0   \n",
       "19999                           0.0                  0.0   \n",
       "\n",
       "       type_of_vehicle_truck  type_of_vehicle_van  effective_reg_date  \\\n",
       "0                        1.0                  0.0          2020-07-01   \n",
       "1                        0.0                  0.0          2009-08-12   \n",
       "2                        0.0                  0.0          2018-05-28   \n",
       "3                        0.0                  0.0          2019-08-30   \n",
       "4                        0.0                  0.0          2015-11-18   \n",
       "...                      ...                  ...                 ...   \n",
       "19995                    0.0                  0.0          2016-02-26   \n",
       "19996                    0.0                  0.0          2016-06-17   \n",
       "19997                    0.0                  0.0          2019-07-10   \n",
       "19998                    0.0                  0.0          2016-11-03   \n",
       "19999                    0.0                  0.0          2008-08-29   \n",
       "\n",
       "       car_age  transmission_auto  \n",
       "0          5.0               True  \n",
       "1         15.0               True  \n",
       "2          6.0               True  \n",
       "3          6.0               True  \n",
       "4          9.0               True  \n",
       "...        ...                ...  \n",
       "19995      9.0               True  \n",
       "19996      8.0               True  \n",
       "19997      5.0               True  \n",
       "19998      8.0               True  \n",
       "19999     16.0               True  \n",
       "\n",
       "[20000 rows x 46 columns]"
      ]
     },
     "execution_count": 26,
     "metadata": {},
     "output_type": "execute_result"
    }
   ],
   "source": [
    "get_fuel_type(train_df)"
   ]
  },
  {
   "cell_type": "markdown",
   "id": "5ce61c40",
   "metadata": {},
   "source": [
    "### Cylinder Count"
   ]
  },
  {
   "cell_type": "code",
   "execution_count": 27,
   "id": "25c7636a",
   "metadata": {},
   "outputs": [],
   "source": [
    "cylinder_count_extractor = CylinderExtractor()\n",
    "\n",
    "train_df = cylinder_count_extractor.transform(train_df)\n",
    "val_df = cylinder_count_extractor.transform(val_df) \n",
    "test_df = cylinder_count_extractor.transform(test_df) "
   ]
  },
  {
   "cell_type": "code",
   "execution_count": 28,
   "id": "5de7c21b",
   "metadata": {},
   "outputs": [],
   "source": [
    "cylinder_imputer = CylinderImputer()\n",
    "train_df = cylinder_imputer.fit_transform(train_df) # 1479 rows missing\n",
    "val_df = cylinder_imputer.transform(val_df) # 334 rows missing\n",
    "test_df = cylinder_imputer.transform(test_df)\n",
    "\n",
    "# Many rows are missing, impute using median values\n",
    "imputer = SimpleImputer(strategy='median')\n",
    "train_df['cylinder_cnt'] = imputer.fit_transform(train_df[['cylinder_cnt']])\n",
    "val_df['cylinder_cnt'] = imputer.transform(val_df[['cylinder_cnt']])\n",
    "test_df['cylinder_cnt'] = imputer.transform(test_df[['cylinder_cnt']])"
   ]
  },
  {
   "cell_type": "markdown",
   "id": "b4fa35a4",
   "metadata": {},
   "source": [
    "### Category Parser"
   ]
  },
  {
   "cell_type": "code",
   "execution_count": 29,
   "id": "3a5bcb64",
   "metadata": {},
   "outputs": [],
   "source": [
    "category_parser = CategoryParser()\n",
    "train_df = category_parser.fit_transform(train_df) \n",
    "val_df = category_parser.transform(val_df) "
   ]
  },
  {
   "cell_type": "markdown",
   "id": "48694da0-c052-4e01-9b9b-86132f62898c",
   "metadata": {},
   "source": [
    "### features "
   ]
  },
  {
   "cell_type": "code",
   "execution_count": 30,
   "id": "1cefc3b6-fef7-42c3-8826-f78b710f4029",
   "metadata": {},
   "outputs": [],
   "source": [
    "train_df['cylinder_cnt'] = train_df['features'].apply(lambda x: extract_cylinder_from_features(x) if pd.notnull(x) else None)\n",
    "cylinder_count_dict = extract_cylinder_by_model_make(train_df)\n",
    "train_df['cylinder_cnt'] = train_df.apply(lambda x:impute_row_by_make_model(x, cylinder_count_dict, 'cylinder_cnt'), axis=1)\n",
    "# fill remaining values with median of 4 cylinder (most common engine)\n",
    "median_cylinder_cnt = train_df['cylinder_cnt'].median(axis=0)\n",
    "train_df['cylinder_cnt'] = train_df['cylinder_cnt'].fillna(median_cylinder_cnt)"
   ]
  },
  {
   "cell_type": "markdown",
   "id": "13609b30",
   "metadata": {},
   "source": [
    "## Transformation"
   ]
  },
  {
   "cell_type": "code",
   "execution_count": 31,
   "id": "33db374b",
   "metadata": {},
   "outputs": [
    {
     "name": "stderr",
     "output_type": "stream",
     "text": [
      "C:\\Users\\Admin\\AppData\\Local\\Packages\\PythonSoftwareFoundation.Python.3.12_qbz5n2kfra8p0\\LocalCache\\local-packages\\Python312\\site-packages\\numpy\\_core\\_methods.py:197: RuntimeWarning:\n",
      "\n",
      "overflow encountered in multiply\n",
      "\n",
      "C:\\Users\\Admin\\AppData\\Local\\Packages\\PythonSoftwareFoundation.Python.3.12_qbz5n2kfra8p0\\LocalCache\\local-packages\\Python312\\site-packages\\numpy\\_core\\_methods.py:208: RuntimeWarning:\n",
      "\n",
      "overflow encountered in reduce\n",
      "\n",
      "C:\\Users\\Admin\\AppData\\Local\\Packages\\PythonSoftwareFoundation.Python.3.12_qbz5n2kfra8p0\\LocalCache\\local-packages\\Python312\\site-packages\\numpy\\_core\\_methods.py:197: RuntimeWarning:\n",
      "\n",
      "overflow encountered in multiply\n",
      "\n",
      "C:\\Users\\Admin\\AppData\\Local\\Packages\\PythonSoftwareFoundation.Python.3.12_qbz5n2kfra8p0\\LocalCache\\local-packages\\Python312\\site-packages\\numpy\\_core\\_methods.py:208: RuntimeWarning:\n",
      "\n",
      "overflow encountered in reduce\n",
      "\n"
     ]
    }
   ],
   "source": [
    "# Yeo-Johnson transformation\n",
    "YJ_features = ['curb_weight', 'power', 'cylinder_cnt', 'omv', 'engine_cap', 'depreciation', 'mileage', 'coe', 'car_age', 'manufactured']\n",
    "train_df = transform_YeoJohnson(train_df, YJ_features)\n",
    "val_df = transform_YeoJohnson(val_df, YJ_features)"
   ]
  },
  {
   "cell_type": "code",
   "execution_count": 32,
   "id": "22f8f232",
   "metadata": {},
   "outputs": [],
   "source": [
    "# Box-Cox Transformation\n",
    "BC_features = ['no_of_owners']\n",
    "train_df = transform_BoxCox(train_df, BC_features)\n",
    "val_df = transform_BoxCox(val_df, BC_features)"
   ]
  },
  {
   "cell_type": "markdown",
   "id": "fb3a7ddd",
   "metadata": {},
   "source": [
    "## Transformation comparison"
   ]
  },
  {
   "cell_type": "code",
   "execution_count": 31,
   "id": "27a4ca77",
   "metadata": {},
   "outputs": [],
   "source": [
    "features = ['curb_weight', 'power', 'cylinder_cnt', 'omv', 'engine_cap', 'depreciation', 'mileage', 'no_of_owners', 'coe', 'car_age', 'manufactured']"
   ]
  },
  {
   "cell_type": "code",
   "execution_count": 32,
   "id": "56a1eaad",
   "metadata": {},
   "outputs": [],
   "source": [
    "from scipy.stats import boxcox, skew\n",
    "from sklearn.preprocessing import PowerTransformer\n",
    "import matplotlib.pyplot as plt\n",
    "\n",
    "train_df['data_type'] = 'train'\n",
    "test_df['data_type'] = 'test'\n",
    "combined_df = pd.concat([train_df, test_df], ignore_index=True)\n",
    "\n",
    "def apply_transformations(feature_values):\n",
    "    transformations = {}\n",
    "    transformations['original'] = feature_values\n",
    "    # Log Transformation (only for positive values)\n",
    "    if (feature_values > 0).all():\n",
    "        transformations['Log'] = np.log1p(feature_values)\n",
    "    else:\n",
    "        transformations['Log'] = None\n",
    "    # Square-root Transformation\n",
    "    transformations['Square Root'] = np.sqrt(feature_values.clip(0))\n",
    "    # Box-Cox Transformation (only for positive values)\n",
    "    if (feature_values > 0).all():\n",
    "        transformations['Box-Cox'], _ = boxcox(feature_values + 1e-6)\n",
    "    else:\n",
    "        transformations['Box-Cox'] = None\n",
    "    # Yeo-Johnson Transformation\n",
    "    yeo_johnson = PowerTransformer(method='yeo-johnson')\n",
    "    transformations['Yeo-Johnson'] = yeo_johnson.fit_transform(feature_values.values.reshape(-1, 1)).flatten()\n",
    "    return transformations"
   ]
  },
  {
   "cell_type": "code",
   "execution_count": null,
   "id": "2c765f01",
   "metadata": {},
   "outputs": [],
   "source": [
    "num_cols = 5  # Number of columns for subplots\n",
    "for feature in features:\n",
    "    transformations = {}\n",
    "    transformations.update(apply_transformations(combined_df[feature]))\n",
    "    \n",
    "    # Prepare plots\n",
    "    fig, axes = plt.subplots(1, num_cols, figsize=(20, 5), constrained_layout=True)\n",
    "    fig.suptitle(f'Transformation Comparison for Feature: {feature}', fontsize=16)\n",
    "\n",
    "    for idx, (transform_name, transformed_values) in enumerate(transformations.items()):\n",
    "        ax = axes[idx]\n",
    "        if transformed_values is not None:\n",
    "            plot_data = pd.DataFrame({\n",
    "                feature: transformed_values,\n",
    "                'data_type': combined_df['data_type']\n",
    "            })\n",
    "            \n",
    "            ax = axes[idx]\n",
    "            sns.histplot(data=plot_data, x=feature, hue='data_type', bins=30, kde=True,\n",
    "                         element='step', ax=ax, alpha=0.7)\n",
    "            # Calculate skewness\n",
    "            skew_val = skew(transformed_values)\n",
    "            ax.set_title(f'{transform_name}\\nSkew: {skew_val:.2f}', fontsize=12)\n",
    "            ax.set_xlabel('Value')\n",
    "            ax.set_ylabel('Frequency')\n",
    "        else:\n",
    "            ax.set_visible(False)\n",
    "            ax.set_title(f'{transform_name} (Not Applicable)', fontsize=12)\n",
    "\n",
    "    plt.show()"
   ]
  },
  {
   "cell_type": "markdown",
   "id": "d6531488-4eea-453b-82be-225787cd792d",
   "metadata": {},
   "source": [
    "## Data normalization"
   ]
  },
  {
   "cell_type": "code",
   "execution_count": null,
   "id": "0065f37d-f61d-413b-a289-9a63e7ca644c",
   "metadata": {
    "scrolled": true
   },
   "outputs": [],
   "source": [
    "display(HTML(train_df.head(5).to_html()))"
   ]
  },
  {
   "cell_type": "code",
   "execution_count": 52,
   "id": "c8ed5bf2-595a-4656-98ac-a2c2f780e268",
   "metadata": {},
   "outputs": [],
   "source": [
    "from sklearn.preprocessing import MinMaxScaler\n",
    "from sklearn.model_selection import train_test_split\n",
    "from sklearn.metrics import mean_squared_error, r2_score\n",
    "from utils.models import Classification\n",
    "from sklearn.impute import SimpleImputer\n"
   ]
  },
  {
   "cell_type": "code",
   "execution_count": 57,
   "id": "b7f2c30e-6c1b-41ae-8dfb-7e864b54652f",
   "metadata": {},
   "outputs": [],
   "source": [
    "\n",
    "features = ['curb_weight_impute', 'power_impute', 'cylinder_cnt', 'omv_new',\n",
    "       'engine_cap_impute', 'depreciation', 'mileage', 'dereg_value']\n",
    "\n",
    "X_train, X_test, y_train, y_test = train_test_split(train_df[features], train_df['price'], test_size=0.3, random_state=42)\n"
   ]
  },
  {
   "cell_type": "code",
   "execution_count": 58,
   "id": "300a2f15-2092-4925-9fc2-7c59261c5e7e",
   "metadata": {},
   "outputs": [],
   "source": [
    "scaler = MinMaxScaler()\n",
    "imputer = SimpleImputer(strategy='median')\n",
    "imputer.fit(X_train[features])\n",
    "\n",
    "X_train[features] = imputer.transform(X_train[features])\n",
    "X_test[features] = imputer.transform(X_test[features])\n",
    "\n",
    "# Fit and transform the numerical columns\n",
    "X_train[features] = scaler.fit_transform(X_train[features])\n",
    "X_test[features] = scaler.transform(X_test[features])"
   ]
  },
  {
   "cell_type": "code",
   "execution_count": null,
   "id": "99553fc5-c8d3-4bbe-b01c-2d9f43014dfd",
   "metadata": {},
   "outputs": [],
   "source": [
    "X_train[features].info()"
   ]
  },
  {
   "cell_type": "code",
   "execution_count": null,
   "id": "3cb2fbf4-f800-48f6-8d73-abb44986d99d",
   "metadata": {},
   "outputs": [],
   "source": []
  },
  {
   "cell_type": "markdown",
   "id": "6650db78-6564-492a-884b-c92dd8cba461",
   "metadata": {},
   "source": [
    "## Training models"
   ]
  },
  {
   "cell_type": "code",
   "execution_count": null,
   "id": "a91ea483",
   "metadata": {},
   "outputs": [],
   "source": [
    "train_df.lifespan"
   ]
  },
  {
   "cell_type": "code",
   "execution_count": null,
   "id": "51f3b689-2d2b-43b4-98e4-f6c2ea8670f6",
   "metadata": {},
   "outputs": [],
   "source": [
    "# display(HTML(train_df.head(50).to_html()))\n",
    "features = ['curb_weight', 'power', 'cylinder_cnt', 'omv',\n",
    "       'engine_cap', 'depreciation', 'mileage', 'no_of_owners','type_of_vehicle_bus/mini bus', 'type_of_vehicle_hatchback',\n",
    "       'type_of_vehicle_luxury sedan', 'type_of_vehicle_mid-sized sedan',\n",
    "       'type_of_vehicle_mpv', 'type_of_vehicle_others',\n",
    "       'type_of_vehicle_sports car', 'type_of_vehicle_stationwagon',\n",
    "       'type_of_vehicle_suv', 'type_of_vehicle_truck', 'type_of_vehicle_van']\n",
    "\n",
    "train_df[features].isna().sum()"
   ]
  },
  {
   "cell_type": "code",
   "execution_count": 37,
   "id": "a773043d",
   "metadata": {},
   "outputs": [],
   "source": [
    "# Scale dataset\n",
    "scaler = MinMaxScaler()\n",
    "imputer = SimpleImputer(strategy='median')\n",
    "\n",
    "imputer.fit(train_df[features])\n",
    "\n",
    "# Split data into training and test sets\n",
    "train_df[features] = imputer.transform(train_df[features])\n",
    "val_df[features] = imputer.transform(val_df[features])\n",
    "test_df[features] = imputer.transform(test_df[features])\n",
    "\n",
    "# Fit and transform the numerical columns\n",
    "train_df[features] = scaler.fit_transform(train_df[features])\n",
    "val_df[features] = scaler.transform(val_df[features])\n",
    "test_df[features] = scaler.transform(test_df[features])"
   ]
  },
  {
   "cell_type": "code",
   "execution_count": 39,
   "id": "4e41c3d5",
   "metadata": {},
   "outputs": [],
   "source": [
    "X_train = train_df[features]\n",
    "y_train = train_df['price']\n",
    "\n",
    "X_val = val_df[features]\n",
    "y_val = val_df['price']"
   ]
  },
  {
   "cell_type": "code",
   "execution_count": null,
   "id": "934fce46-011d-468f-a05c-f0357ab19fb1",
   "metadata": {},
   "outputs": [],
   "source": [
    "# 2. Initialize the Regression class\n",
    "regressor = Regression()\n",
    "\n",
    "# 3. Define parameters for hyperparameter tuning\n",
    "params = {\n",
    "    'n_estimators': [10, 50, 100],\n",
    "    'max_depth': [ 1, 10, 20],\n",
    "    'min_samples_split': [2, 5, 10]\n",
    "}\n",
    "\n",
    "\n",
    "# Example for Random Forest with accuracy scoring and KFold validation\n",
    "tuner, best_params, tuner_results = regressor.hyperparameter_tuning(\n",
    "    df_tuple=(X_train, y_train),   # The training data (X, y)\n",
    "    score_metric='neg_root_mean_squared_error',       # Scoring metric\n",
    "    kfold_type='kfold',            # Type of fold (KFold used here)\n",
    "    n_splits=5,                    # Number of splits for KFold\n",
    "    params=params,                 # Hyperparameter grid to search\n",
    "    model_name='random_forest'      # Model to use (Random Forest in this case)\n",
    ")\n",
    "\n",
    "# 4. View the best hyperparameters and fit the model\n",
    "print(f\"Best Parameters: {best_params}\")\n",
    "\n",
    "# 5. Use the best model to predict on the test set\n",
    "best_model = tuner.best_estimator_\n"
   ]
  },
  {
   "cell_type": "code",
   "execution_count": null,
   "id": "3dce5935-39d5-401c-8c6c-e555f4dab5b1",
   "metadata": {},
   "outputs": [],
   "source": [
    "import joblib\n",
    "\n",
    "# Save model \n",
    "model_name = \"random_forest_v3\"\n",
    "save_path = f\"./model_assets\"\n",
    "# Save the trained model\n",
    "joblib.dump(best_model, f\"{save_path}/{model_name}.joblib\")"
   ]
  },
  {
   "cell_type": "code",
   "execution_count": 44,
   "id": "5b9cb6e5",
   "metadata": {},
   "outputs": [],
   "source": [
    "import joblib\n",
    "import plotly.express as px\n",
    "import plotly.graph_objects as go\n",
    "\n",
    "def _infer_type(data) -> np.ndarray:\n",
    "\n",
    "    ## type checker\n",
    "\n",
    "    try:\n",
    "        assert type(data) == np.ndarray, \"incorrect type\"\n",
    "\n",
    "    except AssertionError:\n",
    "        data = data.to_numpy()\n",
    "        print(\"INFO [_infer_type] :: Type changed\")\n",
    "        return data\n",
    "\n",
    "    else:\n",
    "        return data\n",
    "\n",
    "def mini_reg_evaluate(\n",
    "    df_train_tuple: tuple, df_valid_tuple: tuple, model_name: str, save_path:str\n",
    "):\n",
    "\n",
    "    model = joblib.load(f\"{save_path}/{model_name}.joblib\")\n",
    "    X_train, y_train = df_train_tuple[0], df_train_tuple[1]\n",
    "    X_valid, y_valid = df_valid_tuple[0], df_valid_tuple[1]\n",
    "\n",
    "    ## type checker\n",
    "\n",
    "    X_train = _infer_type(X_train)\n",
    "    y_train = _infer_type(y_train)\n",
    "    X_valid = _infer_type(X_valid)\n",
    "    y_valid = _infer_type(y_valid)\n",
    "\n",
    "    # Train and validation scores\n",
    "    y_train_pred = model.predict(X_train)\n",
    "    y_valid_pred = model.predict(X_valid)\n",
    "    \n",
    "    # Visualize scatter plot for validation data\n",
    "    plt.scatter(y_valid, y_valid_pred, color='blue', alpha=0.5)\n",
    "    plt.plot([y_valid.min(), y_valid.max()], [y_valid.min(), y_valid.max()], color='red', linestyle='--')\n",
    "    plt.title(\"y_valid predicted vs actual\")\n",
    "    plt.xlabel(\"Actual Values\")\n",
    "    plt.ylabel(\"Predicted Values\")\n",
    "    plt.xticks(rotation=45)\n",
    "    plt.yticks(rotation=45)\n",
    "    plt.show()\n",
    "    \n",
    "    # Visualize scatter plot for training data\n",
    "    plt.scatter(y_train, y_train_pred, color='blue', alpha=0.5)\n",
    "    plt.plot([y_train.min(), y_train.max()], [y_train.min(), y_train.max()], color='red', linestyle='--')\n",
    "    plt.title(\"y_train predicted vs actual\")\n",
    "    plt.xlabel(\"Actual Values\")\n",
    "    plt.ylabel(\"Predicted Values\")\n",
    "    plt.xticks(rotation=45)\n",
    "    plt.yticks(rotation=45)\n",
    "    plt.show()\n",
    "    \n",
    "    # Visualize residual plot\n",
    "    plt.scatter(y_valid_pred, y_valid_pred - y_valid, color='blue', alpha=0.5)\n",
    "    plt.plot([y_valid_pred.min(), y_valid_pred.max()], [0, 0], color='red', linestyle='--')\n",
    "    plt.title(\"Residual Plot (Validation Data)\")\n",
    "    plt.xlabel(\"Predicted Values\")\n",
    "    plt.ylabel(\"Residual Values\")\n",
    "    plt.xticks(rotation=45)\n",
    "    plt.yticks(rotation=45)\n",
    "    plt.show()\n",
    "    \n",
    "    plt.scatter(y_train_pred, y_train_pred - y_train, color='blue', alpha=0.5)\n",
    "    plt.plot([y_train_pred.min(), y_train_pred.max()], [0, 0], color='red', linestyle='--')\n",
    "    plt.title(\"Residual Plot (Training Data)\")\n",
    "    plt.xlabel(\"Predicted Values\")\n",
    "    plt.ylabel(\"Residual Values\")\n",
    "    plt.xticks(rotation=45)\n",
    "    plt.yticks(rotation=45)\n",
    "    plt.show()\n",
    "  "
   ]
  },
  {
   "cell_type": "code",
   "execution_count": null,
   "id": "e91b19f1",
   "metadata": {},
   "outputs": [],
   "source": [
    "model_name = \"random_forest_v3\"\n",
    "save_path = f\"./model_assets\"\n",
    "\n",
    "mini_reg_evaluate(df_train_tuple=(X_train, y_train),\n",
    "df_valid_tuple=( X_val,y_val),model_name=model_name, save_path=save_path)"
   ]
  },
  {
   "cell_type": "code",
   "execution_count": null,
   "id": "4ca7c209",
   "metadata": {},
   "outputs": [],
   "source": [
    "## Retrain the model\n",
    "# Train + Valid (Retrain on the whole model)"
   ]
  },
  {
   "cell_type": "code",
   "execution_count": null,
   "id": "fa307c19-923d-4e97-9d12-4d5079fa8ff3",
   "metadata": {},
   "outputs": [],
   "source": [
    "model = joblib.load(f\"{save_path}/{model_name}.joblib\")\n",
    "X_test = _infer_type(test_df[features])\n",
    "y_test_pred = model.predict(X_test)\n",
    "submission = pd.DataFrame(y_test_pred).reset_index().rename(columns={\"index\":\"Id\", 0:\"Predicted\"})\n",
    "submission.to_csv(\"submission/submission_rf_2.csv\")"
   ]
  },
  {
   "cell_type": "code",
   "execution_count": null,
   "id": "bb9ed458",
   "metadata": {},
   "outputs": [],
   "source": []
  }
 ],
 "metadata": {
  "kernelspec": {
   "display_name": "Python 3",
   "language": "python",
   "name": "python3"
  },
  "language_info": {
   "codemirror_mode": {
    "name": "ipython",
    "version": 3
   },
   "file_extension": ".py",
   "mimetype": "text/x-python",
   "name": "python",
   "nbconvert_exporter": "python",
   "pygments_lexer": "ipython3",
   "version": "3.12.7"
  }
 },
 "nbformat": 4,
 "nbformat_minor": 5
}
