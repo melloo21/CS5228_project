{
 "cells": [
  {
   "cell_type": "code",
   "execution_count": 1,
   "id": "8c44143c-834f-49b2-a126-acffa14efa06",
   "metadata": {},
   "outputs": [],
   "source": [
    "import os\n",
    "import time\n",
    "import numpy as np\n",
    "import pandas as pd\n",
    "import seaborn as sns\n",
    "import plotly.express as px\n",
    "from datetime import datetime\n",
    "\n",
    "from IPython.display import display, HTML\n",
    "from sklearn.impute import SimpleImputer\n",
    "from sklearn.preprocessing import OneHotEncoder\n",
    "from sklearn.preprocessing import MultiLabelBinarizer\n",
    "from sklearn.model_selection import train_test_split\n",
    "\n",
    "%load_ext autoreload\n",
    "%autoreload 2\n",
    "\n",
    "import plotly.io as pio\n",
    "pio.renderers.default = 'iframe'"
   ]
  },
  {
   "cell_type": "code",
   "execution_count": 2,
   "id": "0b31d26f",
   "metadata": {},
   "outputs": [],
   "source": [
    "## Local Utils File\n",
    "from utils.eda import *\n",
    "from utils.kanhon_utils import *\n",
    "from utils.melissa_imputers import *\n",
    "from utils.melissa_utils import *\n",
    "from utils.Bhushan_utils import *\n",
    "from utils.lta_omv_scraper import *\n",
    "from utils.models import Regression"
   ]
  },
  {
   "cell_type": "markdown",
   "id": "f054fec4",
   "metadata": {},
   "source": [
    "## Feature Processing"
   ]
  },
  {
   "cell_type": "markdown",
   "id": "efa7f906",
   "metadata": {},
   "source": [
    "### Test Data preview"
   ]
  },
  {
   "cell_type": "code",
   "execution_count": 3,
   "id": "f9dd642e",
   "metadata": {},
   "outputs": [
    {
     "data": {
      "image/png": "[encoded data removed]",
      "text/plain": [
       "<Figure size 1200x300 with 1 Axes>"
      ]
     },
     "metadata": {},
     "output_type": "display_data"
    }
   ],
   "source": [
    "test_df = pd.read_csv(r\"./dataset/test.csv\")\n",
    "test_df['model'] = test_df['model'].apply(lambda x:x.replace('(', ''))\n",
    "test_df['reg_date_dt'] = test_df['reg_date'].apply(lambda x: datetime.strptime(x, \"%d-%b-%Y\"))\n",
    "test_df['reg_date_year'] = test_df['reg_date_dt'].apply(lambda x:x.year)\n",
    "test_df['reg_date_month'] = test_df['reg_date_dt'].apply(lambda x:x.month)\n",
    "\n",
    "plt.rcParams['figure.figsize'] = (12, 3)\n",
    "sns.set()\n",
    "\n",
    "number_nans = test_df.apply(lambda row: sum(map(isnan, row)), axis=1)\n",
    "sns.histplot(number_nans, discrete=True)\n",
    "plt.xlabel('[Test Dataset] Number of NaN columns')\n",
    "plt.show()"
   ]
  },
  {
   "cell_type": "markdown",
   "id": "1cae1db6-f244-4a47-a53f-51a6be4511e4",
   "metadata": {},
   "source": [
    "### Read and clean dataset"
   ]
  },
  {
   "cell_type": "code",
   "execution_count": 4,
   "id": "4be8c3ca",
   "metadata": {},
   "outputs": [
    {
     "ename": "NameError",
     "evalue": "name 'orig_df' is not defined",
     "output_type": "error",
     "traceback": [
      "\u001b[1;31m---------------------------------------------------------------------------\u001b[0m",
      "\u001b[1;31mNameError\u001b[0m                                 Traceback (most recent call last)",
      "Cell \u001b[1;32mIn[4], line 1\u001b[0m\n\u001b[1;32m----> 1\u001b[0m \u001b[43morig_df\u001b[49m\u001b[38;5;241m.\u001b[39maccessories\u001b[38;5;241m.\u001b[39miloc[\u001b[38;5;241m6\u001b[39m]\n",
      "\u001b[1;31mNameError\u001b[0m: name 'orig_df' is not defined"
     ]
    }
   ],
   "source": [
    "orig_df.accessories.iloc[6]"
   ]
  },
  {
   "cell_type": "code",
   "execution_count": null,
   "id": "684a5bf7",
   "metadata": {},
   "outputs": [],
   "source": [
    "orig_df[~orig_df.lifespan.isna()]"
   ]
  },
  {
   "cell_type": "code",
   "execution_count": 5,
   "id": "0ce295a1-88ee-4ee4-8762-ef883ff4c13e",
   "metadata": {},
   "outputs": [],
   "source": [
    "orig_df = pd.read_csv(r\"./dataset/train.csv\")\n",
    "\n",
    "# clean model\n",
    "orig_df['model'] = orig_df['model'].apply(lambda x:x.replace('(', ''))\n",
    "orig_df['reg_date_dt'] = orig_df['reg_date'].apply(lambda x: datetime.strptime(x, \"%d-%b-%Y\"))\n",
    "orig_df['reg_date_year'] = orig_df['reg_date_dt'].apply(lambda x:x.year)\n",
    "orig_df['reg_date_month'] = orig_df['reg_date_dt'].apply(lambda x:x.month)\n",
    "\n",
    "# Adding additional feature for imputation later\n",
    "# train_df[\"model_make\"] = train_df.model + \"_\" + train_df.make"
   ]
  },
  {
   "cell_type": "markdown",
   "id": "ef5ca8ff",
   "metadata": {},
   "source": [
    "General overview of Nan Columns"
   ]
  },
  {
   "cell_type": "code",
   "execution_count": 6,
   "id": "8f5e6ac2",
   "metadata": {},
   "outputs": [
    {
     "ename": "NameError",
     "evalue": "name 'train_df' is not defined",
     "output_type": "error",
     "traceback": [
      "\u001b[1;31m---------------------------------------------------------------------------\u001b[0m",
      "\u001b[1;31mNameError\u001b[0m                                 Traceback (most recent call last)",
      "Cell \u001b[1;32mIn[6], line 4\u001b[0m\n\u001b[0;32m      1\u001b[0m plt\u001b[38;5;241m.\u001b[39mrcParams[\u001b[38;5;124m'\u001b[39m\u001b[38;5;124mfigure.figsize\u001b[39m\u001b[38;5;124m'\u001b[39m] \u001b[38;5;241m=\u001b[39m (\u001b[38;5;241m12\u001b[39m, \u001b[38;5;241m3\u001b[39m)\n\u001b[0;32m      2\u001b[0m sns\u001b[38;5;241m.\u001b[39mset()\n\u001b[1;32m----> 4\u001b[0m number_nans \u001b[38;5;241m=\u001b[39m \u001b[43mtrain_df\u001b[49m\u001b[38;5;241m.\u001b[39mapply(\u001b[38;5;28;01mlambda\u001b[39;00m row: \u001b[38;5;28msum\u001b[39m(\u001b[38;5;28mmap\u001b[39m(isnan, row)), axis\u001b[38;5;241m=\u001b[39m\u001b[38;5;241m1\u001b[39m)\n\u001b[0;32m      5\u001b[0m sns\u001b[38;5;241m.\u001b[39mhistplot(number_nans, discrete\u001b[38;5;241m=\u001b[39m\u001b[38;5;28;01mTrue\u001b[39;00m)\n\u001b[0;32m      6\u001b[0m plt\u001b[38;5;241m.\u001b[39mxlabel(\u001b[38;5;124m'\u001b[39m\u001b[38;5;124m[Train Dataset] Number of NaN columns\u001b[39m\u001b[38;5;124m'\u001b[39m)\n",
      "\u001b[1;31mNameError\u001b[0m: name 'train_df' is not defined"
     ]
    }
   ],
   "source": [
    "plt.rcParams['figure.figsize'] = (12, 3)\n",
    "sns.set()\n",
    "\n",
    "number_nans = train_df.apply(lambda row: sum(map(isnan, row)), axis=1)\n",
    "sns.histplot(number_nans, discrete=True)\n",
    "plt.xlabel('[Train Dataset] Number of NaN columns')\n",
    "plt.show()"
   ]
  },
  {
   "cell_type": "code",
   "execution_count": 7,
   "id": "90cb0af5",
   "metadata": {},
   "outputs": [
    {
     "name": "stdout",
     "output_type": "stream",
     "text": [
      "<class 'pandas.core.frame.DataFrame'>\n",
      "RangeIndex: 25000 entries, 0 to 24999\n",
      "Data columns (total 33 columns):\n",
      " #   Column             Non-Null Count  Dtype         \n",
      "---  ------             --------------  -----         \n",
      " 0   listing_id         25000 non-null  int64         \n",
      " 1   title              25000 non-null  object        \n",
      " 2   make               23684 non-null  object        \n",
      " 3   model              25000 non-null  object        \n",
      " 4   description        24320 non-null  object        \n",
      " 5   manufactured       24993 non-null  float64       \n",
      " 6   original_reg_date  255 non-null    object        \n",
      " 7   reg_date           25000 non-null  object        \n",
      " 8   type_of_vehicle    25000 non-null  object        \n",
      " 9   category           25000 non-null  object        \n",
      " 10  transmission       25000 non-null  object        \n",
      " 11  curb_weight        24693 non-null  float64       \n",
      " 12  power              22360 non-null  float64       \n",
      " 13  fuel_type          5879 non-null   object        \n",
      " 14  engine_cap         24404 non-null  float64       \n",
      " 15  no_of_owners       24982 non-null  float64       \n",
      " 16  depreciation       24493 non-null  float64       \n",
      " 17  coe                25000 non-null  int64         \n",
      " 18  road_tax           22368 non-null  float64       \n",
      " 19  dereg_value        24780 non-null  float64       \n",
      " 20  mileage            19696 non-null  float64       \n",
      " 21  omv                24936 non-null  float64       \n",
      " 22  arf                24826 non-null  float64       \n",
      " 23  opc_scheme         162 non-null    object        \n",
      " 24  lifespan           2329 non-null   object        \n",
      " 25  eco_category       25000 non-null  object        \n",
      " 26  features           24157 non-null  object        \n",
      " 27  accessories        21187 non-null  object        \n",
      " 28  indicative_price   0 non-null      float64       \n",
      " 29  price              25000 non-null  float64       \n",
      " 30  reg_date_dt        25000 non-null  datetime64[ns]\n",
      " 31  reg_date_year      25000 non-null  int64         \n",
      " 32  reg_date_month     25000 non-null  int64         \n",
      "dtypes: datetime64[ns](1), float64(13), int64(4), object(15)\n",
      "memory usage: 6.3+ MB\n"
     ]
    }
   ],
   "source": [
    "orig_df.info()"
   ]
  },
  {
   "cell_type": "code",
   "execution_count": 8,
   "id": "50f6ac9d",
   "metadata": {},
   "outputs": [],
   "source": [
    "## Split into train val split\n",
    "train_df, val_df = train_test_split(orig_df, test_size=0.2, random_state=42, shuffle=True)"
   ]
  },
  {
   "cell_type": "markdown",
   "id": "92f207df-84d2-49d2-b640-fce0891bbd05",
   "metadata": {},
   "source": [
    "### Fill missing 'make' info from title"
   ]
  },
  {
   "cell_type": "code",
   "execution_count": 9,
   "id": "03009600-322c-4c15-b098-cd0aec0a8c16",
   "metadata": {},
   "outputs": [],
   "source": [
    "make_df = pd.read_csv(r\"./dataset/make.csv\")\n",
    "make_ls = [make.lower() for make in make_df['Make List'].unique()]"
   ]
  },
  {
   "cell_type": "code",
   "execution_count": 10,
   "id": "67e866a0-2550-4cd7-9c15-765524c80c6a",
   "metadata": {},
   "outputs": [],
   "source": [
    "make_model_imputer = MakeModelImputer(make_ls)\n",
    "\n",
    "train_df = make_model_imputer.transform(train_df)\n",
    "val_df = make_model_imputer.transform(val_df) \n",
    "test_df = make_model_imputer.transform(test_df) "
   ]
  },
  {
   "cell_type": "code",
   "execution_count": 11,
   "id": "5cc1173e-3396-4f6e-8e85-9b6dea45733a",
   "metadata": {},
   "outputs": [],
   "source": [
    "# Generating model make imputer\n",
    "train_df[\"model_make\"] = train_df.model + \"_\" + train_df.make\n",
    "val_df[\"model_make\"] = val_df.model + \"_\" + val_df.make\n",
    "test_df[\"model_make\"] = test_df.model + \"_\" + test_df.make"
   ]
  },
  {
   "cell_type": "markdown",
   "id": "3d0dd578-8072-49ca-8c9e-6e68e0dc560a",
   "metadata": {},
   "source": [
    "### type_of_vehicle"
   ]
  },
  {
   "cell_type": "code",
   "execution_count": 12,
   "id": "68ebf9ef",
   "metadata": {},
   "outputs": [
    {
     "name": "stdout",
     "output_type": "stream",
     "text": [
      "Number of model_make unable to be inputted 0\n"
     ]
    }
   ],
   "source": [
    "# For each model and make check the type of vehicles count\n",
    "unique_list = display_feature_dist_by_ref_col(df=train_df,feature=\"type_of_vehicle\",ref=\"model_make\")\n",
    "make_models_with_diff_bodies = list()\n",
    "for key, value in unique_list.items():\n",
    "    if len(value) >= 2:\n",
    "        make_models_with_diff_bodies.append(key)"
   ]
  },
  {
   "cell_type": "code",
   "execution_count": 13,
   "id": "ba224015",
   "metadata": {},
   "outputs": [
    {
     "data": {
      "text/html": [
       "<iframe\n",
       "    scrolling=\"no\"\n",
       "    width=\"100%\"\n",
       "    height=\"545px\"\n",
       "    src=\"iframe_figures/figure_13.html\"\n",
       "    frameborder=\"0\"\n",
       "    allowfullscreen\n",
       "></iframe>\n"
      ]
     },
     "metadata": {},
     "output_type": "display_data"
    }
   ],
   "source": [
    "# Assuming you have a DataFrame 'train_df' with columns 'type_of_vehicle' and 'price'\n",
    "fig = px.box(train_df, x=\"type_of_vehicle\", y='price', points=\"all\")\n",
    "\n",
    "# Update the layout to make the x-axis labels horizontal\n",
    "fig.update_layout(xaxis_tickangle=0)\n",
    "\n",
    "# Show the figure\n",
    "fig.show()"
   ]
  },
  {
   "cell_type": "code",
   "execution_count": 14,
   "id": "4f0c4cc9",
   "metadata": {},
   "outputs": [
    {
     "data": {
      "text/html": [
       "<iframe\n",
       "    scrolling=\"no\"\n",
       "    width=\"100%\"\n",
       "    height=\"545px\"\n",
       "    src=\"iframe_figures/figure_14.html\"\n",
       "    frameborder=\"0\"\n",
       "    allowfullscreen\n",
       "></iframe>\n"
      ]
     },
     "metadata": {},
     "output_type": "display_data"
    }
   ],
   "source": [
    "# Assuming you have a DataFrame 'train_df' with columns 'type_of_vehicle' and 'price'\n",
    "fig = px.scatter(train_df, x=\"omv\", y='price', color=\"type_of_vehicle\",trendline=\"ols\")\n",
    "\n",
    "# Show the figure\n",
    "fig.show()"
   ]
  },
  {
   "cell_type": "code",
   "execution_count": 15,
   "id": "03a24bed",
   "metadata": {},
   "outputs": [],
   "source": [
    "## Processing \n",
    "train_df , vehicle_type_encoder = vehicle_type_fit_transform(train_df, \"type_of_vehicle\")\n",
    "val_df = vehicle_type_fit(val_df, vehicle_type_encoder)\n",
    "test_df = vehicle_type_fit(test_df, vehicle_type_encoder)"
   ]
  },
  {
   "cell_type": "markdown",
   "id": "409ec462-17f7-442a-8129-9736e0879a2c",
   "metadata": {},
   "source": [
    "### curb_weight"
   ]
  },
  {
   "cell_type": "code",
   "execution_count": 16,
   "id": "352fa160-ec59-4685-b69e-fec68fa94473",
   "metadata": {},
   "outputs": [],
   "source": [
    "# Superceeded # display(HTML(train_df.head(50).to_html()))\n",
    "def fill_column_b_with_mean(df, column_a, column_b):\n",
    "    # Calculate the mean of column B grouped by column A\n",
    "    values = df.groupby(column_a)[column_b].agg([\"mean\"]).rename(columns={\"mean\": column_b})[column_b]\n",
    "    \n",
    "    # Iterate over each row in the DataFrame\n",
    "    for index, row in df.iterrows():\n",
    "        # If column B is NaN, fill it with the mean value of column B for the corresponding value in column A\n",
    "        if pd.isna(row[column_b]):\n",
    "            df.at[index, column_b] = values[row[column_a]]\n",
    "    return df"
   ]
  },
  {
   "cell_type": "code",
   "execution_count": 17,
   "id": "e543141f-6b13-4eff-a1c6-b72879a09da9",
   "metadata": {},
   "outputs": [],
   "source": [
    "curb_weight_impute = ModelMakeImputer(column_a=\"model_make\", column_b=\"curb_weight\")\n",
    "\n",
    "train_df = curb_weight_impute.fit_transform(train_df) # 82 rows missing\n",
    "val_df = curb_weight_impute.transform(val_df) # 20 rows missing\n",
    "test_df = curb_weight_impute.transform(test_df) # 40 rows missing"
   ]
  },
  {
   "cell_type": "code",
   "execution_count": 18,
   "id": "acda1b24",
   "metadata": {},
   "outputs": [],
   "source": [
    "# Many rows are missing, impute using median values\n",
    "imputer = SimpleImputer(strategy='median')\n",
    "train_df['curb_weight'] = imputer.fit_transform(train_df[['curb_weight']])\n",
    "val_df['curb_weight'] = imputer.transform(val_df[['curb_weight']])\n",
    "test_df['curb_weight'] = imputer.transform(test_df[['curb_weight']])"
   ]
  },
  {
   "cell_type": "markdown",
   "id": "a980b57d-49d0-450d-a1c7-19746693cd1e",
   "metadata": {},
   "source": [
    "### power "
   ]
  },
  {
   "cell_type": "code",
   "execution_count": 19,
   "id": "e7712399-9cf4-4e15-bf0a-0b7f76dbaaf1",
   "metadata": {},
   "outputs": [],
   "source": [
    "power_impute = ModelMakeImputer(column_a=\"model_make\", column_b=\"power\")\n",
    "\n",
    "train_df = power_impute.fit_transform(train_df) # 1537 rows missing\n",
    "val_df = power_impute.transform(val_df) # 379 rows missing\n",
    "test_df = power_impute.transform(test_df) # 789 rows missing"
   ]
  },
  {
   "cell_type": "code",
   "execution_count": 20,
   "id": "26f6a77c",
   "metadata": {},
   "outputs": [],
   "source": [
    "# Many rows are missing, impute using median values\n",
    "imputer = SimpleImputer(strategy='median')\n",
    "train_df['power'] = imputer.fit_transform(train_df[['power']])\n",
    "val_df['power'] = imputer.transform(val_df[['power']])\n",
    "test_df['power'] = imputer.transform(test_df[['power']])"
   ]
  },
  {
   "cell_type": "markdown",
   "id": "48c18e85-8d3e-4faa-89bb-c753f1e1bbb8",
   "metadata": {},
   "source": [
    "### engine_cap "
   ]
  },
  {
   "cell_type": "code",
   "execution_count": 21,
   "id": "8d506c51-2468-41a3-a1fe-57932e3445a7",
   "metadata": {},
   "outputs": [],
   "source": [
    "engine_impute = ModelMakeImputer(column_a=\"model_make\", column_b=\"engine_cap\")\n",
    "\n",
    "train_df = engine_impute.fit_transform(train_df) # 384 rows missing\n",
    "val_df = engine_impute.transform(val_df) # 97 rows missing\n",
    "test_df = engine_impute.transform(test_df) # 186 rows missing"
   ]
  },
  {
   "cell_type": "code",
   "execution_count": 22,
   "id": "f22d553c",
   "metadata": {},
   "outputs": [],
   "source": [
    "# Many rows are missing, impute using median values\n",
    "imputer = SimpleImputer(strategy='median')\n",
    "train_df['engine_cap'] = imputer.fit_transform(train_df[['engine_cap']])\n",
    "val_df['engine_cap'] = imputer.transform(val_df[['engine_cap']])\n",
    "test_df['engine_cap'] = imputer.transform(test_df[['engine_cap']])"
   ]
  },
  {
   "cell_type": "markdown",
   "id": "38810de4-7064-4737-8000-1f5f29379587",
   "metadata": {},
   "source": [
    "### no_of_owners"
   ]
  },
  {
   "cell_type": "code",
   "execution_count": 23,
   "id": "187b5a0c-402b-4423-8299-b9299e697053",
   "metadata": {},
   "outputs": [],
   "source": [
    "# display(f' Before imputation : {train_df[\"no_of_owners\"].isna().sum()}')\n",
    "# # Original Code Output\n",
    "# rows = train_df[train_df[\"no_of_owners\"].isna()].index\n",
    "\n",
    "# for r in rows:\n",
    "#     row = train_df.iloc[r]\n",
    "\n",
    "#     #Impute number of owners based on reg_date\n",
    "#     regDate = row[\"reg_date\"]\n",
    "#     months = calculate_date_diff(regDate)\n",
    "\n",
    "#     # We estimate the number of owners based on every 3 years or 36 months\n",
    "#     estimated_owners = math.ceil(months / 36)\n",
    "#     train_df.loc[r, \"no_of_owners\"] = estimated_owners\n",
    "\n",
    "# display(f' After imputation : {train_df[\"no_of_owners\"].isna().sum()}')"
   ]
  },
  {
   "cell_type": "code",
   "execution_count": 24,
   "id": "c16deabe",
   "metadata": {},
   "outputs": [
    {
     "data": {
      "text/plain": [
       "' Before imputation : 11'"
      ]
     },
     "metadata": {},
     "output_type": "display_data"
    },
    {
     "ename": "NameError",
     "evalue": "name 'impute_owner_number' is not defined",
     "output_type": "error",
     "traceback": [
      "\u001b[1;31m---------------------------------------------------------------------------\u001b[0m",
      "\u001b[1;31mNameError\u001b[0m                                 Traceback (most recent call last)",
      "Cell \u001b[1;32mIn[24], line 3\u001b[0m\n\u001b[0;32m      1\u001b[0m display(\u001b[38;5;124mf\u001b[39m\u001b[38;5;124m'\u001b[39m\u001b[38;5;124m Before imputation : \u001b[39m\u001b[38;5;132;01m{\u001b[39;00mtrain_df[\u001b[38;5;124m\"\u001b[39m\u001b[38;5;124mno_of_owners\u001b[39m\u001b[38;5;124m\"\u001b[39m]\u001b[38;5;241m.\u001b[39misna()\u001b[38;5;241m.\u001b[39msum()\u001b[38;5;132;01m}\u001b[39;00m\u001b[38;5;124m'\u001b[39m)\n\u001b[0;32m      2\u001b[0m \u001b[38;5;66;03m# Function form\u001b[39;00m\n\u001b[1;32m----> 3\u001b[0m train_df \u001b[38;5;241m=\u001b[39m \u001b[43mimpute_owner_number\u001b[49m(train_df)\n\u001b[0;32m      5\u001b[0m display(\u001b[38;5;124mf\u001b[39m\u001b[38;5;124m'\u001b[39m\u001b[38;5;124m After imputation : \u001b[39m\u001b[38;5;132;01m{\u001b[39;00mtrain_df[\u001b[38;5;124m\"\u001b[39m\u001b[38;5;124mno_of_owners\u001b[39m\u001b[38;5;124m\"\u001b[39m]\u001b[38;5;241m.\u001b[39misna()\u001b[38;5;241m.\u001b[39msum()\u001b[38;5;132;01m}\u001b[39;00m\u001b[38;5;124m'\u001b[39m)\n",
      "\u001b[1;31mNameError\u001b[0m: name 'impute_owner_number' is not defined"
     ]
    }
   ],
   "source": [
    "display(f' Before imputation : {train_df[\"no_of_owners\"].isna().sum()}')\n",
    "# Function form\n",
    "train_df = impute_owner_number(train_df)\n",
    "\n",
    "display(f' After imputation : {train_df[\"no_of_owners\"].isna().sum()}')"
   ]
  },
  {
   "cell_type": "code",
   "execution_count": 25,
   "id": "b8b7edc0",
   "metadata": {},
   "outputs": [
    {
     "data": {
      "text/plain": [
       "0"
      ]
     },
     "execution_count": 25,
     "metadata": {},
     "output_type": "execute_result"
    }
   ],
   "source": [
    "train_df.reg_date.isna().sum()"
   ]
  },
  {
   "cell_type": "code",
   "execution_count": 26,
   "id": "0ebc8bf6",
   "metadata": {},
   "outputs": [
    {
     "data": {
      "text/plain": [
       "' Before imputation : 11'"
      ]
     },
     "metadata": {},
     "output_type": "display_data"
    },
    {
     "name": "stdout",
     "output_type": "stream",
     "text": [
      "19989\n",
      "[Number of months per owner]  ->  [mean = 48.48792002267915, median = 41.0, mode = 28.0]\n"
     ]
    },
    {
     "data": {
      "text/plain": [
       "' After imputation : 0'"
      ]
     },
     "metadata": {},
     "output_type": "display_data"
    }
   ],
   "source": [
    "## New method\n",
    "display(f' Before imputation : {train_df[\"no_of_owners\"].isna().sum()}')\n",
    "\n",
    "owner_impute = OwnerImputer()\n",
    "\n",
    "train_df = owner_impute.fit_transform(df=train_df)\n",
    "val_df = owner_impute.transform(val_df)\n",
    "test_df = owner_impute.transform(test_df)\n",
    "display(f' After imputation : {train_df[\"no_of_owners\"].isna().sum()}')"
   ]
  },
  {
   "cell_type": "code",
   "execution_count": 27,
   "id": "a04a0bb5",
   "metadata": {},
   "outputs": [
    {
     "data": {
      "text/plain": [
       "0"
      ]
     },
     "execution_count": 27,
     "metadata": {},
     "output_type": "execute_result"
    }
   ],
   "source": [
    "test_df.no_of_owners.isna().sum()"
   ]
  },
  {
   "cell_type": "markdown",
   "id": "786732be",
   "metadata": {},
   "source": [
    "### Manufactured"
   ]
  },
  {
   "cell_type": "code",
   "execution_count": 28,
   "id": "49fd98d9",
   "metadata": {},
   "outputs": [],
   "source": [
    "# Manufactured\n",
    "\n",
    "train_df['effective_reg_date'] = train_df['original_reg_date'].fillna(train_df['reg_date'])\n",
    "train_df = train_df.drop(columns=['original_reg_date'])\n",
    "\n",
    "train_df['effective_reg_date'] = pd.to_datetime(train_df['effective_reg_date'], errors='coerce', format='%d-%b-%Y')\n",
    "train_df['manufactured'] = train_df['manufactured'].fillna(train_df['effective_reg_date'].dt.year)"
   ]
  },
  {
   "cell_type": "markdown",
   "id": "41f7547f-25b1-4122-bdc5-92606380738e",
   "metadata": {},
   "source": [
    "### depreciation "
   ]
  },
  {
   "cell_type": "code",
   "execution_count": 29,
   "id": "1d942856",
   "metadata": {},
   "outputs": [
    {
     "name": "stdout",
     "output_type": "stream",
     "text": [
      "<class 'pandas.core.frame.DataFrame'>\n",
      "RangeIndex: 20000 entries, 0 to 19999\n",
      "Data columns (total 45 columns):\n",
      " #   Column                           Non-Null Count  Dtype         \n",
      "---  ------                           --------------  -----         \n",
      " 0   listing_id                       20000 non-null  int64         \n",
      " 1   title                            20000 non-null  object        \n",
      " 2   make                             20000 non-null  object        \n",
      " 3   model                            20000 non-null  object        \n",
      " 4   description                      19459 non-null  object        \n",
      " 5   manufactured                     20000 non-null  float64       \n",
      " 6   reg_date                         20000 non-null  object        \n",
      " 7   type_of_vehicle                  20000 non-null  object        \n",
      " 8   category                         20000 non-null  object        \n",
      " 9   transmission                     20000 non-null  object        \n",
      " 10  curb_weight                      20000 non-null  float64       \n",
      " 11  power                            20000 non-null  float64       \n",
      " 12  fuel_type                        4661 non-null   object        \n",
      " 13  engine_cap                       20000 non-null  float64       \n",
      " 14  no_of_owners                     20000 non-null  float64       \n",
      " 15  depreciation                     19600 non-null  float64       \n",
      " 16  coe                              20000 non-null  int64         \n",
      " 17  road_tax                         17902 non-null  float64       \n",
      " 18  dereg_value                      19815 non-null  float64       \n",
      " 19  mileage                          15752 non-null  float64       \n",
      " 20  omv                              19951 non-null  float64       \n",
      " 21  arf                              19859 non-null  float64       \n",
      " 22  opc_scheme                       130 non-null    object        \n",
      " 23  lifespan                         1862 non-null   object        \n",
      " 24  eco_category                     20000 non-null  object        \n",
      " 25  features                         19328 non-null  object        \n",
      " 26  accessories                      16968 non-null  object        \n",
      " 27  indicative_price                 0 non-null      float64       \n",
      " 28  price                            20000 non-null  float64       \n",
      " 29  reg_date_dt                      20000 non-null  datetime64[ns]\n",
      " 30  reg_date_year                    20000 non-null  int64         \n",
      " 31  reg_date_month                   20000 non-null  int64         \n",
      " 32  model_make                       20000 non-null  object        \n",
      " 33  type_of_vehicle_bus/mini bus     20000 non-null  float64       \n",
      " 34  type_of_vehicle_hatchback        20000 non-null  float64       \n",
      " 35  type_of_vehicle_luxury sedan     20000 non-null  float64       \n",
      " 36  type_of_vehicle_mid-sized sedan  20000 non-null  float64       \n",
      " 37  type_of_vehicle_mpv              20000 non-null  float64       \n",
      " 38  type_of_vehicle_others           20000 non-null  float64       \n",
      " 39  type_of_vehicle_sports car       20000 non-null  float64       \n",
      " 40  type_of_vehicle_stationwagon     20000 non-null  float64       \n",
      " 41  type_of_vehicle_suv              20000 non-null  float64       \n",
      " 42  type_of_vehicle_truck            20000 non-null  float64       \n",
      " 43  type_of_vehicle_van              20000 non-null  float64       \n",
      " 44  effective_reg_date               20000 non-null  datetime64[ns]\n",
      "dtypes: datetime64[ns](2), float64(24), int64(4), object(15)\n",
      "memory usage: 6.9+ MB\n"
     ]
    }
   ],
   "source": [
    "train_df.info()"
   ]
  },
  {
   "cell_type": "code",
   "execution_count": 30,
   "id": "309447a7-8818-4242-9756-0e9d6360d022",
   "metadata": {},
   "outputs": [],
   "source": [
    "dep_imputer = DepreciationImputer()\n",
    "\n",
    "train_df = dep_imputer.fit_transform(X=train_df)\n",
    "val_df = dep_imputer.transform(X=val_df)\n",
    "test_df = dep_imputer.transform(X=test_df)"
   ]
  },
  {
   "cell_type": "markdown",
   "id": "e26a98a9",
   "metadata": {},
   "source": [
    "### Transmission"
   ]
  },
  {
   "cell_type": "code",
   "execution_count": 31,
   "id": "e043c72a",
   "metadata": {},
   "outputs": [
    {
     "name": "stdout",
     "output_type": "stream",
     "text": [
      "[ True False] transmission_auto\n",
      "True     18660\n",
      "False     1340\n",
      "Name: count, dtype: int64\n"
     ]
    }
   ],
   "source": [
    "# Transmission\n",
    "\n",
    "# One-hot encoding\n",
    "train_df = pd.get_dummies(train_df, columns=['transmission'], prefix='transmission')\n",
    "train_df.drop('transmission_manual', axis=1, inplace=True)\n",
    "\n",
    "unique_transmissions = train_df['transmission_auto'].unique()\n",
    "transmission_counts = train_df['transmission_auto'].value_counts()\n",
    "print(unique_transmissions, transmission_counts)"
   ]
  },
  {
   "cell_type": "markdown",
   "id": "193ef2ca-2e22-47a2-94b0-50cff583f8c3",
   "metadata": {},
   "source": [
    "### dereg_value"
   ]
  },
  {
   "cell_type": "code",
   "execution_count": null,
   "id": "2648db4a-22b8-431c-9392-cff5b274cd70",
   "metadata": {},
   "outputs": [],
   "source": []
  },
  {
   "cell_type": "markdown",
   "id": "ad910b8a-c00d-4e9b-950a-fe8a741f2185",
   "metadata": {},
   "source": [
    "### mileage   "
   ]
  },
  {
   "cell_type": "code",
   "execution_count": 32,
   "id": "888ae3c3-e49c-4d55-ae99-ddf14edbea1a",
   "metadata": {},
   "outputs": [
    {
     "data": {
      "text/plain": [
       "' Before imputation : 4248'"
      ]
     },
     "metadata": {},
     "output_type": "display_data"
    },
    {
     "ename": "NameError",
     "evalue": "name 'calculate_date_diff' is not defined",
     "output_type": "error",
     "traceback": [
      "\u001b[1;31m---------------------------------------------------------------------------\u001b[0m",
      "\u001b[1;31mNameError\u001b[0m                                 Traceback (most recent call last)",
      "Cell \u001b[1;32mIn[32], line 8\u001b[0m\n\u001b[0;32m      6\u001b[0m \u001b[38;5;66;03m#print(f\"row: {row}\")\u001b[39;00m\n\u001b[0;32m      7\u001b[0m regDate \u001b[38;5;241m=\u001b[39m row[\u001b[38;5;124m\"\u001b[39m\u001b[38;5;124mreg_date\u001b[39m\u001b[38;5;124m\"\u001b[39m]\n\u001b[1;32m----> 8\u001b[0m months \u001b[38;5;241m=\u001b[39m \u001b[43mcalculate_date_diff\u001b[49m(regDate)\n\u001b[0;32m     10\u001b[0m \u001b[38;5;66;03m#impute mileage based on reg_date \u001b[39;00m\n\u001b[0;32m     11\u001b[0m \u001b[38;5;66;03m#we estimate that the average mileage of a car is 8000 miles per year\u001b[39;00m\n\u001b[0;32m     12\u001b[0m estimated_mileage \u001b[38;5;241m=\u001b[39m months \u001b[38;5;241m/\u001b[39m \u001b[38;5;241m12\u001b[39m \u001b[38;5;241m*\u001b[39m \u001b[38;5;241m8000\u001b[39m\n",
      "\u001b[1;31mNameError\u001b[0m: name 'calculate_date_diff' is not defined"
     ]
    }
   ],
   "source": [
    "display(f' Before imputation : {train_df[\"mileage\"].isna().sum()}')\n",
    "# Original Code Output\n",
    "rows = train_df[train_df[\"mileage\"].isna()].index\n",
    "for r in rows:\n",
    "    row = train_df.iloc[r]\n",
    "    #print(f\"row: {row}\")\n",
    "    regDate = row[\"reg_date\"]\n",
    "    months = calculate_date_diff(regDate)\n",
    "\n",
    "    #impute mileage based on reg_date \n",
    "    #we estimate that the average mileage of a car is 8000 miles per year\n",
    "    estimated_mileage = months / 12 * 8000\n",
    "    train_df.loc[r, \"mileage\"] = estimated_mileage\n",
    "\n",
    "display(f' After imputation : {train_df[\"mileage\"].isna().sum()}')"
   ]
  },
  {
   "cell_type": "code",
   "execution_count": null,
   "id": "6e16b8e8",
   "metadata": {},
   "outputs": [],
   "source": [
    "display(f' Before imputation : {train_df[\"mileage\"].isna().sum()}')\n",
    "## New method\n",
    "\n",
    "mileage_impute = mileageImputer()\n",
    "\n",
    "train_df = mileage_impute.fit_transform(df=train_df)\n",
    "val_df = mileage_impute.transform(val_df)\n",
    "test_df = mileage_impute.transform(test_df)\n",
    "\n",
    "display(f' After imputation : {train_df[\"mileage\"].isna().sum()}')"
   ]
  },
  {
   "cell_type": "markdown",
   "id": "7ffe3971-8ace-4178-b070-37cad3e59022",
   "metadata": {},
   "source": [
    "### omv "
   ]
  },
  {
   "cell_type": "code",
   "execution_count": 33,
   "id": "027ac5fb-c31a-43aa-9832-f4f642c7231e",
   "metadata": {},
   "outputs": [],
   "source": [
    "csv_filename = r'./dataset/lta_omv_data.csv'\n",
    "\n",
    "if os.path.exists(csv_filename):\n",
    "    df_lta_car_data = pd.read_csv(csv_filename)\n",
    "else:\n",
    "    result_ls = get_lta_omv_data(2002, 2025)\n",
    "    df_lta_car_data = preprocess_lta_omv_data(result_ls)\n",
    "    df_lta_car_data.to_csv(csv_filename)\n",
    "\n",
    "lta_data_imputer = LTADataImputer(df_lta_car_data)\n",
    "\n",
    "train_df = lta_data_imputer.transform(train_df) # before transform: 49 rows missing, after transform: 24 rows missing\n",
    "val_df = lta_data_imputer.transform(val_df) # before transform: 15 rows missing, after transform: 9 rows missing\n",
    "test_df = lta_data_imputer.transform(test_df) \n",
    "\n",
    "imputer = SimpleImputer(strategy='median')\n",
    "train_df['omv'] = imputer.fit_transform(train_df[['omv']])\n",
    "val_df['omv'] = imputer.transform(val_df[['omv']])\n",
    "test_df['omv'] = imputer.transform(test_df[['omv']])"
   ]
  },
  {
   "cell_type": "code",
   "execution_count": 27,
   "id": "8725dcb4-ef66-460f-b54e-83016f25c473",
   "metadata": {},
   "outputs": [],
   "source": [
    "# Superceeded code\n",
    "def impute_using_lta_data(row):\n",
    "    # print(row)\n",
    "    if not np.isnan(row['omv']):\n",
    "        return row['omv']\n",
    "    else:\n",
    "        make = row['make']\n",
    "        model = row['model']\n",
    "        year = row['reg_date_year']\n",
    "        lookup_by_make_model_year = df_lta_car_data[(df_lta_car_data['make_clean'] == make) & (df_lta_car_data['model_split'].str.contains(model)) & (df_lta_car_data['year'] == year)]\n",
    "        \n",
    "        lookup_by_make_model = df_lta_car_data[(df_lta_car_data['make_clean'] == make) & (df_lta_car_data['model_split'].str.contains(model))]\n",
    "\n",
    "        lookup_by_make = df_lta_car_data[(df_lta_car_data['make_clean'] == make)]\n",
    "        \n",
    "        if not lookup_by_make_model_year.empty:\n",
    "            # print('lookup_by_make_model_year')\n",
    "            return lookup_by_make_model_year['omv_clean'].mean()\n",
    "        elif not lookup_by_make_model.empty:\n",
    "            # print('lookup_by_make_model')\n",
    "            return lookup_by_make_model['omv_clean'].mean()\n",
    "        elif not lookup_by_make.empty:\n",
    "            # print('lookup_by_make')\n",
    "            return lookup_by_make['omv_clean'].mean()\n",
    "        else: \n",
    "            return None\n",
    "\n",
    "# train_df['omv_new'] = train_df['omv']\n",
    "# train_df['omv_new'] = train_df.apply(impute_using_lta_data, axis=1)\n",
    "# train_df['omv_new'] = train_df['omv_new'].fillna(train_df['omv_new'].mean())\n",
    "\n",
    "# train_df.info()"
   ]
  },
  {
   "cell_type": "markdown",
   "id": "f17b72de",
   "metadata": {},
   "source": [
    "### Lifespan"
   ]
  },
  {
   "cell_type": "code",
   "execution_count": 29,
   "id": "ed26deac",
   "metadata": {},
   "outputs": [
    {
     "data": {
      "text/plain": [
       "' Before imputation : 22671'"
      ]
     },
     "metadata": {},
     "output_type": "display_data"
    },
    {
     "name": "stdout",
     "output_type": "stream",
     "text": [
      "len of lifespan na: 22671\n"
     ]
    },
    {
     "data": {
      "text/plain": [
       "' After imputation : 0'"
      ]
     },
     "metadata": {},
     "output_type": "display_data"
    }
   ],
   "source": [
    "display(f' Before imputation : {train_df[\"lifespan\"].isna().sum()}')\n",
    "\n",
    "# Functional Form\n",
    "impute_lifespan(train_df)\n",
    "\n",
    "display(f' After imputation : {train_df[\"lifespan\"].isna().sum()}')"
   ]
  },
  {
   "cell_type": "markdown",
   "id": "8e47c7e0",
   "metadata": {},
   "source": [
    "### Fuel Type"
   ]
  },
  {
   "cell_type": "code",
   "execution_count": 30,
   "id": "af86f061",
   "metadata": {},
   "outputs": [
    {
     "data": {
      "text/html": [
       "<iframe\n",
       "    scrolling=\"no\"\n",
       "    width=\"100%\"\n",
       "    height=\"545px\"\n",
       "    src=\"iframe_figures/figure_30.html\"\n",
       "    frameborder=\"0\"\n",
       "    allowfullscreen\n",
       "></iframe>\n"
      ]
     },
     "metadata": {},
     "output_type": "display_data"
    }
   ],
   "source": [
    "# Assuming you have a DataFrame 'train_df' with columns 'type_of_vehicle' and 'price'\n",
    "fig = px.box(train_df, x=\"fuel_type\", y='price', points=\"all\")\n",
    "\n",
    "# Update the layout to make the x-axis labels horizontal\n",
    "fig.update_layout(xaxis_tickangle=0)\n",
    "\n",
    "# Show the figure\n",
    "fig.show()"
   ]
  },
  {
   "cell_type": "code",
   "execution_count": 31,
   "id": "2e761e66",
   "metadata": {},
   "outputs": [
    {
     "name": "stdout",
     "output_type": "stream",
     "text": [
      "Original Imputation Nan 19121\n",
      "After Imputation Nan 17956\n"
     ]
    },
    {
     "data": {
      "text/html": [
       "<div>\n",
       "<style scoped>\n",
       "    .dataframe tbody tr th:only-of-type {\n",
       "        vertical-align: middle;\n",
       "    }\n",
       "\n",
       "    .dataframe tbody tr th {\n",
       "        vertical-align: top;\n",
       "    }\n",
       "\n",
       "    .dataframe thead th {\n",
       "        text-align: right;\n",
       "    }\n",
       "</style>\n",
       "<table border=\"1\" class=\"dataframe\">\n",
       "  <thead>\n",
       "    <tr style=\"text-align: right;\">\n",
       "      <th></th>\n",
       "      <th>listing_id</th>\n",
       "      <th>title</th>\n",
       "      <th>make</th>\n",
       "      <th>model</th>\n",
       "      <th>description</th>\n",
       "      <th>manufactured</th>\n",
       "      <th>reg_date</th>\n",
       "      <th>type_of_vehicle</th>\n",
       "      <th>category</th>\n",
       "      <th>curb_weight</th>\n",
       "      <th>...</th>\n",
       "      <th>reg_date_month</th>\n",
       "      <th>model_make</th>\n",
       "      <th>extracted_make</th>\n",
       "      <th>curb_weight_impute</th>\n",
       "      <th>power_impute</th>\n",
       "      <th>engine_cap_impute</th>\n",
       "      <th>effective_reg_date</th>\n",
       "      <th>car_age</th>\n",
       "      <th>transmission_auto</th>\n",
       "      <th>omv_new</th>\n",
       "    </tr>\n",
       "  </thead>\n",
       "  <tbody>\n",
       "    <tr>\n",
       "      <th>0</th>\n",
       "      <td>1292132</td>\n",
       "      <td>Land Rover Range Rover Velar 3.0A Si6 R-Dynami...</td>\n",
       "      <td>land rover</td>\n",
       "      <td>range</td>\n",
       "      <td>1 owner, no repairs needed! it looks great, in...</td>\n",
       "      <td>2018.0</td>\n",
       "      <td>08-mar-2018</td>\n",
       "      <td>suv</td>\n",
       "      <td>parf car</td>\n",
       "      <td>1884.0</td>\n",
       "      <td>...</td>\n",
       "      <td>3</td>\n",
       "      <td>range_land rover</td>\n",
       "      <td>land rover</td>\n",
       "      <td>1884.0</td>\n",
       "      <td>280.0</td>\n",
       "      <td>2995.0</td>\n",
       "      <td>2018-03-08</td>\n",
       "      <td>6.0</td>\n",
       "      <td>True</td>\n",
       "      <td>88906.0</td>\n",
       "    </tr>\n",
       "    <tr>\n",
       "      <th>1</th>\n",
       "      <td>1294696</td>\n",
       "      <td>Mercedes-Benz C-Class C200 Sport Premium Sunroof</td>\n",
       "      <td>mercedes-benz</td>\n",
       "      <td>c200</td>\n",
       "      <td>rare beautiful white c200 sport premium sunroo...</td>\n",
       "      <td>2017.0</td>\n",
       "      <td>28-dec-2017</td>\n",
       "      <td>luxury sedan</td>\n",
       "      <td>parf car, premium ad car</td>\n",
       "      <td>1465.0</td>\n",
       "      <td>...</td>\n",
       "      <td>12</td>\n",
       "      <td>c200_mercedes-benz</td>\n",
       "      <td>mercedes-benz</td>\n",
       "      <td>1465.0</td>\n",
       "      <td>135.0</td>\n",
       "      <td>1991.0</td>\n",
       "      <td>2017-12-28</td>\n",
       "      <td>7.0</td>\n",
       "      <td>True</td>\n",
       "      <td>40678.0</td>\n",
       "    </tr>\n",
       "    <tr>\n",
       "      <th>2</th>\n",
       "      <td>1311717</td>\n",
       "      <td>Honda Odyssey 2.4A (COE till 09/2027)</td>\n",
       "      <td>honda</td>\n",
       "      <td>odyssey</td>\n",
       "      <td>comes with warranty. full service done.</td>\n",
       "      <td>2007.0</td>\n",
       "      <td>19-sep-2007</td>\n",
       "      <td>mpv</td>\n",
       "      <td>coe car, premium ad car, low mileage car</td>\n",
       "      <td>1648.0</td>\n",
       "      <td>...</td>\n",
       "      <td>9</td>\n",
       "      <td>odyssey_honda</td>\n",
       "      <td>honda</td>\n",
       "      <td>1648.0</td>\n",
       "      <td>118.0</td>\n",
       "      <td>2354.0</td>\n",
       "      <td>2007-09-19</td>\n",
       "      <td>17.0</td>\n",
       "      <td>True</td>\n",
       "      <td>27994.0</td>\n",
       "    </tr>\n",
       "    <tr>\n",
       "      <th>3</th>\n",
       "      <td>1310068</td>\n",
       "      <td>Toyota Corolla Altis 1.6A (COE till 12/2028)</td>\n",
       "      <td>toyota</td>\n",
       "      <td>altis</td>\n",
       "      <td>0</td>\n",
       "      <td>2008.0</td>\n",
       "      <td>15-dec-2008</td>\n",
       "      <td>mid-sized sedan</td>\n",
       "      <td>coe car, premium ad car</td>\n",
       "      <td>1195.0</td>\n",
       "      <td>...</td>\n",
       "      <td>12</td>\n",
       "      <td>altis_toyota</td>\n",
       "      <td>toyota</td>\n",
       "      <td>1195.0</td>\n",
       "      <td>80.0</td>\n",
       "      <td>1598.0</td>\n",
       "      <td>2008-12-15</td>\n",
       "      <td>16.0</td>\n",
       "      <td>True</td>\n",
       "      <td>16084.0</td>\n",
       "    </tr>\n",
       "    <tr>\n",
       "      <th>4</th>\n",
       "      <td>1325280</td>\n",
       "      <td>Lexus GS300 (COE till 06/2026)</td>\n",
       "      <td>lexus</td>\n",
       "      <td>gs</td>\n",
       "      <td>wear and tear done up. well maintained and reg...</td>\n",
       "      <td>2006.0</td>\n",
       "      <td>22-dec-2006</td>\n",
       "      <td>luxury sedan</td>\n",
       "      <td>coe car, premium ad car</td>\n",
       "      <td>1660.0</td>\n",
       "      <td>...</td>\n",
       "      <td>12</td>\n",
       "      <td>gs_lexus</td>\n",
       "      <td>lexus</td>\n",
       "      <td>1660.0</td>\n",
       "      <td>183.0</td>\n",
       "      <td>2995.0</td>\n",
       "      <td>2006-12-22</td>\n",
       "      <td>18.0</td>\n",
       "      <td>True</td>\n",
       "      <td>50414.0</td>\n",
       "    </tr>\n",
       "    <tr>\n",
       "      <th>...</th>\n",
       "      <td>...</td>\n",
       "      <td>...</td>\n",
       "      <td>...</td>\n",
       "      <td>...</td>\n",
       "      <td>...</td>\n",
       "      <td>...</td>\n",
       "      <td>...</td>\n",
       "      <td>...</td>\n",
       "      <td>...</td>\n",
       "      <td>...</td>\n",
       "      <td>...</td>\n",
       "      <td>...</td>\n",
       "      <td>...</td>\n",
       "      <td>...</td>\n",
       "      <td>...</td>\n",
       "      <td>...</td>\n",
       "      <td>...</td>\n",
       "      <td>...</td>\n",
       "      <td>...</td>\n",
       "      <td>...</td>\n",
       "      <td>...</td>\n",
       "    </tr>\n",
       "    <tr>\n",
       "      <th>24995</th>\n",
       "      <td>1329201</td>\n",
       "      <td>Mercedes-Benz C-Class C180 (COE till 06/2031)</td>\n",
       "      <td>mercedes-benz</td>\n",
       "      <td>c180</td>\n",
       "      <td>elegant looking and very well maintained by ow...</td>\n",
       "      <td>2011.0</td>\n",
       "      <td>14-jul-2011</td>\n",
       "      <td>luxury sedan</td>\n",
       "      <td>coe car, premium ad car, low mileage car</td>\n",
       "      <td>1500.0</td>\n",
       "      <td>...</td>\n",
       "      <td>7</td>\n",
       "      <td>c180_mercedes-benz</td>\n",
       "      <td>mercedes-benz</td>\n",
       "      <td>1500.0</td>\n",
       "      <td>115.0</td>\n",
       "      <td>1597.0</td>\n",
       "      <td>2011-07-14</td>\n",
       "      <td>13.0</td>\n",
       "      <td>True</td>\n",
       "      <td>31019.0</td>\n",
       "    </tr>\n",
       "    <tr>\n",
       "      <th>24996</th>\n",
       "      <td>1285898</td>\n",
       "      <td>Bentley Bentayga 4.0A V8</td>\n",
       "      <td>bentley</td>\n",
       "      <td>bentayga</td>\n",
       "      <td>ceo car chauffeur driven, always sheltered par...</td>\n",
       "      <td>2018.0</td>\n",
       "      <td>29-apr-2020</td>\n",
       "      <td>suv</td>\n",
       "      <td>parf car, direct owner sale, rare &amp; exotic</td>\n",
       "      <td>2470.0</td>\n",
       "      <td>...</td>\n",
       "      <td>4</td>\n",
       "      <td>bentayga_bentley</td>\n",
       "      <td>bentley</td>\n",
       "      <td>2470.0</td>\n",
       "      <td>404.0</td>\n",
       "      <td>3996.0</td>\n",
       "      <td>2018-08-23</td>\n",
       "      <td>6.0</td>\n",
       "      <td>True</td>\n",
       "      <td>137136.0</td>\n",
       "    </tr>\n",
       "    <tr>\n",
       "      <th>24997</th>\n",
       "      <td>1306309</td>\n",
       "      <td>Mercedes-Benz A-Class A180</td>\n",
       "      <td>mercedes-benz</td>\n",
       "      <td>a180</td>\n",
       "      <td>great for short term drive or to renew coe. op...</td>\n",
       "      <td>2014.0</td>\n",
       "      <td>01-apr-2015</td>\n",
       "      <td>hatchback</td>\n",
       "      <td>parf car, premium ad car, low mileage car, sgc...</td>\n",
       "      <td>1395.0</td>\n",
       "      <td>...</td>\n",
       "      <td>4</td>\n",
       "      <td>a180_mercedes-benz</td>\n",
       "      <td>mercedes-benz</td>\n",
       "      <td>1395.0</td>\n",
       "      <td>90.0</td>\n",
       "      <td>1595.0</td>\n",
       "      <td>2015-04-01</td>\n",
       "      <td>10.0</td>\n",
       "      <td>True</td>\n",
       "      <td>22897.0</td>\n",
       "    </tr>\n",
       "    <tr>\n",
       "      <th>24998</th>\n",
       "      <td>1306902</td>\n",
       "      <td>Audi A3 Sportback 1.0A TFSI S-tronic</td>\n",
       "      <td>audi</td>\n",
       "      <td>a3</td>\n",
       "      <td>sporty audi a3 in town with upgraded coil over...</td>\n",
       "      <td>2017.0</td>\n",
       "      <td>30-jun-2017</td>\n",
       "      <td>hatchback</td>\n",
       "      <td>parf car</td>\n",
       "      <td>1275.0</td>\n",
       "      <td>...</td>\n",
       "      <td>6</td>\n",
       "      <td>a3_audi</td>\n",
       "      <td>audi</td>\n",
       "      <td>1275.0</td>\n",
       "      <td>85.0</td>\n",
       "      <td>999.0</td>\n",
       "      <td>2017-06-30</td>\n",
       "      <td>7.0</td>\n",
       "      <td>True</td>\n",
       "      <td>23772.0</td>\n",
       "    </tr>\n",
       "    <tr>\n",
       "      <th>24999</th>\n",
       "      <td>1124035</td>\n",
       "      <td>BMW 2 Series 220i Coupe Sunroof</td>\n",
       "      <td>bmw</td>\n",
       "      <td>220i</td>\n",
       "      <td>flexible in house loan package and bank loan a...</td>\n",
       "      <td>2016.0</td>\n",
       "      <td>07-dec-2016</td>\n",
       "      <td>sports car</td>\n",
       "      <td>parf car, premium ad car</td>\n",
       "      <td>1400.0</td>\n",
       "      <td>...</td>\n",
       "      <td>12</td>\n",
       "      <td>220i_bmw</td>\n",
       "      <td>bmw</td>\n",
       "      <td>1400.0</td>\n",
       "      <td>135.0</td>\n",
       "      <td>1998.0</td>\n",
       "      <td>2016-12-07</td>\n",
       "      <td>8.0</td>\n",
       "      <td>True</td>\n",
       "      <td>34319.0</td>\n",
       "    </tr>\n",
       "  </tbody>\n",
       "</table>\n",
       "<p>25000 rows × 40 columns</p>\n",
       "</div>"
      ],
      "text/plain": [
       "       listing_id                                              title  \\\n",
       "0         1292132  Land Rover Range Rover Velar 3.0A Si6 R-Dynami...   \n",
       "1         1294696   Mercedes-Benz C-Class C200 Sport Premium Sunroof   \n",
       "2         1311717              Honda Odyssey 2.4A (COE till 09/2027)   \n",
       "3         1310068       Toyota Corolla Altis 1.6A (COE till 12/2028)   \n",
       "4         1325280                     Lexus GS300 (COE till 06/2026)   \n",
       "...           ...                                                ...   \n",
       "24995     1329201      Mercedes-Benz C-Class C180 (COE till 06/2031)   \n",
       "24996     1285898                           Bentley Bentayga 4.0A V8   \n",
       "24997     1306309                         Mercedes-Benz A-Class A180   \n",
       "24998     1306902               Audi A3 Sportback 1.0A TFSI S-tronic   \n",
       "24999     1124035                    BMW 2 Series 220i Coupe Sunroof   \n",
       "\n",
       "                make     model  \\\n",
       "0         land rover     range   \n",
       "1      mercedes-benz      c200   \n",
       "2              honda   odyssey   \n",
       "3             toyota     altis   \n",
       "4              lexus        gs   \n",
       "...              ...       ...   \n",
       "24995  mercedes-benz      c180   \n",
       "24996        bentley  bentayga   \n",
       "24997  mercedes-benz      a180   \n",
       "24998           audi        a3   \n",
       "24999            bmw      220i   \n",
       "\n",
       "                                             description  manufactured  \\\n",
       "0      1 owner, no repairs needed! it looks great, in...        2018.0   \n",
       "1      rare beautiful white c200 sport premium sunroo...        2017.0   \n",
       "2                comes with warranty. full service done.        2007.0   \n",
       "3                                                      0        2008.0   \n",
       "4      wear and tear done up. well maintained and reg...        2006.0   \n",
       "...                                                  ...           ...   \n",
       "24995  elegant looking and very well maintained by ow...        2011.0   \n",
       "24996  ceo car chauffeur driven, always sheltered par...        2018.0   \n",
       "24997  great for short term drive or to renew coe. op...        2014.0   \n",
       "24998  sporty audi a3 in town with upgraded coil over...        2017.0   \n",
       "24999  flexible in house loan package and bank loan a...        2016.0   \n",
       "\n",
       "          reg_date  type_of_vehicle  \\\n",
       "0      08-mar-2018              suv   \n",
       "1      28-dec-2017     luxury sedan   \n",
       "2      19-sep-2007              mpv   \n",
       "3      15-dec-2008  mid-sized sedan   \n",
       "4      22-dec-2006     luxury sedan   \n",
       "...            ...              ...   \n",
       "24995  14-jul-2011     luxury sedan   \n",
       "24996  29-apr-2020              suv   \n",
       "24997  01-apr-2015        hatchback   \n",
       "24998  30-jun-2017        hatchback   \n",
       "24999  07-dec-2016       sports car   \n",
       "\n",
       "                                                category  curb_weight  ...  \\\n",
       "0                                               parf car       1884.0  ...   \n",
       "1                               parf car, premium ad car       1465.0  ...   \n",
       "2               coe car, premium ad car, low mileage car       1648.0  ...   \n",
       "3                                coe car, premium ad car       1195.0  ...   \n",
       "4                                coe car, premium ad car       1660.0  ...   \n",
       "...                                                  ...          ...  ...   \n",
       "24995           coe car, premium ad car, low mileage car       1500.0  ...   \n",
       "24996         parf car, direct owner sale, rare & exotic       2470.0  ...   \n",
       "24997  parf car, premium ad car, low mileage car, sgc...       1395.0  ...   \n",
       "24998                                           parf car       1275.0  ...   \n",
       "24999                           parf car, premium ad car       1400.0  ...   \n",
       "\n",
       "       reg_date_month          model_make  extracted_make  curb_weight_impute  \\\n",
       "0                   3    range_land rover      land rover              1884.0   \n",
       "1                  12  c200_mercedes-benz   mercedes-benz              1465.0   \n",
       "2                   9       odyssey_honda           honda              1648.0   \n",
       "3                  12        altis_toyota          toyota              1195.0   \n",
       "4                  12            gs_lexus           lexus              1660.0   \n",
       "...               ...                 ...             ...                 ...   \n",
       "24995               7  c180_mercedes-benz   mercedes-benz              1500.0   \n",
       "24996               4    bentayga_bentley         bentley              2470.0   \n",
       "24997               4  a180_mercedes-benz   mercedes-benz              1395.0   \n",
       "24998               6             a3_audi            audi              1275.0   \n",
       "24999              12            220i_bmw             bmw              1400.0   \n",
       "\n",
       "       power_impute  engine_cap_impute  effective_reg_date  car_age  \\\n",
       "0             280.0             2995.0          2018-03-08      6.0   \n",
       "1             135.0             1991.0          2017-12-28      7.0   \n",
       "2             118.0             2354.0          2007-09-19     17.0   \n",
       "3              80.0             1598.0          2008-12-15     16.0   \n",
       "4             183.0             2995.0          2006-12-22     18.0   \n",
       "...             ...                ...                 ...      ...   \n",
       "24995         115.0             1597.0          2011-07-14     13.0   \n",
       "24996         404.0             3996.0          2018-08-23      6.0   \n",
       "24997          90.0             1595.0          2015-04-01     10.0   \n",
       "24998          85.0              999.0          2017-06-30      7.0   \n",
       "24999         135.0             1998.0          2016-12-07      8.0   \n",
       "\n",
       "       transmission_auto   omv_new  \n",
       "0                   True   88906.0  \n",
       "1                   True   40678.0  \n",
       "2                   True   27994.0  \n",
       "3                   True   16084.0  \n",
       "4                   True   50414.0  \n",
       "...                  ...       ...  \n",
       "24995               True   31019.0  \n",
       "24996               True  137136.0  \n",
       "24997               True   22897.0  \n",
       "24998               True   23772.0  \n",
       "24999               True   34319.0  \n",
       "\n",
       "[25000 rows x 40 columns]"
      ]
     },
     "execution_count": 31,
     "metadata": {},
     "output_type": "execute_result"
    }
   ],
   "source": [
    "get_fuel_type(train_df)"
   ]
  },
  {
   "cell_type": "markdown",
   "id": "5ce61c40",
   "metadata": {},
   "source": [
    "### Cylinder Count"
   ]
  },
  {
   "cell_type": "code",
   "execution_count": 29,
   "id": "25c7636a",
   "metadata": {},
   "outputs": [],
   "source": [
    "cylinder_count_extractor = CylinderExtractor()\n",
    "\n",
    "train_df = cylinder_count_extractor.transform(train_df)\n",
    "val_df = cylinder_count_extractor.transform(val_df) \n",
    "test_df = cylinder_count_extractor.transform(test_df) "
   ]
  },
  {
   "cell_type": "code",
   "execution_count": 30,
   "id": "5de7c21b",
   "metadata": {},
   "outputs": [],
   "source": [
    "cylinder_imputer = CylinderImputer()\n",
    "train_df = cylinder_imputer.fit_transform(train_df) # 1479 rows missing\n",
    "val_df = cylinder_imputer.transform(val_df) # 334 rows missing\n",
    "test_df = cylinder_imputer.transform(test_df)\n",
    "\n",
    "# Many rows are missing, impute using median values\n",
    "imputer = SimpleImputer(strategy='median')\n",
    "train_df['cylinder_cnt'] = imputer.fit_transform(train_df[['cylinder_cnt']])\n",
    "val_df['cylinder_cnt'] = imputer.transform(val_df[['cylinder_cnt']])\n",
    "test_df['cylinder_cnt'] = imputer.transform(test_df[['cylinder_cnt']])"
   ]
  },
  {
   "cell_type": "markdown",
   "id": "b4fa35a4",
   "metadata": {},
   "source": [
    "### Category Parser"
   ]
  },
  {
   "cell_type": "code",
   "execution_count": 61,
   "id": "3a5bcb64",
   "metadata": {},
   "outputs": [],
   "source": [
    "category_parser = CategoryParser()\n",
    "train_df = category_parser.fit_transform(train_df) \n",
    "val_df = category_parser.transform(val_df) "
   ]
  },
  {
   "cell_type": "code",
   "execution_count": 62,
   "id": "8196a8c1",
   "metadata": {},
   "outputs": [
    {
     "name": "stdout",
     "output_type": "stream",
     "text": [
      "<class 'pandas.core.frame.DataFrame'>\n",
      "RangeIndex: 20000 entries, 0 to 19999\n",
      "Data columns (total 62 columns):\n",
      " #   Column                           Non-Null Count  Dtype         \n",
      "---  ------                           --------------  -----         \n",
      " 0   listing_id                       20000 non-null  int64         \n",
      " 1   title                            20000 non-null  object        \n",
      " 2   make                             20000 non-null  object        \n",
      " 3   model                            20000 non-null  object        \n",
      " 4   description                      19459 non-null  object        \n",
      " 5   manufactured                     19993 non-null  float64       \n",
      " 6   original_reg_date                209 non-null    object        \n",
      " 7   reg_date                         20000 non-null  object        \n",
      " 8   type_of_vehicle                  20000 non-null  object        \n",
      " 9   category                         20000 non-null  object        \n",
      " 10  transmission                     20000 non-null  object        \n",
      " 11  curb_weight                      20000 non-null  float64       \n",
      " 12  power                            20000 non-null  float64       \n",
      " 13  fuel_type                        4661 non-null   object        \n",
      " 14  engine_cap                       20000 non-null  float64       \n",
      " 15  no_of_owners                     20000 non-null  float64       \n",
      " 16  depreciation                     20000 non-null  float64       \n",
      " 17  coe                              20000 non-null  int64         \n",
      " 18  road_tax                         17902 non-null  float64       \n",
      " 19  dereg_value                      19815 non-null  float64       \n",
      " 20  mileage                          20000 non-null  float64       \n",
      " 21  omv                              20000 non-null  float64       \n",
      " 22  arf                              19859 non-null  float64       \n",
      " 23  opc_scheme                       130 non-null    object        \n",
      " 24  lifespan                         1862 non-null   object        \n",
      " 25  eco_category                     20000 non-null  object        \n",
      " 26  features                         19328 non-null  object        \n",
      " 27  accessories                      16968 non-null  object        \n",
      " 28  indicative_price                 0 non-null      float64       \n",
      " 29  price                            20000 non-null  float64       \n",
      " 30  reg_date_dt                      20000 non-null  datetime64[ns]\n",
      " 31  reg_date_year                    20000 non-null  int64         \n",
      " 32  reg_date_month                   20000 non-null  int64         \n",
      " 33  model_make                       20000 non-null  object        \n",
      " 34  cylinder_cnt                     20000 non-null  float64       \n",
      " 35  type_of_vehicle_bus/mini bus     20000 non-null  float64       \n",
      " 36  type_of_vehicle_hatchback        20000 non-null  float64       \n",
      " 37  type_of_vehicle_luxury sedan     20000 non-null  float64       \n",
      " 38  type_of_vehicle_mid-sized sedan  20000 non-null  float64       \n",
      " 39  type_of_vehicle_mpv              20000 non-null  float64       \n",
      " 40  type_of_vehicle_others           20000 non-null  float64       \n",
      " 41  type_of_vehicle_sports car       20000 non-null  float64       \n",
      " 42  type_of_vehicle_stationwagon     20000 non-null  float64       \n",
      " 43  type_of_vehicle_suv              20000 non-null  float64       \n",
      " 44  type_of_vehicle_truck            20000 non-null  float64       \n",
      " 45  type_of_vehicle_van              20000 non-null  float64       \n",
      " 46  -                                20000 non-null  int64         \n",
      " 47  almost new car                   20000 non-null  int64         \n",
      " 48  coe car                          20000 non-null  int64         \n",
      " 49  consignment car                  20000 non-null  int64         \n",
      " 50  direct owner sale                20000 non-null  int64         \n",
      " 51  electric cars                    20000 non-null  int64         \n",
      " 52  hybrid cars                      20000 non-null  int64         \n",
      " 53  imported used vehicle            20000 non-null  int64         \n",
      " 54  low mileage car                  20000 non-null  int64         \n",
      " 55  opc car                          20000 non-null  int64         \n",
      " 56  parf car                         20000 non-null  int64         \n",
      " 57  premium ad car                   20000 non-null  int64         \n",
      " 58  rare & exotic                    20000 non-null  int64         \n",
      " 59  sgcarmart warranty cars          20000 non-null  int64         \n",
      " 60  sta evaluated car                20000 non-null  int64         \n",
      " 61  vintage cars                     20000 non-null  int64         \n",
      "dtypes: datetime64[ns](1), float64(25), int64(20), object(16)\n",
      "memory usage: 9.5+ MB\n"
     ]
    }
   ],
   "source": [
    "train_df.info()"
   ]
  },
  {
   "cell_type": "markdown",
   "id": "48694da0-c052-4e01-9b9b-86132f62898c",
   "metadata": {},
   "source": [
    "### features "
   ]
  },
  {
   "cell_type": "code",
   "execution_count": 32,
   "id": "1cefc3b6-fef7-42c3-8826-f78b710f4029",
   "metadata": {},
   "outputs": [],
   "source": [
    "train_df['cylinder_cnt'] = train_df['features'].apply(lambda x: extract_cylinder_from_features(x) if pd.notnull(x) else None)\n",
    "cylinder_count_dict = extract_cylinder_by_model_make(train_df)\n",
    "train_df['cylinder_cnt'] = train_df.apply(lambda x:impute_row_by_make_model(x, cylinder_count_dict, 'cylinder_cnt'), axis=1)\n",
    "# fill remaining values with median of 4 cylinder (most common engine)\n",
    "median_cylinder_cnt = train_df['cylinder_cnt'].median(axis=0)\n",
    "train_df['cylinder_cnt'] = train_df['cylinder_cnt'].fillna(median_cylinder_cnt)"
   ]
  },
  {
   "cell_type": "code",
   "execution_count": 33,
   "id": "354d510c-7bec-431e-9909-360abb7ef272",
   "metadata": {},
   "outputs": [
    {
     "data": {
      "text/plain": [
       "Index(['listing_id', 'title', 'make', 'model', 'description', 'manufactured',\n",
       "       'reg_date', 'type_of_vehicle', 'category', 'curb_weight', 'power',\n",
       "       'fuel_type', 'engine_cap', 'no_of_owners', 'depreciation', 'coe',\n",
       "       'road_tax', 'dereg_value', 'mileage', 'omv', 'arf', 'opc_scheme',\n",
       "       'lifespan', 'eco_category', 'features', 'accessories',\n",
       "       'indicative_price', 'price', 'reg_date_dt', 'reg_date_year',\n",
       "       'reg_date_month', 'model_make', 'extracted_make', 'curb_weight_impute',\n",
       "       'power_impute', 'engine_cap_impute', 'effective_reg_date', 'car_age',\n",
       "       'transmission_auto', 'omv_new', 'cylinder_cnt'],\n",
       "      dtype='object')"
      ]
     },
     "execution_count": 33,
     "metadata": {},
     "output_type": "execute_result"
    }
   ],
   "source": [
    "train_df.columns"
   ]
  },
  {
   "cell_type": "markdown",
   "id": "d6531488-4eea-453b-82be-225787cd792d",
   "metadata": {},
   "source": [
    "## Data normalization"
   ]
  },
  {
   "cell_type": "code",
   "execution_count": 34,
   "id": "0065f37d-f61d-413b-a289-9a63e7ca644c",
   "metadata": {
    "scrolled": true
   },
   "outputs": [
    {
     "data": {
      "text/html": [
       "<table border=\"1\" class=\"dataframe\">\n",
       "  <thead>\n",
       "    <tr style=\"text-align: right;\">\n",
       "      <th></th>\n",
       "      <th>listing_id</th>\n",
       "      <th>title</th>\n",
       "      <th>make</th>\n",
       "      <th>model</th>\n",
       "      <th>description</th>\n",
       "      <th>manufactured</th>\n",
       "      <th>reg_date</th>\n",
       "      <th>type_of_vehicle</th>\n",
       "      <th>category</th>\n",
       "      <th>curb_weight</th>\n",
       "      <th>power</th>\n",
       "      <th>fuel_type</th>\n",
       "      <th>engine_cap</th>\n",
       "      <th>no_of_owners</th>\n",
       "      <th>depreciation</th>\n",
       "      <th>coe</th>\n",
       "      <th>road_tax</th>\n",
       "      <th>dereg_value</th>\n",
       "      <th>mileage</th>\n",
       "      <th>omv</th>\n",
       "      <th>arf</th>\n",
       "      <th>opc_scheme</th>\n",
       "      <th>lifespan</th>\n",
       "      <th>eco_category</th>\n",
       "      <th>features</th>\n",
       "      <th>accessories</th>\n",
       "      <th>indicative_price</th>\n",
       "      <th>price</th>\n",
       "      <th>reg_date_dt</th>\n",
       "      <th>reg_date_year</th>\n",
       "      <th>reg_date_month</th>\n",
       "      <th>model_make</th>\n",
       "      <th>extracted_make</th>\n",
       "      <th>curb_weight_impute</th>\n",
       "      <th>power_impute</th>\n",
       "      <th>engine_cap_impute</th>\n",
       "      <th>effective_reg_date</th>\n",
       "      <th>car_age</th>\n",
       "      <th>transmission_auto</th>\n",
       "      <th>omv_new</th>\n",
       "      <th>cylinder_cnt</th>\n",
       "    </tr>\n",
       "  </thead>\n",
       "  <tbody>\n",
       "    <tr>\n",
       "      <th>0</th>\n",
       "      <td>1292132</td>\n",
       "      <td>Land Rover Range Rover Velar 3.0A Si6 R-Dynamic Sunroof</td>\n",
       "      <td>land rover</td>\n",
       "      <td>range</td>\n",
       "      <td>1 owner, no repairs needed! it looks great, inside and out. it offers good comfort for four adults and decent cargo space. call us for viewing now to avoid disappointment!</td>\n",
       "      <td>2018.0</td>\n",
       "      <td>08-mar-2018</td>\n",
       "      <td>suv</td>\n",
       "      <td>parf car</td>\n",
       "      <td>1884.0</td>\n",
       "      <td>280.0</td>\n",
       "      <td>NaN</td>\n",
       "      <td>2995.0</td>\n",
       "      <td>2.0</td>\n",
       "      <td>34270.0</td>\n",
       "      <td>48011</td>\n",
       "      <td>2380.0</td>\n",
       "      <td>103323.0</td>\n",
       "      <td>96000.0</td>\n",
       "      <td>88906.0</td>\n",
       "      <td>132031.0</td>\n",
       "      <td>NaN</td>\n",
       "      <td>08-Mar-2028</td>\n",
       "      <td>uncategorized</td>\n",
       "      <td>3l supercharged v6 p380 engine at 375bhp/450nm torque, 8 speed zf, bsm, lane departure warning/lane keep assist, adaptive cruise control, hud.</td>\n",
       "      <td>2 x massage/memory/cooling &amp; warmer seat, rear electric seat, panoramic roof, meridian surround, virtual cockpit, carplay, 360 cam, auto/kick tailgate</td>\n",
       "      <td>NaN</td>\n",
       "      <td>193788.0</td>\n",
       "      <td>2018-03-08</td>\n",
       "      <td>2018</td>\n",
       "      <td>3</td>\n",
       "      <td>range_land rover</td>\n",
       "      <td>land rover</td>\n",
       "      <td>1884.0</td>\n",
       "      <td>280.0</td>\n",
       "      <td>2995.0</td>\n",
       "      <td>2018-03-08</td>\n",
       "      <td>6.0</td>\n",
       "      <td>True</td>\n",
       "      <td>88906.0</td>\n",
       "      <td>6.0</td>\n",
       "    </tr>\n",
       "    <tr>\n",
       "      <th>1</th>\n",
       "      <td>1294696</td>\n",
       "      <td>Mercedes-Benz C-Class C200 Sport Premium Sunroof</td>\n",
       "      <td>mercedes-benz</td>\n",
       "      <td>c200</td>\n",
       "      <td>rare beautiful white c200 sport premium sunroof in the market. low mileage driven. most popular sedan in the market. in pristine condition. quiet and comfortable cabin to travel in top notch comfort, luxurious and superb efficient drive. smooth acceleration and powerful engine. easy and low cost maintenance. high loan financing available. high trade in offer. call now for a viewing appointment.</td>\n",
       "      <td>2017.0</td>\n",
       "      <td>28-dec-2017</td>\n",
       "      <td>luxury sedan</td>\n",
       "      <td>parf car, premium ad car</td>\n",
       "      <td>1465.0</td>\n",
       "      <td>135.0</td>\n",
       "      <td>NaN</td>\n",
       "      <td>1991.0</td>\n",
       "      <td>2.0</td>\n",
       "      <td>21170.0</td>\n",
       "      <td>47002</td>\n",
       "      <td>1202.0</td>\n",
       "      <td>45179.0</td>\n",
       "      <td>85680.0</td>\n",
       "      <td>40678.0</td>\n",
       "      <td>43950.0</td>\n",
       "      <td>NaN</td>\n",
       "      <td>28-Dec-2027</td>\n",
       "      <td>uncategorized</td>\n",
       "      <td>2.0l 4 cylinders inline turbocharged engine, paddle shifters, abs, esp, 8 x srs airbags, agility select, auto start/stop function, cruise control. view specs of the mercedes-benz c-class saloon</td>\n",
       "      <td>multi function steering, electric tailgate, reverse camera/sensors. keyless entry/start/stop, twin panoramic roofs with electric blinds.</td>\n",
       "      <td>NaN</td>\n",
       "      <td>96800.0</td>\n",
       "      <td>2017-12-28</td>\n",
       "      <td>2017</td>\n",
       "      <td>12</td>\n",
       "      <td>c200_mercedes-benz</td>\n",
       "      <td>mercedes-benz</td>\n",
       "      <td>1465.0</td>\n",
       "      <td>135.0</td>\n",
       "      <td>1991.0</td>\n",
       "      <td>2017-12-28</td>\n",
       "      <td>7.0</td>\n",
       "      <td>True</td>\n",
       "      <td>40678.0</td>\n",
       "      <td>4.0</td>\n",
       "    </tr>\n",
       "    <tr>\n",
       "      <th>2</th>\n",
       "      <td>1311717</td>\n",
       "      <td>Honda Odyssey 2.4A (COE till 09/2027)</td>\n",
       "      <td>honda</td>\n",
       "      <td>odyssey</td>\n",
       "      <td>comes with warranty. full service done.</td>\n",
       "      <td>2007.0</td>\n",
       "      <td>19-sep-2007</td>\n",
       "      <td>mpv</td>\n",
       "      <td>coe car, premium ad car, low mileage car</td>\n",
       "      <td>1648.0</td>\n",
       "      <td>118.0</td>\n",
       "      <td>NaN</td>\n",
       "      <td>2354.0</td>\n",
       "      <td>3.0</td>\n",
       "      <td>12520.0</td>\n",
       "      <td>50355</td>\n",
       "      <td>2442.0</td>\n",
       "      <td>16003.0</td>\n",
       "      <td>138000.0</td>\n",
       "      <td>27994.0</td>\n",
       "      <td>30794.0</td>\n",
       "      <td>NaN</td>\n",
       "      <td>19-Sep-2017</td>\n",
       "      <td>uncategorized</td>\n",
       "      <td>2.4l k24a 4 cylinders inline dohc i-vtec, 5 speed auto, abs, 2 airbags, cruise control, auto headlight, knockdown rear seats. view specs of the honda odyssey</td>\n",
       "      <td>cruise control, touchscreen audio, reverse camera and sensor, multi function steering controls.</td>\n",
       "      <td>NaN</td>\n",
       "      <td>39800.0</td>\n",
       "      <td>2007-09-19</td>\n",
       "      <td>2007</td>\n",
       "      <td>9</td>\n",
       "      <td>odyssey_honda</td>\n",
       "      <td>honda</td>\n",
       "      <td>1648.0</td>\n",
       "      <td>118.0</td>\n",
       "      <td>2354.0</td>\n",
       "      <td>2007-09-19</td>\n",
       "      <td>17.0</td>\n",
       "      <td>True</td>\n",
       "      <td>27994.0</td>\n",
       "      <td>4.0</td>\n",
       "    </tr>\n",
       "    <tr>\n",
       "      <th>3</th>\n",
       "      <td>1310068</td>\n",
       "      <td>Toyota Corolla Altis 1.6A (COE till 12/2028)</td>\n",
       "      <td>toyota</td>\n",
       "      <td>altis</td>\n",
       "      <td>0</td>\n",
       "      <td>2008.0</td>\n",
       "      <td>15-dec-2008</td>\n",
       "      <td>mid-sized sedan</td>\n",
       "      <td>coe car, premium ad car</td>\n",
       "      <td>1195.0</td>\n",
       "      <td>80.0</td>\n",
       "      <td>NaN</td>\n",
       "      <td>1598.0</td>\n",
       "      <td>3.0</td>\n",
       "      <td>10140.0</td>\n",
       "      <td>27571</td>\n",
       "      <td>1113.0</td>\n",
       "      <td>12184.0</td>\n",
       "      <td>160000.0</td>\n",
       "      <td>16084.0</td>\n",
       "      <td>16084.0</td>\n",
       "      <td>NaN</td>\n",
       "      <td>15-Dec-2018</td>\n",
       "      <td>uncategorized</td>\n",
       "      <td>super fuel efficient 1.6l 16 valves dohc vvt-i engine, smooth auto transmission with ect, dual srs airbags, abs. view specs of the toyota corolla altis</td>\n",
       "      <td>leather seats, pioneer dvd audio system with reverse sensors/camera, retractable side mirrors with indicators.</td>\n",
       "      <td>NaN</td>\n",
       "      <td>44800.0</td>\n",
       "      <td>2008-12-15</td>\n",
       "      <td>2008</td>\n",
       "      <td>12</td>\n",
       "      <td>altis_toyota</td>\n",
       "      <td>toyota</td>\n",
       "      <td>1195.0</td>\n",
       "      <td>80.0</td>\n",
       "      <td>1598.0</td>\n",
       "      <td>2008-12-15</td>\n",
       "      <td>16.0</td>\n",
       "      <td>True</td>\n",
       "      <td>16084.0</td>\n",
       "      <td>4.0</td>\n",
       "    </tr>\n",
       "    <tr>\n",
       "      <th>4</th>\n",
       "      <td>1325280</td>\n",
       "      <td>Lexus GS300 (COE till 06/2026)</td>\n",
       "      <td>lexus</td>\n",
       "      <td>gs</td>\n",
       "      <td>wear and tear done up. well maintained and regularly serviced. no expenses were spared by the meticulous owner. accident free. unit in superb condition, view to believe! workshop check/sta evaluation can be arranged. viewing available in our showroom. bank / in house loan available. contact us today! viewing by appointment.</td>\n",
       "      <td>2006.0</td>\n",
       "      <td>22-dec-2006</td>\n",
       "      <td>luxury sedan</td>\n",
       "      <td>coe car, premium ad car</td>\n",
       "      <td>1660.0</td>\n",
       "      <td>183.0</td>\n",
       "      <td>NaN</td>\n",
       "      <td>2995.0</td>\n",
       "      <td>6.0</td>\n",
       "      <td>13690.0</td>\n",
       "      <td>48479</td>\n",
       "      <td>3570.0</td>\n",
       "      <td>9138.0</td>\n",
       "      <td>183000.0</td>\n",
       "      <td>50414.0</td>\n",
       "      <td>55456.0</td>\n",
       "      <td>NaN</td>\n",
       "      <td>22-Dec-2016</td>\n",
       "      <td>uncategorized</td>\n",
       "      <td>powerful 3.0l v6 engine, 227bhp, 6 speed , keyless entry, start, srs airbags, abs, cruise control, climate control a/c, view specs of the lexus gs300</td>\n",
       "      <td>premium upholstery electric seats. memory seats. lexus entertainment system. rear aircon. ventilated seats. retractable side mirror</td>\n",
       "      <td>NaN</td>\n",
       "      <td>25800.0</td>\n",
       "      <td>2006-12-22</td>\n",
       "      <td>2006</td>\n",
       "      <td>12</td>\n",
       "      <td>gs_lexus</td>\n",
       "      <td>lexus</td>\n",
       "      <td>1660.0</td>\n",
       "      <td>183.0</td>\n",
       "      <td>2995.0</td>\n",
       "      <td>2006-12-22</td>\n",
       "      <td>18.0</td>\n",
       "      <td>True</td>\n",
       "      <td>50414.0</td>\n",
       "      <td>6.0</td>\n",
       "    </tr>\n",
       "  </tbody>\n",
       "</table>"
      ],
      "text/plain": [
       "<IPython.core.display.HTML object>"
      ]
     },
     "metadata": {},
     "output_type": "display_data"
    }
   ],
   "source": [
    "display(HTML(train_df.head(5).to_html()))"
   ]
  },
  {
   "cell_type": "code",
   "execution_count": 52,
   "id": "c8ed5bf2-595a-4656-98ac-a2c2f780e268",
   "metadata": {},
   "outputs": [],
   "source": [
    "from sklearn.preprocessing import MinMaxScaler\n",
    "from sklearn.model_selection import train_test_split\n",
    "from sklearn.metrics import mean_squared_error, r2_score\n",
    "from utils.models import Classification\n",
    "from sklearn.impute import SimpleImputer\n"
   ]
  },
  {
   "cell_type": "code",
   "execution_count": 57,
   "id": "b7f2c30e-6c1b-41ae-8dfb-7e864b54652f",
   "metadata": {},
   "outputs": [],
   "source": [
    "\n",
    "features = ['curb_weight_impute', 'power_impute', 'cylinder_cnt', 'omv_new',\n",
    "       'engine_cap_impute', 'depreciation', 'mileage', 'dereg_value']\n",
    "\n",
    "X_train, X_test, y_train, y_test = train_test_split(train_df[features], train_df['price'], test_size=0.3, random_state=42)\n"
   ]
  },
  {
   "cell_type": "code",
   "execution_count": 58,
   "id": "300a2f15-2092-4925-9fc2-7c59261c5e7e",
   "metadata": {},
   "outputs": [],
   "source": [
    "scaler = MinMaxScaler()\n",
    "imputer = SimpleImputer(strategy='median')\n",
    "imputer.fit(X_train[features])\n",
    "\n",
    "X_train[features] = imputer.transform(X_train[features])\n",
    "X_test[features] = imputer.transform(X_test[features])\n",
    "\n",
    "# Fit and transform the numerical columns\n",
    "X_train[features] = scaler.fit_transform(X_train[features])\n",
    "X_test[features] = scaler.transform(X_test[features])"
   ]
  },
  {
   "cell_type": "code",
   "execution_count": 59,
   "id": "99553fc5-c8d3-4bbe-b01c-2d9f43014dfd",
   "metadata": {},
   "outputs": [
    {
     "name": "stdout",
     "output_type": "stream",
     "text": [
      "<class 'pandas.core.frame.DataFrame'>\n",
      "Index: 17500 entries, 4913 to 23654\n",
      "Data columns (total 8 columns):\n",
      " #   Column              Non-Null Count  Dtype  \n",
      "---  ------              --------------  -----  \n",
      " 0   curb_weight_impute  17500 non-null  float64\n",
      " 1   power_impute        17500 non-null  float64\n",
      " 2   cylinder_cnt        17500 non-null  float64\n",
      " 3   omv_new             17500 non-null  float64\n",
      " 4   engine_cap_impute   17500 non-null  float64\n",
      " 5   depreciation        17500 non-null  float64\n",
      " 6   mileage             17500 non-null  float64\n",
      " 7   dereg_value         17500 non-null  float64\n",
      "dtypes: float64(8)\n",
      "memory usage: 1.2 MB\n"
     ]
    }
   ],
   "source": [
    "X_train[features].info()"
   ]
  },
  {
   "cell_type": "code",
   "execution_count": null,
   "id": "3cb2fbf4-f800-48f6-8d73-abb44986d99d",
   "metadata": {},
   "outputs": [],
   "source": []
  },
  {
   "cell_type": "markdown",
   "id": "6650db78-6564-492a-884b-c92dd8cba461",
   "metadata": {},
   "source": [
    "## Training models"
   ]
  },
  {
   "cell_type": "code",
   "execution_count": 70,
   "id": "a91ea483",
   "metadata": {},
   "outputs": [
    {
     "data": {
      "text/plain": [
       "0        30-jun-2040\n",
       "1                NaN\n",
       "2                NaN\n",
       "3                NaN\n",
       "4                NaN\n",
       "            ...     \n",
       "19995            NaN\n",
       "19996            NaN\n",
       "19997            NaN\n",
       "19998            NaN\n",
       "19999            NaN\n",
       "Name: lifespan, Length: 20000, dtype: object"
      ]
     },
     "execution_count": 70,
     "metadata": {},
     "output_type": "execute_result"
    }
   ],
   "source": [
    "train_df.lifespan"
   ]
  },
  {
   "cell_type": "code",
   "execution_count": 63,
   "id": "51f3b689-2d2b-43b4-98e4-f6c2ea8670f6",
   "metadata": {},
   "outputs": [
    {
     "data": {
      "text/plain": [
       "curb_weight                        0\n",
       "power                              0\n",
       "cylinder_cnt                       0\n",
       "omv                                0\n",
       "engine_cap                         0\n",
       "depreciation                       0\n",
       "mileage                            0\n",
       "no_of_owners                       0\n",
       "type_of_vehicle_bus/mini bus       0\n",
       "type_of_vehicle_hatchback          0\n",
       "type_of_vehicle_luxury sedan       0\n",
       "type_of_vehicle_mid-sized sedan    0\n",
       "type_of_vehicle_mpv                0\n",
       "type_of_vehicle_others             0\n",
       "type_of_vehicle_sports car         0\n",
       "type_of_vehicle_stationwagon       0\n",
       "type_of_vehicle_suv                0\n",
       "type_of_vehicle_truck              0\n",
       "type_of_vehicle_van                0\n",
       "dtype: int64"
      ]
     },
     "execution_count": 63,
     "metadata": {},
     "output_type": "execute_result"
    }
   ],
   "source": [
    "# display(HTML(train_df.head(50).to_html()))\n",
    "features = ['curb_weight', 'power', 'cylinder_cnt', 'omv',\n",
    "       'engine_cap', 'depreciation', 'mileage', 'no_of_owners','type_of_vehicle_bus/mini bus', 'type_of_vehicle_hatchback',\n",
    "       'type_of_vehicle_luxury sedan', 'type_of_vehicle_mid-sized sedan',\n",
    "       'type_of_vehicle_mpv', 'type_of_vehicle_others',\n",
    "       'type_of_vehicle_sports car', 'type_of_vehicle_stationwagon',\n",
    "       'type_of_vehicle_suv', 'type_of_vehicle_truck', 'type_of_vehicle_van']\n",
    "\n",
    "train_df[features].isna().sum()"
   ]
  },
  {
   "cell_type": "code",
   "execution_count": 37,
   "id": "a773043d",
   "metadata": {},
   "outputs": [],
   "source": [
    "# Scale dataset\n",
    "scaler = MinMaxScaler()\n",
    "imputer = SimpleImputer(strategy='median')\n",
    "\n",
    "imputer.fit(train_df[features])\n",
    "\n",
    "# Split data into training and test sets\n",
    "train_df[features] = imputer.transform(train_df[features])\n",
    "val_df[features] = imputer.transform(val_df[features])\n",
    "test_df[features] = imputer.transform(test_df[features])\n",
    "\n",
    "# Fit and transform the numerical columns\n",
    "train_df[features] = scaler.fit_transform(train_df[features])\n",
    "val_df[features] = scaler.transform(val_df[features])\n",
    "test_df[features] = scaler.transform(test_df[features])"
   ]
  },
  {
   "cell_type": "code",
   "execution_count": 39,
   "id": "4e41c3d5",
   "metadata": {},
   "outputs": [],
   "source": [
    "X_train = train_df[features]\n",
    "y_train = train_df['price']\n",
    "\n",
    "X_val = val_df[features]\n",
    "y_val = val_df['price']"
   ]
  },
  {
   "cell_type": "code",
   "execution_count": 55,
   "id": "934fce46-011d-468f-a05c-f0357ab19fb1",
   "metadata": {},
   "outputs": [
    {
     "name": "stdout",
     "output_type": "stream",
     "text": [
      "Model Tuning Starttime :: 2024-10-27 21:05:31.366825\n"
     ]
    },
    {
     "name": "stderr",
     "output_type": "stream",
     "text": [
      "/Library/Frameworks/Python.framework/Versions/3.9/lib/python3.9/site-packages/joblib/externals/loky/process_executor.py:752: UserWarning:\n",
      "\n",
      "A worker stopped while some jobs were given to the executor. This can be caused by a too short worker timeout or by a memory leak.\n",
      "\n"
     ]
    },
    {
     "name": "stdout",
     "output_type": "stream",
     "text": [
      "Model Tuning Completed :: 2024-10-27 21:07:49.657995\n",
      "Best Parameters: {'max_depth': None, 'min_samples_split': 2, 'n_estimators': 100}\n"
     ]
    }
   ],
   "source": [
    "# 2. Initialize the Regression class\n",
    "regressor = Regression()\n",
    "\n",
    "# 3. Define parameters for hyperparameter tuning\n",
    "params = {\n",
    "    'n_estimators': [10, 50, 100],\n",
    "    'max_depth': [ 1, 10, 20],\n",
    "    'min_samples_split': [2, 5, 10]\n",
    "}\n",
    "\n",
    "\n",
    "# Example for Random Forest with accuracy scoring and KFold validation\n",
    "tuner, best_params, tuner_results = regressor.hyperparameter_tuning(\n",
    "    df_tuple=(X_train, y_train),   # The training data (X, y)\n",
    "    score_metric='neg_root_mean_squared_error',       # Scoring metric\n",
    "    kfold_type='kfold',            # Type of fold (KFold used here)\n",
    "    n_splits=5,                    # Number of splits for KFold\n",
    "    params=params,                 # Hyperparameter grid to search\n",
    "    model_name='random_forest'      # Model to use (Random Forest in this case)\n",
    ")\n",
    "\n",
    "# 4. View the best hyperparameters and fit the model\n",
    "print(f\"Best Parameters: {best_params}\")\n",
    "\n",
    "# 5. Use the best model to predict on the test set\n",
    "best_model = tuner.best_estimator_\n"
   ]
  },
  {
   "cell_type": "code",
   "execution_count": 56,
   "id": "3dce5935-39d5-401c-8c6c-e555f4dab5b1",
   "metadata": {},
   "outputs": [
    {
     "data": {
      "text/plain": [
       "['./model_assets/random_forest_v3.joblib']"
      ]
     },
     "execution_count": 56,
     "metadata": {},
     "output_type": "execute_result"
    }
   ],
   "source": [
    "import joblib\n",
    "\n",
    "# Save model \n",
    "model_name = \"random_forest_v3\"\n",
    "save_path = f\"./model_assets\"\n",
    "# Save the trained model\n",
    "joblib.dump(best_model, f\"{save_path}/{model_name}.joblib\")"
   ]
  },
  {
   "cell_type": "code",
   "execution_count": 44,
   "id": "5b9cb6e5",
   "metadata": {},
   "outputs": [],
   "source": [
    "import joblib\n",
    "import plotly.express as px\n",
    "import plotly.graph_objects as go\n",
    "\n",
    "def _infer_type(data) -> np.ndarray:\n",
    "\n",
    "    ## type checker\n",
    "\n",
    "    try:\n",
    "        assert type(data) == np.ndarray, \"incorrect type\"\n",
    "\n",
    "    except AssertionError:\n",
    "        data = data.to_numpy()\n",
    "        print(\"INFO [_infer_type] :: Type changed\")\n",
    "        return data\n",
    "\n",
    "    else:\n",
    "        return data\n",
    "\n",
    "def mini_reg_evaluate(\n",
    "    df_train_tuple: tuple, df_valid_tuple: tuple, model_name: str, save_path:str\n",
    "):\n",
    "\n",
    "    model = joblib.load(f\"{save_path}/{model_name}.joblib\")\n",
    "    X_train, y_train = df_train_tuple[0], df_train_tuple[1]\n",
    "    X_valid, y_valid = df_valid_tuple[0], df_valid_tuple[1]\n",
    "\n",
    "    ## type checker\n",
    "\n",
    "    X_train = _infer_type(X_train)\n",
    "    y_train = _infer_type(y_train)\n",
    "    X_valid = _infer_type(X_valid)\n",
    "    y_valid = _infer_type(y_valid)\n",
    "\n",
    "    # Train and validation scores\n",
    "    y_train_pred = model.predict(X_train)\n",
    "    y_valid_pred = model.predict(X_valid)\n",
    "    \n",
    "    # Visualize scatter plot for validation data\n",
    "    plt.scatter(y_valid, y_valid_pred, color='blue', alpha=0.5)\n",
    "    plt.plot([y_valid.min(), y_valid.max()], [y_valid.min(), y_valid.max()], color='red', linestyle='--')\n",
    "    plt.title(\"y_valid predicted vs actual\")\n",
    "    plt.xlabel(\"Actual Values\")\n",
    "    plt.ylabel(\"Predicted Values\")\n",
    "    plt.xticks(rotation=45)\n",
    "    plt.yticks(rotation=45)\n",
    "    plt.show()\n",
    "    \n",
    "    # Visualize scatter plot for training data\n",
    "    plt.scatter(y_train, y_train_pred, color='blue', alpha=0.5)\n",
    "    plt.plot([y_train.min(), y_train.max()], [y_train.min(), y_train.max()], color='red', linestyle='--')\n",
    "    plt.title(\"y_train predicted vs actual\")\n",
    "    plt.xlabel(\"Actual Values\")\n",
    "    plt.ylabel(\"Predicted Values\")\n",
    "    plt.xticks(rotation=45)\n",
    "    plt.yticks(rotation=45)\n",
    "    plt.show()\n",
    "    \n",
    "    # Visualize residual plot\n",
    "    plt.scatter(y_valid_pred, y_valid_pred - y_valid, color='blue', alpha=0.5)\n",
    "    plt.plot([y_valid_pred.min(), y_valid_pred.max()], [0, 0], color='red', linestyle='--')\n",
    "    plt.title(\"Residual Plot (Validation Data)\")\n",
    "    plt.xlabel(\"Predicted Values\")\n",
    "    plt.ylabel(\"Residual Values\")\n",
    "    plt.xticks(rotation=45)\n",
    "    plt.yticks(rotation=45)\n",
    "    plt.show()\n",
    "    \n",
    "    plt.scatter(y_train_pred, y_train_pred - y_train, color='blue', alpha=0.5)\n",
    "    plt.plot([y_train_pred.min(), y_train_pred.max()], [0, 0], color='red', linestyle='--')\n",
    "    plt.title(\"Residual Plot (Training Data)\")\n",
    "    plt.xlabel(\"Predicted Values\")\n",
    "    plt.ylabel(\"Residual Values\")\n",
    "    plt.xticks(rotation=45)\n",
    "    plt.yticks(rotation=45)\n",
    "    plt.show()\n",
    "  "
   ]
  },
  {
   "cell_type": "code",
   "execution_count": 57,
   "id": "e91b19f1",
   "metadata": {},
   "outputs": [
    {
     "name": "stdout",
     "output_type": "stream",
     "text": [
      "INFO [_infer_type] :: Type changed\n",
      "INFO [_infer_type] :: Type changed\n",
      "INFO [_infer_type] :: Type changed\n",
      "INFO [_infer_type] :: Type changed\n"
     ]
    },
    {
     "name": "stderr",
     "output_type": "stream",
     "text": [
      "/Library/Frameworks/Python.framework/Versions/3.9/lib/python3.9/site-packages/sklearn/base.py:493: UserWarning:\n",
      "\n",
      "X does not have valid feature names, but RandomForestRegressor was fitted with feature names\n",
      "\n",
      "/Library/Frameworks/Python.framework/Versions/3.9/lib/python3.9/site-packages/sklearn/base.py:493: UserWarning:\n",
      "\n",
      "X does not have valid feature names, but RandomForestRegressor was fitted with feature names\n",
      "\n"
     ]
    },
    {
     "data": {
      "image/png": "[encoded data removed]",
      "text/plain": [
       "<Figure size 1200x300 with 1 Axes>"
      ]
     },
     "metadata": {},
     "output_type": "display_data"
    },
    {
     "data": {
      "image/png": "[encoded data removed]",
      "text/plain": [
       "<Figure size 1200x300 with 1 Axes>"
      ]
     },
     "metadata": {},
     "output_type": "display_data"
    },
    {
     "data": {
      "image/png": "[encoded data removed]",
      "text/plain": [
       "<Figure size 1200x300 with 1 Axes>"
      ]
     },
     "metadata": {},
     "output_type": "display_data"
    },
    {
     "data": {
      "image/png": "[encoded data removed]",
      "text/plain": [
       "<Figure size 1200x300 with 1 Axes>"
      ]
     },
     "metadata": {},
     "output_type": "display_data"
    }
   ],
   "source": [
    "model_name = \"random_forest_v3\"\n",
    "save_path = f\"./model_assets\"\n",
    "\n",
    "mini_reg_evaluate(df_train_tuple=(X_train, y_train),\n",
    "df_valid_tuple=( X_val,y_val),model_name=model_name, save_path=save_path)"
   ]
  },
  {
   "cell_type": "code",
   "execution_count": null,
   "id": "4ca7c209",
   "metadata": {},
   "outputs": [],
   "source": [
    "## Retrain the model\n",
    "# Train + Valid (Retrain on the whole model)"
   ]
  },
  {
   "cell_type": "code",
   "execution_count": 50,
   "id": "fa307c19-923d-4e97-9d12-4d5079fa8ff3",
   "metadata": {},
   "outputs": [
    {
     "name": "stdout",
     "output_type": "stream",
     "text": [
      "INFO [_infer_type] :: Type changed\n"
     ]
    },
    {
     "name": "stderr",
     "output_type": "stream",
     "text": [
      "/Library/Frameworks/Python.framework/Versions/3.9/lib/python3.9/site-packages/sklearn/base.py:493: UserWarning:\n",
      "\n",
      "X does not have valid feature names, but RandomForestRegressor was fitted with feature names\n",
      "\n"
     ]
    }
   ],
   "source": [
    "model = joblib.load(f\"{save_path}/{model_name}.joblib\")\n",
    "X_test = _infer_type(test_df[features])\n",
    "y_test_pred = model.predict(X_test)\n",
    "submission = pd.DataFrame(y_test_pred).reset_index().rename(columns={\"index\":\"Id\", 0:\"Predicted\"})\n",
    "submission.to_csv(\"submission/submission_rf_2.csv\")"
   ]
  },
  {
   "cell_type": "code",
   "execution_count": null,
   "id": "bb9ed458",
   "metadata": {},
   "outputs": [],
   "source": []
  }
 ],
 "metadata": {
  "kernelspec": {
   "display_name": "cs5228",
   "language": "python",
   "name": "cs5228"
  },
  "language_info": {
   "codemirror_mode": {
    "name": "ipython",
    "version": 3
   },
   "file_extension": ".py",
   "mimetype": "text/x-python",
   "name": "python",
   "nbconvert_exporter": "python",
   "pygments_lexer": "ipython3",
   "version": "3.10.14"
  }
 },
 "nbformat": 4,
 "nbformat_minor": 5
}
