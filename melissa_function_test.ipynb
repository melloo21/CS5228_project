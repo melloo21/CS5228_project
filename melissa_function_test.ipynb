{
 "cells": [
  {
   "cell_type": "code",
   "execution_count": 3,
   "metadata": {},
   "outputs": [
    {
     "name": "stderr",
     "output_type": "stream",
     "text": [
      "/var/folders/h7/fr7g30_x5x12d68ww_s6w2_m0000gn/T/ipykernel_13041/1736896732.py:10: DeprecationWarning: \n",
      "Pyarrow will become a required dependency of pandas in the next major release of pandas (pandas 3.0),\n",
      "(to allow more performant data types, such as the Arrow string type, and better interoperability with other libraries)\n",
      "but was not found to be installed on your system.\n",
      "If this would cause problems for you,\n",
      "please provide us feedback at https://github.com/pandas-dev/pandas/issues/54466\n",
      "        \n",
      "  import pandas as pd\n"
     ]
    }
   ],
   "source": [
    "import re\n",
    "from tqdm import tqdm\n",
    "from typing import Any, Callable, Dict\n",
    "\n",
    "import httpx\n",
    "import json\n",
    "import pickle\n",
    "import time\n",
    "import numpy as np\n",
    "import pandas as pd\n",
    "import seaborn as sns\n",
    "import plotly.express as px\n",
    "from datetime import datetime\n",
    "from bs4 import BeautifulSoup\n",
    "import constants as const\n",
    "\n",
    "from sklearn.preprocessing import OneHotEncoder\n",
    "from sklearn.preprocessing import MultiLabelBinarizer\n",
    "\n",
    "from utils.road_tax import *\n",
    "\n",
    "## Local Utils File\n",
    "from utils.eda import *\n",
    "from utils.melissa_utils import *\n",
    "from utils.Bhushan_utils import *\n",
    "from utils.lta_omv_scraper import *\n",
    "from utils.sgcarmart_scraper import *"
   ]
  },
  {
   "cell_type": "code",
   "execution_count": 5,
   "metadata": {},
   "outputs": [
    {
     "name": "stdout",
     "output_type": "stream",
     "text": [
      "The autoreload extension is already loaded. To reload it, use:\n",
      "  %reload_ext autoreload\n"
     ]
    }
   ],
   "source": [
    "%load_ext autoreload\n",
    "%autoreload 2"
   ]
  },
  {
   "cell_type": "code",
   "execution_count": 6,
   "metadata": {},
   "outputs": [],
   "source": [
    "## Reading Dataset\n",
    "train_df = pd.read_csv(r\"./dataset/train.csv\")\n",
    "\n",
    "# clean model\n",
    "train_df['model'] = train_df['model'].apply(lambda x:x.replace('(', ''))\n",
    "train_df['reg_date_dt'] = train_df['reg_date'].apply(lambda x: datetime.strptime(x, \"%d-%b-%Y\"))\n",
    "train_df['reg_date_year'] = train_df['reg_date_dt'].apply(lambda x:x.year)\n",
    "train_df['reg_date_month'] = train_df['reg_date_dt'].apply(lambda x:x.month)\n",
    "\n",
    "# Adding additional feature for imputation later\n",
    "train_df[\"model_make\"] = train_df.model + \"_\" + train_df.make"
   ]
  },
  {
   "cell_type": "markdown",
   "metadata": {},
   "source": [
    "## Checking for common null features"
   ]
  },
  {
   "cell_type": "code",
   "execution_count": 7,
   "metadata": {},
   "outputs": [
    {
     "name": "stdout",
     "output_type": "stream",
     "text": [
      "Individual :: engine_cap     596\n",
      "power         2640\n",
      "dtype: int64\n"
     ]
    },
    {
     "data": {
      "text/plain": [
       "169"
      ]
     },
     "execution_count": 7,
     "metadata": {},
     "output_type": "execute_result"
    }
   ],
   "source": [
    "feature_cols = ['listing_id', 'title', 'make', 'model', 'description', 'manufactured',\n",
    "       'original_reg_date', 'reg_date', 'type_of_vehicle', 'category',\n",
    "       'transmission', 'curb_weight', 'power', 'fuel_type', 'engine_cap',\n",
    "       'no_of_owners', 'depreciation', 'coe', 'road_tax', 'dereg_value',\n",
    "       'mileage', 'omv', 'arf', 'opc_scheme', 'lifespan', 'eco_category',\n",
    "       'features', 'accessories', 'indicative_price', 'price', 'reg_date_dt',\n",
    "       'reg_date_year', 'reg_date_month', 'model_make']\n",
    "       \n",
    "count_missing_rows_for_x_cols(df=train_df,column_name=[\"engine_cap\",\"power\"])"
   ]
  },
  {
   "cell_type": "markdown",
   "metadata": {},
   "source": [
    "## Using SG Car Mart Scrapper \n"
   ]
  },
  {
   "cell_type": "code",
   "execution_count": 8,
   "metadata": {},
   "outputs": [
    {
     "data": {
      "text/plain": [
       "\"subcode_dict :: {'C180 Avantgarde (A)': 'newcars_specs.php?CarCode=11578&Subcode=4161', 'C180 Exclusive (A)': 'newcars_specs.php?CarCode=11578&Subcode=4162', 'C200 Avantgarde (A)': 'newcars_specs.php?CarCode=11578&Subcode=4164', 'C180 AMG Line (A)': 'newcars_specs.php?CarCode=11578&Subcode=4163', 'C200 Exclusive (A)': 'newcars_specs.php?CarCode=11578&Subcode=4165', 'C200 AMG Line (A)': 'newcars_specs.php?CarCode=11578&Subcode=4166', 'C250 AMG Line (A)': 'newcars_specs.php?CarCode=11578&Subcode=4168', 'C250 Avantgarde (A)': 'newcars_specs.php?CarCode=11578&Subcode=4167', 'C43 AMG 4MATIC (A)': 'newcars_specs.php?CarCode=11578&Subcode=5508', 'C63 AMG (A)': 'newcars_specs.php?CarCode=11578&Subcode=4749', 'C63 S AMG (A)': 'newcars_specs.php?CarCode=11578&Subcode=4750'}\""
      ]
     },
     "metadata": {},
     "output_type": "display_data"
    },
    {
     "data": {
      "text/plain": [
       "'best_match_name :: C200 AMG Line (A)'"
      ]
     },
     "metadata": {},
     "output_type": "display_data"
    }
   ],
   "source": [
    "index = 1\n",
    "car_code_id = get_car_code_url(train_df.listing_id.iloc[index])\n",
    "subcode_dict = get_subcode_dict(car_code_id)\n",
    "display(f\"subcode_dict :: {subcode_dict}\")\n",
    "best_match_name, spec_link = get_best_spec_link(train_df.title.iloc[index], subcode_dict)\n",
    "display(f\"best_match_name :: { best_match_name}\")"
   ]
  },
  {
   "cell_type": "code",
   "execution_count": 21,
   "metadata": {},
   "outputs": [],
   "source": [
    "start_idx = 23774"
   ]
  },
  {
   "cell_type": "code",
   "execution_count": 22,
   "metadata": {},
   "outputs": [
    {
     "data": {
      "text/plain": [
       "25000"
      ]
     },
     "execution_count": 22,
     "metadata": {},
     "output_type": "execute_result"
    }
   ],
   "source": [
    "train_df.iloc[start_idx:,:].shape[0] + start_idx"
   ]
  },
  {
   "cell_type": "code",
   "execution_count": 23,
   "metadata": {},
   "outputs": [
    {
     "name": "stderr",
     "output_type": "stream",
     "text": [
      "  2%|▏         | 26/1226 [01:30<1:16:16,  3.81s/it]"
     ]
    },
    {
     "data": {
      "text/plain": [
       "'SANITY CHECK ON number of scrapped keys 27'"
      ]
     },
     "metadata": {},
     "output_type": "display_data"
    },
    {
     "name": "stderr",
     "output_type": "stream",
     "text": [
      " 10%|█         | 126/1226 [06:32<47:55,  2.61s/it]  "
     ]
    },
    {
     "data": {
      "text/plain": [
       "'SANITY CHECK ON number of scrapped keys 27'"
      ]
     },
     "metadata": {},
     "output_type": "display_data"
    },
    {
     "name": "stderr",
     "output_type": "stream",
     "text": [
      " 18%|█▊        | 226/1226 [11:33<43:37,  2.62s/it]  "
     ]
    },
    {
     "data": {
      "text/plain": [
       "'SANITY CHECK ON number of scrapped keys 27'"
      ]
     },
     "metadata": {},
     "output_type": "display_data"
    },
    {
     "name": "stderr",
     "output_type": "stream",
     "text": [
      " 27%|██▋       | 326/1226 [16:45<57:52,  3.86s/it]  "
     ]
    },
    {
     "data": {
      "text/plain": [
       "'SANITY CHECK ON number of scrapped keys 27'"
      ]
     },
     "metadata": {},
     "output_type": "display_data"
    },
    {
     "name": "stderr",
     "output_type": "stream",
     "text": [
      " 35%|███▍      | 426/1226 [21:30<37:32,  2.82s/it]"
     ]
    },
    {
     "data": {
      "text/plain": [
       "'SANITY CHECK ON number of scrapped keys 27'"
      ]
     },
     "metadata": {},
     "output_type": "display_data"
    },
    {
     "name": "stderr",
     "output_type": "stream",
     "text": [
      " 43%|████▎     | 526/1226 [26:27<43:19,  3.71s/it]"
     ]
    },
    {
     "data": {
      "text/plain": [
       "'SANITY CHECK ON number of scrapped keys 27'"
      ]
     },
     "metadata": {},
     "output_type": "display_data"
    },
    {
     "name": "stderr",
     "output_type": "stream",
     "text": [
      " 46%|████▌     | 558/1226 [27:47<18:47,  1.69s/it]"
     ]
    },
    {
     "name": "stdout",
     "output_type": "stream",
     "text": [
      "Error while processing row 24331: 503 Server Error: Service Unavailable for url: https://www.sgcarmart.com/used_cars/info.php?ID=1328434\n"
     ]
    },
    {
     "name": "stderr",
     "output_type": "stream",
     "text": [
      " 51%|█████     | 626/1226 [31:20<36:02,  3.60s/it]"
     ]
    },
    {
     "data": {
      "text/plain": [
       "'SANITY CHECK ON number of scrapped keys 27'"
      ]
     },
     "metadata": {},
     "output_type": "display_data"
    },
    {
     "name": "stderr",
     "output_type": "stream",
     "text": [
      " 59%|█████▉    | 726/1226 [36:16<32:27,  3.90s/it]"
     ]
    },
    {
     "data": {
      "text/plain": [
       "'SANITY CHECK ON number of scrapped keys 27'"
      ]
     },
     "metadata": {},
     "output_type": "display_data"
    },
    {
     "name": "stderr",
     "output_type": "stream",
     "text": [
      " 67%|██████▋   | 826/1226 [40:56<18:37,  2.79s/it]"
     ]
    },
    {
     "data": {
      "text/plain": [
       "'SANITY CHECK ON number of scrapped keys 27'"
      ]
     },
     "metadata": {},
     "output_type": "display_data"
    },
    {
     "name": "stderr",
     "output_type": "stream",
     "text": [
      " 76%|███████▌  | 926/1226 [45:45<10:31,  2.11s/it]"
     ]
    },
    {
     "data": {
      "text/plain": [
       "'SANITY CHECK ON number of scrapped keys 27'"
      ]
     },
     "metadata": {},
     "output_type": "display_data"
    },
    {
     "name": "stderr",
     "output_type": "stream",
     "text": [
      " 84%|████████▎ | 1026/1226 [50:41<08:50,  2.65s/it]"
     ]
    },
    {
     "data": {
      "text/plain": [
       "'SANITY CHECK ON number of scrapped keys 27'"
      ]
     },
     "metadata": {},
     "output_type": "display_data"
    },
    {
     "name": "stderr",
     "output_type": "stream",
     "text": [
      " 92%|█████████▏| 1126/1226 [55:32<04:27,  2.67s/it]"
     ]
    },
    {
     "data": {
      "text/plain": [
       "'SANITY CHECK ON number of scrapped keys 27'"
      ]
     },
     "metadata": {},
     "output_type": "display_data"
    },
    {
     "name": "stderr",
     "output_type": "stream",
     "text": [
      "100%|██████████| 1226/1226 [1:00:32<00:00,  2.96s/it]\n"
     ]
    }
   ],
   "source": [
    "## Imputing for multiple rows\n",
    "default_specs = {'Engine & Transmission': \"unknown\", 'Engine Capacity': \"unknown\",\n",
    "'Engine Type': \"unknown\", 'Fuel Type': \"unknown\", 'Drive Type': \"unknown\", 'Transmission': \"unknown\", \n",
    "'Performance': \"unknown\", 'Power': \"unknown\", 'Torque': \"unknown\", 'Acceleration': \"unknown\", 'Top Speed': \"unknown\", \n",
    "'Fuel Consumption': \"unknown\", 'CO2 Emission (LTA)': \"unknown\", 'Measurements': \"unknown\", \n",
    "'Vehicle Type': \"unknown\", 'Seating Capacity': \"unknown\", 'Dimensions (L x W x H)': \"unknown\", \n",
    "'Wheelbase': \"unknown\", 'Min Turning Radius': \"unknown\", 'Kerb Weight': \"unknown\", 'Fuel Tank Capacity': \"unknown\",\n",
    " 'Boot/Cargo Capacity': \"unknown\", 'Suspension (Front)': \"unknown\", 'Suspension (Rear)': \"unknown\", \n",
    " 'Brakes (Front)': \"unknown\", 'Brakes (Rear)': \"unknown\", 'Rim Size': \"unknown\"}\n",
    "\n",
    "all_specs_list = []\n",
    "error_rows = [5832,\n",
    " 6918,\n",
    " 8938,\n",
    " 8974,\n",
    " 8975,\n",
    " 8976,\n",
    " 8977,\n",
    " 8978,\n",
    " 8979,\n",
    " 8980,\n",
    " 9666,\n",
    " 11626,\n",
    " 11667,\n",
    " 13839,\n",
    " 17559,\n",
    " 20107]\n",
    "for i, row in tqdm(train_df.iloc[start_idx:,:].iterrows(), total=len(train_df.iloc[start_idx:,:])):\n",
    "    # Add a delay of 1 second between requests\n",
    "    # To join the impute set and non impute\n",
    "    time.sleep(1)\n",
    "    try:\n",
    "        final_dict = {\"listing_id\" : train_df.listing_id.iloc[i]}\n",
    "        car_code_id = get_car_code_url(train_df.listing_id.iloc[i])\n",
    "        subcode_dict = get_subcode_dict(car_code_id)\n",
    "        best_match_name, spec_link = get_best_spec_link(train_df.title.iloc[i], subcode_dict)\n",
    "        if spec_link:\n",
    "            specs = get_generic_specification_from_link(spec_link) \n",
    "        else: \n",
    "            specs = default_specs\n",
    "        final_dict.update(specs)\n",
    "        all_specs_list.append(final_dict)\n",
    "        if i%100 == 0:\n",
    "            display(f\"SANITY CHECK ON number of scrapped keys {len(specs.keys())}\")\n",
    "    except Exception as e:\n",
    "        error_rows.append(i)\n",
    "        print(f\"Error while processing row {i}: {e}\")"
   ]
  },
  {
   "cell_type": "code",
   "execution_count": 24,
   "metadata": {},
   "outputs": [
    {
     "data": {
      "text/plain": [
       "[5832,\n",
       " 6918,\n",
       " 8938,\n",
       " 8974,\n",
       " 8975,\n",
       " 8976,\n",
       " 8977,\n",
       " 8978,\n",
       " 8979,\n",
       " 8980,\n",
       " 9666,\n",
       " 11626,\n",
       " 11667,\n",
       " 13839,\n",
       " 17559,\n",
       " 20107,\n",
       " 24331]"
      ]
     },
     "execution_count": 24,
     "metadata": {},
     "output_type": "execute_result"
    }
   ],
   "source": [
    "error_rows"
   ]
  },
  {
   "cell_type": "code",
   "execution_count": 25,
   "metadata": {},
   "outputs": [
    {
     "data": {
      "text/plain": [
       "'end_idx 24999'"
      ]
     },
     "metadata": {},
     "output_type": "display_data"
    }
   ],
   "source": [
    "end_idx = i\n",
    "display(f\"end_idx { end_idx}\")"
   ]
  },
  {
   "cell_type": "code",
   "execution_count": 26,
   "metadata": {},
   "outputs": [],
   "source": [
    "filename = f\"./dataset/all_specs_list_{start_idx}_{end_idx}.pkl\"\n",
    "pickle.dump(all_specs_list, open(filename,\"wb\"))"
   ]
  },
  {
   "cell_type": "code",
   "execution_count": 10,
   "metadata": {},
   "outputs": [
    {
     "data": {
      "text/plain": [
       "[{'listing_id': 1292132,\n",
       "  'Engine & Transmission': 'unknown',\n",
       "  'Engine Capacity': 'unknown',\n",
       "  'Engine Type': 'unknown',\n",
       "  'Fuel Type': 'unknown',\n",
       "  'Drive Type': 'unknown',\n",
       "  'Transmission': 'unknown',\n",
       "  'Performance': 'unknown',\n",
       "  'Power': 'unknown',\n",
       "  'Torque': 'unknown',\n",
       "  'Acceleration': 'unknown',\n",
       "  'Top Speed': 'unknown',\n",
       "  'Fuel Consumption': 'unknown',\n",
       "  'CO2 Emission (LTA)': 'unknown',\n",
       "  'Measurements': 'unknown',\n",
       "  'Vehicle Type': 'unknown',\n",
       "  'Seating Capacity': 'unknown',\n",
       "  'Dimensions (L x W x H)': 'unknown',\n",
       "  'Wheelbase': 'unknown',\n",
       "  'Min Turning Radius': 'unknown',\n",
       "  'Kerb Weight': 'unknown',\n",
       "  'Fuel Tank Capacity': 'unknown',\n",
       "  'Boot/Cargo Capacity': 'unknown',\n",
       "  'Suspension (Front)': 'unknown',\n",
       "  'Suspension (Rear)': 'unknown',\n",
       "  'Brakes (Front)': 'unknown',\n",
       "  'Brakes (Rear)': 'unknown',\n",
       "  'Rim Size': 'unknown'},\n",
       " {'listing_id': 1294696,\n",
       "  'Engine & Transmission': '',\n",
       "  'Engine Capacity': '1,991 cc',\n",
       "  'Engine Type': '4-cylinder in-line Turbocharged',\n",
       "  'Fuel Type': 'Petrol',\n",
       "  'Drive Type': 'Rear-wheel drive',\n",
       "  'Transmission': '7G-Tronic (A)',\n",
       "  'Performance': '',\n",
       "  'Power': '135 kW (181 bhp)',\n",
       "  'Torque': '300 Nm',\n",
       "  'Acceleration': '7.3s (0-100 km/h)',\n",
       "  'Top Speed': '235 km/h',\n",
       "  'Fuel Consumption': '16.9 km/L',\n",
       "  'CO2 Emission (LTA)': '136 g/km (As tested by LTA)',\n",
       "  'Measurements': '',\n",
       "  'Vehicle Type': 'Luxury Sedan',\n",
       "  'Seating Capacity': 'unknown',\n",
       "  'Dimensions (L x W x H)': '(4686 x 1810 x 1442) mm',\n",
       "  'Wheelbase': '2,840 mm',\n",
       "  'Min Turning Radius': 'unknown',\n",
       "  'Kerb Weight': '1,465 kg',\n",
       "  'Fuel Tank Capacity': '66 L',\n",
       "  'Boot/Cargo Capacity': '480 L',\n",
       "  'Suspension (Front)': 'Multi-link suspension, coil springs, gas-filled shock absorbers, anti-roll bar',\n",
       "  'Suspension (Rear)': 'Multi-link suspension, coil springs, gas-filled shock absorbers, anti-roll bar',\n",
       "  'Brakes (Front)': 'Ventilated disc',\n",
       "  'Brakes (Rear)': 'Disc',\n",
       "  'Rim Size': '18\"'},\n",
       " {'listing_id': 1311717,\n",
       "  'Engine & Transmission': '',\n",
       "  'Engine Capacity': '2,354 cc',\n",
       "  'Engine Type': '4-cylinder in-line DOHC i-VTEC',\n",
       "  'Fuel Type': 'Petrol',\n",
       "  'Drive Type': 'Front-wheel drive',\n",
       "  'Transmission': '5-speed (A)',\n",
       "  'Performance': '',\n",
       "  'Power': '118 kW (158 bhp)',\n",
       "  'Torque': '218 Nm',\n",
       "  'Acceleration': 'unknown',\n",
       "  'Top Speed': '195 km/h',\n",
       "  'Fuel Consumption': '12.2 km/L',\n",
       "  'CO2 Emission': 'unknown',\n",
       "  'Measurements': '',\n",
       "  'Vehicle Type': 'MPV',\n",
       "  'Seating Capacity': 'unknown',\n",
       "  'Dimensions (L x W x H)': '(4765 x 1800 x 1550) mm',\n",
       "  'Wheelbase': '2,830 mm',\n",
       "  'Min Turning Radius': '5,400 mm',\n",
       "  'Kerb Weight': '1,626 kg',\n",
       "  'Fuel Tank Capacity': '65 L',\n",
       "  'Boot/Cargo Capacity': 'unknown',\n",
       "  'Suspension (Front)': 'Double wishbone',\n",
       "  'Suspension (Rear)': 'Double wishbone',\n",
       "  'Brakes (Front)': 'Ventilated disc',\n",
       "  'Brakes (Rear)': 'Disc',\n",
       "  'Rim Size': '16\"'},\n",
       " {'listing_id': 1310068,\n",
       "  'Engine & Transmission': '',\n",
       "  'Engine Capacity': '1,598 cc',\n",
       "  'Engine Type': '4-cylinders in-line 16-valves DOHC VVT-i',\n",
       "  'Fuel Type': 'Petrol',\n",
       "  'Drive Type': 'Front-wheel drive',\n",
       "  'Transmission': '4-speed (A)',\n",
       "  'Performance': '',\n",
       "  'Power': '90 kW (121 bhp)',\n",
       "  'Torque': '145 Nm',\n",
       "  'Acceleration': 'unknown',\n",
       "  'Top Speed': 'unknown',\n",
       "  'Fuel Consumption': '14.5 km/L',\n",
       "  'CO2 Emission (LTA)': '164 g/km (As tested by LTA)',\n",
       "  'Measurements': '',\n",
       "  'Vehicle Type': 'Sedan',\n",
       "  'Seating Capacity': 'unknown',\n",
       "  'Dimensions (L x W x H)': '(4540 x 1760 x 1465) mm',\n",
       "  'Wheelbase': '2,600 mm',\n",
       "  'Min Turning Radius': '5,300 mm',\n",
       "  'Kerb Weight': '1,170 kg',\n",
       "  'Fuel Tank Capacity': '55 L',\n",
       "  'Boot/Cargo Capacity': 'unknown',\n",
       "  'Suspension (Front)': 'MacPherson strut',\n",
       "  'Suspension (Rear)': 'Torsion beam',\n",
       "  'Brakes (Front)': 'Ventilated disc',\n",
       "  'Brakes (Rear)': 'Disc',\n",
       "  'Rim Size': '15\"'},\n",
       " {'listing_id': 1325280,\n",
       "  'Engine & Transmission': '',\n",
       "  'Engine Capacity': '2,995 cc',\n",
       "  'Engine Type': 'V6 4 Cam 24-valve',\n",
       "  'Fuel Type': 'Petrol',\n",
       "  'Drive Type': 'Rear-wheel drive',\n",
       "  'Transmission': '6-speed (A)',\n",
       "  'Performance': '',\n",
       "  'Power': '183 kW (245 bhp)',\n",
       "  'Torque': '310 Nm',\n",
       "  'Acceleration': '7.8s (0-100 km/h)',\n",
       "  'Top Speed': '240 km/h',\n",
       "  'Fuel Consumption': '10.3 km/L',\n",
       "  'CO2 Emission': 'unknown',\n",
       "  'Measurements': '',\n",
       "  'Vehicle Type': 'Luxury Sedan',\n",
       "  'Seating Capacity': 'unknown',\n",
       "  'Dimensions (L x W x H)': '(4850 x 1820 x 1430) mm',\n",
       "  'Wheelbase': '2,850 mm',\n",
       "  'Min Turning Radius': '5,200 mm',\n",
       "  'Kerb Weight': '1,620 kg',\n",
       "  'Fuel Tank Capacity': '71 L',\n",
       "  'Boot/Cargo Capacity': 'unknown',\n",
       "  'Suspension (Front)': 'Double wishbone',\n",
       "  'Suspension (Rear)': 'Multi-link',\n",
       "  'Brakes (Front)': 'Ventilated disc',\n",
       "  'Brakes (Rear)': 'Disc',\n",
       "  'Rim Size': '17\"'},\n",
       " {'listing_id': 1322170,\n",
       "  'Engine & Transmission': '',\n",
       "  'Engine Capacity': '1,997 cc',\n",
       "  'Engine Type': '4-cylinder in-line 16-valve DOHC VTEC',\n",
       "  'Fuel Type': 'Petrol',\n",
       "  'Drive Type': 'Rear-wheel drive',\n",
       "  'Transmission': '6-speed (M)',\n",
       "  'Performance': '',\n",
       "  'Power': '179 kW (240 bhp)',\n",
       "  'Torque': '208 Nm',\n",
       "  'Acceleration': 'unknown',\n",
       "  'Top Speed': 'unknown',\n",
       "  'Fuel Consumption': '10 km/L',\n",
       "  'CO2 Emission': 'unknown',\n",
       "  'Measurements': '',\n",
       "  'Vehicle Type': 'Sports',\n",
       "  'Seating Capacity': 'unknown',\n",
       "  'Dimensions (L x W x H)': '(4135 x 1750 x 1270) mm',\n",
       "  'Wheelbase': '2,400 mm',\n",
       "  'Min Turning Radius': '5,400 mm',\n",
       "  'Kerb Weight': '1,270 kg',\n",
       "  'Fuel Tank Capacity': '50 L',\n",
       "  'Boot/Cargo Capacity': 'unknown',\n",
       "  'Suspension (Front)': 'Double wishbone',\n",
       "  'Suspension (Rear)': 'Double wishbone',\n",
       "  'Brakes (Front)': 'Ventilated disc',\n",
       "  'Brakes (Rear)': 'Disc',\n",
       "  'Rim Size': '17\"'}]"
      ]
     },
     "execution_count": 10,
     "metadata": {},
     "output_type": "execute_result"
    }
   ],
   "source": [
    "pickle.load(open(filename,\"rb\"))"
   ]
  },
  {
   "cell_type": "markdown",
   "metadata": {},
   "source": [
    "## Scraping SG Carmart for Fuel Type"
   ]
  },
  {
   "cell_type": "code",
   "execution_count": 6,
   "metadata": {},
   "outputs": [],
   "source": [
    "# Constants for the scraper\n",
    "BASE_URL = \"https://www.sgcarmart.com\"\n",
    "USED_CARS_URL = f\"{BASE_URL}/used_cars/info.php\"\n",
    "# https://www.sgcarmart.com/used_cars/info.php?ID=1292132 -- style\n",
    "NEW_CARS_URL = f\"{BASE_URL}/new_cars/newcars_specs.php\"\n",
    "MISSING = \"MISSING\"\n",
    "\n",
    "# Types\n",
    "ListingId = int\n",
    "CarCode, SubCode, FuelType = str, str, str\n",
    "ScraperFunc = Callable[[Any], str]\n",
    "\n",
    "# Global dictionaries\n",
    "sub_code_dict: Dict[CarCode, SubCode] = {MISSING: MISSING}\n",
    "fuel_type_dict: Dict[CarCode, FuelType] = {MISSING: MISSING}"
   ]
  },
  {
   "cell_type": "code",
   "execution_count": 21,
   "metadata": {},
   "outputs": [
    {
     "data": {
      "text/plain": [
       "Index(['listing_id', 'title', 'make', 'model', 'description', 'manufactured',\n",
       "       'original_reg_date', 'reg_date', 'type_of_vehicle', 'category',\n",
       "       'transmission', 'curb_weight', 'power', 'fuel_type', 'engine_cap',\n",
       "       'no_of_owners', 'depreciation', 'coe', 'road_tax', 'dereg_value',\n",
       "       'mileage', 'omv', 'arf', 'opc_scheme', 'lifespan', 'eco_category',\n",
       "       'features', 'accessories', 'indicative_price', 'price', 'reg_date_dt',\n",
       "       'reg_date_year', 'reg_date_month', 'model_make'],\n",
       "      dtype='object')"
      ]
     },
     "execution_count": 21,
     "metadata": {},
     "output_type": "execute_result"
    }
   ],
   "source": [
    "train_df.columns"
   ]
  },
  {
   "cell_type": "code",
   "execution_count": 80,
   "metadata": {},
   "outputs": [
    {
     "data": {
      "text/plain": [
       "2632"
      ]
     },
     "execution_count": 80,
     "metadata": {},
     "output_type": "execute_result"
    }
   ],
   "source": [
    "train_df[train_df.road_tax.isna()].opc_scheme.isna().sum()"
   ]
  },
  {
   "cell_type": "code",
   "execution_count": 50,
   "metadata": {},
   "outputs": [
    {
     "data": {
      "text/html": [
       "<div>\n",
       "<style scoped>\n",
       "    .dataframe tbody tr th:only-of-type {\n",
       "        vertical-align: middle;\n",
       "    }\n",
       "\n",
       "    .dataframe tbody tr th {\n",
       "        vertical-align: top;\n",
       "    }\n",
       "\n",
       "    .dataframe thead th {\n",
       "        text-align: right;\n",
       "    }\n",
       "</style>\n",
       "<table border=\"1\" class=\"dataframe\">\n",
       "  <thead>\n",
       "    <tr style=\"text-align: right;\">\n",
       "      <th></th>\n",
       "      <th>listing_id</th>\n",
       "      <th>title</th>\n",
       "      <th>make</th>\n",
       "      <th>model</th>\n",
       "      <th>description</th>\n",
       "      <th>manufactured</th>\n",
       "      <th>original_reg_date</th>\n",
       "      <th>reg_date</th>\n",
       "      <th>type_of_vehicle</th>\n",
       "      <th>category</th>\n",
       "      <th>...</th>\n",
       "      <th>lifespan</th>\n",
       "      <th>eco_category</th>\n",
       "      <th>features</th>\n",
       "      <th>accessories</th>\n",
       "      <th>indicative_price</th>\n",
       "      <th>price</th>\n",
       "      <th>reg_date_dt</th>\n",
       "      <th>reg_date_year</th>\n",
       "      <th>reg_date_month</th>\n",
       "      <th>model_make</th>\n",
       "    </tr>\n",
       "  </thead>\n",
       "  <tbody>\n",
       "    <tr>\n",
       "      <th>0</th>\n",
       "      <td>1292132</td>\n",
       "      <td>Land Rover Range Rover Velar 3.0A Si6 R-Dynami...</td>\n",
       "      <td>land rover</td>\n",
       "      <td>range</td>\n",
       "      <td>1 owner, no repairs needed! it looks great, in...</td>\n",
       "      <td>2018.0</td>\n",
       "      <td>NaN</td>\n",
       "      <td>08-mar-2018</td>\n",
       "      <td>suv</td>\n",
       "      <td>parf car</td>\n",
       "      <td>...</td>\n",
       "      <td>NaN</td>\n",
       "      <td>uncategorized</td>\n",
       "      <td>3l supercharged v6 p380 engine at 375bhp/450nm...</td>\n",
       "      <td>2 x massage/memory/cooling &amp; warmer seat, rear...</td>\n",
       "      <td>NaN</td>\n",
       "      <td>193788.0</td>\n",
       "      <td>2018-03-08</td>\n",
       "      <td>2018</td>\n",
       "      <td>3</td>\n",
       "      <td>range_land rover</td>\n",
       "    </tr>\n",
       "    <tr>\n",
       "      <th>1</th>\n",
       "      <td>1294696</td>\n",
       "      <td>Mercedes-Benz C-Class C200 Sport Premium Sunroof</td>\n",
       "      <td>mercedes-benz</td>\n",
       "      <td>c200</td>\n",
       "      <td>rare beautiful white c200 sport premium sunroo...</td>\n",
       "      <td>2017.0</td>\n",
       "      <td>NaN</td>\n",
       "      <td>28-dec-2017</td>\n",
       "      <td>luxury sedan</td>\n",
       "      <td>parf car, premium ad car</td>\n",
       "      <td>...</td>\n",
       "      <td>NaN</td>\n",
       "      <td>uncategorized</td>\n",
       "      <td>2.0l 4 cylinders inline turbocharged engine, p...</td>\n",
       "      <td>multi function steering, electric tailgate, re...</td>\n",
       "      <td>NaN</td>\n",
       "      <td>96800.0</td>\n",
       "      <td>2017-12-28</td>\n",
       "      <td>2017</td>\n",
       "      <td>12</td>\n",
       "      <td>c200_mercedes-benz</td>\n",
       "    </tr>\n",
       "    <tr>\n",
       "      <th>2</th>\n",
       "      <td>1311717</td>\n",
       "      <td>Honda Odyssey 2.4A (COE till 09/2027)</td>\n",
       "      <td>honda</td>\n",
       "      <td>odyssey</td>\n",
       "      <td>comes with warranty. full service done.</td>\n",
       "      <td>2007.0</td>\n",
       "      <td>NaN</td>\n",
       "      <td>19-sep-2007</td>\n",
       "      <td>mpv</td>\n",
       "      <td>coe car, premium ad car, low mileage car</td>\n",
       "      <td>...</td>\n",
       "      <td>NaN</td>\n",
       "      <td>uncategorized</td>\n",
       "      <td>2.4l k24a 4 cylinders inline dohc i-vtec, 5 sp...</td>\n",
       "      <td>cruise control, touchscreen audio, reverse cam...</td>\n",
       "      <td>NaN</td>\n",
       "      <td>39800.0</td>\n",
       "      <td>2007-09-19</td>\n",
       "      <td>2007</td>\n",
       "      <td>9</td>\n",
       "      <td>odyssey_honda</td>\n",
       "    </tr>\n",
       "    <tr>\n",
       "      <th>3</th>\n",
       "      <td>1310068</td>\n",
       "      <td>Toyota Corolla Altis 1.6A (COE till 12/2028)</td>\n",
       "      <td>toyota</td>\n",
       "      <td>altis</td>\n",
       "      <td>0</td>\n",
       "      <td>2008.0</td>\n",
       "      <td>NaN</td>\n",
       "      <td>15-dec-2008</td>\n",
       "      <td>mid-sized sedan</td>\n",
       "      <td>coe car, premium ad car</td>\n",
       "      <td>...</td>\n",
       "      <td>NaN</td>\n",
       "      <td>uncategorized</td>\n",
       "      <td>super fuel efficient 1.6l 16 valves dohc vvt-i...</td>\n",
       "      <td>leather seats, pioneer dvd audio system with r...</td>\n",
       "      <td>NaN</td>\n",
       "      <td>44800.0</td>\n",
       "      <td>2008-12-15</td>\n",
       "      <td>2008</td>\n",
       "      <td>12</td>\n",
       "      <td>altis_toyota</td>\n",
       "    </tr>\n",
       "    <tr>\n",
       "      <th>4</th>\n",
       "      <td>1325280</td>\n",
       "      <td>Lexus GS300 (COE till 06/2026)</td>\n",
       "      <td>lexus</td>\n",
       "      <td>gs</td>\n",
       "      <td>wear and tear done up. well maintained and reg...</td>\n",
       "      <td>2006.0</td>\n",
       "      <td>NaN</td>\n",
       "      <td>22-dec-2006</td>\n",
       "      <td>luxury sedan</td>\n",
       "      <td>coe car, premium ad car</td>\n",
       "      <td>...</td>\n",
       "      <td>NaN</td>\n",
       "      <td>uncategorized</td>\n",
       "      <td>powerful 3.0l v6 engine, 227bhp, 6 speed , key...</td>\n",
       "      <td>premium upholstery electric seats. memory seat...</td>\n",
       "      <td>NaN</td>\n",
       "      <td>25800.0</td>\n",
       "      <td>2006-12-22</td>\n",
       "      <td>2006</td>\n",
       "      <td>12</td>\n",
       "      <td>gs_lexus</td>\n",
       "    </tr>\n",
       "    <tr>\n",
       "      <th>...</th>\n",
       "      <td>...</td>\n",
       "      <td>...</td>\n",
       "      <td>...</td>\n",
       "      <td>...</td>\n",
       "      <td>...</td>\n",
       "      <td>...</td>\n",
       "      <td>...</td>\n",
       "      <td>...</td>\n",
       "      <td>...</td>\n",
       "      <td>...</td>\n",
       "      <td>...</td>\n",
       "      <td>...</td>\n",
       "      <td>...</td>\n",
       "      <td>...</td>\n",
       "      <td>...</td>\n",
       "      <td>...</td>\n",
       "      <td>...</td>\n",
       "      <td>...</td>\n",
       "      <td>...</td>\n",
       "      <td>...</td>\n",
       "      <td>...</td>\n",
       "    </tr>\n",
       "    <tr>\n",
       "      <th>24995</th>\n",
       "      <td>1329201</td>\n",
       "      <td>Mercedes-Benz C-Class C180 (COE till 06/2031)</td>\n",
       "      <td>mercedes-benz</td>\n",
       "      <td>c180</td>\n",
       "      <td>elegant looking and very well maintained by ow...</td>\n",
       "      <td>2011.0</td>\n",
       "      <td>NaN</td>\n",
       "      <td>14-jul-2011</td>\n",
       "      <td>luxury sedan</td>\n",
       "      <td>coe car, premium ad car, low mileage car</td>\n",
       "      <td>...</td>\n",
       "      <td>NaN</td>\n",
       "      <td>uncategorized</td>\n",
       "      <td>inline 4 16 valves rwd engine displacement 179...</td>\n",
       "      <td>new battery new throttle body new recording ca...</td>\n",
       "      <td>NaN</td>\n",
       "      <td>85000.0</td>\n",
       "      <td>2011-07-14</td>\n",
       "      <td>2011</td>\n",
       "      <td>7</td>\n",
       "      <td>c180_mercedes-benz</td>\n",
       "    </tr>\n",
       "    <tr>\n",
       "      <th>24996</th>\n",
       "      <td>1285898</td>\n",
       "      <td>Bentley Bentayga 4.0A V8</td>\n",
       "      <td>bentley</td>\n",
       "      <td>bentayga</td>\n",
       "      <td>ceo car chauffeur driven, always sheltered par...</td>\n",
       "      <td>2018.0</td>\n",
       "      <td>23-aug-2018</td>\n",
       "      <td>29-apr-2020</td>\n",
       "      <td>suv</td>\n",
       "      <td>parf car, direct owner sale, rare &amp; exotic</td>\n",
       "      <td>...</td>\n",
       "      <td>NaN</td>\n",
       "      <td>uncategorized</td>\n",
       "      <td>4.0 liter twin turbocharged v8 engine, produci...</td>\n",
       "      <td>panoramic roof, 8\"touchscreen display, navigat...</td>\n",
       "      <td>NaN</td>\n",
       "      <td>412888.0</td>\n",
       "      <td>2020-04-29</td>\n",
       "      <td>2020</td>\n",
       "      <td>4</td>\n",
       "      <td>bentayga_bentley</td>\n",
       "    </tr>\n",
       "    <tr>\n",
       "      <th>24997</th>\n",
       "      <td>1306309</td>\n",
       "      <td>Mercedes-Benz A-Class A180</td>\n",
       "      <td>mercedes-benz</td>\n",
       "      <td>a180</td>\n",
       "      <td>great for short term drive or to renew coe. op...</td>\n",
       "      <td>2014.0</td>\n",
       "      <td>NaN</td>\n",
       "      <td>01-apr-2015</td>\n",
       "      <td>hatchback</td>\n",
       "      <td>parf car, premium ad car, low mileage car, sgc...</td>\n",
       "      <td>...</td>\n",
       "      <td>NaN</td>\n",
       "      <td>uncategorized</td>\n",
       "      <td>1.6l inline 4 turbocharged engine with 7 speed...</td>\n",
       "      <td>dual electric seats with 3 memory settings, di...</td>\n",
       "      <td>NaN</td>\n",
       "      <td>23888.0</td>\n",
       "      <td>2015-04-01</td>\n",
       "      <td>2015</td>\n",
       "      <td>4</td>\n",
       "      <td>a180_mercedes-benz</td>\n",
       "    </tr>\n",
       "    <tr>\n",
       "      <th>24998</th>\n",
       "      <td>1306902</td>\n",
       "      <td>Audi A3 Sportback 1.0A TFSI S-tronic</td>\n",
       "      <td>audi</td>\n",
       "      <td>a3</td>\n",
       "      <td>sporty audi a3 in town with upgraded coil over...</td>\n",
       "      <td>2017.0</td>\n",
       "      <td>NaN</td>\n",
       "      <td>30-jun-2017</td>\n",
       "      <td>hatchback</td>\n",
       "      <td>parf car</td>\n",
       "      <td>...</td>\n",
       "      <td>NaN</td>\n",
       "      <td>uncategorized</td>\n",
       "      <td>fuel efficient 3 cylinder turbocharged engine,...</td>\n",
       "      <td>bbs sport rim, audi mmi/bluetooth/audio sound ...</td>\n",
       "      <td>NaN</td>\n",
       "      <td>53300.0</td>\n",
       "      <td>2017-06-30</td>\n",
       "      <td>2017</td>\n",
       "      <td>6</td>\n",
       "      <td>a3_audi</td>\n",
       "    </tr>\n",
       "    <tr>\n",
       "      <th>24999</th>\n",
       "      <td>1124035</td>\n",
       "      <td>BMW 2 Series 220i Coupe Sunroof</td>\n",
       "      <td>bmw</td>\n",
       "      <td>220i</td>\n",
       "      <td>flexible in house loan package and bank loan a...</td>\n",
       "      <td>2016.0</td>\n",
       "      <td>NaN</td>\n",
       "      <td>07-dec-2016</td>\n",
       "      <td>sports car</td>\n",
       "      <td>parf car, premium ad car</td>\n",
       "      <td>...</td>\n",
       "      <td>NaN</td>\n",
       "      <td>uncategorized</td>\n",
       "      <td>2.0l f22 inline-4 16 valve turbocharged engine...</td>\n",
       "      <td>premium leather seat, sunroof, 18\" forged rims...</td>\n",
       "      <td>NaN</td>\n",
       "      <td>79800.0</td>\n",
       "      <td>2016-12-07</td>\n",
       "      <td>2016</td>\n",
       "      <td>12</td>\n",
       "      <td>220i_bmw</td>\n",
       "    </tr>\n",
       "  </tbody>\n",
       "</table>\n",
       "<p>19121 rows × 34 columns</p>\n",
       "</div>"
      ],
      "text/plain": [
       "       listing_id                                              title  \\\n",
       "0         1292132  Land Rover Range Rover Velar 3.0A Si6 R-Dynami...   \n",
       "1         1294696   Mercedes-Benz C-Class C200 Sport Premium Sunroof   \n",
       "2         1311717              Honda Odyssey 2.4A (COE till 09/2027)   \n",
       "3         1310068       Toyota Corolla Altis 1.6A (COE till 12/2028)   \n",
       "4         1325280                     Lexus GS300 (COE till 06/2026)   \n",
       "...           ...                                                ...   \n",
       "24995     1329201      Mercedes-Benz C-Class C180 (COE till 06/2031)   \n",
       "24996     1285898                           Bentley Bentayga 4.0A V8   \n",
       "24997     1306309                         Mercedes-Benz A-Class A180   \n",
       "24998     1306902               Audi A3 Sportback 1.0A TFSI S-tronic   \n",
       "24999     1124035                    BMW 2 Series 220i Coupe Sunroof   \n",
       "\n",
       "                make     model  \\\n",
       "0         land rover     range   \n",
       "1      mercedes-benz      c200   \n",
       "2              honda   odyssey   \n",
       "3             toyota     altis   \n",
       "4              lexus        gs   \n",
       "...              ...       ...   \n",
       "24995  mercedes-benz      c180   \n",
       "24996        bentley  bentayga   \n",
       "24997  mercedes-benz      a180   \n",
       "24998           audi        a3   \n",
       "24999            bmw      220i   \n",
       "\n",
       "                                             description  manufactured  \\\n",
       "0      1 owner, no repairs needed! it looks great, in...        2018.0   \n",
       "1      rare beautiful white c200 sport premium sunroo...        2017.0   \n",
       "2                comes with warranty. full service done.        2007.0   \n",
       "3                                                      0        2008.0   \n",
       "4      wear and tear done up. well maintained and reg...        2006.0   \n",
       "...                                                  ...           ...   \n",
       "24995  elegant looking and very well maintained by ow...        2011.0   \n",
       "24996  ceo car chauffeur driven, always sheltered par...        2018.0   \n",
       "24997  great for short term drive or to renew coe. op...        2014.0   \n",
       "24998  sporty audi a3 in town with upgraded coil over...        2017.0   \n",
       "24999  flexible in house loan package and bank loan a...        2016.0   \n",
       "\n",
       "      original_reg_date     reg_date  type_of_vehicle  \\\n",
       "0                   NaN  08-mar-2018              suv   \n",
       "1                   NaN  28-dec-2017     luxury sedan   \n",
       "2                   NaN  19-sep-2007              mpv   \n",
       "3                   NaN  15-dec-2008  mid-sized sedan   \n",
       "4                   NaN  22-dec-2006     luxury sedan   \n",
       "...                 ...          ...              ...   \n",
       "24995               NaN  14-jul-2011     luxury sedan   \n",
       "24996       23-aug-2018  29-apr-2020              suv   \n",
       "24997               NaN  01-apr-2015        hatchback   \n",
       "24998               NaN  30-jun-2017        hatchback   \n",
       "24999               NaN  07-dec-2016       sports car   \n",
       "\n",
       "                                                category  ... lifespan  \\\n",
       "0                                               parf car  ...      NaN   \n",
       "1                               parf car, premium ad car  ...      NaN   \n",
       "2               coe car, premium ad car, low mileage car  ...      NaN   \n",
       "3                                coe car, premium ad car  ...      NaN   \n",
       "4                                coe car, premium ad car  ...      NaN   \n",
       "...                                                  ...  ...      ...   \n",
       "24995           coe car, premium ad car, low mileage car  ...      NaN   \n",
       "24996         parf car, direct owner sale, rare & exotic  ...      NaN   \n",
       "24997  parf car, premium ad car, low mileage car, sgc...  ...      NaN   \n",
       "24998                                           parf car  ...      NaN   \n",
       "24999                           parf car, premium ad car  ...      NaN   \n",
       "\n",
       "        eco_category                                           features  \\\n",
       "0      uncategorized  3l supercharged v6 p380 engine at 375bhp/450nm...   \n",
       "1      uncategorized  2.0l 4 cylinders inline turbocharged engine, p...   \n",
       "2      uncategorized  2.4l k24a 4 cylinders inline dohc i-vtec, 5 sp...   \n",
       "3      uncategorized  super fuel efficient 1.6l 16 valves dohc vvt-i...   \n",
       "4      uncategorized  powerful 3.0l v6 engine, 227bhp, 6 speed , key...   \n",
       "...              ...                                                ...   \n",
       "24995  uncategorized  inline 4 16 valves rwd engine displacement 179...   \n",
       "24996  uncategorized  4.0 liter twin turbocharged v8 engine, produci...   \n",
       "24997  uncategorized  1.6l inline 4 turbocharged engine with 7 speed...   \n",
       "24998  uncategorized  fuel efficient 3 cylinder turbocharged engine,...   \n",
       "24999  uncategorized  2.0l f22 inline-4 16 valve turbocharged engine...   \n",
       "\n",
       "                                             accessories  indicative_price  \\\n",
       "0      2 x massage/memory/cooling & warmer seat, rear...               NaN   \n",
       "1      multi function steering, electric tailgate, re...               NaN   \n",
       "2      cruise control, touchscreen audio, reverse cam...               NaN   \n",
       "3      leather seats, pioneer dvd audio system with r...               NaN   \n",
       "4      premium upholstery electric seats. memory seat...               NaN   \n",
       "...                                                  ...               ...   \n",
       "24995  new battery new throttle body new recording ca...               NaN   \n",
       "24996  panoramic roof, 8\"touchscreen display, navigat...               NaN   \n",
       "24997  dual electric seats with 3 memory settings, di...               NaN   \n",
       "24998  bbs sport rim, audi mmi/bluetooth/audio sound ...               NaN   \n",
       "24999  premium leather seat, sunroof, 18\" forged rims...               NaN   \n",
       "\n",
       "          price  reg_date_dt  reg_date_year  reg_date_month  \\\n",
       "0      193788.0   2018-03-08           2018               3   \n",
       "1       96800.0   2017-12-28           2017              12   \n",
       "2       39800.0   2007-09-19           2007               9   \n",
       "3       44800.0   2008-12-15           2008              12   \n",
       "4       25800.0   2006-12-22           2006              12   \n",
       "...         ...          ...            ...             ...   \n",
       "24995   85000.0   2011-07-14           2011               7   \n",
       "24996  412888.0   2020-04-29           2020               4   \n",
       "24997   23888.0   2015-04-01           2015               4   \n",
       "24998   53300.0   2017-06-30           2017               6   \n",
       "24999   79800.0   2016-12-07           2016              12   \n",
       "\n",
       "               model_make  \n",
       "0        range_land rover  \n",
       "1      c200_mercedes-benz  \n",
       "2           odyssey_honda  \n",
       "3            altis_toyota  \n",
       "4                gs_lexus  \n",
       "...                   ...  \n",
       "24995  c180_mercedes-benz  \n",
       "24996    bentayga_bentley  \n",
       "24997  a180_mercedes-benz  \n",
       "24998             a3_audi  \n",
       "24999            220i_bmw  \n",
       "\n",
       "[19121 rows x 34 columns]"
      ]
     },
     "execution_count": 50,
     "metadata": {},
     "output_type": "execute_result"
    }
   ],
   "source": [
    "train_df[train_df.fuel_type.isna()]"
   ]
  },
  {
   "cell_type": "code",
   "execution_count": 61,
   "metadata": {},
   "outputs": [
    {
     "data": {
      "text/plain": [
       "'CAR LISTING :: 1294696'"
      ]
     },
     "metadata": {},
     "output_type": "display_data"
    }
   ],
   "source": [
    "def try_except_wrapper(scraper_func: ScraperFunc) -> ScraperFunc:\n",
    "    \"\"\"\n",
    "    Run the given scraper function, but if it fails, return `MISSING`.\n",
    "    \"\"\"\n",
    "\n",
    "    def wrapper(*args, **kwargs):\n",
    "        try:\n",
    "            return scraper_func(*args, **kwargs)\n",
    "        except Exception as e:\n",
    "            print(f\"{scraper_func.__name__} failed with error: {e}\")\n",
    "            return MISSING\n",
    "\n",
    "    return wrapper\n",
    "\n",
    "# ID = train_df.listing_id[1]\n",
    "ID = train_df[train_df.fuel_type.isna()].listing_id[1]\n",
    "r = httpx.get(f\"{USED_CARS_URL}?ID={ID}\")\n",
    "display(f\"CAR LISTING :: {ID}\")"
   ]
  },
  {
   "cell_type": "code",
   "execution_count": 62,
   "metadata": {},
   "outputs": [],
   "source": [
    "content = BeautifulSoup(r.content, \"html.parser\")\n",
    "parent = content.find(class_=\"twoRow_info\")\n",
    "link = str(parent.parent.find(\"a\"))\n",
    "car_code = re.search(r\"CarCode=(.+?)\\\"\", link).group(1).replace(\"'\", \"\")"
   ]
  },
  {
   "cell_type": "code",
   "execution_count": 63,
   "metadata": {},
   "outputs": [
    {
     "data": {
      "text/plain": [
       "<a href=\"/new_cars/newcars_overview.php?CarCode=11578\" target=\"_blank\">Mercedes-Benz C-Class Saloon (2014-2018)</a>"
      ]
     },
     "metadata": {},
     "output_type": "display_data"
    }
   ],
   "source": [
    "display(parent.parent.find(\"a\"))"
   ]
  },
  {
   "cell_type": "code",
   "execution_count": 67,
   "metadata": {},
   "outputs": [],
   "source": [
    "r = httpx.get(f\"{NEW_CARS_URL}?CarCode={car_code}\")\n",
    "content = BeautifulSoup(r.content, \"html.parser\")\n",
    "list_element = content.find(id=\"submodels_ul_link\").find_all(\"a\")\n",
    "sub_code_dict[car_code] = list_element"
   ]
  },
  {
   "cell_type": "code",
   "execution_count": 68,
   "metadata": {},
   "outputs": [
    {
     "data": {
      "text/plain": [
       "[<a href=\"newcars_specs.php?CarCode=11578&amp;Subcode=4161\" style=\"color:#DE0807;\">C180 Avantgarde (A)</a>,\n",
       " <a href=\"newcars_specs.php?CarCode=11578&amp;Subcode=4162\">C180 Exclusive (A)</a>,\n",
       " <a href=\"newcars_specs.php?CarCode=11578&amp;Subcode=4164\">C200 Avantgarde (A)</a>,\n",
       " <a href=\"newcars_specs.php?CarCode=11578&amp;Subcode=4163\">C180 AMG Line (A)</a>,\n",
       " <a href=\"newcars_specs.php?CarCode=11578&amp;Subcode=4165\">C200 Exclusive (A)</a>,\n",
       " <a href=\"newcars_specs.php?CarCode=11578&amp;Subcode=4166\">C200 AMG Line (A)</a>,\n",
       " <a href=\"newcars_specs.php?CarCode=11578&amp;Subcode=4168\">C250 AMG Line (A)</a>,\n",
       " <a href=\"newcars_specs.php?CarCode=11578&amp;Subcode=4167\">C250 Avantgarde (A)</a>,\n",
       " <a href=\"newcars_specs.php?CarCode=11578&amp;Subcode=5508\">C43 AMG 4MATIC (A)</a>,\n",
       " <a href=\"newcars_specs.php?CarCode=11578&amp;Subcode=4749\">C63 AMG (A)</a>,\n",
       " <a href=\"newcars_specs.php?CarCode=11578&amp;Subcode=4750\">C63 S AMG (A)</a>]"
      ]
     },
     "metadata": {},
     "output_type": "display_data"
    }
   ],
   "source": [
    "display(list_element)"
   ]
  },
  {
   "cell_type": "code",
   "execution_count": 77,
   "metadata": {},
   "outputs": [
    {
     "name": "stderr",
     "output_type": "stream",
     "text": [
      "/var/folders/h7/fr7g30_x5x12d68ww_s6w2_m0000gn/T/ipykernel_638/974785582.py:4: DeprecationWarning: The 'text' argument to find()-type methods is deprecated. Use 'string' instead.\n",
      "  fuel_type = content.find(\"td\", text=\"Fuel Type\").nextSibling.nextSibling.text\n"
     ]
    }
   ],
   "source": [
    "query = f\"{NEW_CARS_URL}?CarCode={car_code}\"\n",
    "r = httpx.get(query)\n",
    "content = BeautifulSoup(r.content, \"html.parser\")\n",
    "fuel_type = content.find(\"td\", text=\"Fuel Type\").nextSibling.nextSibling.text\n",
    "fuel_type_dict[car_code] = fuel_type"
   ]
  },
  {
   "cell_type": "code",
   "execution_count": 78,
   "metadata": {},
   "outputs": [
    {
     "data": {
      "text/plain": [
       "'Petrol'"
      ]
     },
     "execution_count": 78,
     "metadata": {},
     "output_type": "execute_result"
    }
   ],
   "source": [
    "fuel_type"
   ]
  },
  {
   "cell_type": "code",
   "execution_count": 105,
   "metadata": {},
   "outputs": [
    {
     "name": "stderr",
     "output_type": "stream",
     "text": [
      "/var/folders/h7/fr7g30_x5x12d68ww_s6w2_m0000gn/T/ipykernel_638/4246275337.py:1: UserWarning: Could not infer format, so each element will be parsed individually, falling back to `dateutil`. To ensure parsing is consistent and as-expected, please specify a format.\n",
      "  pd.to_datetime(train_df.reg_date)[0]\n"
     ]
    },
    {
     "data": {
      "text/plain": [
       "Timestamp('2018-03-08 00:00:00')"
      ]
     },
     "execution_count": 105,
     "metadata": {},
     "output_type": "execute_result"
    }
   ],
   "source": [
    "pd.to_datetime(train_df.reg_date)[0]"
   ]
  },
  {
   "cell_type": "markdown",
   "metadata": {},
   "source": [
    "## Road Tax Calculator"
   ]
  },
  {
   "cell_type": "code",
   "execution_count": 129,
   "metadata": {},
   "outputs": [
    {
     "data": {
      "text/plain": [
       "array([nan, 'revised opc scheme . learn more about opc schemes.',\n",
       "       'old opc scheme . learn more about opc schemes.', '1100'],\n",
       "      dtype=object)"
      ]
     },
     "execution_count": 130,
     "metadata": {},
     "output_type": "execute_result"
    }
   ],
   "source": [
    "train_df.opc_scheme.unique()"
   ]
  },
  {
   "cell_type": "code",
   "execution_count": 134,
   "metadata": {},
   "outputs": [
    {
     "data": {
      "text/plain": [
       "array(['parf car', 'parf car, premium ad car',\n",
       "       'coe car, premium ad car, low mileage car',\n",
       "       'coe car, premium ad car', 'coe car, consignment car',\n",
       "       'parf car, rare & exotic, premium ad car, low mileage car',\n",
       "       'parf car, premium ad car, low mileage car', '-', 'coe car',\n",
       "       'parf car, premium ad car, sgcarmart warranty cars',\n",
       "       'opc car, parf car',\n",
       "       'imported used vehicle, coe car, rare & exotic, vintage cars',\n",
       "       'parf car, premium ad car, hybrid cars',\n",
       "       'coe car, low mileage car', 'imported used vehicle, parf car',\n",
       "       'parf car, consignment car, sgcarmart warranty cars',\n",
       "       'parf car, sgcarmart warranty cars', 'parf car, low mileage car',\n",
       "       'premium ad car',\n",
       "       'coe car, premium ad car, sgcarmart warranty cars',\n",
       "       'parf car, electric cars',\n",
       "       'parf car, almost new car, low mileage car, hybrid cars',\n",
       "       'parf car, hybrid cars', 'parf car, direct owner sale',\n",
       "       'almost new car, electric cars',\n",
       "       'coe car, rare & exotic, low mileage car, vintage cars',\n",
       "       'parf car, consignment car, electric cars',\n",
       "       'parf car, direct owner sale, hybrid cars',\n",
       "       'imported used vehicle, parf car, rare & exotic, low mileage car',\n",
       "       'premium ad car, low mileage car',\n",
       "       'parf car, low mileage car, sgcarmart warranty cars',\n",
       "       'coe car, direct owner sale, low mileage car',\n",
       "       'almost new car, low mileage car',\n",
       "       'parf car, direct owner sale, low mileage car',\n",
       "       'parf car, premium ad car, low mileage car, sgcarmart warranty cars',\n",
       "       'parf car, low mileage car, hybrid cars',\n",
       "       'coe car, direct owner sale',\n",
       "       'parf car, low mileage car, hybrid cars, sgcarmart warranty cars',\n",
       "       'coe car, hybrid cars',\n",
       "       'parf car, rare & exotic, almost new car, low mileage car',\n",
       "       'parf car, hybrid cars, sgcarmart warranty cars',\n",
       "       'parf car, almost new car',\n",
       "       'opc car, parf car, premium ad car, low mileage car',\n",
       "       'parf car, almost new car, low mileage car, electric cars',\n",
       "       'almost new car, premium ad car, electric cars',\n",
       "       'parf car, consignment car',\n",
       "       'imported used vehicle, parf car, low mileage car',\n",
       "       'parf car, direct owner sale, electric cars',\n",
       "       'parf car, almost new car, premium ad car',\n",
       "       'parf car, consignment car, hybrid cars',\n",
       "       'parf car, direct owner sale, rare & exotic, low mileage car',\n",
       "       'coe car, direct owner sale, rare & exotic, vintage cars',\n",
       "       'opc car, parf car, premium ad car, sgcarmart warranty cars',\n",
       "       'coe car, consignment car, low mileage car',\n",
       "       'coe car, sgcarmart warranty cars',\n",
       "       'parf car, premium ad car, electric cars',\n",
       "       'parf car, almost new car, premium ad car, low mileage car, hybrid cars',\n",
       "       'premium ad car, electric cars', 'almost new car, premium ad car',\n",
       "       'coe car, rare & exotic, low mileage car',\n",
       "       'almost new car, premium ad car, low mileage car',\n",
       "       'direct owner sale, electric cars',\n",
       "       'imported used vehicle, coe car, rare & exotic, low mileage car',\n",
       "       'parf car, consignment car, low mileage car',\n",
       "       'parf car, premium ad car, low mileage car, electric cars',\n",
       "       'opc car, parf car, premium ad car, low mileage car, sgcarmart warranty cars',\n",
       "       'parf car, rare & exotic, low mileage car',\n",
       "       'coe car, premium ad car, low mileage car, sgcarmart warranty cars',\n",
       "       'direct owner sale',\n",
       "       'parf car, direct owner sale, low mileage car, hybrid cars',\n",
       "       'coe car, premium ad car, hybrid cars',\n",
       "       'parf car, rare & exotic, low mileage car, hybrid cars',\n",
       "       'parf car, almost new car, hybrid cars',\n",
       "       'coe car, direct owner sale, low mileage car, hybrid cars',\n",
       "       'parf car, almost new car, premium ad car, low mileage car',\n",
       "       'imported used vehicle, parf car, rare & exotic, almost new car, low mileage car',\n",
       "       'parf car, premium ad car, low mileage car, hybrid cars',\n",
       "       'parf car, low mileage car, electric cars',\n",
       "       'parf car, almost new car, premium ad car, low mileage car, hybrid cars, sgcarmart warranty cars',\n",
       "       'almost new car', 'coe car, low mileage car, hybrid cars',\n",
       "       'coe car, rare & exotic, premium ad car, low mileage car',\n",
       "       'parf car, rare & exotic, premium ad car, low mileage car, hybrid cars',\n",
       "       'parf car, rare & exotic, almost new car, premium ad car, low mileage car, hybrid cars',\n",
       "       'parf car, rare & exotic, electric cars',\n",
       "       'opc car, parf car, premium ad car',\n",
       "       'parf car, almost new car, premium ad car, hybrid cars',\n",
       "       'parf car, rare & exotic, almost new car, low mileage car, hybrid cars, sgcarmart warranty cars',\n",
       "       'parf car, consignment car, low mileage car, sgcarmart warranty cars',\n",
       "       'parf car, premium ad car, hybrid cars, sgcarmart warranty cars',\n",
       "       'coe car, direct owner sale, low mileage car, vintage cars',\n",
       "       'parf car, premium ad car, sta evaluated car, low mileage car',\n",
       "       'parf car, almost new car, premium ad car, electric cars',\n",
       "       'parf car, rare & exotic, almost new car, low mileage car, hybrid cars',\n",
       "       'parf car, rare & exotic, almost new car, low mileage car, electric cars',\n",
       "       'parf car, rare & exotic, almost new car',\n",
       "       'coe car, rare & exotic, premium ad car',\n",
       "       'premium ad car, low mileage car, electric cars',\n",
       "       'coe car, premium ad car, low mileage car, hybrid cars',\n",
       "       'coe car, direct owner sale, hybrid cars',\n",
       "       'parf car, almost new car, premium ad car, low mileage car, electric cars',\n",
       "       'almost new car, premium ad car, low mileage car, electric cars',\n",
       "       'coe car, consignment car, vintage cars',\n",
       "       'coe car, direct owner sale, rare & exotic, low mileage car',\n",
       "       'parf car, consignment car, hybrid cars, sgcarmart warranty cars',\n",
       "       'opc car, parf car, low mileage car',\n",
       "       'parf car, almost new car, hybrid cars, sgcarmart warranty cars',\n",
       "       'parf car, direct owner sale, almost new car, low mileage car, hybrid cars',\n",
       "       'parf car, rare & exotic, premium ad car',\n",
       "       'coe car, low mileage car, sgcarmart warranty cars',\n",
       "       'parf car, rare & exotic, almost new car, hybrid cars',\n",
       "       'electric cars',\n",
       "       'parf car, rare & exotic, almost new car, premium ad car, low mileage car',\n",
       "       'imported used vehicle, coe car, rare & exotic, sgcarmart warranty cars, vintage cars',\n",
       "       'parf car, rare & exotic, premium ad car, low mileage car, electric cars',\n",
       "       'parf car, rare & exotic, consignment car',\n",
       "       'imported used vehicle, parf car, almost new car, low mileage car',\n",
       "       'imported used vehicle, parf car, rare & exotic, hybrid cars',\n",
       "       'imported used vehicle, coe car, low mileage car',\n",
       "       'opc car, parf car, premium ad car, low mileage car, hybrid cars',\n",
       "       'parf car, premium ad car, sta evaluated car, low mileage car, electric cars',\n",
       "       'parf car, almost new car, electric cars',\n",
       "       'parf car, direct owner sale, rare & exotic, almost new car, low mileage car, hybrid cars',\n",
       "       'parf car, almost new car, low mileage car',\n",
       "       'coe car, rare & exotic, vintage cars',\n",
       "       'coe car, premium ad car, vintage cars',\n",
       "       'parf car, direct owner sale, almost new car',\n",
       "       'low mileage car, electric cars', 'parf car, sta evaluated car',\n",
       "       'parf car, rare & exotic, hybrid cars',\n",
       "       'parf car, almost new car, sgcarmart warranty cars',\n",
       "       'imported used vehicle, coe car',\n",
       "       'coe car, rare & exotic, consignment car, vintage cars',\n",
       "       'coe car, consignment car, sgcarmart warranty cars',\n",
       "       'imported used vehicle, parf car, rare & exotic, vintage cars',\n",
       "       'imported used vehicle, parf car, hybrid cars',\n",
       "       'coe car, rare & exotic',\n",
       "       'parf car, consignment car, low mileage car, hybrid cars',\n",
       "       'parf car, rare & exotic, almost new car, premium ad car, low mileage car, electric cars',\n",
       "       'parf car, premium ad car, sta evaluated car',\n",
       "       'coe car, direct owner sale, rare & exotic, low mileage car, vintage cars',\n",
       "       'coe car, rare & exotic, premium ad car, vintage cars',\n",
       "       'parf car, rare & exotic, premium ad car, electric cars',\n",
       "       'low mileage car',\n",
       "       'imported used vehicle, parf car, rare & exotic',\n",
       "       'parf car, rare & exotic, premium ad car, hybrid cars',\n",
       "       'direct owner sale, low mileage car', 'parf car, rare & exotic',\n",
       "       'imported used vehicle, parf car, low mileage car, hybrid cars',\n",
       "       'parf car, sta evaluated car, low mileage car, hybrid cars',\n",
       "       'coe car, consignment car, low mileage car, sgcarmart warranty cars',\n",
       "       'coe car, low mileage car, vintage cars',\n",
       "       'parf car, almost new car, consignment car, low mileage car, sgcarmart warranty cars',\n",
       "       'parf car, rare & exotic, low mileage car, electric cars',\n",
       "       'parf car, direct owner sale, rare & exotic, almost new car, low mileage car',\n",
       "       'coe car, premium ad car, low mileage car, vintage cars',\n",
       "       'parf car, premium ad car, low mileage car, hybrid cars, sgcarmart warranty cars',\n",
       "       'parf car, direct owner sale, rare & exotic',\n",
       "       'parf car, almost new car, consignment car, hybrid cars',\n",
       "       'imported used vehicle, coe car, low mileage car, sgcarmart warranty cars',\n",
       "       'coe car, rare & exotic, consignment car, low mileage car, vintage cars',\n",
       "       'parf car, premium ad car, sta evaluated car, sgcarmart warranty cars',\n",
       "       'parf car, almost new car, low mileage car, hybrid cars, sgcarmart warranty cars',\n",
       "       'parf car, direct owner sale, rare & exotic, almost new car, low mileage car, electric cars',\n",
       "       'imported used vehicle, parf car, rare & exotic, electric cars',\n",
       "       'parf car, almost new car, consignment car, electric cars',\n",
       "       'coe car, hybrid cars, sgcarmart warranty cars',\n",
       "       'imported used vehicle, parf car, rare & exotic, almost new car, vintage cars',\n",
       "       'parf car, sta evaluated car, low mileage car',\n",
       "       'opc car, parf car, direct owner sale, low mileage car',\n",
       "       'parf car, direct owner sale, rare & exotic, low mileage car, hybrid cars',\n",
       "       'parf car, rare & exotic, almost new car, premium ad car, hybrid cars, sgcarmart warranty cars',\n",
       "       'opc car, parf car, sgcarmart warranty cars',\n",
       "       'parf car, rare & exotic, consignment car, low mileage car, hybrid cars',\n",
       "       'coe car, premium ad car, hybrid cars, sgcarmart warranty cars',\n",
       "       'parf car, almost new car, low mileage car, sgcarmart warranty cars',\n",
       "       'parf car, almost new car, premium ad car, hybrid cars, sgcarmart warranty cars',\n",
       "       'imported used vehicle, coe car, rare & exotic, low mileage car, vintage cars',\n",
       "       'parf car, almost new car, premium ad car, low mileage car, sgcarmart warranty cars',\n",
       "       'parf car, direct owner sale, low mileage car, electric cars',\n",
       "       'coe car, direct owner sale, vintage cars',\n",
       "       'parf car, sta evaluated car, hybrid cars',\n",
       "       'imported used vehicle, parf car, sgcarmart warranty cars',\n",
       "       'coe car, consignment car, hybrid cars',\n",
       "       'opc car, coe car, premium ad car',\n",
       "       'imported used vehicle, parf car, rare & exotic, sgcarmart warranty cars, vintage cars',\n",
       "       'parf car, sta evaluated car, sgcarmart warranty cars',\n",
       "       'imported used vehicle, parf car, almost new car',\n",
       "       'coe car, premium ad car, sta evaluated car, sgcarmart warranty cars',\n",
       "       'imported used vehicle, coe car, rare & exotic',\n",
       "       'parf car, direct owner sale, rare & exotic, hybrid cars',\n",
       "       'parf car, direct owner sale, almost new car, low mileage car, electric cars',\n",
       "       'imported used vehicle, coe car, vintage cars',\n",
       "       'opc car, parf car, premium ad car, electric cars',\n",
       "       'parf car, rare & exotic, consignment car, low mileage car',\n",
       "       'coe car, low mileage car, hybrid cars, sgcarmart warranty cars',\n",
       "       'coe car, direct owner sale, rare & exotic',\n",
       "       'coe car, consignment car, low mileage car, vintage cars',\n",
       "       'parf car, direct owner sale, almost new car, hybrid cars',\n",
       "       'almost new car, low mileage car, electric cars',\n",
       "       'opc car, parf car, low mileage car, sgcarmart warranty cars',\n",
       "       'parf car, rare & exotic, almost new car, premium ad car',\n",
       "       'parf car, rare & exotic, consignment car, low mileage car, electric cars',\n",
       "       'opc car, parf car, consignment car, low mileage car',\n",
       "       'opc car, parf car, almost new car, low mileage car, hybrid cars',\n",
       "       'almost new car, consignment car, low mileage car, hybrid cars',\n",
       "       'parf car, consignment car, low mileage car, electric cars',\n",
       "       'parf car, rare & exotic, almost new car, premium ad car, hybrid cars',\n",
       "       'parf car, rare & exotic, almost new car, premium ad car, electric cars',\n",
       "       'parf car, direct owner sale, almost new car, electric cars',\n",
       "       'coe car, rare & exotic, consignment car, low mileage car',\n",
       "       'direct owner sale, almost new car, electric cars',\n",
       "       'opc car, parf car, direct owner sale',\n",
       "       'parf car, almost new car, consignment car, low mileage car, electric cars',\n",
       "       'parf car, almost new car, premium ad car, sgcarmart warranty cars',\n",
       "       'opc car, parf car, premium ad car, hybrid cars',\n",
       "       'opc car, parf car, consignment car',\n",
       "       'parf car, rare & exotic, premium ad car, sta evaluated car, low mileage car, electric cars',\n",
       "       'parf car, almost new car, sta evaluated car, low mileage car, electric cars',\n",
       "       'parf car, rare & exotic, almost new car, premium ad car, low mileage car, sgcarmart warranty cars',\n",
       "       'coe car, rare & exotic, premium ad car, sgcarmart warranty cars',\n",
       "       'coe car, direct owner sale, low mileage car, sgcarmart warranty cars',\n",
       "       'coe car, rare & exotic, low mileage car, sgcarmart warranty cars',\n",
       "       'direct owner sale, low mileage car, electric cars',\n",
       "       'parf car, rare & exotic, almost new car, sgcarmart warranty cars',\n",
       "       'parf car, premium ad car, sta evaluated car, low mileage car, sgcarmart warranty cars',\n",
       "       'direct owner sale, almost new car, low mileage car, electric cars',\n",
       "       'parf car, almost new car, consignment car, low mileage car',\n",
       "       'parf car, rare & exotic, almost new car, low mileage car, sgcarmart warranty cars',\n",
       "       'coe car, vintage cars',\n",
       "       'opc car, parf car, low mileage car, hybrid cars, sgcarmart warranty cars',\n",
       "       'consignment car',\n",
       "       'parf car, direct owner sale, sgcarmart warranty cars',\n",
       "       'parf car, almost new car, premium ad car, sta evaluated car',\n",
       "       'parf car, almost new car, premium ad car, sta evaluated car, low mileage car',\n",
       "       'opc car, coe car, low mileage car',\n",
       "       'parf car, premium ad car, sta evaluated car, electric cars',\n",
       "       'coe car, rare & exotic, consignment car',\n",
       "       'opc car, parf car, direct owner sale, hybrid cars',\n",
       "       'imported used vehicle, parf car, rare & exotic, low mileage car, hybrid cars',\n",
       "       'opc car, coe car, premium ad car, low mileage car',\n",
       "       'imported used vehicle, parf car, electric cars',\n",
       "       'imported used vehicle, parf car, almost new car, sgcarmart warranty cars',\n",
       "       'parf car, direct owner sale, almost new car, low mileage car',\n",
       "       'parf car, rare & exotic, low mileage car, sgcarmart warranty cars'],\n",
       "      dtype=object)"
      ]
     },
     "execution_count": 134,
     "metadata": {},
     "output_type": "execute_result"
    }
   ],
   "source": [
    "train_df.category.unique()"
   ]
  },
  {
   "cell_type": "code",
   "execution_count": 135,
   "metadata": {},
   "outputs": [
    {
     "name": "stdout",
     "output_type": "stream",
     "text": [
      "Road Tax for a car with 1500cc, 5 years old, under Normal scheme, using Petrol: S$342.125\n"
     ]
    }
   ],
   "source": [
    "## Assumption -- Everything is a car \n",
    "def calc_power(power):\n",
    "    base_road_tax = 200\n",
    "    if power <= 7.5:\n",
    "        road_tax = base_road_tax\n",
    "    elif power <= 30:\n",
    "        road_tax = (200 + 2 * (power - 7.5))\n",
    "    elif power <= 230:\n",
    "        road_tax = (250 + 3.75 * (power - 30))\n",
    "    else:\n",
    "        road_tax = (1525 + 10 * (power - 230)) \n",
    "    return road_tax * 0.782\n",
    "\n",
    "def calc_engine_cc(engine_capacity):\n",
    "    base_road_tax = 200\n",
    "    if engine_capacity <= 600:\n",
    "        road_tax = base_road_tax\n",
    "    elif engine_capacity <= 1000:\n",
    "        road_tax = 200 + 0.125 * (engine_capacity - 600)\n",
    "    elif engine_capacity <= 1600:\n",
    "        road_tax = 250 + 0.375 * (engine_capacity - 1000)\n",
    "    elif engine_capacity <= 3000:\n",
    "        road_tax = 475 + 0.75 * (engine_capacity - 1600)\n",
    "    else:\n",
    "        road_tax = 1525 + 1 * (engine_capacity - 3000)   \n",
    "    return road_tax * 0.782\n",
    "\n",
    "def check_annual_rate(date):\n",
    "    year_2023 = pd.Timestamp('2023-01-01')\n",
    "    year_2022 = pd.Timestamp('2022-01-01')\n",
    "    if date >=year_2023 :\n",
    "        return 700\n",
    "    elif date >= year_2022:\n",
    "        return 400\n",
    "    else:\n",
    "        return 200\n",
    "\n",
    "def calculate_road_tax(engine_capacity, power, age_of_car, reg_date, scheme=\"Normal\", fuel_type=\"Petrol\"):\n",
    "    \"\"\"Calculate Singapore road tax based on engine capacity, age of car, vehicle scheme, and fuel type.\"\"\"\n",
    "\n",
    "    if fuel_type == \"electric\":\n",
    "        road_tax = calc_power(power)\n",
    "        road_tax += check_annual_rate(reg_date)\n",
    "        \n",
    "    elif fuel_type == \"petrol-electric\":\n",
    "        road_tax = max(calc_power(power), calc_engine_cc(engine_capacity))\n",
    "\n",
    "    elif fuel_type == \"diesel\":\n",
    "        # https://nea.gov.sg/our-services/pollution-control/air-pollution/air-pollution-regulations\n",
    "        # Assumption Euro IV compliant\n",
    "        road_tax = min(525, (engine_capacity*0.625-100))\n",
    "    else:\n",
    "        # Base Road Tax Calculation by Engine Capacity\n",
    "        road_tax = calc_engine_cc(engine_capacity)\n",
    "    \n",
    "    # Adjustments for Vehicle Scheme\n",
    "    if scheme == \"OPC\":\n",
    "        # up to $500 on annual road tax, subject to a minimum road tax payment of $70 per year.\n",
    "        road_tax = min(road_tax - 500, 70) \n",
    "\n",
    "    return road_tax\n",
    "\n",
    "# REF :: https://onemotoring.lta.gov.sg/content/onemotoring/home/buying/upfront-vehicle-costs/tax-structure.html\n",
    "\n",
    "# Example usage:\n",
    "engine_capacity = 1500  # in cc\n",
    "power = 50\n",
    "age_of_car = 5  # in years\n",
    "scheme = \"Normal\"  # or \"OPC\"\n",
    "fuel_type = \"Petrol\"  # \"Petrol\", \"Diesel\", or \"Electric\"\n",
    "\n",
    "road_tax = calculate_road_tax(engine_capacity, power, age_of_car, scheme, fuel_type)\n",
    "print(f\"Road Tax for a car with {engine_capacity}cc, {age_of_car} years old, under {scheme} scheme, using {fuel_type}: S${road_tax}\")\n"
   ]
  },
  {
   "cell_type": "markdown",
   "metadata": {},
   "source": [
    "## Creating the fit transform"
   ]
  },
  {
   "cell_type": "markdown",
   "metadata": {},
   "source": [
    "### Vehicle Type"
   ]
  },
  {
   "cell_type": "code",
   "execution_count": 16,
   "metadata": {},
   "outputs": [],
   "source": [
    "def vehicle_type_train_fit(df:pd.DataFrame, column_name:str):\n",
    "    \"\"\"\n",
    "    returns encoded vehicle type to the df and the scale\n",
    "    \"\"\"\n",
    "    encoder = OneHotEncoder(sparse_output=False)\n",
    "    encoded_data = encoder.fit_transform(df[[column_name]])\n",
    "    encoded_df = pd.DataFrame(encoded_data, columns=encoder.get_feature_names_out([column_name]))\n",
    "    \n",
    "    return pd.concat([df, encoded_df], axis=1) , encoder\n",
    "\n",
    "def vehicle_type_test_transform(df:pd.DataFrame, column_name:str, encoder):\n",
    "    encoded_data = encoder.fit(df[[column_name]])\n",
    "    return pd.DataFrame(encoded_data, columns=encoder.get_feature_names_out([column_name]))\n",
    "\n",
    "# Gets back the encoder\n",
    "train_encoded, vehicle_type_encoder = vehicle_type_fit_transform(train_df, \"type_of_vehicle\")"
   ]
  },
  {
   "cell_type": "code",
   "execution_count": 15,
   "metadata": {},
   "outputs": [
    {
     "data": {
      "text/plain": [
       "array(['type_of_vehicle_bus/mini bus', 'type_of_vehicle_hatchback',\n",
       "       'type_of_vehicle_luxury sedan', 'type_of_vehicle_mid-sized sedan',\n",
       "       'type_of_vehicle_mpv', 'type_of_vehicle_others',\n",
       "       'type_of_vehicle_sports car', 'type_of_vehicle_stationwagon',\n",
       "       'type_of_vehicle_suv', 'type_of_vehicle_truck',\n",
       "       'type_of_vehicle_van'], dtype=object)"
      ]
     },
     "execution_count": 15,
     "metadata": {},
     "output_type": "execute_result"
    }
   ],
   "source": [
    "# Getting the categories\n",
    "vehicle_type_encoder.get_feature_names_out()"
   ]
  },
  {
   "cell_type": "markdown",
   "metadata": {},
   "source": [
    "### Getting model_make dictionary"
   ]
  },
  {
   "cell_type": "code",
   "execution_count": 35,
   "metadata": {},
   "outputs": [],
   "source": [
    "def model_make_train_fit(df, column_a, column_b, impute_type:str=\"median\"):\n",
    "    \"\"\"\n",
    "    \"\"\"\n",
    "    # Calculate the mean of column B grouped by column A\n",
    "    values = df.groupby(column_a)[column_b].agg([impute_type]).rename(columns={impute_type: column_b})[column_b]\n",
    "\n",
    "    # Iterate over each row in the DataFrame\n",
    "    df[column_b] = df[column_b].fillna(df[column_a].map(values))\n",
    "    \n",
    "    return df, values\n",
    "\n",
    "feature = \"curb_weight\"\n",
    "ref_col = \"model_make\"\n",
    "new_df , curb_weight_dict = model_make_train_fit(train_df,ref_col,feature)\n"
   ]
  },
  {
   "cell_type": "code",
   "execution_count": 36,
   "metadata": {},
   "outputs": [
    {
     "data": {
      "text/plain": [
       "model_make\n",
       "107_peugeot         805.0\n",
       "116d_bmw           1350.0\n",
       "116i_bmw           1340.0\n",
       "118i_bmw           1320.0\n",
       "120i_bmw           1460.0\n",
       "                   ...   \n",
       "zafira_opel        1538.0\n",
       "zk6117h_yutong    11220.0\n",
       "zk6119h_yutong    11720.0\n",
       "zoe_renault        1480.0\n",
       "zs_mg              1532.0\n",
       "Name: curb_weight, Length: 809, dtype: float64"
      ]
     },
     "execution_count": 36,
     "metadata": {},
     "output_type": "execute_result"
    }
   ],
   "source": [
    "curb_weight_dict"
   ]
  },
  {
   "cell_type": "code",
   "execution_count": 34,
   "metadata": {},
   "outputs": [],
   "source": [
    "def model_make_test_transform(df, ref_dict, column_b):\n",
    "\n",
    "    df[column_b] = df[column_b].fillna(df[column_a].map(values))\n",
    "    \n",
    "    return df"
   ]
  },
  {
   "cell_type": "code",
   "execution_count": null,
   "metadata": {},
   "outputs": [],
   "source": []
  },
  {
   "cell_type": "code",
   "execution_count": null,
   "metadata": {},
   "outputs": [],
   "source": []
  },
  {
   "cell_type": "code",
   "execution_count": null,
   "metadata": {},
   "outputs": [],
   "source": []
  },
  {
   "cell_type": "code",
   "execution_count": null,
   "metadata": {},
   "outputs": [],
   "source": []
  }
 ],
 "metadata": {
  "kernelspec": {
   "display_name": "Python 3",
   "language": "python",
   "name": "python3"
  },
  "language_info": {
   "codemirror_mode": {
    "name": "ipython",
    "version": 3
   },
   "file_extension": ".py",
   "mimetype": "text/x-python",
   "name": "python",
   "nbconvert_exporter": "python",
   "pygments_lexer": "ipython3",
   "version": "3.9.6"
  }
 },
 "nbformat": 4,
 "nbformat_minor": 2
}
