{
 "cells": [
  {
   "cell_type": "code",
   "execution_count": 2,
   "id": "8c44143c-834f-49b2-a126-acffa14efa06",
   "metadata": {},
   "outputs": [],
   "source": [
    "import os\n",
    "import time\n",
    "import numpy as np\n",
    "import pandas as pd\n",
    "import seaborn as sns\n",
    "import plotly.express as px\n",
    "from datetime import datetime\n",
    "\n",
    "from IPython.display import display, HTML\n",
    "from sklearn.impute import SimpleImputer\n",
    "from sklearn.preprocessing import OneHotEncoder\n",
    "from sklearn.preprocessing import MultiLabelBinarizer\n",
    "from sklearn.model_selection import train_test_split\n",
    "\n",
    "%load_ext autoreload\n",
    "%autoreload 2\n",
    "\n",
    "import plotly.io as pio\n",
    "pio.renderers.default = 'iframe'"
   ]
  },
  {
   "cell_type": "code",
   "execution_count": 3,
   "id": "0b31d26f",
   "metadata": {},
   "outputs": [],
   "source": [
    "## Local Utils File\n",
    "from utils.eda import *\n",
    "from utils.kanhon_utils import *\n",
    "from utils.melissa_imputers import *\n",
    "from utils.melissa_utils import *\n",
    "from utils.Bhushan_utils import *\n",
    "from utils.lta_omv_scraper import *\n",
    "from utils.models import Regression"
   ]
  },
  {
   "cell_type": "markdown",
   "id": "f054fec4",
   "metadata": {},
   "source": [
    "## Feature Processing"
   ]
  },
  {
   "cell_type": "markdown",
   "id": "efa7f906",
   "metadata": {},
   "source": [
    "### Test Data preview"
   ]
  },
  {
   "cell_type": "code",
   "execution_count": 4,
   "id": "f9dd642e",
   "metadata": {},
   "outputs": [
    {
     "data": {
      "image/png": "[encoded data removed]",
      "text/plain": [
       "<Figure size 1200x300 with 1 Axes>"
      ]
     },
     "metadata": {},
     "output_type": "display_data"
    }
   ],
   "source": [
    "test_df = pd.read_csv(r\"./dataset/test.csv\")\n",
    "test_df['model'] = test_df['model'].apply(lambda x:x.replace('(', ''))\n",
    "test_df['reg_date_dt'] = test_df['reg_date'].apply(lambda x: datetime.strptime(x, \"%d-%b-%Y\"))\n",
    "test_df['reg_date_year'] = test_df['reg_date_dt'].apply(lambda x:x.year)\n",
    "test_df['reg_date_month'] = test_df['reg_date_dt'].apply(lambda x:x.month)\n",
    "\n",
    "plt.rcParams['figure.figsize'] = (12, 3)\n",
    "sns.set()\n",
    "\n",
    "number_nans = test_df.apply(lambda row: sum(map(isnan, row)), axis=1)\n",
    "sns.histplot(number_nans, discrete=True)\n",
    "plt.xlabel('[Test Dataset] Number of NaN columns')\n",
    "plt.show()"
   ]
  },
  {
   "cell_type": "markdown",
   "id": "1cae1db6-f244-4a47-a53f-51a6be4511e4",
   "metadata": {},
   "source": [
    "### Read and clean dataset"
   ]
  },
  {
   "cell_type": "code",
   "execution_count": 5,
   "id": "4be8c3ca",
   "metadata": {},
   "outputs": [
    {
     "ename": "NameError",
     "evalue": "name 'orig_df' is not defined",
     "output_type": "error",
     "traceback": [
      "\u001b[1;31m---------------------------------------------------------------------------\u001b[0m",
      "\u001b[1;31mNameError\u001b[0m                                 Traceback (most recent call last)",
      "Cell \u001b[1;32mIn[5], line 1\u001b[0m\n\u001b[1;32m----> 1\u001b[0m \u001b[43morig_df\u001b[49m\u001b[38;5;241m.\u001b[39maccessories\u001b[38;5;241m.\u001b[39miloc[\u001b[38;5;241m6\u001b[39m]\n",
      "\u001b[1;31mNameError\u001b[0m: name 'orig_df' is not defined"
     ]
    }
   ],
   "source": [
    "orig_df.accessories.iloc[6]"
   ]
  },
  {
   "cell_type": "code",
   "execution_count": null,
   "id": "684a5bf7",
   "metadata": {},
   "outputs": [],
   "source": [
    "orig_df[~orig_df.lifespan.isna()]"
   ]
  },
  {
   "cell_type": "code",
   "execution_count": 12,
   "id": "0ce295a1-88ee-4ee4-8762-ef883ff4c13e",
   "metadata": {},
   "outputs": [],
   "source": [
    "orig_df = pd.read_csv(r\"./dataset/train.csv\")\n",
    "\n",
    "# clean model\n",
    "orig_df['model'] = orig_df['model'].apply(lambda x:x.replace('(', ''))\n",
    "orig_df['reg_date_dt'] = orig_df['reg_date'].apply(lambda x: datetime.strptime(x, \"%d-%b-%Y\"))\n",
    "orig_df['reg_date_year'] = orig_df['reg_date_dt'].apply(lambda x:x.year)\n",
    "orig_df['reg_date_month'] = orig_df['reg_date_dt'].apply(lambda x:x.month)\n",
    "\n",
    "# Adding additional feature for imputation later\n",
    "# train_df[\"model_make\"] = train_df.model + \"_\" + train_df.make"
   ]
  },
  {
   "cell_type": "markdown",
   "id": "ef5ca8ff",
   "metadata": {},
   "source": [
    "General overview of Nan Columns"
   ]
  },
  {
   "cell_type": "code",
   "execution_count": 13,
   "id": "8f5e6ac2",
   "metadata": {},
   "outputs": [
    {
     "ename": "NameError",
     "evalue": "name 'train_df' is not defined",
     "output_type": "error",
     "traceback": [
      "\u001b[1;31m---------------------------------------------------------------------------\u001b[0m",
      "\u001b[1;31mNameError\u001b[0m                                 Traceback (most recent call last)",
      "Cell \u001b[1;32mIn[13], line 4\u001b[0m\n\u001b[0;32m      1\u001b[0m plt\u001b[38;5;241m.\u001b[39mrcParams[\u001b[38;5;124m'\u001b[39m\u001b[38;5;124mfigure.figsize\u001b[39m\u001b[38;5;124m'\u001b[39m] \u001b[38;5;241m=\u001b[39m (\u001b[38;5;241m12\u001b[39m, \u001b[38;5;241m3\u001b[39m)\n\u001b[0;32m      2\u001b[0m sns\u001b[38;5;241m.\u001b[39mset()\n\u001b[1;32m----> 4\u001b[0m number_nans \u001b[38;5;241m=\u001b[39m \u001b[43mtrain_df\u001b[49m\u001b[38;5;241m.\u001b[39mapply(\u001b[38;5;28;01mlambda\u001b[39;00m row: \u001b[38;5;28msum\u001b[39m(\u001b[38;5;28mmap\u001b[39m(isnan, row)), axis\u001b[38;5;241m=\u001b[39m\u001b[38;5;241m1\u001b[39m)\n\u001b[0;32m      5\u001b[0m sns\u001b[38;5;241m.\u001b[39mhistplot(number_nans, discrete\u001b[38;5;241m=\u001b[39m\u001b[38;5;28;01mTrue\u001b[39;00m)\n\u001b[0;32m      6\u001b[0m plt\u001b[38;5;241m.\u001b[39mxlabel(\u001b[38;5;124m'\u001b[39m\u001b[38;5;124m[Train Dataset] Number of NaN columns\u001b[39m\u001b[38;5;124m'\u001b[39m)\n",
      "\u001b[1;31mNameError\u001b[0m: name 'train_df' is not defined"
     ]
    }
   ],
   "source": [
    "plt.rcParams['figure.figsize'] = (12, 3)\n",
    "sns.set()\n",
    "\n",
    "number_nans = train_df.apply(lambda row: sum(map(isnan, row)), axis=1)\n",
    "sns.histplot(number_nans, discrete=True)\n",
    "plt.xlabel('[Train Dataset] Number of NaN columns')\n",
    "plt.show()"
   ]
  },
  {
   "cell_type": "code",
   "execution_count": 14,
   "id": "90cb0af5",
   "metadata": {},
   "outputs": [
    {
     "name": "stdout",
     "output_type": "stream",
     "text": [
      "<class 'pandas.core.frame.DataFrame'>\n",
      "RangeIndex: 25000 entries, 0 to 24999\n",
      "Data columns (total 33 columns):\n",
      " #   Column             Non-Null Count  Dtype         \n",
      "---  ------             --------------  -----         \n",
      " 0   listing_id         25000 non-null  int64         \n",
      " 1   title              25000 non-null  object        \n",
      " 2   make               23684 non-null  object        \n",
      " 3   model              25000 non-null  object        \n",
      " 4   description        24320 non-null  object        \n",
      " 5   manufactured       24993 non-null  float64       \n",
      " 6   original_reg_date  255 non-null    object        \n",
      " 7   reg_date           25000 non-null  object        \n",
      " 8   type_of_vehicle    25000 non-null  object        \n",
      " 9   category           25000 non-null  object        \n",
      " 10  transmission       25000 non-null  object        \n",
      " 11  curb_weight        24693 non-null  float64       \n",
      " 12  power              22360 non-null  float64       \n",
      " 13  fuel_type          5879 non-null   object        \n",
      " 14  engine_cap         24404 non-null  float64       \n",
      " 15  no_of_owners       24982 non-null  float64       \n",
      " 16  depreciation       24493 non-null  float64       \n",
      " 17  coe                25000 non-null  int64         \n",
      " 18  road_tax           22368 non-null  float64       \n",
      " 19  dereg_value        24780 non-null  float64       \n",
      " 20  mileage            19696 non-null  float64       \n",
      " 21  omv                24936 non-null  float64       \n",
      " 22  arf                24826 non-null  float64       \n",
      " 23  opc_scheme         162 non-null    object        \n",
      " 24  lifespan           2329 non-null   object        \n",
      " 25  eco_category       25000 non-null  object        \n",
      " 26  features           24157 non-null  object        \n",
      " 27  accessories        21187 non-null  object        \n",
      " 28  indicative_price   0 non-null      float64       \n",
      " 29  price              25000 non-null  float64       \n",
      " 30  reg_date_dt        25000 non-null  datetime64[ns]\n",
      " 31  reg_date_year      25000 non-null  int64         \n",
      " 32  reg_date_month     25000 non-null  int64         \n",
      "dtypes: datetime64[ns](1), float64(13), int64(4), object(15)\n",
      "memory usage: 6.3+ MB\n"
     ]
    }
   ],
   "source": [
    "orig_df.info()"
   ]
  },
  {
   "cell_type": "code",
   "execution_count": 15,
   "id": "50f6ac9d",
   "metadata": {},
   "outputs": [],
   "source": [
    "## Split into train val split\n",
    "train_df, val_df = train_test_split(orig_df, test_size=0.2, random_state=42, shuffle=True)"
   ]
  },
  {
   "cell_type": "markdown",
   "id": "92f207df-84d2-49d2-b640-fce0891bbd05",
   "metadata": {},
   "source": [
    "### Fill missing 'make' info from title"
   ]
  },
  {
   "cell_type": "code",
   "execution_count": 16,
   "id": "03009600-322c-4c15-b098-cd0aec0a8c16",
   "metadata": {},
   "outputs": [],
   "source": [
    "make_df = pd.read_csv(r\"./dataset/make.csv\")\n",
    "make_ls = [make.lower() for make in make_df['Make List'].unique()]"
   ]
  },
  {
   "cell_type": "code",
   "execution_count": 17,
   "id": "67e866a0-2550-4cd7-9c15-765524c80c6a",
   "metadata": {},
   "outputs": [],
   "source": [
    "make_model_imputer = MakeModelImputer(make_ls)\n",
    "\n",
    "train_df = make_model_imputer.transform(train_df)\n",
    "val_df = make_model_imputer.transform(val_df) \n",
    "test_df = make_model_imputer.transform(test_df) "
   ]
  },
  {
   "cell_type": "code",
   "execution_count": 18,
   "id": "5cc1173e-3396-4f6e-8e85-9b6dea45733a",
   "metadata": {},
   "outputs": [],
   "source": [
    "# Generating model make imputer\n",
    "train_df[\"model_make\"] = train_df.model + \"_\" + train_df.make\n",
    "val_df[\"model_make\"] = val_df.model + \"_\" + val_df.make\n",
    "test_df[\"model_make\"] = test_df.model + \"_\" + test_df.make"
   ]
  },
  {
   "cell_type": "markdown",
   "id": "3d0dd578-8072-49ca-8c9e-6e68e0dc560a",
   "metadata": {},
   "source": [
    "### type_of_vehicle"
   ]
  },
  {
   "cell_type": "code",
   "execution_count": 19,
   "id": "68ebf9ef",
   "metadata": {},
   "outputs": [
    {
     "name": "stdout",
     "output_type": "stream",
     "text": [
      "Number of model_make unable to be inputted 0\n"
     ]
    }
   ],
   "source": [
    "# For each model and make check the type of vehicles count\n",
    "unique_list = display_feature_dist_by_ref_col(df=train_df,feature=\"type_of_vehicle\",ref=\"model_make\")\n",
    "make_models_with_diff_bodies = list()\n",
    "for key, value in unique_list.items():\n",
    "    if len(value) >= 2:\n",
    "        make_models_with_diff_bodies.append(key)"
   ]
  },
  {
   "cell_type": "code",
   "execution_count": 20,
   "id": "ba224015",
   "metadata": {},
   "outputs": [
    {
     "data": {
      "text/html": [
       "<iframe\n",
       "    scrolling=\"no\"\n",
       "    width=\"100%\"\n",
       "    height=\"545px\"\n",
       "    src=\"iframe_figures/figure_20.html\"\n",
       "    frameborder=\"0\"\n",
       "    allowfullscreen\n",
       "></iframe>\n"
      ]
     },
     "metadata": {},
     "output_type": "display_data"
    }
   ],
   "source": [
    "# Assuming you have a DataFrame 'train_df' with columns 'type_of_vehicle' and 'price'\n",
    "fig = px.box(train_df, x=\"type_of_vehicle\", y='price', points=\"all\")\n",
    "\n",
    "# Update the layout to make the x-axis labels horizontal\n",
    "fig.update_layout(xaxis_tickangle=0)\n",
    "\n",
    "# Show the figure\n",
    "fig.show()"
   ]
  },
  {
   "cell_type": "code",
   "execution_count": 21,
   "id": "4f0c4cc9",
   "metadata": {},
   "outputs": [
    {
     "data": {
      "text/html": [
       "<iframe\n",
       "    scrolling=\"no\"\n",
       "    width=\"100%\"\n",
       "    height=\"545px\"\n",
       "    src=\"iframe_figures/figure_21.html\"\n",
       "    frameborder=\"0\"\n",
       "    allowfullscreen\n",
       "></iframe>\n"
      ]
     },
     "metadata": {},
     "output_type": "display_data"
    }
   ],
   "source": [
    "# Assuming you have a DataFrame 'train_df' with columns 'type_of_vehicle' and 'price'\n",
    "fig = px.scatter(train_df, x=\"omv\", y='price', color=\"type_of_vehicle\",trendline=\"ols\")\n",
    "\n",
    "# Show the figure\n",
    "fig.show()"
   ]
  },
  {
   "cell_type": "code",
   "execution_count": 22,
   "id": "03a24bed",
   "metadata": {},
   "outputs": [],
   "source": [
    "## Processing \n",
    "train_df , vehicle_type_encoder = vehicle_type_fit_transform(train_df, \"type_of_vehicle\")\n",
    "val_df = vehicle_type_fit(val_df, vehicle_type_encoder)\n",
    "test_df = vehicle_type_fit(test_df, vehicle_type_encoder)"
   ]
  },
  {
   "cell_type": "markdown",
   "id": "409ec462-17f7-442a-8129-9736e0879a2c",
   "metadata": {},
   "source": [
    "### curb_weight"
   ]
  },
  {
   "cell_type": "code",
   "execution_count": 23,
   "id": "352fa160-ec59-4685-b69e-fec68fa94473",
   "metadata": {},
   "outputs": [],
   "source": [
    "# Superceeded # display(HTML(train_df.head(50).to_html()))\n",
    "def fill_column_b_with_mean(df, column_a, column_b):\n",
    "    # Calculate the mean of column B grouped by column A\n",
    "    values = df.groupby(column_a)[column_b].agg([\"mean\"]).rename(columns={\"mean\": column_b})[column_b]\n",
    "    \n",
    "    # Iterate over each row in the DataFrame\n",
    "    for index, row in df.iterrows():\n",
    "        # If column B is NaN, fill it with the mean value of column B for the corresponding value in column A\n",
    "        if pd.isna(row[column_b]):\n",
    "            df.at[index, column_b] = values[row[column_a]]\n",
    "    return df"
   ]
  },
  {
   "cell_type": "code",
   "execution_count": 24,
   "id": "e543141f-6b13-4eff-a1c6-b72879a09da9",
   "metadata": {},
   "outputs": [],
   "source": [
    "curb_weight_impute = ModelMakeImputer(column_a=\"model_make\", column_b=\"curb_weight\")\n",
    "\n",
    "train_df = curb_weight_impute.fit_transform(train_df) # 82 rows missing\n",
    "val_df = curb_weight_impute.transform(val_df) # 20 rows missing\n",
    "test_df = curb_weight_impute.transform(test_df) # 40 rows missing"
   ]
  },
  {
   "cell_type": "code",
   "execution_count": 25,
   "id": "acda1b24",
   "metadata": {},
   "outputs": [],
   "source": [
    "# Many rows are missing, impute using median values\n",
    "imputer = SimpleImputer(strategy='median')\n",
    "train_df['curb_weight'] = imputer.fit_transform(train_df[['curb_weight']])\n",
    "val_df['curb_weight'] = imputer.transform(val_df[['curb_weight']])\n",
    "test_df['curb_weight'] = imputer.transform(test_df[['curb_weight']])"
   ]
  },
  {
   "cell_type": "markdown",
   "id": "a980b57d-49d0-450d-a1c7-19746693cd1e",
   "metadata": {},
   "source": [
    "### power "
   ]
  },
  {
   "cell_type": "code",
   "execution_count": 26,
   "id": "e7712399-9cf4-4e15-bf0a-0b7f76dbaaf1",
   "metadata": {},
   "outputs": [],
   "source": [
    "power_impute = ModelMakeImputer(column_a=\"model_make\", column_b=\"power\")\n",
    "\n",
    "train_df = power_impute.fit_transform(train_df) # 1537 rows missing\n",
    "val_df = power_impute.transform(val_df) # 379 rows missing\n",
    "test_df = power_impute.transform(test_df) # 789 rows missing"
   ]
  },
  {
   "cell_type": "code",
   "execution_count": 27,
   "id": "26f6a77c",
   "metadata": {},
   "outputs": [],
   "source": [
    "# Many rows are missing, impute using median values\n",
    "imputer = SimpleImputer(strategy='median')\n",
    "train_df['power'] = imputer.fit_transform(train_df[['power']])\n",
    "val_df['power'] = imputer.transform(val_df[['power']])\n",
    "test_df['power'] = imputer.transform(test_df[['power']])"
   ]
  },
  {
   "cell_type": "markdown",
   "id": "48c18e85-8d3e-4faa-89bb-c753f1e1bbb8",
   "metadata": {},
   "source": [
    "### engine_cap "
   ]
  },
  {
   "cell_type": "code",
   "execution_count": 28,
   "id": "8d506c51-2468-41a3-a1fe-57932e3445a7",
   "metadata": {},
   "outputs": [],
   "source": [
    "engine_impute = ModelMakeImputer(column_a=\"model_make\", column_b=\"engine_cap\")\n",
    "\n",
    "train_df = engine_impute.fit_transform(train_df) # 384 rows missing\n",
    "val_df = engine_impute.transform(val_df) # 97 rows missing\n",
    "test_df = engine_impute.transform(test_df) # 186 rows missing"
   ]
  },
  {
   "cell_type": "code",
   "execution_count": 29,
   "id": "f22d553c",
   "metadata": {},
   "outputs": [],
   "source": [
    "# Many rows are missing, impute using median values\n",
    "imputer = SimpleImputer(strategy='median')\n",
    "train_df['engine_cap'] = imputer.fit_transform(train_df[['engine_cap']])\n",
    "val_df['engine_cap'] = imputer.transform(val_df[['engine_cap']])\n",
    "test_df['engine_cap'] = imputer.transform(test_df[['engine_cap']])"
   ]
  },
  {
   "cell_type": "markdown",
   "id": "38810de4-7064-4737-8000-1f5f29379587",
   "metadata": {},
   "source": [
    "### no_of_owners"
   ]
  },
  {
   "cell_type": "code",
   "execution_count": 30,
   "id": "187b5a0c-402b-4423-8299-b9299e697053",
   "metadata": {},
   "outputs": [],
   "source": [
    "# display(f' Before imputation : {train_df[\"no_of_owners\"].isna().sum()}')\n",
    "# # Original Code Output\n",
    "# rows = train_df[train_df[\"no_of_owners\"].isna()].index\n",
    "\n",
    "# for r in rows:\n",
    "#     row = train_df.iloc[r]\n",
    "\n",
    "#     #Impute number of owners based on reg_date\n",
    "#     regDate = row[\"reg_date\"]\n",
    "#     months = calculate_date_diff(regDate)\n",
    "\n",
    "#     # We estimate the number of owners based on every 3 years or 36 months\n",
    "#     estimated_owners = math.ceil(months / 36)\n",
    "#     train_df.loc[r, \"no_of_owners\"] = estimated_owners\n",
    "\n",
    "# display(f' After imputation : {train_df[\"no_of_owners\"].isna().sum()}')"
   ]
  },
  {
   "cell_type": "code",
   "execution_count": 86,
   "id": "c16deabe",
   "metadata": {},
   "outputs": [],
   "source": [
    "# display(f' Before imputation : {train_df[\"no_of_owners\"].isna().sum()}')\n",
    "# # Function form\n",
    "# train_df = impute_owner_number(train_df)\n",
    "\n",
    "# display(f' After imputation : {train_df[\"no_of_owners\"].isna().sum()}')"
   ]
  },
  {
   "cell_type": "code",
   "execution_count": 87,
   "id": "b8b7edc0",
   "metadata": {},
   "outputs": [
    {
     "data": {
      "text/plain": [
       "0"
      ]
     },
     "execution_count": 87,
     "metadata": {},
     "output_type": "execute_result"
    }
   ],
   "source": [
    "train_df.reg_date.isna().sum()"
   ]
  },
  {
   "cell_type": "code",
   "execution_count": 88,
   "id": "0ebc8bf6",
   "metadata": {},
   "outputs": [
    {
     "data": {
      "text/plain": [
       "' Before imputation : 0'"
      ]
     },
     "metadata": {},
     "output_type": "display_data"
    },
    {
     "name": "stdout",
     "output_type": "stream",
     "text": [
      "20000\n"
     ]
    },
    {
     "name": "stderr",
     "output_type": "stream",
     "text": [
      "C:\\Users\\kan_h\\Desktop\\Kan Hon\\Admin\\NUS MComp\\AY2425_Sem1\\CS5228\\cs5228-project\\CS5228_project\\utils\\eda.py:45: RuntimeWarning:\n",
      "\n",
      "divide by zero encountered in scalar divide\n",
      "\n"
     ]
    },
    {
     "name": "stdout",
     "output_type": "stream",
     "text": [
      "[Number of months per owner]  ->  [mean = inf, median = 529.1514755565718, mode = 1037.4713560106268]\n"
     ]
    },
    {
     "data": {
      "text/plain": [
       "' After imputation : 0'"
      ]
     },
     "metadata": {},
     "output_type": "display_data"
    }
   ],
   "source": [
    "## New method\n",
    "display(f' Before imputation : {train_df[\"no_of_owners\"].isna().sum()}')\n",
    "\n",
    "owner_impute = OwnerImputer()\n",
    "\n",
    "train_df = owner_impute.fit_transform(df=train_df)\n",
    "val_df = owner_impute.transform(val_df)\n",
    "test_df = owner_impute.transform(test_df)\n",
    "display(f' After imputation : {train_df[\"no_of_owners\"].isna().sum()}')"
   ]
  },
  {
   "cell_type": "code",
   "execution_count": 34,
   "id": "a04a0bb5",
   "metadata": {},
   "outputs": [
    {
     "data": {
      "text/plain": [
       "0"
      ]
     },
     "execution_count": 34,
     "metadata": {},
     "output_type": "execute_result"
    }
   ],
   "source": [
    "test_df.no_of_owners.isna().sum()"
   ]
  },
  {
   "cell_type": "markdown",
   "id": "786732be",
   "metadata": {},
   "source": [
    "### Manufactured"
   ]
  },
  {
   "cell_type": "code",
   "execution_count": 35,
   "id": "49fd98d9",
   "metadata": {},
   "outputs": [],
   "source": [
    "# Manufactured\n",
    "\n",
    "train_df['effective_reg_date'] = train_df['original_reg_date'].fillna(train_df['reg_date'])\n",
    "train_df = train_df.drop(columns=['original_reg_date'])\n",
    "\n",
    "train_df['effective_reg_date'] = pd.to_datetime(train_df['effective_reg_date'], errors='coerce', format='%d-%b-%Y')\n",
    "train_df['manufactured'] = train_df['manufactured'].fillna(train_df['effective_reg_date'].dt.year)"
   ]
  },
  {
   "cell_type": "markdown",
   "id": "41f7547f-25b1-4122-bdc5-92606380738e",
   "metadata": {},
   "source": [
    "### depreciation "
   ]
  },
  {
   "cell_type": "code",
   "execution_count": 36,
   "id": "1d942856",
   "metadata": {},
   "outputs": [
    {
     "name": "stdout",
     "output_type": "stream",
     "text": [
      "<class 'pandas.core.frame.DataFrame'>\n",
      "RangeIndex: 20000 entries, 0 to 19999\n",
      "Data columns (total 45 columns):\n",
      " #   Column                           Non-Null Count  Dtype         \n",
      "---  ------                           --------------  -----         \n",
      " 0   listing_id                       20000 non-null  int64         \n",
      " 1   title                            20000 non-null  object        \n",
      " 2   make                             20000 non-null  object        \n",
      " 3   model                            20000 non-null  object        \n",
      " 4   description                      19459 non-null  object        \n",
      " 5   manufactured                     20000 non-null  float64       \n",
      " 6   reg_date                         20000 non-null  object        \n",
      " 7   type_of_vehicle                  20000 non-null  object        \n",
      " 8   category                         20000 non-null  object        \n",
      " 9   transmission                     20000 non-null  object        \n",
      " 10  curb_weight                      20000 non-null  float64       \n",
      " 11  power                            20000 non-null  float64       \n",
      " 12  fuel_type                        4661 non-null   object        \n",
      " 13  engine_cap                       20000 non-null  float64       \n",
      " 14  no_of_owners                     20000 non-null  float64       \n",
      " 15  depreciation                     19600 non-null  float64       \n",
      " 16  coe                              20000 non-null  int64         \n",
      " 17  road_tax                         17902 non-null  float64       \n",
      " 18  dereg_value                      19815 non-null  float64       \n",
      " 19  mileage                          15752 non-null  float64       \n",
      " 20  omv                              19951 non-null  float64       \n",
      " 21  arf                              19859 non-null  float64       \n",
      " 22  opc_scheme                       130 non-null    object        \n",
      " 23  lifespan                         1862 non-null   object        \n",
      " 24  eco_category                     20000 non-null  object        \n",
      " 25  features                         19328 non-null  object        \n",
      " 26  accessories                      16968 non-null  object        \n",
      " 27  indicative_price                 0 non-null      float64       \n",
      " 28  price                            20000 non-null  float64       \n",
      " 29  reg_date_dt                      20000 non-null  datetime64[ns]\n",
      " 30  reg_date_year                    20000 non-null  int64         \n",
      " 31  reg_date_month                   20000 non-null  int64         \n",
      " 32  model_make                       20000 non-null  object        \n",
      " 33  type_of_vehicle_bus/mini bus     20000 non-null  float64       \n",
      " 34  type_of_vehicle_hatchback        20000 non-null  float64       \n",
      " 35  type_of_vehicle_luxury sedan     20000 non-null  float64       \n",
      " 36  type_of_vehicle_mid-sized sedan  20000 non-null  float64       \n",
      " 37  type_of_vehicle_mpv              20000 non-null  float64       \n",
      " 38  type_of_vehicle_others           20000 non-null  float64       \n",
      " 39  type_of_vehicle_sports car       20000 non-null  float64       \n",
      " 40  type_of_vehicle_stationwagon     20000 non-null  float64       \n",
      " 41  type_of_vehicle_suv              20000 non-null  float64       \n",
      " 42  type_of_vehicle_truck            20000 non-null  float64       \n",
      " 43  type_of_vehicle_van              20000 non-null  float64       \n",
      " 44  effective_reg_date               20000 non-null  datetime64[ns]\n",
      "dtypes: datetime64[ns](2), float64(24), int64(4), object(15)\n",
      "memory usage: 6.9+ MB\n"
     ]
    }
   ],
   "source": [
    "train_df.info()"
   ]
  },
  {
   "cell_type": "code",
   "execution_count": 37,
   "id": "309447a7-8818-4242-9756-0e9d6360d022",
   "metadata": {},
   "outputs": [],
   "source": [
    "dep_imputer = DepreciationImputer()\n",
    "\n",
    "train_df = dep_imputer.fit_transform(X=train_df)\n",
    "val_df = dep_imputer.transform(X=val_df)\n",
    "test_df = dep_imputer.transform(X=test_df)"
   ]
  },
  {
   "cell_type": "markdown",
   "id": "e26a98a9",
   "metadata": {},
   "source": [
    "### Transmission"
   ]
  },
  {
   "cell_type": "code",
   "execution_count": 38,
   "id": "e043c72a",
   "metadata": {},
   "outputs": [
    {
     "name": "stdout",
     "output_type": "stream",
     "text": [
      "[ True False] transmission_auto\n",
      "True     18660\n",
      "False     1340\n",
      "Name: count, dtype: int64\n"
     ]
    }
   ],
   "source": [
    "# Transmission\n",
    "\n",
    "# One-hot encoding\n",
    "train_df = pd.get_dummies(train_df, columns=['transmission'], prefix='transmission')\n",
    "train_df.drop('transmission_manual', axis=1, inplace=True)\n",
    "\n",
    "unique_transmissions = train_df['transmission_auto'].unique()\n",
    "transmission_counts = train_df['transmission_auto'].value_counts()\n",
    "print(unique_transmissions, transmission_counts)"
   ]
  },
  {
   "cell_type": "markdown",
   "id": "193ef2ca-2e22-47a2-94b0-50cff583f8c3",
   "metadata": {},
   "source": [
    "### dereg_value"
   ]
  },
  {
   "cell_type": "code",
   "execution_count": null,
   "id": "2648db4a-22b8-431c-9392-cff5b274cd70",
   "metadata": {},
   "outputs": [],
   "source": []
  },
  {
   "cell_type": "markdown",
   "id": "ad910b8a-c00d-4e9b-950a-fe8a741f2185",
   "metadata": {},
   "source": [
    "### mileage   "
   ]
  },
  {
   "cell_type": "code",
   "execution_count": 42,
   "id": "888ae3c3-e49c-4d55-ae99-ddf14edbea1a",
   "metadata": {},
   "outputs": [
    {
     "data": {
      "text/plain": [
       "' Before imputation : 4248'"
      ]
     },
     "metadata": {},
     "output_type": "display_data"
    },
    {
     "ename": "NameError",
     "evalue": "name 'calculate_date_diff' is not defined",
     "output_type": "error",
     "traceback": [
      "\u001b[1;31m---------------------------------------------------------------------------\u001b[0m",
      "\u001b[1;31mNameError\u001b[0m                                 Traceback (most recent call last)",
      "Cell \u001b[1;32mIn[42], line 8\u001b[0m\n\u001b[0;32m      6\u001b[0m \u001b[38;5;66;03m#print(f\"row: {row}\")\u001b[39;00m\n\u001b[0;32m      7\u001b[0m regDate \u001b[38;5;241m=\u001b[39m row[\u001b[38;5;124m\"\u001b[39m\u001b[38;5;124mreg_date\u001b[39m\u001b[38;5;124m\"\u001b[39m]\n\u001b[1;32m----> 8\u001b[0m months \u001b[38;5;241m=\u001b[39m \u001b[43mcalculate_date_diff\u001b[49m(regDate)\n\u001b[0;32m     10\u001b[0m \u001b[38;5;66;03m#impute mileage based on reg_date \u001b[39;00m\n\u001b[0;32m     11\u001b[0m \u001b[38;5;66;03m#we estimate that the average mileage of a car is 8000 miles per year\u001b[39;00m\n\u001b[0;32m     12\u001b[0m estimated_mileage \u001b[38;5;241m=\u001b[39m months \u001b[38;5;241m/\u001b[39m \u001b[38;5;241m12\u001b[39m \u001b[38;5;241m*\u001b[39m \u001b[38;5;241m8000\u001b[39m\n",
      "\u001b[1;31mNameError\u001b[0m: name 'calculate_date_diff' is not defined"
     ]
    }
   ],
   "source": [
    "# display(f' Before imputation : {train_df[\"mileage\"].isna().sum()}')\n",
    "# # Original Code Output\n",
    "# rows = train_df[train_df[\"mileage\"].isna()].index\n",
    "# for r in rows:\n",
    "#     row = train_df.iloc[r]\n",
    "#     #print(f\"row: {row}\")\n",
    "#     regDate = row[\"reg_date\"]\n",
    "#     months = calculate_date_diff(regDate)\n",
    "\n",
    "#     #impute mileage based on reg_date \n",
    "#     #we estimate that the average mileage of a car is 8000 miles per year\n",
    "#     estimated_mileage = months / 12 * 8000\n",
    "#     train_df.loc[r, \"mileage\"] = estimated_mileage\n",
    "\n",
    "# display(f' After imputation : {train_df[\"mileage\"].isna().sum()}')"
   ]
  },
  {
   "cell_type": "code",
   "execution_count": 43,
   "id": "6e16b8e8",
   "metadata": {},
   "outputs": [
    {
     "data": {
      "text/plain": [
       "' Before imputation : 4248'"
      ]
     },
     "metadata": {},
     "output_type": "display_data"
    },
    {
     "name": "stdout",
     "output_type": "stream",
     "text": [
      "[Miles per month]  ->  [mean = 1008.1117259874483, median = 979.3646346929628, mode = 1000.0]\n"
     ]
    },
    {
     "data": {
      "text/plain": [
       "' After imputation : 0'"
      ]
     },
     "metadata": {},
     "output_type": "display_data"
    }
   ],
   "source": [
    "display(f' Before imputation : {train_df[\"mileage\"].isna().sum()}')\n",
    "## New method\n",
    "\n",
    "mileage_impute = mileageImputer()\n",
    "\n",
    "train_df = mileage_impute.fit_transform(df=train_df)\n",
    "val_df = mileage_impute.transform(val_df)\n",
    "test_df = mileage_impute.transform(test_df)\n",
    "\n",
    "display(f' After imputation : {train_df[\"mileage\"].isna().sum()}')"
   ]
  },
  {
   "cell_type": "markdown",
   "id": "7ffe3971-8ace-4178-b070-37cad3e59022",
   "metadata": {},
   "source": [
    "### omv "
   ]
  },
  {
   "cell_type": "code",
   "execution_count": 44,
   "id": "027ac5fb-c31a-43aa-9832-f4f642c7231e",
   "metadata": {},
   "outputs": [],
   "source": [
    "csv_filename = r'./dataset/lta_omv_data.csv'\n",
    "\n",
    "if os.path.exists(csv_filename):\n",
    "    df_lta_car_data = pd.read_csv(csv_filename)\n",
    "else:\n",
    "    result_ls = get_lta_omv_data(2002, 2025)\n",
    "    df_lta_car_data = preprocess_lta_omv_data(result_ls)\n",
    "    df_lta_car_data.to_csv(csv_filename)\n",
    "\n",
    "lta_data_imputer = LTADataImputer(df_lta_car_data)\n",
    "\n",
    "train_df = lta_data_imputer.transform(train_df) # before transform: 49 rows missing, after transform: 24 rows missing\n",
    "val_df = lta_data_imputer.transform(val_df) # before transform: 15 rows missing, after transform: 9 rows missing\n",
    "test_df = lta_data_imputer.transform(test_df) \n",
    "\n",
    "imputer = SimpleImputer(strategy='median')\n",
    "train_df['omv'] = imputer.fit_transform(train_df[['omv']])\n",
    "val_df['omv'] = imputer.transform(val_df[['omv']])\n",
    "test_df['omv'] = imputer.transform(test_df[['omv']])"
   ]
  },
  {
   "cell_type": "code",
   "execution_count": 45,
   "id": "8725dcb4-ef66-460f-b54e-83016f25c473",
   "metadata": {},
   "outputs": [],
   "source": [
    "# Superceeded code\n",
    "def impute_using_lta_data(row):\n",
    "    # print(row)\n",
    "    if not np.isnan(row['omv']):\n",
    "        return row['omv']\n",
    "    else:\n",
    "        make = row['make']\n",
    "        model = row['model']\n",
    "        year = row['reg_date_year']\n",
    "        lookup_by_make_model_year = df_lta_car_data[(df_lta_car_data['make_clean'] == make) & (df_lta_car_data['model_split'].str.contains(model)) & (df_lta_car_data['year'] == year)]\n",
    "        \n",
    "        lookup_by_make_model = df_lta_car_data[(df_lta_car_data['make_clean'] == make) & (df_lta_car_data['model_split'].str.contains(model))]\n",
    "\n",
    "        lookup_by_make = df_lta_car_data[(df_lta_car_data['make_clean'] == make)]\n",
    "        \n",
    "        if not lookup_by_make_model_year.empty:\n",
    "            # print('lookup_by_make_model_year')\n",
    "            return lookup_by_make_model_year['omv_clean'].mean()\n",
    "        elif not lookup_by_make_model.empty:\n",
    "            # print('lookup_by_make_model')\n",
    "            return lookup_by_make_model['omv_clean'].mean()\n",
    "        elif not lookup_by_make.empty:\n",
    "            # print('lookup_by_make')\n",
    "            return lookup_by_make['omv_clean'].mean()\n",
    "        else: \n",
    "            return None\n",
    "\n",
    "# train_df['omv_new'] = train_df['omv']\n",
    "# train_df['omv_new'] = train_df.apply(impute_using_lta_data, axis=1)\n",
    "# train_df['omv_new'] = train_df['omv_new'].fillna(train_df['omv_new'].mean())\n",
    "\n",
    "# train_df.info()"
   ]
  },
  {
   "cell_type": "markdown",
   "id": "f17b72de",
   "metadata": {},
   "source": [
    "### Lifespan"
   ]
  },
  {
   "cell_type": "code",
   "execution_count": 46,
   "id": "ed26deac",
   "metadata": {},
   "outputs": [
    {
     "data": {
      "text/plain": [
       "' Before imputation : 18138'"
      ]
     },
     "metadata": {},
     "output_type": "display_data"
    },
    {
     "ename": "NameError",
     "evalue": "name 'impute_lifespan' is not defined",
     "output_type": "error",
     "traceback": [
      "\u001b[1;31m---------------------------------------------------------------------------\u001b[0m",
      "\u001b[1;31mNameError\u001b[0m                                 Traceback (most recent call last)",
      "Cell \u001b[1;32mIn[46], line 4\u001b[0m\n\u001b[0;32m      1\u001b[0m display(\u001b[38;5;124mf\u001b[39m\u001b[38;5;124m'\u001b[39m\u001b[38;5;124m Before imputation : \u001b[39m\u001b[38;5;132;01m{\u001b[39;00mtrain_df[\u001b[38;5;124m\"\u001b[39m\u001b[38;5;124mlifespan\u001b[39m\u001b[38;5;124m\"\u001b[39m]\u001b[38;5;241m.\u001b[39misna()\u001b[38;5;241m.\u001b[39msum()\u001b[38;5;132;01m}\u001b[39;00m\u001b[38;5;124m'\u001b[39m)\n\u001b[0;32m      3\u001b[0m \u001b[38;5;66;03m# Functional Form\u001b[39;00m\n\u001b[1;32m----> 4\u001b[0m \u001b[43mimpute_lifespan\u001b[49m(train_df)\n\u001b[0;32m      6\u001b[0m display(\u001b[38;5;124mf\u001b[39m\u001b[38;5;124m'\u001b[39m\u001b[38;5;124m After imputation : \u001b[39m\u001b[38;5;132;01m{\u001b[39;00mtrain_df[\u001b[38;5;124m\"\u001b[39m\u001b[38;5;124mlifespan\u001b[39m\u001b[38;5;124m\"\u001b[39m]\u001b[38;5;241m.\u001b[39misna()\u001b[38;5;241m.\u001b[39msum()\u001b[38;5;132;01m}\u001b[39;00m\u001b[38;5;124m'\u001b[39m)\n",
      "\u001b[1;31mNameError\u001b[0m: name 'impute_lifespan' is not defined"
     ]
    }
   ],
   "source": [
    "# display(f' Before imputation : {train_df[\"lifespan\"].isna().sum()}')\n",
    "\n",
    "# # Functional Form\n",
    "# impute_lifespan(train_df)\n",
    "\n",
    "# display(f' After imputation : {train_df[\"lifespan\"].isna().sum()}')"
   ]
  },
  {
   "cell_type": "markdown",
   "id": "8e47c7e0",
   "metadata": {},
   "source": [
    "### Fuel Type"
   ]
  },
  {
   "cell_type": "code",
   "execution_count": 48,
   "id": "af86f061",
   "metadata": {},
   "outputs": [
    {
     "data": {
      "text/html": [
       "<iframe\n",
       "    scrolling=\"no\"\n",
       "    width=\"100%\"\n",
       "    height=\"545px\"\n",
       "    src=\"iframe_figures/figure_48.html\"\n",
       "    frameborder=\"0\"\n",
       "    allowfullscreen\n",
       "></iframe>\n"
      ]
     },
     "metadata": {},
     "output_type": "display_data"
    }
   ],
   "source": [
    "# Assuming you have a DataFrame 'train_df' with columns 'type_of_vehicle' and 'price'\n",
    "fig = px.box(train_df, x=\"fuel_type\", y='price', points=\"all\")\n",
    "\n",
    "# Update the layout to make the x-axis labels horizontal\n",
    "fig.update_layout(xaxis_tickangle=0)\n",
    "\n",
    "# Show the figure\n",
    "fig.show()"
   ]
  },
  {
   "cell_type": "code",
   "execution_count": 49,
   "id": "2e761e66",
   "metadata": {},
   "outputs": [
    {
     "name": "stdout",
     "output_type": "stream",
     "text": [
      "Original Imputation Nan 14397\n",
      "After Imputation Nan 14397\n"
     ]
    },
    {
     "data": {
      "text/html": [
       "<div>\n",
       "<style scoped>\n",
       "    .dataframe tbody tr th:only-of-type {\n",
       "        vertical-align: middle;\n",
       "    }\n",
       "\n",
       "    .dataframe tbody tr th {\n",
       "        vertical-align: top;\n",
       "    }\n",
       "\n",
       "    .dataframe thead th {\n",
       "        text-align: right;\n",
       "    }\n",
       "</style>\n",
       "<table border=\"1\" class=\"dataframe\">\n",
       "  <thead>\n",
       "    <tr style=\"text-align: right;\">\n",
       "      <th></th>\n",
       "      <th>listing_id</th>\n",
       "      <th>title</th>\n",
       "      <th>make</th>\n",
       "      <th>model</th>\n",
       "      <th>description</th>\n",
       "      <th>manufactured</th>\n",
       "      <th>reg_date</th>\n",
       "      <th>type_of_vehicle</th>\n",
       "      <th>category</th>\n",
       "      <th>curb_weight</th>\n",
       "      <th>...</th>\n",
       "      <th>type_of_vehicle_mpv</th>\n",
       "      <th>type_of_vehicle_others</th>\n",
       "      <th>type_of_vehicle_sports car</th>\n",
       "      <th>type_of_vehicle_stationwagon</th>\n",
       "      <th>type_of_vehicle_suv</th>\n",
       "      <th>type_of_vehicle_truck</th>\n",
       "      <th>type_of_vehicle_van</th>\n",
       "      <th>effective_reg_date</th>\n",
       "      <th>car_age</th>\n",
       "      <th>transmission_auto</th>\n",
       "    </tr>\n",
       "  </thead>\n",
       "  <tbody>\n",
       "    <tr>\n",
       "      <th>0</th>\n",
       "      <td>1260733</td>\n",
       "      <td>Isuzu NPR85</td>\n",
       "      <td>isuzu</td>\n",
       "      <td>npr85</td>\n",
       "      <td>cheapest in the market! 14 feet full canopy wi...</td>\n",
       "      <td>2019.0</td>\n",
       "      <td>01-jul-2020</td>\n",
       "      <td>truck</td>\n",
       "      <td>premium ad car</td>\n",
       "      <td>2500.0</td>\n",
       "      <td>...</td>\n",
       "      <td>0.0</td>\n",
       "      <td>0.0</td>\n",
       "      <td>0.0</td>\n",
       "      <td>0.0</td>\n",
       "      <td>0.0</td>\n",
       "      <td>1.0</td>\n",
       "      <td>0.0</td>\n",
       "      <td>2020-07-01</td>\n",
       "      <td>5.0</td>\n",
       "      <td>True</td>\n",
       "    </tr>\n",
       "    <tr>\n",
       "      <th>1</th>\n",
       "      <td>1289505</td>\n",
       "      <td>Honda Fit 1.3A G (COE till 06/2024)</td>\n",
       "      <td>honda</td>\n",
       "      <td>fit</td>\n",
       "      <td>200</td>\n",
       "      <td>2009.0</td>\n",
       "      <td>12-aug-2009</td>\n",
       "      <td>hatchback</td>\n",
       "      <td>coe car</td>\n",
       "      <td>1010.0</td>\n",
       "      <td>...</td>\n",
       "      <td>0.0</td>\n",
       "      <td>0.0</td>\n",
       "      <td>0.0</td>\n",
       "      <td>0.0</td>\n",
       "      <td>0.0</td>\n",
       "      <td>0.0</td>\n",
       "      <td>0.0</td>\n",
       "      <td>2009-08-12</td>\n",
       "      <td>15.0</td>\n",
       "      <td>True</td>\n",
       "    </tr>\n",
       "    <tr>\n",
       "      <th>2</th>\n",
       "      <td>1316182</td>\n",
       "      <td>Toyota Sienta 1.5A</td>\n",
       "      <td>toyota</td>\n",
       "      <td>sienta</td>\n",
       "      <td>non phv. excellent condition. 100% accident fr...</td>\n",
       "      <td>2018.0</td>\n",
       "      <td>28-may-2018</td>\n",
       "      <td>mpv</td>\n",
       "      <td>parf car, premium ad car</td>\n",
       "      <td>1325.0</td>\n",
       "      <td>...</td>\n",
       "      <td>1.0</td>\n",
       "      <td>0.0</td>\n",
       "      <td>0.0</td>\n",
       "      <td>0.0</td>\n",
       "      <td>0.0</td>\n",
       "      <td>0.0</td>\n",
       "      <td>0.0</td>\n",
       "      <td>2018-05-28</td>\n",
       "      <td>6.0</td>\n",
       "      <td>True</td>\n",
       "    </tr>\n",
       "    <tr>\n",
       "      <th>3</th>\n",
       "      <td>1310514</td>\n",
       "      <td>Volvo V40 T4 Momentum</td>\n",
       "      <td>volvo</td>\n",
       "      <td>v40</td>\n",
       "      <td>well maintained! the safety, reliable and dura...</td>\n",
       "      <td>2018.0</td>\n",
       "      <td>30-aug-2019</td>\n",
       "      <td>hatchback</td>\n",
       "      <td>parf car</td>\n",
       "      <td>1441.0</td>\n",
       "      <td>...</td>\n",
       "      <td>0.0</td>\n",
       "      <td>0.0</td>\n",
       "      <td>0.0</td>\n",
       "      <td>0.0</td>\n",
       "      <td>0.0</td>\n",
       "      <td>0.0</td>\n",
       "      <td>0.0</td>\n",
       "      <td>2019-08-30</td>\n",
       "      <td>6.0</td>\n",
       "      <td>True</td>\n",
       "    </tr>\n",
       "    <tr>\n",
       "      <th>4</th>\n",
       "      <td>1247893</td>\n",
       "      <td>Kia Carens 2.0A GDI</td>\n",
       "      <td>kia</td>\n",
       "      <td>carens</td>\n",
       "      <td>rare 1 owner unit! low km done! fully maintain...</td>\n",
       "      <td>2015.0</td>\n",
       "      <td>18-nov-2015</td>\n",
       "      <td>mpv</td>\n",
       "      <td>parf car</td>\n",
       "      <td>1544.0</td>\n",
       "      <td>...</td>\n",
       "      <td>1.0</td>\n",
       "      <td>0.0</td>\n",
       "      <td>0.0</td>\n",
       "      <td>0.0</td>\n",
       "      <td>0.0</td>\n",
       "      <td>0.0</td>\n",
       "      <td>0.0</td>\n",
       "      <td>2015-11-18</td>\n",
       "      <td>9.0</td>\n",
       "      <td>True</td>\n",
       "    </tr>\n",
       "    <tr>\n",
       "      <th>...</th>\n",
       "      <td>...</td>\n",
       "      <td>...</td>\n",
       "      <td>...</td>\n",
       "      <td>...</td>\n",
       "      <td>...</td>\n",
       "      <td>...</td>\n",
       "      <td>...</td>\n",
       "      <td>...</td>\n",
       "      <td>...</td>\n",
       "      <td>...</td>\n",
       "      <td>...</td>\n",
       "      <td>...</td>\n",
       "      <td>...</td>\n",
       "      <td>...</td>\n",
       "      <td>...</td>\n",
       "      <td>...</td>\n",
       "      <td>...</td>\n",
       "      <td>...</td>\n",
       "      <td>...</td>\n",
       "      <td>...</td>\n",
       "      <td>...</td>\n",
       "    </tr>\n",
       "    <tr>\n",
       "      <th>19995</th>\n",
       "      <td>1330095</td>\n",
       "      <td>BMW 3 Series 318i</td>\n",
       "      <td>bmw</td>\n",
       "      <td>318i</td>\n",
       "      <td>0</td>\n",
       "      <td>2015.0</td>\n",
       "      <td>26-feb-2016</td>\n",
       "      <td>luxury sedan</td>\n",
       "      <td>parf car, consignment car, sgcarmart warranty ...</td>\n",
       "      <td>1425.0</td>\n",
       "      <td>...</td>\n",
       "      <td>0.0</td>\n",
       "      <td>0.0</td>\n",
       "      <td>0.0</td>\n",
       "      <td>0.0</td>\n",
       "      <td>0.0</td>\n",
       "      <td>0.0</td>\n",
       "      <td>0.0</td>\n",
       "      <td>2016-02-26</td>\n",
       "      <td>9.0</td>\n",
       "      <td>True</td>\n",
       "    </tr>\n",
       "    <tr>\n",
       "      <th>19996</th>\n",
       "      <td>1300273</td>\n",
       "      <td>Nissan Qashqai 1.2A DIG-T</td>\n",
       "      <td>nissan</td>\n",
       "      <td>qashqai</td>\n",
       "      <td>no repairs needed, buy and drive as it is! one...</td>\n",
       "      <td>2016.0</td>\n",
       "      <td>17-jun-2016</td>\n",
       "      <td>suv</td>\n",
       "      <td>parf car, premium ad car</td>\n",
       "      <td>1285.0</td>\n",
       "      <td>...</td>\n",
       "      <td>0.0</td>\n",
       "      <td>0.0</td>\n",
       "      <td>0.0</td>\n",
       "      <td>0.0</td>\n",
       "      <td>1.0</td>\n",
       "      <td>0.0</td>\n",
       "      <td>0.0</td>\n",
       "      <td>2016-06-17</td>\n",
       "      <td>8.0</td>\n",
       "      <td>True</td>\n",
       "    </tr>\n",
       "    <tr>\n",
       "      <th>19997</th>\n",
       "      <td>1316903</td>\n",
       "      <td>Honda Jazz 1.3A</td>\n",
       "      <td>honda</td>\n",
       "      <td>jazz</td>\n",
       "      <td>1 owner, maintain by honda kah motor, at dicks...</td>\n",
       "      <td>2019.0</td>\n",
       "      <td>10-jul-2019</td>\n",
       "      <td>hatchback</td>\n",
       "      <td>parf car</td>\n",
       "      <td>1052.0</td>\n",
       "      <td>...</td>\n",
       "      <td>0.0</td>\n",
       "      <td>0.0</td>\n",
       "      <td>0.0</td>\n",
       "      <td>0.0</td>\n",
       "      <td>0.0</td>\n",
       "      <td>0.0</td>\n",
       "      <td>0.0</td>\n",
       "      <td>2019-07-10</td>\n",
       "      <td>5.0</td>\n",
       "      <td>True</td>\n",
       "    </tr>\n",
       "    <tr>\n",
       "      <th>19998</th>\n",
       "      <td>1329593</td>\n",
       "      <td>Ferrari 488 GTB</td>\n",
       "      <td>ferrari</td>\n",
       "      <td>488</td>\n",
       "      <td>ital unit with warranty till dec 2024. fully s...</td>\n",
       "      <td>2016.0</td>\n",
       "      <td>03-nov-2016</td>\n",
       "      <td>sports car</td>\n",
       "      <td>parf car, direct owner sale, rare &amp; exotic, lo...</td>\n",
       "      <td>1515.0</td>\n",
       "      <td>...</td>\n",
       "      <td>0.0</td>\n",
       "      <td>0.0</td>\n",
       "      <td>1.0</td>\n",
       "      <td>0.0</td>\n",
       "      <td>0.0</td>\n",
       "      <td>0.0</td>\n",
       "      <td>0.0</td>\n",
       "      <td>2016-11-03</td>\n",
       "      <td>8.0</td>\n",
       "      <td>True</td>\n",
       "    </tr>\n",
       "    <tr>\n",
       "      <th>19999</th>\n",
       "      <td>1321619</td>\n",
       "      <td>BMW 6 Series 630i Cabriolet (COE till 08/2028)</td>\n",
       "      <td>bmw</td>\n",
       "      <td>630i</td>\n",
       "      <td>0</td>\n",
       "      <td>2008.0</td>\n",
       "      <td>29-aug-2008</td>\n",
       "      <td>sports car</td>\n",
       "      <td>coe car, premium ad car</td>\n",
       "      <td>1750.0</td>\n",
       "      <td>...</td>\n",
       "      <td>0.0</td>\n",
       "      <td>0.0</td>\n",
       "      <td>1.0</td>\n",
       "      <td>0.0</td>\n",
       "      <td>0.0</td>\n",
       "      <td>0.0</td>\n",
       "      <td>0.0</td>\n",
       "      <td>2008-08-29</td>\n",
       "      <td>16.0</td>\n",
       "      <td>True</td>\n",
       "    </tr>\n",
       "  </tbody>\n",
       "</table>\n",
       "<p>20000 rows × 46 columns</p>\n",
       "</div>"
      ],
      "text/plain": [
       "       listing_id                                           title     make  \\\n",
       "0         1260733                                     Isuzu NPR85    isuzu   \n",
       "1         1289505             Honda Fit 1.3A G (COE till 06/2024)    honda   \n",
       "2         1316182                              Toyota Sienta 1.5A   toyota   \n",
       "3         1310514                           Volvo V40 T4 Momentum    volvo   \n",
       "4         1247893                             Kia Carens 2.0A GDI      kia   \n",
       "...           ...                                             ...      ...   \n",
       "19995     1330095                               BMW 3 Series 318i      bmw   \n",
       "19996     1300273                       Nissan Qashqai 1.2A DIG-T   nissan   \n",
       "19997     1316903                                 Honda Jazz 1.3A    honda   \n",
       "19998     1329593                                 Ferrari 488 GTB  ferrari   \n",
       "19999     1321619  BMW 6 Series 630i Cabriolet (COE till 08/2028)      bmw   \n",
       "\n",
       "         model                                        description  \\\n",
       "0        npr85  cheapest in the market! 14 feet full canopy wi...   \n",
       "1          fit                                                200   \n",
       "2       sienta  non phv. excellent condition. 100% accident fr...   \n",
       "3          v40  well maintained! the safety, reliable and dura...   \n",
       "4       carens  rare 1 owner unit! low km done! fully maintain...   \n",
       "...        ...                                                ...   \n",
       "19995     318i                                                  0   \n",
       "19996  qashqai  no repairs needed, buy and drive as it is! one...   \n",
       "19997     jazz  1 owner, maintain by honda kah motor, at dicks...   \n",
       "19998      488  ital unit with warranty till dec 2024. fully s...   \n",
       "19999     630i                                                  0   \n",
       "\n",
       "       manufactured     reg_date type_of_vehicle  \\\n",
       "0            2019.0  01-jul-2020           truck   \n",
       "1            2009.0  12-aug-2009       hatchback   \n",
       "2            2018.0  28-may-2018             mpv   \n",
       "3            2018.0  30-aug-2019       hatchback   \n",
       "4            2015.0  18-nov-2015             mpv   \n",
       "...             ...          ...             ...   \n",
       "19995        2015.0  26-feb-2016    luxury sedan   \n",
       "19996        2016.0  17-jun-2016             suv   \n",
       "19997        2019.0  10-jul-2019       hatchback   \n",
       "19998        2016.0  03-nov-2016      sports car   \n",
       "19999        2008.0  29-aug-2008      sports car   \n",
       "\n",
       "                                                category  curb_weight  ...  \\\n",
       "0                                         premium ad car       2500.0  ...   \n",
       "1                                                coe car       1010.0  ...   \n",
       "2                               parf car, premium ad car       1325.0  ...   \n",
       "3                                               parf car       1441.0  ...   \n",
       "4                                               parf car       1544.0  ...   \n",
       "...                                                  ...          ...  ...   \n",
       "19995  parf car, consignment car, sgcarmart warranty ...       1425.0  ...   \n",
       "19996                           parf car, premium ad car       1285.0  ...   \n",
       "19997                                           parf car       1052.0  ...   \n",
       "19998  parf car, direct owner sale, rare & exotic, lo...       1515.0  ...   \n",
       "19999                            coe car, premium ad car       1750.0  ...   \n",
       "\n",
       "       type_of_vehicle_mpv type_of_vehicle_others  type_of_vehicle_sports car  \\\n",
       "0                      0.0                    0.0                         0.0   \n",
       "1                      0.0                    0.0                         0.0   \n",
       "2                      1.0                    0.0                         0.0   \n",
       "3                      0.0                    0.0                         0.0   \n",
       "4                      1.0                    0.0                         0.0   \n",
       "...                    ...                    ...                         ...   \n",
       "19995                  0.0                    0.0                         0.0   \n",
       "19996                  0.0                    0.0                         0.0   \n",
       "19997                  0.0                    0.0                         0.0   \n",
       "19998                  0.0                    0.0                         1.0   \n",
       "19999                  0.0                    0.0                         1.0   \n",
       "\n",
       "       type_of_vehicle_stationwagon  type_of_vehicle_suv  \\\n",
       "0                               0.0                  0.0   \n",
       "1                               0.0                  0.0   \n",
       "2                               0.0                  0.0   \n",
       "3                               0.0                  0.0   \n",
       "4                               0.0                  0.0   \n",
       "...                             ...                  ...   \n",
       "19995                           0.0                  0.0   \n",
       "19996                           0.0                  1.0   \n",
       "19997                           0.0                  0.0   \n",
       "19998                           0.0                  0.0   \n",
       "19999                           0.0                  0.0   \n",
       "\n",
       "       type_of_vehicle_truck  type_of_vehicle_van  effective_reg_date  \\\n",
       "0                        1.0                  0.0          2020-07-01   \n",
       "1                        0.0                  0.0          2009-08-12   \n",
       "2                        0.0                  0.0          2018-05-28   \n",
       "3                        0.0                  0.0          2019-08-30   \n",
       "4                        0.0                  0.0          2015-11-18   \n",
       "...                      ...                  ...                 ...   \n",
       "19995                    0.0                  0.0          2016-02-26   \n",
       "19996                    0.0                  0.0          2016-06-17   \n",
       "19997                    0.0                  0.0          2019-07-10   \n",
       "19998                    0.0                  0.0          2016-11-03   \n",
       "19999                    0.0                  0.0          2008-08-29   \n",
       "\n",
       "       car_age  transmission_auto  \n",
       "0          5.0               True  \n",
       "1         15.0               True  \n",
       "2          6.0               True  \n",
       "3          6.0               True  \n",
       "4          9.0               True  \n",
       "...        ...                ...  \n",
       "19995      9.0               True  \n",
       "19996      8.0               True  \n",
       "19997      5.0               True  \n",
       "19998      8.0               True  \n",
       "19999     16.0               True  \n",
       "\n",
       "[20000 rows x 46 columns]"
      ]
     },
     "execution_count": 49,
     "metadata": {},
     "output_type": "execute_result"
    }
   ],
   "source": [
    "get_fuel_type(train_df)"
   ]
  },
  {
   "cell_type": "markdown",
   "id": "5ce61c40",
   "metadata": {},
   "source": [
    "### Cylinder Count"
   ]
  },
  {
   "cell_type": "code",
   "execution_count": 50,
   "id": "25c7636a",
   "metadata": {},
   "outputs": [],
   "source": [
    "cylinder_count_extractor = CylinderExtractor()\n",
    "\n",
    "train_df = cylinder_count_extractor.transform(train_df)\n",
    "val_df = cylinder_count_extractor.transform(val_df) \n",
    "test_df = cylinder_count_extractor.transform(test_df) "
   ]
  },
  {
   "cell_type": "code",
   "execution_count": 51,
   "id": "5de7c21b",
   "metadata": {},
   "outputs": [],
   "source": [
    "cylinder_imputer = CylinderImputer()\n",
    "train_df = cylinder_imputer.fit_transform(train_df) # 1479 rows missing\n",
    "val_df = cylinder_imputer.transform(val_df) # 334 rows missing\n",
    "test_df = cylinder_imputer.transform(test_df)\n",
    "\n",
    "# Many rows are missing, impute using median values\n",
    "imputer = SimpleImputer(strategy='median')\n",
    "train_df['cylinder_cnt'] = imputer.fit_transform(train_df[['cylinder_cnt']])\n",
    "val_df['cylinder_cnt'] = imputer.transform(val_df[['cylinder_cnt']])\n",
    "test_df['cylinder_cnt'] = imputer.transform(test_df[['cylinder_cnt']])"
   ]
  },
  {
   "cell_type": "markdown",
   "id": "b4fa35a4",
   "metadata": {},
   "source": [
    "### Category Parser"
   ]
  },
  {
   "cell_type": "code",
   "execution_count": 52,
   "id": "3a5bcb64",
   "metadata": {},
   "outputs": [],
   "source": [
    "category_parser = CategoryParser()\n",
    "train_df = category_parser.fit_transform(train_df) \n",
    "val_df = category_parser.transform(val_df) "
   ]
  },
  {
   "cell_type": "code",
   "execution_count": 53,
   "id": "8196a8c1",
   "metadata": {},
   "outputs": [
    {
     "name": "stdout",
     "output_type": "stream",
     "text": [
      "<class 'pandas.core.frame.DataFrame'>\n",
      "RangeIndex: 20000 entries, 0 to 19999\n",
      "Data columns (total 63 columns):\n",
      " #   Column                           Non-Null Count  Dtype         \n",
      "---  ------                           --------------  -----         \n",
      " 0   listing_id                       20000 non-null  int64         \n",
      " 1   title                            20000 non-null  object        \n",
      " 2   make                             20000 non-null  object        \n",
      " 3   model                            20000 non-null  object        \n",
      " 4   description                      19459 non-null  object        \n",
      " 5   manufactured                     20000 non-null  float64       \n",
      " 6   reg_date                         20000 non-null  object        \n",
      " 7   type_of_vehicle                  20000 non-null  object        \n",
      " 8   category                         20000 non-null  object        \n",
      " 9   curb_weight                      20000 non-null  float64       \n",
      " 10  power                            20000 non-null  float64       \n",
      " 11  fuel_type                        5603 non-null   object        \n",
      " 12  engine_cap                       20000 non-null  float64       \n",
      " 13  no_of_owners                     20000 non-null  float64       \n",
      " 14  depreciation                     19904 non-null  float64       \n",
      " 15  coe                              20000 non-null  int64         \n",
      " 16  road_tax                         17902 non-null  float64       \n",
      " 17  dereg_value                      19815 non-null  float64       \n",
      " 18  mileage                          20000 non-null  float64       \n",
      " 19  omv                              20000 non-null  float64       \n",
      " 20  arf                              19859 non-null  float64       \n",
      " 21  opc_scheme                       130 non-null    object        \n",
      " 22  lifespan                         1862 non-null   object        \n",
      " 23  eco_category                     20000 non-null  object        \n",
      " 24  features                         19328 non-null  object        \n",
      " 25  accessories                      16968 non-null  object        \n",
      " 26  indicative_price                 0 non-null      float64       \n",
      " 27  price                            20000 non-null  float64       \n",
      " 28  reg_date_dt                      20000 non-null  datetime64[ns]\n",
      " 29  reg_date_year                    20000 non-null  int64         \n",
      " 30  reg_date_month                   20000 non-null  int64         \n",
      " 31  model_make                       20000 non-null  object        \n",
      " 32  type_of_vehicle_bus/mini bus     20000 non-null  float64       \n",
      " 33  type_of_vehicle_hatchback        20000 non-null  float64       \n",
      " 34  type_of_vehicle_luxury sedan     20000 non-null  float64       \n",
      " 35  type_of_vehicle_mid-sized sedan  20000 non-null  float64       \n",
      " 36  type_of_vehicle_mpv              20000 non-null  float64       \n",
      " 37  type_of_vehicle_others           20000 non-null  float64       \n",
      " 38  type_of_vehicle_sports car       20000 non-null  float64       \n",
      " 39  type_of_vehicle_stationwagon     20000 non-null  float64       \n",
      " 40  type_of_vehicle_suv              20000 non-null  float64       \n",
      " 41  type_of_vehicle_truck            20000 non-null  float64       \n",
      " 42  type_of_vehicle_van              20000 non-null  float64       \n",
      " 43  effective_reg_date               20000 non-null  datetime64[ns]\n",
      " 44  car_age                          20000 non-null  float64       \n",
      " 45  transmission_auto                20000 non-null  bool          \n",
      " 46  cylinder_cnt                     20000 non-null  float64       \n",
      " 47  -                                20000 non-null  int32         \n",
      " 48  almost new car                   20000 non-null  int32         \n",
      " 49  coe car                          20000 non-null  int32         \n",
      " 50  consignment car                  20000 non-null  int32         \n",
      " 51  direct owner sale                20000 non-null  int32         \n",
      " 52  electric cars                    20000 non-null  int32         \n",
      " 53  hybrid cars                      20000 non-null  int32         \n",
      " 54  imported used vehicle            20000 non-null  int32         \n",
      " 55  low mileage car                  20000 non-null  int32         \n",
      " 56  opc car                          20000 non-null  int32         \n",
      " 57  parf car                         20000 non-null  int32         \n",
      " 58  premium ad car                   20000 non-null  int32         \n",
      " 59  rare & exotic                    20000 non-null  int32         \n",
      " 60  sgcarmart warranty cars          20000 non-null  int32         \n",
      " 61  sta evaluated car                20000 non-null  int32         \n",
      " 62  vintage cars                     20000 non-null  int32         \n",
      "dtypes: bool(1), datetime64[ns](2), float64(26), int32(16), int64(4), object(14)\n",
      "memory usage: 8.3+ MB\n"
     ]
    }
   ],
   "source": [
    "train_df.info()"
   ]
  },
  {
   "cell_type": "markdown",
   "id": "48694da0-c052-4e01-9b9b-86132f62898c",
   "metadata": {},
   "source": [
    "### features "
   ]
  },
  {
   "cell_type": "code",
   "execution_count": 54,
   "id": "1cefc3b6-fef7-42c3-8826-f78b710f4029",
   "metadata": {},
   "outputs": [],
   "source": [
    "train_df['cylinder_cnt'] = train_df['features'].apply(lambda x: extract_cylinder_from_features(x) if pd.notnull(x) else None)\n",
    "cylinder_count_dict = extract_cylinder_by_model_make(train_df)\n",
    "train_df['cylinder_cnt'] = train_df.apply(lambda x:impute_row_by_make_model(x, cylinder_count_dict, 'cylinder_cnt'), axis=1)\n",
    "# fill remaining values with median of 4 cylinder (most common engine)\n",
    "median_cylinder_cnt = train_df['cylinder_cnt'].median(axis=0)\n",
    "train_df['cylinder_cnt'] = train_df['cylinder_cnt'].fillna(median_cylinder_cnt)"
   ]
  },
  {
   "cell_type": "code",
   "execution_count": 55,
   "id": "354d510c-7bec-431e-9909-360abb7ef272",
   "metadata": {},
   "outputs": [
    {
     "data": {
      "text/plain": [
       "Index(['listing_id', 'title', 'make', 'model', 'description', 'manufactured',\n",
       "       'reg_date', 'type_of_vehicle', 'category', 'curb_weight', 'power',\n",
       "       'fuel_type', 'engine_cap', 'no_of_owners', 'depreciation', 'coe',\n",
       "       'road_tax', 'dereg_value', 'mileage', 'omv', 'arf', 'opc_scheme',\n",
       "       'lifespan', 'eco_category', 'features', 'accessories',\n",
       "       'indicative_price', 'price', 'reg_date_dt', 'reg_date_year',\n",
       "       'reg_date_month', 'model_make', 'type_of_vehicle_bus/mini bus',\n",
       "       'type_of_vehicle_hatchback', 'type_of_vehicle_luxury sedan',\n",
       "       'type_of_vehicle_mid-sized sedan', 'type_of_vehicle_mpv',\n",
       "       'type_of_vehicle_others', 'type_of_vehicle_sports car',\n",
       "       'type_of_vehicle_stationwagon', 'type_of_vehicle_suv',\n",
       "       'type_of_vehicle_truck', 'type_of_vehicle_van', 'effective_reg_date',\n",
       "       'car_age', 'transmission_auto', 'cylinder_cnt', '-', 'almost new car',\n",
       "       'coe car', 'consignment car', 'direct owner sale', 'electric cars',\n",
       "       'hybrid cars', 'imported used vehicle', 'low mileage car', 'opc car',\n",
       "       'parf car', 'premium ad car', 'rare & exotic',\n",
       "       'sgcarmart warranty cars', 'sta evaluated car', 'vintage cars'],\n",
       "      dtype='object')"
      ]
     },
     "execution_count": 55,
     "metadata": {},
     "output_type": "execute_result"
    }
   ],
   "source": [
    "train_df.columns"
   ]
  },
  {
   "cell_type": "markdown",
   "id": "d6531488-4eea-453b-82be-225787cd792d",
   "metadata": {},
   "source": [
    "## Data normalization"
   ]
  },
  {
   "cell_type": "code",
   "execution_count": 56,
   "id": "0065f37d-f61d-413b-a289-9a63e7ca644c",
   "metadata": {
    "scrolled": true
   },
   "outputs": [
    {
     "data": {
      "text/html": [
       "<table border=\"1\" class=\"dataframe\">\n",
       "  <thead>\n",
       "    <tr style=\"text-align: right;\">\n",
       "      <th></th>\n",
       "      <th>listing_id</th>\n",
       "      <th>title</th>\n",
       "      <th>make</th>\n",
       "      <th>model</th>\n",
       "      <th>description</th>\n",
       "      <th>manufactured</th>\n",
       "      <th>reg_date</th>\n",
       "      <th>type_of_vehicle</th>\n",
       "      <th>category</th>\n",
       "      <th>curb_weight</th>\n",
       "      <th>power</th>\n",
       "      <th>fuel_type</th>\n",
       "      <th>engine_cap</th>\n",
       "      <th>no_of_owners</th>\n",
       "      <th>depreciation</th>\n",
       "      <th>coe</th>\n",
       "      <th>road_tax</th>\n",
       "      <th>dereg_value</th>\n",
       "      <th>mileage</th>\n",
       "      <th>omv</th>\n",
       "      <th>arf</th>\n",
       "      <th>opc_scheme</th>\n",
       "      <th>lifespan</th>\n",
       "      <th>eco_category</th>\n",
       "      <th>features</th>\n",
       "      <th>accessories</th>\n",
       "      <th>indicative_price</th>\n",
       "      <th>price</th>\n",
       "      <th>reg_date_dt</th>\n",
       "      <th>reg_date_year</th>\n",
       "      <th>reg_date_month</th>\n",
       "      <th>model_make</th>\n",
       "      <th>type_of_vehicle_bus/mini bus</th>\n",
       "      <th>type_of_vehicle_hatchback</th>\n",
       "      <th>type_of_vehicle_luxury sedan</th>\n",
       "      <th>type_of_vehicle_mid-sized sedan</th>\n",
       "      <th>type_of_vehicle_mpv</th>\n",
       "      <th>type_of_vehicle_others</th>\n",
       "      <th>type_of_vehicle_sports car</th>\n",
       "      <th>type_of_vehicle_stationwagon</th>\n",
       "      <th>type_of_vehicle_suv</th>\n",
       "      <th>type_of_vehicle_truck</th>\n",
       "      <th>type_of_vehicle_van</th>\n",
       "      <th>effective_reg_date</th>\n",
       "      <th>car_age</th>\n",
       "      <th>transmission_auto</th>\n",
       "      <th>cylinder_cnt</th>\n",
       "      <th>-</th>\n",
       "      <th>almost new car</th>\n",
       "      <th>coe car</th>\n",
       "      <th>consignment car</th>\n",
       "      <th>direct owner sale</th>\n",
       "      <th>electric cars</th>\n",
       "      <th>hybrid cars</th>\n",
       "      <th>imported used vehicle</th>\n",
       "      <th>low mileage car</th>\n",
       "      <th>opc car</th>\n",
       "      <th>parf car</th>\n",
       "      <th>premium ad car</th>\n",
       "      <th>rare &amp; exotic</th>\n",
       "      <th>sgcarmart warranty cars</th>\n",
       "      <th>sta evaluated car</th>\n",
       "      <th>vintage cars</th>\n",
       "    </tr>\n",
       "  </thead>\n",
       "  <tbody>\n",
       "    <tr>\n",
       "      <th>0</th>\n",
       "      <td>1260733</td>\n",
       "      <td>Isuzu NPR85</td>\n",
       "      <td>isuzu</td>\n",
       "      <td>npr85</td>\n",
       "      <td>cheapest in the market! 14 feet full canopy with wooden body! class 3 can drive! excellent condition with original upholstery! servicing provided! premium warranty provided! 100% loan available! trade in are welcomed! contact our friendly sales consultant now!</td>\n",
       "      <td>2019.0</td>\n",
       "      <td>01-jul-2020</td>\n",
       "      <td>truck</td>\n",
       "      <td>premium ad car</td>\n",
       "      <td>2500.0</td>\n",
       "      <td>110.0</td>\n",
       "      <td>diesel</td>\n",
       "      <td>2999.0</td>\n",
       "      <td>2.0</td>\n",
       "      <td>14860.0</td>\n",
       "      <td>22085</td>\n",
       "      <td>NaN</td>\n",
       "      <td>13348.0</td>\n",
       "      <td>51413.698025</td>\n",
       "      <td>37994.0</td>\n",
       "      <td>1900.0</td>\n",
       "      <td>NaN</td>\n",
       "      <td>30-jun-2040</td>\n",
       "      <td>uncategorized</td>\n",
       "      <td>view specs of the isuzu n series diesel</td>\n",
       "      <td>NaN</td>\n",
       "      <td>NaN</td>\n",
       "      <td>89800.0</td>\n",
       "      <td>2020-07-01</td>\n",
       "      <td>2020</td>\n",
       "      <td>7</td>\n",
       "      <td>npr85_isuzu</td>\n",
       "      <td>0.0</td>\n",
       "      <td>0.0</td>\n",
       "      <td>0.0</td>\n",
       "      <td>0.0</td>\n",
       "      <td>0.0</td>\n",
       "      <td>0.0</td>\n",
       "      <td>0.0</td>\n",
       "      <td>0.0</td>\n",
       "      <td>0.0</td>\n",
       "      <td>1.0</td>\n",
       "      <td>0.0</td>\n",
       "      <td>2020-07-01</td>\n",
       "      <td>5.0</td>\n",
       "      <td>True</td>\n",
       "      <td>4.0</td>\n",
       "      <td>0</td>\n",
       "      <td>0</td>\n",
       "      <td>0</td>\n",
       "      <td>0</td>\n",
       "      <td>0</td>\n",
       "      <td>0</td>\n",
       "      <td>0</td>\n",
       "      <td>0</td>\n",
       "      <td>0</td>\n",
       "      <td>0</td>\n",
       "      <td>0</td>\n",
       "      <td>1</td>\n",
       "      <td>0</td>\n",
       "      <td>0</td>\n",
       "      <td>0</td>\n",
       "      <td>0</td>\n",
       "    </tr>\n",
       "    <tr>\n",
       "      <th>1</th>\n",
       "      <td>1289505</td>\n",
       "      <td>Honda Fit 1.3A G (COE till 06/2024)</td>\n",
       "      <td>honda</td>\n",
       "      <td>fit</td>\n",
       "      <td>200</td>\n",
       "      <td>2009.0</td>\n",
       "      <td>12-aug-2009</td>\n",
       "      <td>hatchback</td>\n",
       "      <td>coe car</td>\n",
       "      <td>1010.0</td>\n",
       "      <td>73.0</td>\n",
       "      <td>NaN</td>\n",
       "      <td>1339.0</td>\n",
       "      <td>5.0</td>\n",
       "      <td>11630.0</td>\n",
       "      <td>14920</td>\n",
       "      <td>885.0</td>\n",
       "      <td>123.0</td>\n",
       "      <td>183476.334130</td>\n",
       "      <td>14211.0</td>\n",
       "      <td>14211.0</td>\n",
       "      <td>NaN</td>\n",
       "      <td>NaN</td>\n",
       "      <td>uncategorized</td>\n",
       "      <td>view specs of the honda fit</td>\n",
       "      <td>NaN</td>\n",
       "      <td>NaN</td>\n",
       "      <td>700.0</td>\n",
       "      <td>2009-08-12</td>\n",
       "      <td>2009</td>\n",
       "      <td>8</td>\n",
       "      <td>fit_honda</td>\n",
       "      <td>0.0</td>\n",
       "      <td>1.0</td>\n",
       "      <td>0.0</td>\n",
       "      <td>0.0</td>\n",
       "      <td>0.0</td>\n",
       "      <td>0.0</td>\n",
       "      <td>0.0</td>\n",
       "      <td>0.0</td>\n",
       "      <td>0.0</td>\n",
       "      <td>0.0</td>\n",
       "      <td>0.0</td>\n",
       "      <td>2009-08-12</td>\n",
       "      <td>15.0</td>\n",
       "      <td>True</td>\n",
       "      <td>4.0</td>\n",
       "      <td>0</td>\n",
       "      <td>0</td>\n",
       "      <td>1</td>\n",
       "      <td>0</td>\n",
       "      <td>0</td>\n",
       "      <td>0</td>\n",
       "      <td>0</td>\n",
       "      <td>0</td>\n",
       "      <td>0</td>\n",
       "      <td>0</td>\n",
       "      <td>0</td>\n",
       "      <td>0</td>\n",
       "      <td>0</td>\n",
       "      <td>0</td>\n",
       "      <td>0</td>\n",
       "      <td>0</td>\n",
       "    </tr>\n",
       "    <tr>\n",
       "      <th>2</th>\n",
       "      <td>1316182</td>\n",
       "      <td>Toyota Sienta 1.5A</td>\n",
       "      <td>toyota</td>\n",
       "      <td>sienta</td>\n",
       "      <td>non phv. excellent condition. 100% accident free. sta evaluation welcome. highest trade in. standard/high bank loan, balloon loan, in house loan. 100% loan available. 1 day loan approval. test drive today</td>\n",
       "      <td>2018.0</td>\n",
       "      <td>28-may-2018</td>\n",
       "      <td>mpv</td>\n",
       "      <td>parf car, premium ad car</td>\n",
       "      <td>1325.0</td>\n",
       "      <td>79.0</td>\n",
       "      <td>NaN</td>\n",
       "      <td>1496.0</td>\n",
       "      <td>2.0</td>\n",
       "      <td>14530.0</td>\n",
       "      <td>38001</td>\n",
       "      <td>682.0</td>\n",
       "      <td>25880.0</td>\n",
       "      <td>80346.000000</td>\n",
       "      <td>17199.0</td>\n",
       "      <td>17199.0</td>\n",
       "      <td>NaN</td>\n",
       "      <td>NaN</td>\n",
       "      <td>uncategorized</td>\n",
       "      <td>1.5l dohc 16v vvt-i engine, 7 speed cvt-i auto transmission, 2 x airbags, abs, auto headlights, power sliding door, knockdown rear seats, rear aircon. view specs of the toyota sienta</td>\n",
       "      <td>factory touchscreen audio system with reverse camera, like new leather seats, parking sensors.</td>\n",
       "      <td>NaN</td>\n",
       "      <td>64800.0</td>\n",
       "      <td>2018-05-28</td>\n",
       "      <td>2018</td>\n",
       "      <td>5</td>\n",
       "      <td>sienta_toyota</td>\n",
       "      <td>0.0</td>\n",
       "      <td>0.0</td>\n",
       "      <td>0.0</td>\n",
       "      <td>0.0</td>\n",
       "      <td>1.0</td>\n",
       "      <td>0.0</td>\n",
       "      <td>0.0</td>\n",
       "      <td>0.0</td>\n",
       "      <td>0.0</td>\n",
       "      <td>0.0</td>\n",
       "      <td>0.0</td>\n",
       "      <td>2018-05-28</td>\n",
       "      <td>6.0</td>\n",
       "      <td>True</td>\n",
       "      <td>4.0</td>\n",
       "      <td>0</td>\n",
       "      <td>0</td>\n",
       "      <td>0</td>\n",
       "      <td>0</td>\n",
       "      <td>0</td>\n",
       "      <td>0</td>\n",
       "      <td>0</td>\n",
       "      <td>0</td>\n",
       "      <td>0</td>\n",
       "      <td>0</td>\n",
       "      <td>1</td>\n",
       "      <td>1</td>\n",
       "      <td>0</td>\n",
       "      <td>0</td>\n",
       "      <td>0</td>\n",
       "      <td>0</td>\n",
       "    </tr>\n",
       "    <tr>\n",
       "      <th>3</th>\n",
       "      <td>1310514</td>\n",
       "      <td>Volvo V40 T4 Momentum</td>\n",
       "      <td>volvo</td>\n",
       "      <td>v40</td>\n",
       "      <td>well maintained! the safety, reliable and durable branding! flexible loan packages available! high loan with no admin charges! insurance assistance and trade in welcomed! call our friendly sales consultant now for viewing/test drive!</td>\n",
       "      <td>2018.0</td>\n",
       "      <td>30-aug-2019</td>\n",
       "      <td>hatchback</td>\n",
       "      <td>parf car</td>\n",
       "      <td>1441.0</td>\n",
       "      <td>140.0</td>\n",
       "      <td>NaN</td>\n",
       "      <td>1969.0</td>\n",
       "      <td>1.0</td>\n",
       "      <td>15770.0</td>\n",
       "      <td>36901</td>\n",
       "      <td>1176.0</td>\n",
       "      <td>35358.0</td>\n",
       "      <td>68000.000000</td>\n",
       "      <td>22799.0</td>\n",
       "      <td>23919.0</td>\n",
       "      <td>NaN</td>\n",
       "      <td>NaN</td>\n",
       "      <td>uncategorized</td>\n",
       "      <td>powerful 2.0l 4 cylinder inline 16 valve turbocharged engine, 8 speed automatic transmission. 187bhp, 300nm. view specs of the volvo v40</td>\n",
       "      <td>keyless entry/start, cruise control, auto headlights, collision warning system.</td>\n",
       "      <td>NaN</td>\n",
       "      <td>92800.0</td>\n",
       "      <td>2019-08-30</td>\n",
       "      <td>2019</td>\n",
       "      <td>8</td>\n",
       "      <td>v40_volvo</td>\n",
       "      <td>0.0</td>\n",
       "      <td>1.0</td>\n",
       "      <td>0.0</td>\n",
       "      <td>0.0</td>\n",
       "      <td>0.0</td>\n",
       "      <td>0.0</td>\n",
       "      <td>0.0</td>\n",
       "      <td>0.0</td>\n",
       "      <td>0.0</td>\n",
       "      <td>0.0</td>\n",
       "      <td>0.0</td>\n",
       "      <td>2019-08-30</td>\n",
       "      <td>6.0</td>\n",
       "      <td>True</td>\n",
       "      <td>4.0</td>\n",
       "      <td>0</td>\n",
       "      <td>0</td>\n",
       "      <td>0</td>\n",
       "      <td>0</td>\n",
       "      <td>0</td>\n",
       "      <td>0</td>\n",
       "      <td>0</td>\n",
       "      <td>0</td>\n",
       "      <td>0</td>\n",
       "      <td>0</td>\n",
       "      <td>1</td>\n",
       "      <td>0</td>\n",
       "      <td>0</td>\n",
       "      <td>0</td>\n",
       "      <td>0</td>\n",
       "      <td>0</td>\n",
       "    </tr>\n",
       "    <tr>\n",
       "      <th>4</th>\n",
       "      <td>1247893</td>\n",
       "      <td>Kia Carens 2.0A GDI</td>\n",
       "      <td>kia</td>\n",
       "      <td>carens</td>\n",
       "      <td>rare 1 owner unit! low km done! fully maintained &amp; serviced by c&amp;c till 2022! guaranteed not use for phv! well maintained and taken by previous owner! spacious 7 seater that can fit all passengers comfortably! great short term mpv for daily use! call now to find out more!</td>\n",
       "      <td>2015.0</td>\n",
       "      <td>18-nov-2015</td>\n",
       "      <td>mpv</td>\n",
       "      <td>parf car</td>\n",
       "      <td>1544.0</td>\n",
       "      <td>122.0</td>\n",
       "      <td>NaN</td>\n",
       "      <td>1999.0</td>\n",
       "      <td>1.0</td>\n",
       "      <td>15540.0</td>\n",
       "      <td>58190</td>\n",
       "      <td>1212.0</td>\n",
       "      <td>20117.0</td>\n",
       "      <td>130000.000000</td>\n",
       "      <td>21074.0</td>\n",
       "      <td>21504.0</td>\n",
       "      <td>NaN</td>\n",
       "      <td>NaN</td>\n",
       "      <td>uncategorized</td>\n",
       "      <td>view specs of the kia carens</td>\n",
       "      <td>upgraded headunit with reverse camera! factory fitted s/rims, keyless entry &amp; start/stop, rear knockdown seats, multi function steering wheel.</td>\n",
       "      <td>NaN</td>\n",
       "      <td>32888.0</td>\n",
       "      <td>2015-11-18</td>\n",
       "      <td>2015</td>\n",
       "      <td>11</td>\n",
       "      <td>carens_kia</td>\n",
       "      <td>0.0</td>\n",
       "      <td>0.0</td>\n",
       "      <td>0.0</td>\n",
       "      <td>0.0</td>\n",
       "      <td>1.0</td>\n",
       "      <td>0.0</td>\n",
       "      <td>0.0</td>\n",
       "      <td>0.0</td>\n",
       "      <td>0.0</td>\n",
       "      <td>0.0</td>\n",
       "      <td>0.0</td>\n",
       "      <td>2015-11-18</td>\n",
       "      <td>9.0</td>\n",
       "      <td>True</td>\n",
       "      <td>4.0</td>\n",
       "      <td>0</td>\n",
       "      <td>0</td>\n",
       "      <td>0</td>\n",
       "      <td>0</td>\n",
       "      <td>0</td>\n",
       "      <td>0</td>\n",
       "      <td>0</td>\n",
       "      <td>0</td>\n",
       "      <td>0</td>\n",
       "      <td>0</td>\n",
       "      <td>1</td>\n",
       "      <td>0</td>\n",
       "      <td>0</td>\n",
       "      <td>0</td>\n",
       "      <td>0</td>\n",
       "      <td>0</td>\n",
       "    </tr>\n",
       "  </tbody>\n",
       "</table>"
      ],
      "text/plain": [
       "<IPython.core.display.HTML object>"
      ]
     },
     "metadata": {},
     "output_type": "display_data"
    }
   ],
   "source": [
    "display(HTML(train_df.head(5).to_html()))"
   ]
  },
  {
   "cell_type": "code",
   "execution_count": 61,
   "id": "c8ed5bf2-595a-4656-98ac-a2c2f780e268",
   "metadata": {},
   "outputs": [],
   "source": [
    "from sklearn.preprocessing import MinMaxScaler\n",
    "from sklearn.model_selection import train_test_split\n",
    "from sklearn.metrics import mean_squared_error, r2_score\n",
    "from utils.models import Regression\n",
    "from sklearn.impute import SimpleImputer\n"
   ]
  },
  {
   "cell_type": "code",
   "execution_count": 64,
   "id": "b7f2c30e-6c1b-41ae-8dfb-7e864b54652f",
   "metadata": {},
   "outputs": [],
   "source": [
    "\n",
    "features = ['cylinder_cnt', \n",
    "       'depreciation', 'mileage', 'dereg_value']\n",
    "\n",
    "X_train, X_test, y_train, y_test = train_test_split(train_df[features], train_df['price'], test_size=0.3, random_state=42)\n"
   ]
  },
  {
   "cell_type": "code",
   "execution_count": 65,
   "id": "300a2f15-2092-4925-9fc2-7c59261c5e7e",
   "metadata": {},
   "outputs": [],
   "source": [
    "scaler = MinMaxScaler()\n",
    "imputer = SimpleImputer(strategy='median')\n",
    "imputer.fit(X_train[features])\n",
    "\n",
    "X_train[features] = imputer.transform(X_train[features])\n",
    "X_test[features] = imputer.transform(X_test[features])\n",
    "\n",
    "# Fit and transform the numerical columns\n",
    "X_train[features] = scaler.fit_transform(X_train[features])\n",
    "X_test[features] = scaler.transform(X_test[features])"
   ]
  },
  {
   "cell_type": "code",
   "execution_count": 66,
   "id": "99553fc5-c8d3-4bbe-b01c-2d9f43014dfd",
   "metadata": {},
   "outputs": [
    {
     "name": "stdout",
     "output_type": "stream",
     "text": [
      "<class 'pandas.core.frame.DataFrame'>\n",
      "Index: 14000 entries, 17218 to 15795\n",
      "Data columns (total 4 columns):\n",
      " #   Column        Non-Null Count  Dtype  \n",
      "---  ------        --------------  -----  \n",
      " 0   cylinder_cnt  14000 non-null  float64\n",
      " 1   depreciation  14000 non-null  float64\n",
      " 2   mileage       14000 non-null  float64\n",
      " 3   dereg_value   14000 non-null  float64\n",
      "dtypes: float64(4)\n",
      "memory usage: 546.9 KB\n"
     ]
    }
   ],
   "source": [
    "X_train[features].info()"
   ]
  },
  {
   "cell_type": "code",
   "execution_count": null,
   "id": "3cb2fbf4-f800-48f6-8d73-abb44986d99d",
   "metadata": {},
   "outputs": [],
   "source": []
  },
  {
   "cell_type": "markdown",
   "id": "6650db78-6564-492a-884b-c92dd8cba461",
   "metadata": {},
   "source": [
    "## Training models"
   ]
  },
  {
   "cell_type": "code",
   "execution_count": 67,
   "id": "a91ea483",
   "metadata": {},
   "outputs": [
    {
     "data": {
      "text/plain": [
       "0        30-jun-2040\n",
       "1                NaN\n",
       "2                NaN\n",
       "3                NaN\n",
       "4                NaN\n",
       "            ...     \n",
       "19995            NaN\n",
       "19996            NaN\n",
       "19997            NaN\n",
       "19998            NaN\n",
       "19999            NaN\n",
       "Name: lifespan, Length: 20000, dtype: object"
      ]
     },
     "execution_count": 67,
     "metadata": {},
     "output_type": "execute_result"
    }
   ],
   "source": [
    "train_df.lifespan"
   ]
  },
  {
   "cell_type": "code",
   "execution_count": 68,
   "id": "51f3b689-2d2b-43b4-98e4-f6c2ea8670f6",
   "metadata": {},
   "outputs": [
    {
     "data": {
      "text/plain": [
       "curb_weight                         0\n",
       "power                               0\n",
       "cylinder_cnt                        0\n",
       "omv                                 0\n",
       "engine_cap                          0\n",
       "depreciation                       96\n",
       "mileage                             0\n",
       "no_of_owners                        0\n",
       "type_of_vehicle_bus/mini bus        0\n",
       "type_of_vehicle_hatchback           0\n",
       "type_of_vehicle_luxury sedan        0\n",
       "type_of_vehicle_mid-sized sedan     0\n",
       "type_of_vehicle_mpv                 0\n",
       "type_of_vehicle_others              0\n",
       "type_of_vehicle_sports car          0\n",
       "type_of_vehicle_stationwagon        0\n",
       "type_of_vehicle_suv                 0\n",
       "type_of_vehicle_truck               0\n",
       "type_of_vehicle_van                 0\n",
       "dtype: int64"
      ]
     },
     "execution_count": 68,
     "metadata": {},
     "output_type": "execute_result"
    }
   ],
   "source": [
    "# display(HTML(train_df.head(50).to_html()))\n",
    "features = ['curb_weight', 'power', 'cylinder_cnt', 'omv',\n",
    "       'engine_cap', 'depreciation', 'mileage', 'no_of_owners','type_of_vehicle_bus/mini bus', 'type_of_vehicle_hatchback',\n",
    "       'type_of_vehicle_luxury sedan', 'type_of_vehicle_mid-sized sedan',\n",
    "       'type_of_vehicle_mpv', 'type_of_vehicle_others',\n",
    "       'type_of_vehicle_sports car', 'type_of_vehicle_stationwagon',\n",
    "       'type_of_vehicle_suv', 'type_of_vehicle_truck', 'type_of_vehicle_van']\n",
    "\n",
    "train_df[features].isna().sum()"
   ]
  },
  {
   "cell_type": "code",
   "execution_count": 69,
   "id": "a773043d",
   "metadata": {},
   "outputs": [],
   "source": [
    "# Scale dataset\n",
    "scaler = MinMaxScaler()\n",
    "imputer = SimpleImputer(strategy='median')\n",
    "\n",
    "imputer.fit(train_df[features])\n",
    "\n",
    "# Split data into training and test sets\n",
    "train_df[features] = imputer.transform(train_df[features])\n",
    "val_df[features] = imputer.transform(val_df[features])\n",
    "test_df[features] = imputer.transform(test_df[features])\n",
    "\n",
    "# Fit and transform the numerical columns\n",
    "train_df[features] = scaler.fit_transform(train_df[features])\n",
    "val_df[features] = scaler.transform(val_df[features])\n",
    "test_df[features] = scaler.transform(test_df[features])"
   ]
  },
  {
   "cell_type": "code",
   "execution_count": 70,
   "id": "4e41c3d5",
   "metadata": {},
   "outputs": [],
   "source": [
    "X_train = train_df[features]\n",
    "y_train = train_df['price']\n",
    "\n",
    "X_val = val_df[features]\n",
    "y_val = val_df['price']"
   ]
  },
  {
   "cell_type": "code",
   "execution_count": 71,
   "id": "934fce46-011d-468f-a05c-f0357ab19fb1",
   "metadata": {},
   "outputs": [
    {
     "name": "stdout",
     "output_type": "stream",
     "text": [
      "Model Tuning Starttime :: 2024-10-31 10:14:49.678436\n",
      "Model Tuning Completed :: 2024-10-31 10:15:47.009699\n",
      "Best Parameters: {'max_depth': 20, 'min_samples_split': 2, 'n_estimators': 50}\n"
     ]
    }
   ],
   "source": [
    "# 2. Initialize the Regression class\n",
    "regressor = Regression()\n",
    "\n",
    "# 3. Define parameters for hyperparameter tuning\n",
    "params = {\n",
    "    'n_estimators': [10, 50, 100],\n",
    "    'max_depth': [ 1, 10, 20],\n",
    "    'min_samples_split': [2, 5, 10]\n",
    "}\n",
    "\n",
    "\n",
    "# Example for Random Forest with accuracy scoring and KFold validation\n",
    "tuner, best_params, tuner_results = regressor.hyperparameter_tuning(\n",
    "    df_tuple=(X_train, y_train),   # The training data (X, y)\n",
    "    score_metric='neg_root_mean_squared_error',       # Scoring metric\n",
    "    kfold_type='kfold',            # Type of fold (KFold used here)\n",
    "    n_splits=5,                    # Number of splits for KFold\n",
    "    params=params,                 # Hyperparameter grid to search\n",
    "    model_name='random_forest'      # Model to use (Random Forest in this case)\n",
    ")\n",
    "\n",
    "# 4. View the best hyperparameters and fit the model\n",
    "print(f\"Best Parameters: {best_params}\")\n",
    "\n",
    "# 5. Use the best model to predict on the test set\n",
    "best_model = tuner.best_estimator_\n"
   ]
  },
  {
   "cell_type": "code",
   "execution_count": 72,
   "id": "3dce5935-39d5-401c-8c6c-e555f4dab5b1",
   "metadata": {},
   "outputs": [
    {
     "data": {
      "text/plain": [
       "['./model_assets/random_forest_v3.joblib']"
      ]
     },
     "execution_count": 72,
     "metadata": {},
     "output_type": "execute_result"
    }
   ],
   "source": [
    "import joblib\n",
    "\n",
    "# Save model \n",
    "model_name = \"random_forest_v3\"\n",
    "save_path = f\"./model_assets\"\n",
    "# Save the trained model\n",
    "joblib.dump(best_model, f\"{save_path}/{model_name}.joblib\")"
   ]
  },
  {
   "cell_type": "code",
   "execution_count": 73,
   "id": "5b9cb6e5",
   "metadata": {},
   "outputs": [],
   "source": [
    "import joblib\n",
    "import plotly.express as px\n",
    "import plotly.graph_objects as go\n",
    "\n",
    "def _infer_type(data) -> np.ndarray:\n",
    "\n",
    "    ## type checker\n",
    "\n",
    "    try:\n",
    "        assert type(data) == np.ndarray, \"incorrect type\"\n",
    "\n",
    "    except AssertionError:\n",
    "        data = data.to_numpy()\n",
    "        print(\"INFO [_infer_type] :: Type changed\")\n",
    "        return data\n",
    "\n",
    "    else:\n",
    "        return data\n",
    "\n",
    "def mini_reg_evaluate(\n",
    "    df_train_tuple: tuple, df_valid_tuple: tuple, model_name: str, save_path:str\n",
    "):\n",
    "\n",
    "    model = joblib.load(f\"{save_path}/{model_name}.joblib\")\n",
    "    X_train, y_train = df_train_tuple[0], df_train_tuple[1]\n",
    "    X_valid, y_valid = df_valid_tuple[0], df_valid_tuple[1]\n",
    "\n",
    "    ## type checker\n",
    "\n",
    "    X_train = _infer_type(X_train)\n",
    "    y_train = _infer_type(y_train)\n",
    "    X_valid = _infer_type(X_valid)\n",
    "    y_valid = _infer_type(y_valid)\n",
    "\n",
    "    # Train and validation scores\n",
    "    y_train_pred = model.predict(X_train)\n",
    "    y_valid_pred = model.predict(X_valid)\n",
    "    \n",
    "    # Visualize scatter plot for validation data\n",
    "    plt.scatter(y_valid, y_valid_pred, color='blue', alpha=0.5)\n",
    "    plt.plot([y_valid.min(), y_valid.max()], [y_valid.min(), y_valid.max()], color='red', linestyle='--')\n",
    "    plt.title(\"y_valid predicted vs actual\")\n",
    "    plt.xlabel(\"Actual Values\")\n",
    "    plt.ylabel(\"Predicted Values\")\n",
    "    plt.xticks(rotation=45)\n",
    "    plt.yticks(rotation=45)\n",
    "    plt.show()\n",
    "    \n",
    "    # Visualize scatter plot for training data\n",
    "    plt.scatter(y_train, y_train_pred, color='blue', alpha=0.5)\n",
    "    plt.plot([y_train.min(), y_train.max()], [y_train.min(), y_train.max()], color='red', linestyle='--')\n",
    "    plt.title(\"y_train predicted vs actual\")\n",
    "    plt.xlabel(\"Actual Values\")\n",
    "    plt.ylabel(\"Predicted Values\")\n",
    "    plt.xticks(rotation=45)\n",
    "    plt.yticks(rotation=45)\n",
    "    plt.show()\n",
    "    \n",
    "    # Visualize residual plot\n",
    "    plt.scatter(y_valid_pred, y_valid_pred - y_valid, color='blue', alpha=0.5)\n",
    "    plt.plot([y_valid_pred.min(), y_valid_pred.max()], [0, 0], color='red', linestyle='--')\n",
    "    plt.title(\"Residual Plot (Validation Data)\")\n",
    "    plt.xlabel(\"Predicted Values\")\n",
    "    plt.ylabel(\"Residual Values\")\n",
    "    plt.xticks(rotation=45)\n",
    "    plt.yticks(rotation=45)\n",
    "    plt.show()\n",
    "    \n",
    "    plt.scatter(y_train_pred, y_train_pred - y_train, color='blue', alpha=0.5)\n",
    "    plt.plot([y_train_pred.min(), y_train_pred.max()], [0, 0], color='red', linestyle='--')\n",
    "    plt.title(\"Residual Plot (Training Data)\")\n",
    "    plt.xlabel(\"Predicted Values\")\n",
    "    plt.ylabel(\"Residual Values\")\n",
    "    plt.xticks(rotation=45)\n",
    "    plt.yticks(rotation=45)\n",
    "    plt.show()\n",
    "  "
   ]
  },
  {
   "cell_type": "code",
   "execution_count": 74,
   "id": "e91b19f1",
   "metadata": {},
   "outputs": [
    {
     "name": "stdout",
     "output_type": "stream",
     "text": [
      "INFO [_infer_type] :: Type changed\n",
      "INFO [_infer_type] :: Type changed\n",
      "INFO [_infer_type] :: Type changed\n",
      "INFO [_infer_type] :: Type changed\n"
     ]
    },
    {
     "name": "stderr",
     "output_type": "stream",
     "text": [
      "C:\\Users\\kan_h\\.conda\\envs\\cs5228\\lib\\site-packages\\sklearn\\base.py:493: UserWarning:\n",
      "\n",
      "X does not have valid feature names, but RandomForestRegressor was fitted with feature names\n",
      "\n",
      "C:\\Users\\kan_h\\.conda\\envs\\cs5228\\lib\\site-packages\\sklearn\\base.py:493: UserWarning:\n",
      "\n",
      "X does not have valid feature names, but RandomForestRegressor was fitted with feature names\n",
      "\n"
     ]
    },
    {
     "data": {
      "image/png": "[encoded data removed]",
      "text/plain": [
       "<Figure size 1200x300 with 1 Axes>"
      ]
     },
     "metadata": {},
     "output_type": "display_data"
    },
    {
     "data": {
      "image/png": "[encoded data removed]",
      "text/plain": [
       "<Figure size 1200x300 with 1 Axes>"
      ]
     },
     "metadata": {},
     "output_type": "display_data"
    },
    {
     "data": {
      "image/png": "[encoded data removed]",
      "text/plain": [
       "<Figure size 1200x300 with 1 Axes>"
      ]
     },
     "metadata": {},
     "output_type": "display_data"
    },
    {
     "data": {
      "image/png": "[encoded data removed]",
      "text/plain": [
       "<Figure size 1200x300 with 1 Axes>"
      ]
     },
     "metadata": {},
     "output_type": "display_data"
    }
   ],
   "source": [
    "model_name = \"random_forest_v3\"\n",
    "save_path = f\"./model_assets\"\n",
    "\n",
    "mini_reg_evaluate(df_train_tuple=(X_train, y_train),\n",
    "df_valid_tuple=( X_val,y_val),model_name=model_name, save_path=save_path)"
   ]
  },
  {
   "cell_type": "code",
   "execution_count": 75,
   "id": "4ca7c209",
   "metadata": {},
   "outputs": [],
   "source": [
    "## Retrain the model\n",
    "# Train + Valid (Retrain on the whole model)"
   ]
  },
  {
   "cell_type": "code",
   "execution_count": 76,
   "id": "fa307c19-923d-4e97-9d12-4d5079fa8ff3",
   "metadata": {},
   "outputs": [
    {
     "name": "stdout",
     "output_type": "stream",
     "text": [
      "INFO [_infer_type] :: Type changed\n"
     ]
    },
    {
     "name": "stderr",
     "output_type": "stream",
     "text": [
      "C:\\Users\\kan_h\\.conda\\envs\\cs5228\\lib\\site-packages\\sklearn\\base.py:493: UserWarning:\n",
      "\n",
      "X does not have valid feature names, but RandomForestRegressor was fitted with feature names\n",
      "\n"
     ]
    }
   ],
   "source": [
    "model = joblib.load(f\"{save_path}/{model_name}.joblib\")\n",
    "X_test = _infer_type(test_df[features])\n",
    "y_test_pred = model.predict(X_test)\n",
    "submission = pd.DataFrame(y_test_pred).reset_index().rename(columns={\"index\":\"Id\", 0:\"Predicted\"})\n",
    "submission.to_csv(\"submission/submission_rf_2.csv\")"
   ]
  },
  {
   "cell_type": "markdown",
   "id": "233ea3aa-f031-4a2f-be0b-610dc24b8fdc",
   "metadata": {},
   "source": [
    "### SHAP analysis"
   ]
  },
  {
   "cell_type": "code",
   "execution_count": 77,
   "id": "bb9ed458",
   "metadata": {},
   "outputs": [
    {
     "name": "stderr",
     "output_type": "stream",
     "text": [
      "C:\\Users\\kan_h\\.conda\\envs\\cs5228\\lib\\site-packages\\tqdm\\auto.py:21: TqdmWarning:\n",
      "\n",
      "IProgress not found. Please update jupyter and ipywidgets. See https://ipywidgets.readthedocs.io/en/stable/user_install.html\n",
      "\n"
     ]
    }
   ],
   "source": [
    "import shap\n"
   ]
  },
  {
   "cell_type": "code",
   "execution_count": 78,
   "id": "5adb9559-2935-486f-b0ce-f40ef4cd2d8a",
   "metadata": {},
   "outputs": [],
   "source": [
    "explainer = shap.Explainer(best_model)\n"
   ]
  },
  {
   "cell_type": "code",
   "execution_count": 82,
   "id": "24819f18-747f-43bf-ac71-a3531a13992e",
   "metadata": {},
   "outputs": [
    {
     "data": {
      "text/html": [
       "<div>\n",
       "<style scoped>\n",
       "    .dataframe tbody tr th:only-of-type {\n",
       "        vertical-align: middle;\n",
       "    }\n",
       "\n",
       "    .dataframe tbody tr th {\n",
       "        vertical-align: top;\n",
       "    }\n",
       "\n",
       "    .dataframe thead th {\n",
       "        text-align: right;\n",
       "    }\n",
       "</style>\n",
       "<table border=\"1\" class=\"dataframe\">\n",
       "  <thead>\n",
       "    <tr style=\"text-align: right;\">\n",
       "      <th></th>\n",
       "      <th>listing_id</th>\n",
       "      <th>title</th>\n",
       "      <th>make</th>\n",
       "      <th>model</th>\n",
       "      <th>description</th>\n",
       "      <th>manufactured</th>\n",
       "      <th>original_reg_date</th>\n",
       "      <th>reg_date</th>\n",
       "      <th>type_of_vehicle</th>\n",
       "      <th>category</th>\n",
       "      <th>...</th>\n",
       "      <th>type_of_vehicle_mid-sized sedan</th>\n",
       "      <th>type_of_vehicle_mpv</th>\n",
       "      <th>type_of_vehicle_others</th>\n",
       "      <th>type_of_vehicle_sports car</th>\n",
       "      <th>type_of_vehicle_stationwagon</th>\n",
       "      <th>type_of_vehicle_suv</th>\n",
       "      <th>type_of_vehicle_truck</th>\n",
       "      <th>type_of_vehicle_van</th>\n",
       "      <th>car_age</th>\n",
       "      <th>cylinder_cnt</th>\n",
       "    </tr>\n",
       "  </thead>\n",
       "  <tbody>\n",
       "    <tr>\n",
       "      <th>0</th>\n",
       "      <td>1303772</td>\n",
       "      <td>Honda Vezel 1.5A X</td>\n",
       "      <td>honda</td>\n",
       "      <td>vezel</td>\n",
       "      <td>4614</td>\n",
       "      <td>2015.0</td>\n",
       "      <td>NaN</td>\n",
       "      <td>29-apr-2015</td>\n",
       "      <td>suv</td>\n",
       "      <td>parf car</td>\n",
       "      <td>...</td>\n",
       "      <td>0.0</td>\n",
       "      <td>0.0</td>\n",
       "      <td>0.0</td>\n",
       "      <td>0.0</td>\n",
       "      <td>0.0</td>\n",
       "      <td>1.0</td>\n",
       "      <td>0.0</td>\n",
       "      <td>0.0</td>\n",
       "      <td>9.0</td>\n",
       "      <td>0.272727</td>\n",
       "    </tr>\n",
       "    <tr>\n",
       "      <th>1</th>\n",
       "      <td>1323166</td>\n",
       "      <td>Mazda 3 1.6A SP (COE till 10/2027)</td>\n",
       "      <td>mazda</td>\n",
       "      <td>3</td>\n",
       "      <td>extremely well maintained and in pristine cond...</td>\n",
       "      <td>2007.0</td>\n",
       "      <td>NaN</td>\n",
       "      <td>26-oct-2007</td>\n",
       "      <td>mid-sized sedan</td>\n",
       "      <td>coe car, premium ad car, low mileage car</td>\n",
       "      <td>...</td>\n",
       "      <td>1.0</td>\n",
       "      <td>0.0</td>\n",
       "      <td>0.0</td>\n",
       "      <td>0.0</td>\n",
       "      <td>0.0</td>\n",
       "      <td>0.0</td>\n",
       "      <td>0.0</td>\n",
       "      <td>0.0</td>\n",
       "      <td>17.0</td>\n",
       "      <td>0.272727</td>\n",
       "    </tr>\n",
       "    <tr>\n",
       "      <th>2</th>\n",
       "      <td>1308405</td>\n",
       "      <td>MINI Cooper S Countryman 2.0A</td>\n",
       "      <td>mini</td>\n",
       "      <td>cooper</td>\n",
       "      <td>1 owner! beautiful island blue color! eurokars...</td>\n",
       "      <td>2019.0</td>\n",
       "      <td>NaN</td>\n",
       "      <td>27-mar-2020</td>\n",
       "      <td>sports car</td>\n",
       "      <td>parf car</td>\n",
       "      <td>...</td>\n",
       "      <td>0.0</td>\n",
       "      <td>0.0</td>\n",
       "      <td>0.0</td>\n",
       "      <td>1.0</td>\n",
       "      <td>0.0</td>\n",
       "      <td>0.0</td>\n",
       "      <td>0.0</td>\n",
       "      <td>0.0</td>\n",
       "      <td>5.0</td>\n",
       "      <td>0.272727</td>\n",
       "    </tr>\n",
       "    <tr>\n",
       "      <th>3</th>\n",
       "      <td>1216706</td>\n",
       "      <td>Toyota Vios 1.5A G</td>\n",
       "      <td>toyota</td>\n",
       "      <td>vios</td>\n",
       "      <td>fully agent maintain! genuine low mileage at 5...</td>\n",
       "      <td>2019.0</td>\n",
       "      <td>NaN</td>\n",
       "      <td>28-jun-2019</td>\n",
       "      <td>mid-sized sedan</td>\n",
       "      <td>parf car, premium ad car</td>\n",
       "      <td>...</td>\n",
       "      <td>1.0</td>\n",
       "      <td>0.0</td>\n",
       "      <td>0.0</td>\n",
       "      <td>0.0</td>\n",
       "      <td>0.0</td>\n",
       "      <td>0.0</td>\n",
       "      <td>0.0</td>\n",
       "      <td>0.0</td>\n",
       "      <td>5.0</td>\n",
       "      <td>0.272727</td>\n",
       "    </tr>\n",
       "    <tr>\n",
       "      <th>4</th>\n",
       "      <td>1298206</td>\n",
       "      <td>Mazda 3 HB 1.5A</td>\n",
       "      <td>mazda</td>\n",
       "      <td>3</td>\n",
       "      <td>workshop check/sta evaluation available. accid...</td>\n",
       "      <td>2015.0</td>\n",
       "      <td>NaN</td>\n",
       "      <td>19-nov-2015</td>\n",
       "      <td>hatchback</td>\n",
       "      <td>parf car, premium ad car</td>\n",
       "      <td>...</td>\n",
       "      <td>0.0</td>\n",
       "      <td>0.0</td>\n",
       "      <td>0.0</td>\n",
       "      <td>0.0</td>\n",
       "      <td>0.0</td>\n",
       "      <td>0.0</td>\n",
       "      <td>0.0</td>\n",
       "      <td>0.0</td>\n",
       "      <td>9.0</td>\n",
       "      <td>0.272727</td>\n",
       "    </tr>\n",
       "    <tr>\n",
       "      <th>...</th>\n",
       "      <td>...</td>\n",
       "      <td>...</td>\n",
       "      <td>...</td>\n",
       "      <td>...</td>\n",
       "      <td>...</td>\n",
       "      <td>...</td>\n",
       "      <td>...</td>\n",
       "      <td>...</td>\n",
       "      <td>...</td>\n",
       "      <td>...</td>\n",
       "      <td>...</td>\n",
       "      <td>...</td>\n",
       "      <td>...</td>\n",
       "      <td>...</td>\n",
       "      <td>...</td>\n",
       "      <td>...</td>\n",
       "      <td>...</td>\n",
       "      <td>...</td>\n",
       "      <td>...</td>\n",
       "      <td>...</td>\n",
       "      <td>...</td>\n",
       "    </tr>\n",
       "    <tr>\n",
       "      <th>9995</th>\n",
       "      <td>1315765</td>\n",
       "      <td>MG HS 1.5A Turbo</td>\n",
       "      <td>mg</td>\n",
       "      <td>hs</td>\n",
       "      <td>stylish and fuel-efficient  drive at an afford...</td>\n",
       "      <td>2020.0</td>\n",
       "      <td>NaN</td>\n",
       "      <td>30-nov-2020</td>\n",
       "      <td>suv</td>\n",
       "      <td>parf car</td>\n",
       "      <td>...</td>\n",
       "      <td>0.0</td>\n",
       "      <td>0.0</td>\n",
       "      <td>0.0</td>\n",
       "      <td>0.0</td>\n",
       "      <td>0.0</td>\n",
       "      <td>1.0</td>\n",
       "      <td>0.0</td>\n",
       "      <td>0.0</td>\n",
       "      <td>4.0</td>\n",
       "      <td>0.272727</td>\n",
       "    </tr>\n",
       "    <tr>\n",
       "      <th>9996</th>\n",
       "      <td>1267725</td>\n",
       "      <td>Mercedes-Benz GLA-Class GLA180 Progressive</td>\n",
       "      <td>mercedes-benz</td>\n",
       "      <td>gla180</td>\n",
       "      <td>1 owner and low mileage. comes with agent warr...</td>\n",
       "      <td>2022.0</td>\n",
       "      <td>NaN</td>\n",
       "      <td>21-feb-2023</td>\n",
       "      <td>suv</td>\n",
       "      <td>parf car, premium ad car, low mileage car</td>\n",
       "      <td>...</td>\n",
       "      <td>0.0</td>\n",
       "      <td>0.0</td>\n",
       "      <td>0.0</td>\n",
       "      <td>0.0</td>\n",
       "      <td>0.0</td>\n",
       "      <td>1.0</td>\n",
       "      <td>0.0</td>\n",
       "      <td>0.0</td>\n",
       "      <td>2.0</td>\n",
       "      <td>0.272727</td>\n",
       "    </tr>\n",
       "    <tr>\n",
       "      <th>9997</th>\n",
       "      <td>1174990</td>\n",
       "      <td>BMW 3 Series 320i Convertible (COE till 09/2030)</td>\n",
       "      <td>bmw</td>\n",
       "      <td>320</td>\n",
       "      <td>just install koni shocks, for the best road ha...</td>\n",
       "      <td>2010.0</td>\n",
       "      <td>NaN</td>\n",
       "      <td>17-dec-2010</td>\n",
       "      <td>sports car</td>\n",
       "      <td>coe car</td>\n",
       "      <td>...</td>\n",
       "      <td>0.0</td>\n",
       "      <td>0.0</td>\n",
       "      <td>0.0</td>\n",
       "      <td>1.0</td>\n",
       "      <td>0.0</td>\n",
       "      <td>0.0</td>\n",
       "      <td>0.0</td>\n",
       "      <td>0.0</td>\n",
       "      <td>14.0</td>\n",
       "      <td>0.272727</td>\n",
       "    </tr>\n",
       "    <tr>\n",
       "      <th>9998</th>\n",
       "      <td>1221623</td>\n",
       "      <td>Kia Cerato 1.6A EX</td>\n",
       "      <td>kia</td>\n",
       "      <td>cerato</td>\n",
       "      <td>at dickson, we don't just sell cars, we sell t...</td>\n",
       "      <td>2019.0</td>\n",
       "      <td>NaN</td>\n",
       "      <td>02-mar-2020</td>\n",
       "      <td>mid-sized sedan</td>\n",
       "      <td>parf car</td>\n",
       "      <td>...</td>\n",
       "      <td>1.0</td>\n",
       "      <td>0.0</td>\n",
       "      <td>0.0</td>\n",
       "      <td>0.0</td>\n",
       "      <td>0.0</td>\n",
       "      <td>0.0</td>\n",
       "      <td>0.0</td>\n",
       "      <td>0.0</td>\n",
       "      <td>5.0</td>\n",
       "      <td>0.272727</td>\n",
       "    </tr>\n",
       "    <tr>\n",
       "      <th>9999</th>\n",
       "      <td>1311711</td>\n",
       "      <td>Subaru Forester 2.5XT (COE till 08/2028)</td>\n",
       "      <td>subaru</td>\n",
       "      <td>forester</td>\n",
       "      <td>18\" wedssport rims, sti brembo, carbon fibre s...</td>\n",
       "      <td>2008.0</td>\n",
       "      <td>NaN</td>\n",
       "      <td>25-aug-2008</td>\n",
       "      <td>suv</td>\n",
       "      <td>coe car, premium ad car, low mileage car</td>\n",
       "      <td>...</td>\n",
       "      <td>0.0</td>\n",
       "      <td>0.0</td>\n",
       "      <td>0.0</td>\n",
       "      <td>0.0</td>\n",
       "      <td>0.0</td>\n",
       "      <td>1.0</td>\n",
       "      <td>0.0</td>\n",
       "      <td>0.0</td>\n",
       "      <td>16.0</td>\n",
       "      <td>0.272727</td>\n",
       "    </tr>\n",
       "  </tbody>\n",
       "</table>\n",
       "<p>10000 rows × 46 columns</p>\n",
       "</div>"
      ],
      "text/plain": [
       "      listing_id                                             title  \\\n",
       "0        1303772                                Honda Vezel 1.5A X   \n",
       "1        1323166                Mazda 3 1.6A SP (COE till 10/2027)   \n",
       "2        1308405                     MINI Cooper S Countryman 2.0A   \n",
       "3        1216706                                Toyota Vios 1.5A G   \n",
       "4        1298206                                   Mazda 3 HB 1.5A   \n",
       "...          ...                                               ...   \n",
       "9995     1315765                                  MG HS 1.5A Turbo   \n",
       "9996     1267725        Mercedes-Benz GLA-Class GLA180 Progressive   \n",
       "9997     1174990  BMW 3 Series 320i Convertible (COE till 09/2030)   \n",
       "9998     1221623                                Kia Cerato 1.6A EX   \n",
       "9999     1311711          Subaru Forester 2.5XT (COE till 08/2028)   \n",
       "\n",
       "               make     model  \\\n",
       "0             honda     vezel   \n",
       "1             mazda         3   \n",
       "2              mini    cooper   \n",
       "3            toyota      vios   \n",
       "4             mazda         3   \n",
       "...             ...       ...   \n",
       "9995             mg        hs   \n",
       "9996  mercedes-benz    gla180   \n",
       "9997            bmw       320   \n",
       "9998            kia    cerato   \n",
       "9999         subaru  forester   \n",
       "\n",
       "                                            description  manufactured  \\\n",
       "0                                                  4614        2015.0   \n",
       "1     extremely well maintained and in pristine cond...        2007.0   \n",
       "2     1 owner! beautiful island blue color! eurokars...        2019.0   \n",
       "3     fully agent maintain! genuine low mileage at 5...        2019.0   \n",
       "4     workshop check/sta evaluation available. accid...        2015.0   \n",
       "...                                                 ...           ...   \n",
       "9995  stylish and fuel-efficient  drive at an afford...        2020.0   \n",
       "9996  1 owner and low mileage. comes with agent warr...        2022.0   \n",
       "9997  just install koni shocks, for the best road ha...        2010.0   \n",
       "9998  at dickson, we don't just sell cars, we sell t...        2019.0   \n",
       "9999  18\" wedssport rims, sti brembo, carbon fibre s...        2008.0   \n",
       "\n",
       "     original_reg_date     reg_date  type_of_vehicle  \\\n",
       "0                  NaN  29-apr-2015              suv   \n",
       "1                  NaN  26-oct-2007  mid-sized sedan   \n",
       "2                  NaN  27-mar-2020       sports car   \n",
       "3                  NaN  28-jun-2019  mid-sized sedan   \n",
       "4                  NaN  19-nov-2015        hatchback   \n",
       "...                ...          ...              ...   \n",
       "9995               NaN  30-nov-2020              suv   \n",
       "9996               NaN  21-feb-2023              suv   \n",
       "9997               NaN  17-dec-2010       sports car   \n",
       "9998               NaN  02-mar-2020  mid-sized sedan   \n",
       "9999               NaN  25-aug-2008              suv   \n",
       "\n",
       "                                       category  ...  \\\n",
       "0                                      parf car  ...   \n",
       "1      coe car, premium ad car, low mileage car  ...   \n",
       "2                                      parf car  ...   \n",
       "3                      parf car, premium ad car  ...   \n",
       "4                      parf car, premium ad car  ...   \n",
       "...                                         ...  ...   \n",
       "9995                                   parf car  ...   \n",
       "9996  parf car, premium ad car, low mileage car  ...   \n",
       "9997                                    coe car  ...   \n",
       "9998                                   parf car  ...   \n",
       "9999   coe car, premium ad car, low mileage car  ...   \n",
       "\n",
       "     type_of_vehicle_mid-sized sedan  type_of_vehicle_mpv  \\\n",
       "0                                0.0                  0.0   \n",
       "1                                1.0                  0.0   \n",
       "2                                0.0                  0.0   \n",
       "3                                1.0                  0.0   \n",
       "4                                0.0                  0.0   \n",
       "...                              ...                  ...   \n",
       "9995                             0.0                  0.0   \n",
       "9996                             0.0                  0.0   \n",
       "9997                             0.0                  0.0   \n",
       "9998                             1.0                  0.0   \n",
       "9999                             0.0                  0.0   \n",
       "\n",
       "      type_of_vehicle_others type_of_vehicle_sports car  \\\n",
       "0                        0.0                        0.0   \n",
       "1                        0.0                        0.0   \n",
       "2                        0.0                        1.0   \n",
       "3                        0.0                        0.0   \n",
       "4                        0.0                        0.0   \n",
       "...                      ...                        ...   \n",
       "9995                     0.0                        0.0   \n",
       "9996                     0.0                        0.0   \n",
       "9997                     0.0                        1.0   \n",
       "9998                     0.0                        0.0   \n",
       "9999                     0.0                        0.0   \n",
       "\n",
       "      type_of_vehicle_stationwagon  type_of_vehicle_suv  \\\n",
       "0                              0.0                  1.0   \n",
       "1                              0.0                  0.0   \n",
       "2                              0.0                  0.0   \n",
       "3                              0.0                  0.0   \n",
       "4                              0.0                  0.0   \n",
       "...                            ...                  ...   \n",
       "9995                           0.0                  1.0   \n",
       "9996                           0.0                  1.0   \n",
       "9997                           0.0                  0.0   \n",
       "9998                           0.0                  0.0   \n",
       "9999                           0.0                  1.0   \n",
       "\n",
       "      type_of_vehicle_truck  type_of_vehicle_van  car_age  cylinder_cnt  \n",
       "0                       0.0                  0.0      9.0      0.272727  \n",
       "1                       0.0                  0.0     17.0      0.272727  \n",
       "2                       0.0                  0.0      5.0      0.272727  \n",
       "3                       0.0                  0.0      5.0      0.272727  \n",
       "4                       0.0                  0.0      9.0      0.272727  \n",
       "...                     ...                  ...      ...           ...  \n",
       "9995                    0.0                  0.0      4.0      0.272727  \n",
       "9996                    0.0                  0.0      2.0      0.272727  \n",
       "9997                    0.0                  0.0     14.0      0.272727  \n",
       "9998                    0.0                  0.0      5.0      0.272727  \n",
       "9999                    0.0                  0.0     16.0      0.272727  \n",
       "\n",
       "[10000 rows x 46 columns]"
      ]
     },
     "execution_count": 82,
     "metadata": {},
     "output_type": "execute_result"
    }
   ],
   "source": [
    "test_df"
   ]
  },
  {
   "cell_type": "code",
   "execution_count": 79,
   "id": "ab0b64e2-bf7e-4bd9-9a9b-01a6820a4c05",
   "metadata": {},
   "outputs": [],
   "source": [
    "shap_values = explainer.shap_values(X_test)\n",
    "\n"
   ]
  },
  {
   "cell_type": "code",
   "execution_count": 80,
   "id": "1d475169-c15a-4d04-84b5-fc45281a8ee3",
   "metadata": {},
   "outputs": [
    {
     "data": {
      "image/png": "[encoded data removed]",
      "text/plain": [
       "<Figure size 800x910 with 2 Axes>"
      ]
     },
     "metadata": {},
     "output_type": "display_data"
    }
   ],
   "source": [
    "shap.summary_plot(shap_values, X_test)\n",
    "\n"
   ]
  },
  {
   "cell_type": "code",
   "execution_count": null,
   "id": "66051fbd-0dad-4f73-8478-dd26f8ce5e1c",
   "metadata": {},
   "outputs": [],
   "source": []
  },
  {
   "cell_type": "code",
   "execution_count": 83,
   "id": "bcd04227-7ee8-4e13-98a9-d74d159f00ab",
   "metadata": {},
   "outputs": [],
   "source": [
    "shap_values = explainer.shap_values(test_df[features])\n"
   ]
  },
  {
   "cell_type": "code",
   "execution_count": 85,
   "id": "f069f689-52ea-4d5b-9146-81085dd1bbf2",
   "metadata": {},
   "outputs": [
    {
     "data": {
      "image/png": "[encoded data removed]",
      "text/plain": [
       "<Figure size 800x910 with 2 Axes>"
      ]
     },
     "metadata": {},
     "output_type": "display_data"
    }
   ],
   "source": [
    "shap.summary_plot(shap_values, test_df[features])\n"
   ]
  },
  {
   "cell_type": "code",
   "execution_count": null,
   "id": "5a6d9bc5-f2e0-49b3-9dac-ccf7a7314499",
   "metadata": {},
   "outputs": [],
   "source": []
  }
 ],
 "metadata": {
  "kernelspec": {
   "display_name": "cs5228",
   "language": "python",
   "name": "cs5228"
  },
  "language_info": {
   "codemirror_mode": {
    "name": "ipython",
    "version": 3
   },
   "file_extension": ".py",
   "mimetype": "text/x-python",
   "name": "python",
   "nbconvert_exporter": "python",
   "pygments_lexer": "ipython3",
   "version": "3.10.14"
  }
 },
 "nbformat": 4,
 "nbformat_minor": 5
}
