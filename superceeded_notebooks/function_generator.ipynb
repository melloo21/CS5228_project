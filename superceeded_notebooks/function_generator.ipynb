{
 "cells": [
  {
   "cell_type": "code",
   "execution_count": 3,
   "metadata": {},
   "outputs": [
    {
     "name": "stderr",
     "output_type": "stream",
     "text": [
      "/Library/Frameworks/Python.framework/Versions/3.9/lib/python3.9/site-packages/tqdm/auto.py:21: TqdmWarning: IProgress not found. Please update jupyter and ipywidgets. See https://ipywidgets.readthedocs.io/en/stable/user_install.html\n",
      "  from .autonotebook import tqdm as notebook_tqdm\n",
      "/var/folders/h7/fr7g30_x5x12d68ww_s6w2_m0000gn/T/ipykernel_96730/2604194920.py:12: DeprecationWarning: \n",
      "Pyarrow will become a required dependency of pandas in the next major release of pandas (pandas 3.0),\n",
      "(to allow more performant data types, such as the Arrow string type, and better interoperability with other libraries)\n",
      "but was not found to be installed on your system.\n",
      "If this would cause problems for you,\n",
      "please provide us feedback at https://github.com/pandas-dev/pandas/issues/54466\n",
      "        \n",
      "  import pandas as pd\n"
     ]
    }
   ],
   "source": [
    "import re\n",
    "import spacy\n",
    "import nltk\n",
    "from nltk.corpus import wordnet\n",
    "from nltk.util import ngrams\n",
    "from nltk.corpus import stopwords\n",
    "from nltk.tokenize import word_tokenize\n",
    "from nltk.stem import WordNetLemmatizer, porter\n",
    "from spacy.tokens.token import Token\n",
    "\n",
    "import numpy as np\n",
    "import pandas as pd\n",
    "import seaborn as sns\n",
    "from pathlib import Path\n",
    "import plotly_express as px\n",
    "import matplotlib.pyplot as plt"
   ]
  },
  {
   "cell_type": "code",
   "execution_count": 4,
   "metadata": {},
   "outputs": [],
   "source": [
    "# Local files\n",
    "from utils.melissa_utils import *\n",
    "from utils.utils import *"
   ]
  },
  {
   "cell_type": "code",
   "execution_count": 5,
   "metadata": {},
   "outputs": [],
   "source": [
    "pd.set_option('display.max_rows', 500)\n",
    "pd.set_option('display.max_columns', 500)\n",
    "\n",
    "# Some magic so that the notebook will reload the external python script file any time you edit and save the .py file;\n",
    "%load_ext autoreload\n",
    "%autoreload 2"
   ]
  },
  {
   "cell_type": "code",
   "execution_count": 24,
   "metadata": {},
   "outputs": [],
   "source": [
    "dataset_path = Path(\"/Users/melloo21/Desktop/NUS Items/CS5228/Project/CS5228_project/dataset\")\n",
    "train_dataset = f\"{dataset_path}/train.csv\"\n",
    "test_dataset = f\"{dataset_path}/test.csv\"\n",
    "\n",
    "# READ\n",
    "train_df = pd.read_csv(train_dataset)\n",
    "test_df = pd.read_csv(test_dataset)"
   ]
  },
  {
   "cell_type": "code",
   "execution_count": 25,
   "metadata": {},
   "outputs": [],
   "source": [
    "## Make Model Imputation\n",
    "make_ls = train_df['make'].dropna().unique()\n",
    "compiled_regex = compile_make_pattern(make_ls)\n",
    "\n",
    "train_df = apply_make_extraction(train_df, compiled_regex)\n",
    "train_df['make'] = train_df['make'].fillna(train_df['extracted_make'])"
   ]
  },
  {
   "cell_type": "code",
   "execution_count": 8,
   "metadata": {},
   "outputs": [
    {
     "name": "stdout",
     "output_type": "stream",
     "text": [
      "<class 'pandas.core.frame.DataFrame'>\n",
      "RangeIndex: 25000 entries, 0 to 24999\n",
      "Data columns (total 31 columns):\n",
      " #   Column             Non-Null Count  Dtype  \n",
      "---  ------             --------------  -----  \n",
      " 0   listing_id         25000 non-null  int64  \n",
      " 1   title              25000 non-null  object \n",
      " 2   make               25000 non-null  object \n",
      " 3   model              25000 non-null  object \n",
      " 4   description        24320 non-null  object \n",
      " 5   manufactured       24993 non-null  float64\n",
      " 6   original_reg_date  255 non-null    object \n",
      " 7   reg_date           25000 non-null  object \n",
      " 8   type_of_vehicle    25000 non-null  object \n",
      " 9   category           25000 non-null  object \n",
      " 10  transmission       25000 non-null  object \n",
      " 11  curb_weight        24693 non-null  float64\n",
      " 12  power              22360 non-null  float64\n",
      " 13  fuel_type          5879 non-null   object \n",
      " 14  engine_cap         24404 non-null  float64\n",
      " 15  no_of_owners       24982 non-null  float64\n",
      " 16  depreciation       24493 non-null  float64\n",
      " 17  coe                25000 non-null  int64  \n",
      " 18  road_tax           22368 non-null  float64\n",
      " 19  dereg_value        24780 non-null  float64\n",
      " 20  mileage            19696 non-null  float64\n",
      " 21  omv                24936 non-null  float64\n",
      " 22  arf                24826 non-null  float64\n",
      " 23  opc_scheme         162 non-null    object \n",
      " 24  lifespan           2329 non-null   object \n",
      " 25  eco_category       25000 non-null  object \n",
      " 26  features           24157 non-null  object \n",
      " 27  accessories        21187 non-null  object \n",
      " 28  indicative_price   0 non-null      float64\n",
      " 29  price              25000 non-null  float64\n",
      " 30  extracted_make     25000 non-null  object \n",
      "dtypes: float64(13), int64(2), object(16)\n",
      "memory usage: 5.9+ MB\n"
     ]
    }
   ],
   "source": [
    "train_df.info()"
   ]
  },
  {
   "cell_type": "code",
   "execution_count": 9,
   "metadata": {},
   "outputs": [
    {
     "name": "stdout",
     "output_type": "stream",
     "text": [
      " Initial number of unique : 799 \n",
      " Post cleaning : 799 \n",
      " Initial number of unique : 95 \n",
      " Post cleaning : 95 \n"
     ]
    },
    {
     "data": {
      "text/plain": [
       "0           land rover\n",
       "1        mercedes_benz\n",
       "2                honda\n",
       "3               toyota\n",
       "4                lexus\n",
       "             ...      \n",
       "24995    mercedes_benz\n",
       "24996          bentley\n",
       "24997    mercedes_benz\n",
       "24998             audi\n",
       "24999              bmw\n",
       "Name: make, Length: 25000, dtype: object"
      ]
     },
     "execution_count": 9,
     "metadata": {},
     "output_type": "execute_result"
    }
   ],
   "source": [
    "# Normalization :: cleanup of special characters/lower case/ uneven whitespace\n",
    "rough_text_cleaner(train_df.model)\n",
    "rough_text_cleaner(train_df.make)"
   ]
  },
  {
   "cell_type": "code",
   "execution_count": 26,
   "metadata": {},
   "outputs": [],
   "source": [
    "## Task :: Imputation using same make and model and manufacture assumption\n",
    "train_df[\"model_make\"] = train_df.model + \"_\" + train_df.make"
   ]
  },
  {
   "cell_type": "code",
   "execution_count": 71,
   "metadata": {},
   "outputs": [
    {
     "name": "stdout",
     "output_type": "stream",
     "text": [
      "44\n"
     ]
    }
   ],
   "source": [
    "check_list = list()\n",
    "for elem in train_df[train_df.curb_weight.isna()].model_make.unique():\n",
    "    check_list.append(train_df[train_df.model_make ==  elem].curb_weight.isnull().all())\n",
    "print(check_list.count(True))"
   ]
  },
  {
   "cell_type": "code",
   "execution_count": 65,
   "metadata": {},
   "outputs": [
    {
     "name": "stdout",
     "output_type": "stream",
     "text": [
      "boxster_porsche\n"
     ]
    }
   ],
   "source": [
    "elem = train_df[train_df.curb_weight.isna()].model_make.unique()[11]\n",
    "print(elem)"
   ]
  },
  {
   "cell_type": "code",
   "execution_count": 74,
   "metadata": {},
   "outputs": [
    {
     "data": {
      "text/plain": [
       "Index(['listing_id', 'title', 'make', 'model', 'description', 'manufactured',\n",
       "       'original_reg_date', 'reg_date', 'type_of_vehicle', 'category',\n",
       "       'transmission', 'curb_weight', 'power', 'fuel_type', 'engine_cap',\n",
       "       'no_of_owners', 'depreciation', 'coe', 'road_tax', 'dereg_value',\n",
       "       'mileage', 'omv', 'arf', 'opc_scheme', 'lifespan', 'eco_category',\n",
       "       'features', 'accessories', 'indicative_price', 'price',\n",
       "       'extracted_make', 'model_make'],\n",
       "      dtype='object')"
      ]
     },
     "execution_count": 74,
     "metadata": {},
     "output_type": "execute_result"
    }
   ],
   "source": [
    "train_df.columns"
   ]
  },
  {
   "cell_type": "code",
   "execution_count": 89,
   "metadata": {},
   "outputs": [
    {
     "name": "stdout",
     "output_type": "stream",
     "text": [
      "Number of make unable to be inputted 9\n"
     ]
    },
    {
     "data": {
      "text/plain": [
       "make\n",
       "aion                                                         [nan]\n",
       "alfa romeo       [1779.0, 1368.0, 1995.0, 2891.0, 1962.0, 2198....\n",
       "alpine                                                    [1798.0]\n",
       "aston martin      [3982.0, 4735.0, 5935.0, 5204.0, 4282.0, 4280.0]\n",
       "audi             [1395.0, 999.0, 4163.0, 1984.0, 1498.0, 2995.0...\n",
       "austin                                       [998.0, 848.0, 948.0]\n",
       "bentley          [3996.0, 3993.0, 5950.0, 6752.0, 5998.0, 6750....\n",
       "bertone                                                   [1498.0]\n",
       "bmw              [1499.0, 2996.0, 1998.0, 2998.0, 2979.0, 3999....\n",
       "byd                                                          [nan]\n",
       "cadillac                                          [3564.0, 6391.0]\n",
       "camc                                    [9842.0, 11812.0, 11813.0]\n",
       "chevrolet                 [1362.0, 1399.0, 1598.0, 1398.0, 4636.0]\n",
       "chrysler                                          [3604.0, 2776.0]\n",
       "citroen              [nan, 1199.0, 1598.0, 1560.0, 1997.0, 1499.0]\n",
       "cupra                                                     [1984.0]\n",
       "daihatsu                                    [659.0, 1495.0, 658.0]\n",
       "daimler                                                   [5343.0]\n",
       "datsun                                            [1171.0, 2753.0]\n",
       "dfsk                                                         [nan]\n",
       "dodge                                                     [2360.0]\n",
       "ds                                                [1598.0, 1395.0]\n",
       "ferrari          [3185.0, 3855.0, 4308.0, 3902.0, 3990.0, 3586....\n",
       "fiat                               [1598.0, 1248.0, 1368.0, 903.0]\n",
       "ford             [5038.0, 2261.0, 999.0, 1996.0, 998.0, 1596.0,...\n",
       "foton                                        [2775.0, nan, 6690.0]\n",
       "golden dragon                                [nan, 7475.0, 6693.0]\n",
       "higer                                                [nan, 8849.0]\n",
       "hino             [2755.0, 4009.0, 12913.0, 7684.0, 7685.0, 5123.0]\n",
       "honda            [2354.0, 1997.0, 1498.0, 2356.0, 1799.0, 1496....\n",
       "hummer                                                    [3653.0]\n",
       "hyundai          [1591.0, 1353.0, 1368.0, 1086.0, 1999.0, 1580....\n",
       "infiniti          [1991.0, 1461.0, 5552.0, 2997.0, 1997.0, 1595.0]\n",
       "international                                             [2495.0]\n",
       "isuzu            [15681.0, 7790.0, 2999.0, 5193.0, 1898.0, 2499.0]\n",
       "iveco                                            [5880.0, 12882.0]\n",
       "jaguar           [nan, 1999.0, 1998.0, 5000.0, 1997.0, 1498.0, ...\n",
       "jeep              [1995.0, 1368.0, 3778.0, 3604.0, 2359.0, 2776.0]\n",
       "joylong                                                   [2776.0]\n",
       "kia              [1591.0, 998.0, 1353.0, 1998.0, 1999.0, 1580.0...\n",
       "king long                                    [6691.0, 6693.0, nan]\n",
       "kyc                                                          [nan]\n",
       "lamborghini               [5204.0, 6498.0, 3996.0, 4961.0, 6496.0]\n",
       "land rover       [2995.0, 1999.0, 2996.0, 2993.0, 1997.0, 2198....\n",
       "lexus            [2995.0, 2487.0, 2494.0, 2500.0, 3456.0, 1998....\n",
       "lotus            [3456.0, 2174.0, 1588.0, 1796.0, 1794.0, 1598....\n",
       "man                                                       [6871.0]\n",
       "maserati         [2987.0, 2979.0, 4691.0, 4244.0, 1995.0, 2992....\n",
       "maxus                                [1995.0, 2499.0, 1850.0, nan]\n",
       "mazda            [1496.0, 2488.0, 1998.0, 1999.0, 1308.0, 1598....\n",
       "mclaren                                   [3994.0, 3798.0, 3799.0]\n",
       "mercedes-benz    [1991.0, 1597.0, 1950.0, 2497.0, 2925.0, 1595....\n",
       "mg               [1796.0, 1490.0, nan, 1250.0, 1798.0, 948.0, 0.0]\n",
       "mini             [1598.0, 1499.0, 1998.0, nan, 1198.0, 1397.0, ...\n",
       "mitsubishi       [1998.0, 2998.0, 1193.0, 1499.0, 1584.0, 1590....\n",
       "mitsuoka                                                  [1496.0]\n",
       "morgan                                            [1998.0, 2998.0]\n",
       "morris                                      [948.0, 998.0, 1098.0]\n",
       "nissan           [2953.0, 1197.0, 2488.0, 1198.0, 1997.0, 1461....\n",
       "opel             [1598.0, 1199.0, 999.0, nan, 1499.0, 1399.0, 1...\n",
       "ora                                                          [0.0]\n",
       "perodua                                    [1329.0, 1298.0, 989.0]\n",
       "peugeot          [1796.0, 1560.0, 1199.0, 1598.0, 1499.0, nan, ...\n",
       "polestar                                                     [nan]\n",
       "pontiac                                                   [5001.0]\n",
       "porsche          [2997.0, 3598.0, 4664.0, 3605.0, 2687.0, 1984....\n",
       "proton                                                    [1597.0]\n",
       "range                                                     [2995.0]\n",
       "renault          [1461.0, 1997.0, nan, 1197.0, 1598.0, 1798.0, ...\n",
       "rolls-royce                  [6592.0, 6749.0, 6750.0, nan, 6223.0]\n",
       "rover                                                     [1590.0]\n",
       "ruf                                                       [3800.0]\n",
       "saab                                                      [1998.0]\n",
       "sc                                                       [10837.0]\n",
       "scania                                          [11705.0, 12742.0]\n",
       "seat               [999.0, 1197.0, 1984.0, 1395.0, 1498.0, 1422.0]\n",
       "shineray                                                     [nan]\n",
       "sinotruk                                                  [6870.0]\n",
       "skoda                      [1984.0, 1395.0, 1498.0, 999.0, 1798.0]\n",
       "smart                                                 [nan, 898.0]\n",
       "sokon                                                        [nan]\n",
       "srm                                                          [nan]\n",
       "ssangyong                         [1998.0, 1597.0, 2157.0, 1497.0]\n",
       "subaru           [1597.0, 1998.0, 1994.0, 1995.0, 2457.0, 1600....\n",
       "sunbeam                                           [1592.0, 2267.0]\n",
       "suzuki           [658.0, 1586.0, 998.0, 1490.0, 1462.0, 1328.0,...\n",
       "td                                                        [1998.0]\n",
       "tesla                                                        [nan]\n",
       "toyota           [1598.0, 1497.0, 1797.0, 2362.0, 2982.0, 1495....\n",
       "triumph                                           [1767.0, 1493.0]\n",
       "ud                                      [10837.0, 7013.0, 10836.0]\n",
       "valiant                                                   [3687.0]\n",
       "volkswagen       [999.0, 1984.0, 1395.0, 1798.0, 1390.0, 1197.0...\n",
       "volvo            [1498.0, 1560.0, 1969.0, 2521.0, nan, 1999.0, ...\n",
       "yutong                                            [7698.0, 6690.0]\n",
       "Name: engine_cap, dtype: object"
      ]
     },
     "execution_count": 89,
     "metadata": {},
     "output_type": "execute_result"
    }
   ],
   "source": [
    "# Power, curbweight, fuel_type, engine_capacity , road_tax\n",
    "display_feature_dist_by_ref_col(df=train_df,feature=\"engine_cap\",ref=\"make\")"
   ]
  },
  {
   "cell_type": "code",
   "execution_count": 87,
   "metadata": {},
   "outputs": [
    {
     "name": "stdout",
     "output_type": "stream",
     "text": [
      "Number of model_make unable to be inputted 44\n"
     ]
    },
    {
     "data": {
      "text/plain": [
       "model_make\n",
       "(coe_land rover    [1760.0, 1845.0, 2397.0, 2512.0]\n",
       "107_peugeot                                 [805.0]\n",
       "116d_bmw                                   [1350.0]\n",
       "116i_bmw                           [1310.0, 1340.0]\n",
       "118i_bmw           [1315.0, 1320.0, 1520.0, 1300.0]\n",
       "                                 ...               \n",
       "zafira_opel                                [1538.0]\n",
       "zk6117h_yutong          [11260.0, 11200.0, 11220.0]\n",
       "zk6119h_yutong                            [11720.0]\n",
       "zoe_renault                                [1480.0]\n",
       "zs_mg                      [1610.0, 1532.0, 1534.0]\n",
       "Name: curb_weight, Length: 809, dtype: object"
      ]
     },
     "execution_count": 87,
     "metadata": {},
     "output_type": "execute_result"
    }
   ],
   "source": [
    "display_feature_dist_by_ref_col(df=train_df,feature=\"curb_weight\",ref=\"model_make\")"
   ]
  },
  {
   "cell_type": "code",
   "execution_count": 80,
   "metadata": {},
   "outputs": [
    {
     "name": "stdout",
     "output_type": "stream",
     "text": [
      "Number of model make unable to be inputted 169\n"
     ]
    },
    {
     "data": {
      "text/plain": [
       "model_make\n",
       "(coe_land rover             [nan, 171.0, 375.0]\n",
       "107_peugeot                              [50.0]\n",
       "116d_bmw                                 [85.0]\n",
       "116i_bmw                          [100.0, 80.0]\n",
       "118i_bmw           [125.0, 103.0, 105.0, 100.0]\n",
       "                               ...             \n",
       "zafira_opel                             [103.0]\n",
       "zk6117h_yutong                            [nan]\n",
       "zk6119h_yutong                            [nan]\n",
       "zoe_renault                              [68.0]\n",
       "zs_mg                             [99.0, 105.0]\n",
       "Name: power, Length: 809, dtype: object"
      ]
     },
     "execution_count": 80,
     "metadata": {},
     "output_type": "execute_result"
    }
   ],
   "source": [
    "display_feature_dist_by_ref_col(df=train_df,feature=\"power\",ref=\"model_make\")"
   ]
  },
  {
   "cell_type": "code",
   "execution_count": 81,
   "metadata": {},
   "outputs": [
    {
     "name": "stdout",
     "output_type": "stream",
     "text": [
      "Number of model make unable to be inputted 459\n"
     ]
    },
    {
     "data": {
      "text/plain": [
       "model_make\n",
       "(coe_land rover    [diesel, nan]\n",
       "107_peugeot                [nan]\n",
       "116d_bmw                [diesel]\n",
       "116i_bmw                   [nan]\n",
       "118i_bmw                   [nan]\n",
       "                       ...      \n",
       "zafira_opel                [nan]\n",
       "zk6117h_yutong          [diesel]\n",
       "zk6119h_yutong          [diesel]\n",
       "zoe_renault           [electric]\n",
       "zs_mg                 [electric]\n",
       "Name: fuel_type, Length: 809, dtype: object"
      ]
     },
     "execution_count": 81,
     "metadata": {},
     "output_type": "execute_result"
    }
   ],
   "source": [
    "display_feature_dist_by_ref_col(df=train_df,feature=\"fuel_type\",ref=\"model_make\")"
   ]
  },
  {
   "cell_type": "code",
   "execution_count": 103,
   "metadata": {},
   "outputs": [
    {
     "name": "stdout",
     "output_type": "stream",
     "text": [
      "amg_mercedes-benz\n",
      "defender_land rover\n"
     ]
    }
   ],
   "source": [
    "for index, value in train_df.groupby(\"model_make\")[\"fuel_type\"].nunique().items():\n",
    "    if value >= 3:\n",
    "        print(index)\n",
    "        "
   ]
  },
  {
   "cell_type": "code",
   "execution_count": 107,
   "metadata": {},
   "outputs": [
    {
     "data": {
      "text/plain": [
       "37                   NaN\n",
       "38                diesel\n",
       "81                   NaN\n",
       "194      petrol-electric\n",
       "255             electric\n",
       "              ...       \n",
       "24906                NaN\n",
       "24920                NaN\n",
       "24956                NaN\n",
       "24983    petrol-electric\n",
       "24984    petrol-electric\n",
       "Name: fuel_type, Length: 809, dtype: object"
      ]
     },
     "execution_count": 107,
     "metadata": {},
     "output_type": "execute_result"
    }
   ],
   "source": [
    "train_df[train_df[\"model_make\"]== \"amg_mercedes-benz\"].fuel_type"
   ]
  },
  {
   "cell_type": "code",
   "execution_count": 44,
   "metadata": {},
   "outputs": [],
   "source": [
    "def fill_column_b_with_mean(df, column_a, column_b):\n",
    "    # Calculate the mean of column B grouped by column A\n",
    "    values = df.groupby(column_a)[column_b].agg([\"mean\"]).rename(columns={\"mean\": column_b})[column_b]\n",
    "    \n",
    "    # Iterate over each row in the DataFrame\n",
    "    for index, row in df.iterrows():\n",
    "        # If column B is NaN, fill it with the mean value of column B for the corresponding value in column A\n",
    "        if pd.isna(row[column_b]):\n",
    "            df.at[index, column_b] = values[row[column_a]]\n",
    "    \n",
    "    return df"
   ]
  },
  {
   "cell_type": "code",
   "execution_count": 38,
   "metadata": {},
   "outputs": [
    {
     "data": {
      "text/plain": [
       "model_make\n",
       "(coe_land rover     2128.500000\n",
       "107_peugeot          805.000000\n",
       "116d_bmw            1350.000000\n",
       "116i_bmw            1330.588235\n",
       "118i_bmw            1325.408163\n",
       "                       ...     \n",
       "zafira_opel         1538.000000\n",
       "zk6117h_yutong     11226.666667\n",
       "zk6119h_yutong     11720.000000\n",
       "zoe_renault         1480.000000\n",
       "zs_mg               1544.461538\n",
       "Name: curb_weight, Length: 809, dtype: float64"
      ]
     },
     "execution_count": 38,
     "metadata": {},
     "output_type": "execute_result"
    }
   ],
   "source": [
    "train_df.groupby(ref_col)[feature].mean()"
   ]
  },
  {
   "cell_type": "code",
   "execution_count": 43,
   "metadata": {},
   "outputs": [
    {
     "data": {
      "text/plain": [
       "model_make\n",
       "(coe_land rover     2128.500000\n",
       "107_peugeot          805.000000\n",
       "116d_bmw            1350.000000\n",
       "116i_bmw            1330.588235\n",
       "118i_bmw            1325.408163\n",
       "                       ...     \n",
       "zafira_opel         1538.000000\n",
       "zk6117h_yutong     11226.666667\n",
       "zk6119h_yutong     11720.000000\n",
       "zoe_renault         1480.000000\n",
       "zs_mg               1544.461538\n",
       "Name: curb_weight, Length: 809, dtype: float64"
      ]
     },
     "execution_count": 43,
     "metadata": {},
     "output_type": "execute_result"
    }
   ],
   "source": [
    "train_df.groupby(ref_col)[feature].agg([\"mean\"]).rename(columns={\"mean\": feature})[feature]"
   ]
  },
  {
   "cell_type": "code",
   "execution_count": 22,
   "metadata": {},
   "outputs": [
    {
     "name": "stdout",
     "output_type": "stream",
     "text": [
      "testarossa_ferrari\n"
     ]
    },
    {
     "data": {
      "text/plain": [
       "3049   NaN\n",
       "Name: curb_weight, dtype: float64"
      ]
     },
     "execution_count": 22,
     "metadata": {},
     "output_type": "execute_result"
    }
   ],
   "source": [
    "feature = \"curb_weight\"\n",
    "ref_col = \"model_make\"\n",
    "elem = train_df[train_df[feature].isna()].model_make.unique()[11]\n",
    "print(elem)\n",
    "train_df[train_df[ref_col]== elem][feature]"
   ]
  },
  {
   "cell_type": "code",
   "execution_count": 45,
   "metadata": {},
   "outputs": [],
   "source": [
    "new_df = fill_column_b_with_mean(train_df,ref_col,feature)"
   ]
  },
  {
   "cell_type": "code",
   "execution_count": 18,
   "metadata": {},
   "outputs": [
    {
     "data": {
      "text/plain": [
       "1121     1425.000000\n",
       "1144     1425.000000\n",
       "1246     1455.000000\n",
       "1310     1410.923077\n",
       "3470     1455.000000\n",
       "3535     1380.000000\n",
       "3687     1410.923077\n",
       "3805     1310.000000\n",
       "4371     1400.000000\n",
       "4535     1393.000000\n",
       "4681     1440.000000\n",
       "5380     1340.000000\n",
       "5706     1440.000000\n",
       "6199     1415.000000\n",
       "6662     1375.000000\n",
       "7324     1415.000000\n",
       "7407     1340.000000\n",
       "7602     1425.000000\n",
       "7670     1430.000000\n",
       "8310     1410.923077\n",
       "8908     1415.000000\n",
       "9219     1470.000000\n",
       "9252     1410.923077\n",
       "9511     1425.000000\n",
       "10005    1420.000000\n",
       "10485    1425.000000\n",
       "10682    1440.000000\n",
       "11700    1340.000000\n",
       "12304    1395.000000\n",
       "12307    1425.000000\n",
       "12381    1375.000000\n",
       "13373    1440.000000\n",
       "13493    1355.000000\n",
       "13643    1425.000000\n",
       "14890    1455.000000\n",
       "15487    1410.923077\n",
       "15907    1395.000000\n",
       "16073    1395.000000\n",
       "16614    1455.000000\n",
       "16808    1455.000000\n",
       "17023    1425.000000\n",
       "17307    1425.000000\n",
       "17809    1340.000000\n",
       "18098    1415.000000\n",
       "18483    1365.000000\n",
       "18648    1410.923077\n",
       "18676    1455.000000\n",
       "18749    1415.000000\n",
       "18830    1390.000000\n",
       "18875    1400.000000\n",
       "19680    1425.000000\n",
       "19907    1340.000000\n",
       "20487    1455.000000\n",
       "20786    1410.923077\n",
       "22311    1390.000000\n",
       "23418    1455.000000\n",
       "24621    1415.000000\n",
       "24862    1420.000000\n",
       "24868    1470.000000\n",
       "Name: curb_weight, dtype: float64"
      ]
     },
     "execution_count": 18,
     "metadata": {},
     "output_type": "execute_result"
    }
   ],
   "source": [
    "new_df[new_df[ref_col]== elem][feature]"
   ]
  },
  {
   "cell_type": "code",
   "execution_count": null,
   "metadata": {},
   "outputs": [],
   "source": []
  }
 ],
 "metadata": {
  "kernelspec": {
   "display_name": "Python 3",
   "language": "python",
   "name": "python3"
  },
  "language_info": {
   "codemirror_mode": {
    "name": "ipython",
    "version": 3
   },
   "file_extension": ".py",
   "mimetype": "text/x-python",
   "name": "python",
   "nbconvert_exporter": "python",
   "pygments_lexer": "ipython3",
   "version": "3.6.13"
  }
 },
 "nbformat": 4,
 "nbformat_minor": 4
}
