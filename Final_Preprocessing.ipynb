{
 "cells": [
  {
   "cell_type": "code",
   "execution_count": 1,
   "id": "37a6117f-e7e2-4e34-b425-62fe46f57e0d",
   "metadata": {},
   "outputs": [],
   "source": [
    "import pandas as pd\n",
    "from sklearn.model_selection import train_test_split\n",
    "from sklearn.preprocessing import MinMaxScaler, OneHotEncoder\n",
    "\n",
    "from utils.Bhushan_utils import *\n",
    "from utils.Temp_utils import *"
   ]
  },
  {
   "cell_type": "code",
   "execution_count": 2,
   "id": "b65a7fe9",
   "metadata": {},
   "outputs": [
    {
     "name": "stdout",
     "output_type": "stream",
     "text": [
      "25000 10000\n"
     ]
    }
   ],
   "source": [
    "# Train data read\n",
    "orig_df = pd.read_csv(r\"./dataset/train.csv\")\n",
    "test_df = pd.read_csv(r\"./dataset/test.csv\")\n",
    "print(len(orig_df), len(test_df))"
   ]
  },
  {
   "cell_type": "code",
   "execution_count": 3,
   "id": "df38cf8a",
   "metadata": {},
   "outputs": [
    {
     "name": "stdout",
     "output_type": "stream",
     "text": [
      "20000 5000\n"
     ]
    }
   ],
   "source": [
    "train_df, val_df = train_test_split(orig_df, test_size=0.2, random_state=42, shuffle=True)\n",
    "print(len(train_df), len(val_df))"
   ]
  },
  {
   "cell_type": "code",
   "execution_count": 4,
   "id": "fdab42e7",
   "metadata": {},
   "outputs": [],
   "source": [
    "# Make model Imputation - No need to merge to main\n",
    "\n",
    "unique_makes = orig_df['make'].unique()\n",
    "unique_makes_list = sorted([make for make in unique_makes if pd.notnull(make)])\n",
    "makes_regex = compile_make_pattern(unique_makes_list)\n",
    "train_df = apply_make_extraction(train_df, makes_regex)\n",
    "val_df = apply_make_extraction(val_df, makes_regex)"
   ]
  },
  {
   "cell_type": "code",
   "execution_count": 5,
   "id": "6e3bfa8b",
   "metadata": {},
   "outputs": [],
   "source": [
    "# Depreciation\n",
    "\n",
    "# Imputation using make, model and car age - Dependency on 'manufactured' - Required to calculate car age\n",
    "depreciation_imputer = DepreciationImputer()\n",
    "train_df = calc_vehicle_age(train_df)\n",
    "val_df = calc_vehicle_age(val_df)\n",
    "train_df = depreciation_imputer.fit_transform(train_df)\n",
    "val_df = depreciation_imputer.transform(val_df)\n",
    "\n",
    "# Min-max normalization\n",
    "scaler = MinMaxScaler(feature_range=(0, 1))\n",
    "train_df['depreciation'] = scaler.fit_transform(train_df[['depreciation']])\n",
    "val_df['depreciation'] = scaler.transform(val_df[['depreciation']])"
   ]
  },
  {
   "cell_type": "code",
   "execution_count": 6,
   "id": "c8d41a11",
   "metadata": {},
   "outputs": [],
   "source": [
    "# Transmission\n",
    "\n",
    "# One-hot (Binary) encoding\n",
    "encoder = OneHotEncoder(sparse_output=False, drop='first')\n",
    "train_df['transmission'] = encoder.fit_transform(train_df[['transmission']])\n",
    "val_df['transmission'] = encoder.transform(val_df[['transmission']])"
   ]
  },
  {
   "cell_type": "code",
   "execution_count": 7,
   "id": "8c7164db",
   "metadata": {},
   "outputs": [],
   "source": [
    "# COE\n",
    "\n",
    "# Cap Outliers\n",
    "train_df = cap_coe_outliers(train_df)\n",
    "val_df = cap_coe_outliers(val_df)\n",
    "\n",
    "# Min-Max normalization\n",
    "scaler = MinMaxScaler(feature_range=(0, 1))\n",
    "train_df['coe'] = scaler.fit_transform(train_df[['coe']])\n",
    "val_df['coe'] = scaler.transform(val_df[['coe']])"
   ]
  }
 ],
 "metadata": {
  "kernelspec": {
   "display_name": "Python 3",
   "language": "python",
   "name": "python3"
  },
  "language_info": {
   "codemirror_mode": {
    "name": "ipython",
    "version": 3
   },
   "file_extension": ".py",
   "mimetype": "text/x-python",
   "name": "python",
   "nbconvert_exporter": "python",
   "pygments_lexer": "ipython3",
   "version": "3.12.7"
  }
 },
 "nbformat": 4,
 "nbformat_minor": 5
}
